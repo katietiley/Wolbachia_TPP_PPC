{
 "cells": [
  {
   "cell_type": "markdown",
   "id": "f7acf757",
   "metadata": {},
   "source": [
    "# Figure 5.B. Reduction in Wolbachia release ratios enabled by prior suppression\n",
    "Author: Katie Tiley (katherine.tiley@lshtm.ac.uk) <br>\n",
    "Date: 27 Oct 22 <br>\n",
    "<br>\n",
    "Note: in the code RIDL refers to 1gSLT, and IIT refers to Male Wolbachia release"
   ]
  },
  {
   "cell_type": "code",
   "execution_count": 1,
   "id": "d1cfbc2f",
   "metadata": {},
   "outputs": [],
   "source": [
    "from scipy.integrate import odeint\n",
    "import numpy as np\n",
    "import matplotlib as mat\n",
    "import matplotlib.pyplot as plt\n",
    "from scipy import integrate as sp\n",
    "import seaborn as sns\n",
    "from tabulate import tabulate\n",
    "import pandas as pd\n",
    "import time\n",
    "import os"
   ]
  },
  {
   "cell_type": "code",
   "execution_count": 2,
   "id": "ef8fc40e",
   "metadata": {},
   "outputs": [],
   "source": [
    "filepath = os.path.abspath(os.getcwd())"
   ]
  },
  {
   "cell_type": "markdown",
   "id": "775a4082",
   "metadata": {},
   "source": [
    "### 1. Set up model\n",
    "Parameters:"
   ]
  },
  {
   "cell_type": "code",
   "execution_count": 3,
   "id": "562d2f04",
   "metadata": {},
   "outputs": [],
   "source": [
    "# MOSQUITO\n",
    "alphaO = 0.5  # rate that eggs hatch into larvae\n",
    "alphaL = 0.18  # rate that larvae pupate\n",
    "alphaP = 1  # rate that pupae eclose\n",
    "phi = 500*(1/14)    # number eggs laid per mosquito per day\n",
    "muO = 0.01    # daily death rate of eggs\n",
    "muL = 0.1*alphaL    # daily death rate of larvae\n",
    "muP = 0.1*alphaP     # pupae death rate\n",
    "muM = 1/14     # adult mosquito death rate\n",
    "muF = 1/14     # adult female mosquito death rate\n",
    "\n",
    "# density-dependence via Bellows 1981:\n",
    "AA = 1   # determines the density at which mortality remains proportionate\n",
    "BB = 0.5   # determines the 'abruptness' of density-dependence\n",
    "\n",
    "# WOLBACHIA\n",
    "fCI = 0.012   # prop of cytoplasmic incompatibility that fails 'sigma'\n",
    "MT = 0    # prop of wolbachia females that don't successfully maternally transfer 'omega'\n",
    "c = 0.5      # mating competitiveness of released wolbachia males\n",
    "cv = 0.128   #coverage of adulticide\n",
    "e = 1.2      # relative mortality of wolbachia adults compared to wild adults\n",
    "RR = 1       # release ratio of wolbachia eggs to wild type eggs\n",
    "RRsupp = 1      # release ratio of wolbachia eggs to wild type eggs for suppression techniques"
   ]
  },
  {
   "cell_type": "markdown",
   "id": "4149f015",
   "metadata": {},
   "source": [
    "Initial conditions: (equilibrium values previously defined in Supp)"
   ]
  },
  {
   "cell_type": "code",
   "execution_count": 4,
   "id": "964e9a3f",
   "metadata": {},
   "outputs": [],
   "source": [
    "O0 = 15947.608023052446\n",
    "OW0 = 0\n",
    "rOW0 = 0\n",
    "OS0 = 0\n",
    "L0 = 40271.71074193975\n",
    "LW0 = 0\n",
    "rLW0 = 0\n",
    "LS0 = 0\n",
    "P0 = 32.67541200187585\n",
    "PW0 = 0\n",
    "rPW0 = 0\n",
    "PS0 = 0\n",
    "M0 = 228.72754035145144\n",
    "MW0 = 0\n",
    "MS0 = 0\n",
    "F0 = 228.72754035145144\n",
    "FW0 = 0"
   ]
  },
  {
   "cell_type": "markdown",
   "id": "dd08dd7c",
   "metadata": {},
   "source": [
    "Wolbachia release function:"
   ]
  },
  {
   "cell_type": "code",
   "execution_count": 5,
   "id": "f363cce2",
   "metadata": {},
   "outputs": [],
   "source": [
    "start_wol = 200\n",
    "\n",
    "def pulseN(t, start_wol=start_wol, releasenumber=5, frequency=14):    \n",
    "    for i in range(0,releasenumber,1):\n",
    "        if round(t) == start_wol + (frequency*i):\n",
    "            return O0\n",
    "    else:\n",
    "        return 0"
   ]
  },
  {
   "cell_type": "markdown",
   "id": "1da74ec9",
   "metadata": {},
   "source": [
    "Suppression functions:"
   ]
  },
  {
   "cell_type": "code",
   "execution_count": 6,
   "id": "3026b6d2",
   "metadata": {},
   "outputs": [],
   "source": [
    "# IIT\n",
    "\n",
    "def IIT(t, releasenumber=5, frequency=7, end=start_wol):\n",
    "    for i in range(0,releasenumber,1):\n",
    "        if round(t) == (end-frequency) - (frequency*i):\n",
    "            return 0 #M0+F0\n",
    "    else:\n",
    "        return 0"
   ]
  },
  {
   "cell_type": "code",
   "execution_count": 7,
   "id": "e406404d",
   "metadata": {},
   "outputs": [],
   "source": [
    "# SIT / RIDL\n",
    "\n",
    "switch = 0 #0 for SIT; 1 for RIDL\n",
    "\n",
    "def SIT(t, releasenumber=5, frequency=7, end=start_wol):    \n",
    "    for i in range(0,releasenumber,1):\n",
    "        if round(t) == (end-frequency) - (frequency*i):\n",
    "            return 0 #M0+F0\n",
    "    else:\n",
    "        return 0"
   ]
  },
  {
   "cell_type": "code",
   "execution_count": 8,
   "id": "1d0862b1",
   "metadata": {},
   "outputs": [],
   "source": [
    "# Environmental management\n",
    "\n",
    "start_em = start_wol-(7*5)\n",
    "stop_em = 200\n",
    "em_eff = 1 #0.526\n",
    "\n",
    "def em(t):\n",
    "    if round(t) < start_em:     #start\n",
    "        return 1\n",
    "    elif round(t) > stop_em:    #stop releases\n",
    "        return 1\n",
    "    else:\n",
    "        return em_eff"
   ]
  },
  {
   "cell_type": "code",
   "execution_count": 9,
   "id": "a082d49f",
   "metadata": {},
   "outputs": [],
   "source": [
    "# Larvicides (e.g. guppies)\n",
    "\n",
    "start_lv = start_wol-(7*5)\n",
    "stop_lv = 200\n",
    "lv_eff = 1 #5.95\n",
    "\n",
    "def lv(t):\n",
    "    if round(t) < start_lv:     #start\n",
    "        return 1\n",
    "    elif round(t) > stop_lv:    #stop releases\n",
    "        return 1\n",
    "    else:\n",
    "        return lv_eff"
   ]
  },
  {
   "cell_type": "code",
   "execution_count": 10,
   "id": "ebac559a",
   "metadata": {},
   "outputs": [],
   "source": [
    "# Adulticide\n",
    "\n",
    "h = [] #needed to set adulticide pulses\n",
    "for i in range(-4, 1, 1):\n",
    "    h.append((start_wol-7) + (7*i))\n",
    "\n",
    "def ad(t):    \n",
    "    ad_eff = 0 #4.9\n",
    "    if round(t) < h[0]:\n",
    "        return 0\n",
    "    elif round(t) > h[0]+0.01 and round(t) < h[1]:\n",
    "        return 0\n",
    "    elif round(t) > h[1]+0.01 and round(t) < h[2]:\n",
    "        return 0\n",
    "    elif round(t) > h[2]+0.01 and round(t) < h[3]:\n",
    "        return 0\n",
    "    elif round(t) > h[3]+0.01 and round(t) < h[4]:\n",
    "        return 0\n",
    "    elif round(t) > h[4]+0.01: # and round(t) < h[5]:\n",
    "        return 0\n",
    "#    elif round(t) > h[5]+0.01 and round(t) < h[6]:\n",
    "#        return 0\n",
    "#    elif round(t) > h[6]+0.01 and round(t) < h[7]:\n",
    "#        return 0\n",
    "#    elif round(t) > h[7]+0.01 and round(t) < h[8]:\n",
    "#        return 0\n",
    "#    elif round(t) > h[8]+0.01 and round(t) < h[9]:\n",
    "#        return 0\n",
    "#    elif round(t) > h[9]+0.01:\n",
    "#        return 0\n",
    "    else:\n",
    "        return ad_eff"
   ]
  },
  {
   "cell_type": "markdown",
   "id": "de52489b",
   "metadata": {},
   "source": [
    "Model:"
   ]
  },
  {
   "cell_type": "code",
   "execution_count": 11,
   "id": "fdf05105",
   "metadata": {},
   "outputs": [],
   "source": [
    "def deriv(y, t, fCI, MT, c, e, phi, alphaO, muO, AA, BB, alphaL, alphaP, muP, muM, muF, RR, RRsupp, pulseN, IIT, SIT, em, lv, ad, cv, switch):\n",
    "    \n",
    "    O, OW, rOW, OS, L, LW, rLW, LS, P, PW, rPW, PS, M, MW, MS, F, FW = y\n",
    "    \n",
    "    #MOSQUITOES\n",
    "    \n",
    "    allfemales = 1+F+FW\n",
    "    allmales = 1+M+MW+(MS*c)\n",
    "    \n",
    "    F_nothing = F + FW*MT \n",
    "    M_nothing = M + MW*fCI \n",
    "    \n",
    "    F_wol = FW*(1-MT)\n",
    "    \n",
    "    #Eggs\n",
    "    dOdt = em(t) * phi * F_nothing * M_nothing/allmales - alphaO*O - lv(t)*muO*O # eggs laid * females no-wol * (males no_wol / all males) (aka prop no-wol males)\n",
    "    dOWdt = em(t) * phi * F_wol * (M+MW)/allmales - alphaO*OW - lv(t)*muO*OW \n",
    "    drOWdt = pulseN(t)*RR - alphaO*rOW - muO*rOW\n",
    "    dOSdt = phi * allfemales * (MS*c)/allmales - alphaO*OS - muO*OS\n",
    "    \n",
    "    #Larvae\n",
    "    dLdt =  alphaO*O - alphaL*L - lv(t)*muL*L\n",
    "    dLWdt = alphaO*OW - alphaL*LW - lv(t)*muL*LW\n",
    "    drLWdt = alphaO*rOW - alphaL*rLW - muL*rLW\n",
    "    dLSdt = switch*alphaO*OS - alphaL*LS - muL*LS\n",
    "    \n",
    "    #Pupae \n",
    "    dPdt =  alphaL*(L/(1+((AA*(L+LW+LS))**BB))) - alphaP*P - lv(t)*muP*P \n",
    "    dPWdt = alphaL*(LW/(1+((AA*(L+LW+LS))**BB))) - alphaP*PW - lv(t)*muP*PW\n",
    "    drPWdt = alphaL*(rLW/(1+((AA*(rLW))**BB))) - alphaP*rPW - muP*rPW \n",
    "    dPSdt = alphaL*(LS/(1+((AA*(L+LW+LS))**BB))) - alphaP*PS - muP*PS\n",
    "        \n",
    "    #Adult\n",
    "    dMdt =  .5*alphaP*P - muM*M - ad(t)*M*cv\n",
    "    dMWdt = IIT(t)*RRsupp + .5*alphaP*(PW+rPW) - muM*1.2*MW - ad(t)*MW*cv\n",
    "    dMSdt = SIT(t)*RRsupp - muM*1.2*MS #+ .5*alphaP*PS remove for 1gSLT\n",
    "    \n",
    "    dFdt =  .5*alphaP*P - muF*F - ad(t)*F*cv\n",
    "    dFWdt = .5*alphaP*(PW+rPW) - muF*1.2*FW - ad(t)*FW*cv\n",
    "\n",
    "    return dOdt, dOWdt, drOWdt, dOSdt, dLdt, dLWdt, drLWdt, dLSdt, dPdt, dPWdt, drPWdt, dPSdt, dMdt, dMWdt, dMSdt, dFdt, dFWdt"
   ]
  },
  {
   "cell_type": "markdown",
   "id": "2f17a59d",
   "metadata": {},
   "source": [
    "Model prerequisites:"
   ]
  },
  {
   "cell_type": "code",
   "execution_count": 12,
   "id": "e85c9ecf",
   "metadata": {},
   "outputs": [],
   "source": [
    "t = np.linspace(0, 1500, 1501) # grid of time points (in days)\n",
    "y0 = O0, OW0, rOW0, OS0, L0, LW0, rLW0, LS0, P0, PW0, rPW0, PS0, M0, MW0, MS0, F0, FW0 # initial condition vector"
   ]
  },
  {
   "cell_type": "markdown",
   "id": "1cb261d0",
   "metadata": {},
   "source": [
    "Run model:"
   ]
  },
  {
   "cell_type": "code",
   "execution_count": 13,
   "id": "e5357f9d",
   "metadata": {},
   "outputs": [],
   "source": [
    "ret = odeint(deriv, y0, t,args=(fCI, MT, c, e, phi, alphaO, muO, AA, BB, alphaL, alphaP, muP, muM, muF, RR, RRsupp, pulseN, IIT, SIT, em, lv, ad, cv, switch),hmax=1)\n",
    "\n",
    "O, OW, rOW, OS, L, LW, rLW, LS, P, PW, rPW, PS, M, MW, MS, F, FW = ret.T"
   ]
  },
  {
   "cell_type": "markdown",
   "id": "ef30ab03",
   "metadata": {},
   "source": [
    "Visual check all suppression functions are off and Wolbachia functions is on: (should see Wolbachia come to fixation from day 200)"
   ]
  },
  {
   "cell_type": "code",
   "execution_count": 14,
   "id": "3b4f5ae5",
   "metadata": {},
   "outputs": [
    {
     "data": {
      "image/png": "[encoded data removed]",
      "text/plain": [
       "<Figure size 720x720 with 4 Axes>"
      ]
     },
     "metadata": {
      "needs_background": "light"
     },
     "output_type": "display_data"
    }
   ],
   "source": [
    "fig, ((ax1, ax2), (ax3, ax4)) = plt.subplots(2, 2, figsize=[10,10])\n",
    "\n",
    "ax1.plot(t, F+FW+M+MW, 'blue', label='all adults')\n",
    "ax1.plot(t, F+FW, 'pink', label='all females')\n",
    "ax1.set_xlabel(\"Time (days)\", fontsize=12, labelpad=8)\n",
    "ax1.set_ylabel(\"Number of Adult Mosquitoes\", fontsize=12, labelpad=8)\n",
    "ax1.legend()\n",
    "\n",
    "ax2.plot(t, M+F, 'black', label='all wildtypes')\n",
    "ax2.plot(t, MW+FW, 'red', label='all wol')\n",
    "ax2.set_xlabel(\"Time (days)\", fontsize=12, labelpad=8)\n",
    "ax2.set_ylabel(\"Number of wildtype and wol mosquitoes\", fontsize=12, labelpad=8)\n",
    "ax2.legend()\n",
    "\n",
    "ax3.plot(t, L, 'black', linestyle='dashed', label='wildtype larvae')\n",
    "ax3.plot(t, P, 'black', label='wildtype pupae')\n",
    "ax3.plot(t, LW, 'grey', linestyle='dashed', label='wol larvae')\n",
    "ax3.plot(t, PW, 'grey', label='wol pupae')\n",
    "ax3.set_xlabel(\"Time (days)\", fontsize=12, labelpad=8)\n",
    "ax3.set_ylabel(\"Number of wildtype and wol \\naquatic stage mosquitoes\", fontsize=12, labelpad=8)\n",
    "ax3.legend()\n",
    "\n",
    "ax4.plot(t[140:400], (MW[140:400]+FW[140:400])/(MW[140:400]+FW[140:400]+M[140:400]+F[140:400]), 'black')\n",
    "plt.xticks([150,200,250,300,350,400])\n",
    "ax4.set_xlabel(\"Time (days)\", fontsize=12, labelpad=8)\n",
    "ax4.set_ylabel(\"Proportion of Mosquitoes with Wolbachia\", fontsize=12, labelpad=8)\n",
    "\n",
    "\n",
    "plt.subplots_adjust(wspace=.35)\n",
    "\n",
    "#plt.savefig('wolAedesDemo-KT', dpi=300, facecolor='w', edgecolor='w',\n",
    "#        orientation='portrait', format=None, transparent=False, bbox_inches=None, pad_inches=0.1, metadata=None)"
   ]
  },
  {
   "cell_type": "markdown",
   "id": "ddeabba2",
   "metadata": {},
   "source": [
    "Convert raw eggRR values into adultRR values:"
   ]
  },
  {
   "cell_type": "code",
   "execution_count": 15,
   "id": "7aef8e70",
   "metadata": {},
   "outputs": [],
   "source": [
    "RR_df = pd.read_csv(f'{filepath}/eggRR_adultRR.csv')\n",
    "\n",
    "def convert_RR(RR):\n",
    "    return  list(RR_df.loc[RR_df['egg RR'] == RR]['adult RR'])[0]"
   ]
  },
  {
   "cell_type": "markdown",
   "id": "f20e5486",
   "metadata": {},
   "source": [
    "### 2.a. Data collection: minimum Wolbachia RR with each suppression for fixation after different periods\n",
    "### No suppression:"
   ]
  },
  {
   "cell_type": "code",
   "execution_count": 16,
   "id": "41ee77f5",
   "metadata": {},
   "outputs": [
    {
     "name": "stdout",
     "output_type": "stream",
     "text": [
      "processing time: 5.53 seconds\n"
     ]
    }
   ],
   "source": [
    "start_time = time.time()\n",
    "\n",
    "RR_vec = [0.00047,0.00134,0.00258,0.00418,0.00612,0.00842,0.01108,0.01408,0.01745,0.02115,0.0252,0.0296,0.03437,0.03945,0.04495,0.0507,0.0569,0.0634,0.0703,0.0775,0.085,0.093,0.10125,0.1098,0.1188,0.1281,0.1378,0.1478,0.1582,0.169,0.18,0.1915,0.203,0.215,0.2277,0.2405,0.2538,0.2672,0.2811,0.2953]\n",
    "zoo = [] #capture results here\n",
    "start_wol = 200\n",
    "\n",
    "for i in RR_vec:\n",
    "        \n",
    "    RR = i\n",
    "        \n",
    "    # run the model\n",
    "    t = np.linspace(0, 1500, 1501) # Grid of time points (in days)\n",
    "    y0 = O0, OW0, rOW0, OS0, L0, LW0, rLW0, LS0, P0, PW0, rPW0, PS0, M0, MW0, MS0, F0, FW0 # Init condition vector\n",
    "    ret = odeint(deriv, y0, t,args=(fCI, MT, c, e, phi, alphaO, muO, AA, BB, alphaL, alphaP, muP, muM, muF, RR, RRsupp, pulseN, IIT, SIT, em, lv, ad, cv, switch),hmax=1)\n",
    "    O, OW, rOW, OS, L, LW, rLW, LS, P, PW, rPW, PS, M, MW, MS, F, FW = ret.T\n",
    "\n",
    "    # get output\n",
    "    total = MW+FW+M+F\n",
    "    prop = (MW+FW)/(MW+FW+M+F)\n",
    "    \n",
    "    \n",
    "    fix = np.argwhere(prop > 0.95)\n",
    "    if sum(fix) > 0:\n",
    "        min_fix = min(fix)-start_wol\n",
    "        min_fix = min_fix.tolist()\n",
    "    else:\n",
    "        min_fix = [99999] #occurs if no fixation\n",
    "        \n",
    "    zoo.append(min_fix)\n",
    "\n",
    "current_time = time.time()\n",
    "elapsed_time = current_time - start_time\n",
    "print('processing time:',round(elapsed_time,2),'seconds')"
   ]
  },
  {
   "cell_type": "code",
   "execution_count": 17,
   "id": "bb3653c2",
   "metadata": {},
   "outputs": [
    {
     "data": {
      "text/plain": [
       "0.0775"
      ]
     },
     "execution_count": 17,
     "metadata": {},
     "output_type": "execute_result"
    }
   ],
   "source": [
    "zoo2 = [f for sublist in zoo for f in sublist] #flatten\n",
    "sixmonth = next(x for x, val in enumerate(zoo2) if val <= 182.5) #within 6 months\n",
    "RR_choosenosupp = RR_vec[sixmonth]\n",
    "RR_choosenosupp = convert_RR(RR_choosenosupp)\n",
    "RR_choosenosupp\n",
    "\n",
    "## returns error if there is no fixation"
   ]
  },
  {
   "cell_type": "markdown",
   "id": "e6a758fa",
   "metadata": {},
   "source": [
    "### RIDL:"
   ]
  },
  {
   "cell_type": "code",
   "execution_count": 18,
   "id": "5200b2d1",
   "metadata": {},
   "outputs": [],
   "source": [
    "RIDL_df = pd.read_csv(f'{filepath}/RIDL_df.csv')"
   ]
  },
  {
   "cell_type": "code",
   "execution_count": 19,
   "id": "38d67a66",
   "metadata": {},
   "outputs": [],
   "source": [
    "switch = 1 #0 for SIT; 1 for RIDL\n",
    "\n",
    "def SIT(t, releasenumber=1, frequency=7, end=start_wol):    \n",
    "    for i in range(0,releasenumber,1):\n",
    "        if round(t) == (end-frequency) - (frequency*i):\n",
    "            return M0+F0\n",
    "    else:\n",
    "        return 0\n",
    "\n",
    "RRsupp = list(RIDL_df.loc[RIDL_df['Target efficacy'] == 45, 'RRsupp value'])\n",
    "RRsupp = RRsupp[0] "
   ]
  },
  {
   "cell_type": "code",
   "execution_count": 20,
   "id": "6548b354",
   "metadata": {},
   "outputs": [
    {
     "name": "stdout",
     "output_type": "stream",
     "text": [
      "processing time: 5.75 seconds\n"
     ]
    }
   ],
   "source": [
    "start_time = time.time()\n",
    "\n",
    "RR_vec = [0.00047,0.00134,0.00258,0.00418,0.00612,0.00842,0.01108,0.01408,0.01745,0.02115,0.0252,0.0296,0.03437,0.03945,0.04495,0.0507,0.0569,0.0634,0.0703,0.0775,0.085,0.093,0.10125,0.1098,0.1188,0.1281,0.1378,0.1478,0.1582,0.169,0.18,0.1915,0.203,0.215,0.2277,0.2405,0.2538,0.2672,0.2811,0.2953]\n",
    "zoo = [] #capture results here\n",
    "start_wol = 200\n",
    "\n",
    "for i in RR_vec:\n",
    "        \n",
    "    RR = i\n",
    "        \n",
    "    # run the model\n",
    "    t = np.linspace(0, 1500, 1501) # Grid of time points (in days)\n",
    "    y0 = O0, OW0, rOW0, OS0, L0, LW0, rLW0, LS0, P0, PW0, rPW0, PS0, M0, MW0, MS0, F0, FW0 # Init condition vector\n",
    "    ret = odeint(deriv, y0, t,args=(fCI, MT, c, e, phi, alphaO, muO, AA, BB, alphaL, alphaP, muP, muM, muF, RR, RRsupp, pulseN, IIT, SIT, em, lv, ad, cv, switch),hmax=1)\n",
    "    O, OW, rOW, OS, L, LW, rLW, LS, P, PW, rPW, PS, M, MW, MS, F, FW = ret.T\n",
    "\n",
    "    # get output\n",
    "    total = MW+FW+M+F\n",
    "    prop = (MW+FW)/(MW+FW+M+F)\n",
    "    \n",
    "    \n",
    "    fix = np.argwhere(prop > 0.95)\n",
    "    if sum(fix) > 0:\n",
    "        min_fix = min(fix)-start_wol\n",
    "        min_fix = min_fix.tolist()\n",
    "    else:\n",
    "        min_fix = [99999] #occurs if no fixation\n",
    "        \n",
    "    zoo.append(min_fix)\n",
    "\n",
    "current_time = time.time()\n",
    "elapsed_time = current_time - start_time\n",
    "print('processing time:',round(elapsed_time,2),'seconds')"
   ]
  },
  {
   "cell_type": "code",
   "execution_count": 21,
   "id": "c28e3727",
   "metadata": {},
   "outputs": [],
   "source": [
    "zoo2 = [f for sublist in zoo for f in sublist] #flatten\n",
    "sixmonth = next(x for x, val in enumerate(zoo2) if val <= 182.5) #within 6 months\n",
    "RIDL_choose1wk = RR_vec[sixmonth]\n",
    "RIDL_choose1wk = convert_RR(RIDL_choose1wk)"
   ]
  },
  {
   "cell_type": "code",
   "execution_count": 22,
   "id": "45e9768a",
   "metadata": {},
   "outputs": [],
   "source": [
    "switch = 1 #0 for SIT; 1 for RIDL\n",
    "\n",
    "def SIT(t, releasenumber=2, frequency=7, end=start_wol):    \n",
    "    for i in range(0,releasenumber,1):\n",
    "        if round(t) == (end-frequency) - (frequency*i):\n",
    "            return M0+F0\n",
    "    else:\n",
    "        return 0\n",
    "\n",
    "RRsupp = list(RIDL_df.loc[RIDL_df['Target efficacy'] == 45, 'RRsupp value'])\n",
    "RRsupp = RRsupp[0] "
   ]
  },
  {
   "cell_type": "code",
   "execution_count": 23,
   "id": "b0c61628",
   "metadata": {},
   "outputs": [
    {
     "name": "stdout",
     "output_type": "stream",
     "text": [
      "processing time: 6.07 seconds\n"
     ]
    }
   ],
   "source": [
    "start_time = time.time()\n",
    "\n",
    "RR_vec = [0.00047,0.00134,0.00258,0.00418,0.00612,0.00842,0.01108,0.01408,0.01745,0.02115,0.0252,0.0296,0.03437,0.03945,0.04495,0.0507,0.0569,0.0634,0.0703,0.0775,0.085,0.093,0.10125,0.1098,0.1188,0.1281,0.1378,0.1478,0.1582,0.169,0.18,0.1915,0.203,0.215,0.2277,0.2405,0.2538,0.2672,0.2811,0.2953]\n",
    "zoo = [] #capture results here\n",
    "start_wol = 200\n",
    "\n",
    "for i in RR_vec:\n",
    "        \n",
    "    RR = i\n",
    "        \n",
    "    # run the model\n",
    "    t = np.linspace(0, 1500, 1501) # Grid of time points (in days)\n",
    "    y0 = O0, OW0, rOW0, OS0, L0, LW0, rLW0, LS0, P0, PW0, rPW0, PS0, M0, MW0, MS0, F0, FW0 # Init condition vector\n",
    "    ret = odeint(deriv, y0, t,args=(fCI, MT, c, e, phi, alphaO, muO, AA, BB, alphaL, alphaP, muP, muM, muF, RR, RRsupp, pulseN, IIT, SIT, em, lv, ad, cv, switch),hmax=1)\n",
    "    O, OW, rOW, OS, L, LW, rLW, LS, P, PW, rPW, PS, M, MW, MS, F, FW = ret.T\n",
    "\n",
    "    # get output\n",
    "    total = MW+FW+M+F\n",
    "    prop = (MW+FW)/(MW+FW+M+F)\n",
    "    \n",
    "    \n",
    "    fix = np.argwhere(prop > 0.95)\n",
    "    if sum(fix) > 0:\n",
    "        min_fix = min(fix)-start_wol\n",
    "        min_fix = min_fix.tolist()\n",
    "    else:\n",
    "        min_fix = [99999] #occurs if no fixation\n",
    "        \n",
    "    zoo.append(min_fix)\n",
    "\n",
    "current_time = time.time()\n",
    "elapsed_time = current_time - start_time\n",
    "print('processing time:',round(elapsed_time,2),'seconds')"
   ]
  },
  {
   "cell_type": "code",
   "execution_count": 24,
   "id": "da9e6f6d",
   "metadata": {},
   "outputs": [],
   "source": [
    "zoo2 = [f for sublist in zoo for f in sublist] #flatten\n",
    "sixmonth = next(x for x, val in enumerate(zoo2) if val <= 182.5) #within 6 months\n",
    "RIDL_choose2wk = RR_vec[sixmonth]\n",
    "RIDL_choose2wk = convert_RR(RIDL_choose2wk)"
   ]
  },
  {
   "cell_type": "code",
   "execution_count": 25,
   "id": "913b6fdf",
   "metadata": {},
   "outputs": [],
   "source": [
    "switch = 1 #0 for SIT; 1 for RIDL\n",
    "\n",
    "def SIT(t, releasenumber=3, frequency=7, end=start_wol):    \n",
    "    for i in range(0,releasenumber,1):\n",
    "        if round(t) == (end-frequency) - (frequency*i):\n",
    "            return M0+F0\n",
    "    else:\n",
    "        return 0\n",
    "\n",
    "RRsupp = list(RIDL_df.loc[RIDL_df['Target efficacy'] == 45, 'RRsupp value'])\n",
    "RRsupp = RRsupp[0] "
   ]
  },
  {
   "cell_type": "code",
   "execution_count": 26,
   "id": "5437f3a1",
   "metadata": {},
   "outputs": [
    {
     "name": "stdout",
     "output_type": "stream",
     "text": [
      "processing time: 6.32 seconds\n"
     ]
    }
   ],
   "source": [
    "start_time = time.time()\n",
    "\n",
    "RR_vec = [0.00047,0.00134,0.00258,0.00418,0.00612,0.00842,0.01108,0.01408,0.01745,0.02115,0.0252,0.0296,0.03437,0.03945,0.04495,0.0507,0.0569,0.0634,0.0703,0.0775,0.085,0.093,0.10125,0.1098,0.1188,0.1281,0.1378,0.1478,0.1582,0.169,0.18,0.1915,0.203,0.215,0.2277,0.2405,0.2538,0.2672,0.2811,0.2953]\n",
    "zoo = [] #capture results here\n",
    "start_wol = 200\n",
    "\n",
    "for i in RR_vec:\n",
    "        \n",
    "    RR = i\n",
    "        \n",
    "    # run the model\n",
    "    t = np.linspace(0, 1500, 1501) # Grid of time points (in days)\n",
    "    y0 = O0, OW0, rOW0, OS0, L0, LW0, rLW0, LS0, P0, PW0, rPW0, PS0, M0, MW0, MS0, F0, FW0 # Init condition vector\n",
    "    ret = odeint(deriv, y0, t,args=(fCI, MT, c, e, phi, alphaO, muO, AA, BB, alphaL, alphaP, muP, muM, muF, RR, RRsupp, pulseN, IIT, SIT, em, lv, ad, cv, switch),hmax=1)\n",
    "    O, OW, rOW, OS, L, LW, rLW, LS, P, PW, rPW, PS, M, MW, MS, F, FW = ret.T\n",
    "\n",
    "    # get output\n",
    "    total = MW+FW+M+F\n",
    "    prop = (MW+FW)/(MW+FW+M+F)\n",
    "    \n",
    "    \n",
    "    fix = np.argwhere(prop > 0.95)\n",
    "    if sum(fix) > 0:\n",
    "        min_fix = min(fix)-start_wol\n",
    "        min_fix = min_fix.tolist()\n",
    "    else:\n",
    "        min_fix = [99999] #occurs if no fixation\n",
    "        \n",
    "    zoo.append(min_fix)\n",
    "\n",
    "current_time = time.time()\n",
    "elapsed_time = current_time - start_time\n",
    "print('processing time:',round(elapsed_time,2),'seconds')"
   ]
  },
  {
   "cell_type": "code",
   "execution_count": 27,
   "id": "09d03e5f",
   "metadata": {},
   "outputs": [],
   "source": [
    "zoo2 = [f for sublist in zoo for f in sublist] #flatten\n",
    "sixmonth = next(x for x, val in enumerate(zoo2) if val <= 182.5) #within 6 months\n",
    "RIDL_choose3wk = RR_vec[sixmonth]\n",
    "RIDL_choose3wk = convert_RR(RIDL_choose3wk)"
   ]
  },
  {
   "cell_type": "code",
   "execution_count": 28,
   "id": "0dabbd42",
   "metadata": {},
   "outputs": [],
   "source": [
    "switch = 1 #0 for SIT; 1 for RIDL\n",
    "\n",
    "def SIT(t, releasenumber=4, frequency=7, end=start_wol):    \n",
    "    for i in range(0,releasenumber,1):\n",
    "        if round(t) == (end-frequency) - (frequency*i):\n",
    "            return M0+F0\n",
    "    else:\n",
    "        return 0\n",
    "\n",
    "RRsupp = list(RIDL_df.loc[RIDL_df['Target efficacy'] == 45, 'RRsupp value'])\n",
    "RRsupp = RRsupp[0] "
   ]
  },
  {
   "cell_type": "code",
   "execution_count": 29,
   "id": "501bd5fa",
   "metadata": {},
   "outputs": [
    {
     "name": "stdout",
     "output_type": "stream",
     "text": [
      "processing time: 6.69 seconds\n"
     ]
    }
   ],
   "source": [
    "start_time = time.time()\n",
    "\n",
    "RR_vec = [0.00047,0.00134,0.00258,0.00418,0.00612,0.00842,0.01108,0.01408,0.01745,0.02115,0.0252,0.0296,0.03437,0.03945,0.04495,0.0507,0.0569,0.0634,0.0703,0.0775,0.085,0.093,0.10125,0.1098,0.1188,0.1281,0.1378,0.1478,0.1582,0.169,0.18,0.1915,0.203,0.215,0.2277,0.2405,0.2538,0.2672,0.2811,0.2953]\n",
    "zoo = [] #capture results here\n",
    "start_wol = 200\n",
    "\n",
    "for i in RR_vec:\n",
    "        \n",
    "    RR = i\n",
    "        \n",
    "    # run the model\n",
    "    t = np.linspace(0, 1500, 1501) # Grid of time points (in days)\n",
    "    y0 = O0, OW0, rOW0, OS0, L0, LW0, rLW0, LS0, P0, PW0, rPW0, PS0, M0, MW0, MS0, F0, FW0 # Init condition vector\n",
    "    ret = odeint(deriv, y0, t,args=(fCI, MT, c, e, phi, alphaO, muO, AA, BB, alphaL, alphaP, muP, muM, muF, RR, RRsupp, pulseN, IIT, SIT, em, lv, ad, cv, switch),hmax=1)\n",
    "    O, OW, rOW, OS, L, LW, rLW, LS, P, PW, rPW, PS, M, MW, MS, F, FW = ret.T\n",
    "\n",
    "    # get output\n",
    "    total = MW+FW+M+F\n",
    "    prop = (MW+FW)/(MW+FW+M+F)\n",
    "    \n",
    "    \n",
    "    fix = np.argwhere(prop > 0.95)\n",
    "    if sum(fix) > 0:\n",
    "        min_fix = min(fix)-start_wol\n",
    "        min_fix = min_fix.tolist()\n",
    "    else:\n",
    "        min_fix = [99999] #occurs if no fixation\n",
    "        \n",
    "    zoo.append(min_fix)\n",
    "\n",
    "current_time = time.time()\n",
    "elapsed_time = current_time - start_time\n",
    "print('processing time:',round(elapsed_time,2),'seconds')"
   ]
  },
  {
   "cell_type": "code",
   "execution_count": 30,
   "id": "9717a503",
   "metadata": {},
   "outputs": [],
   "source": [
    "zoo2 = [f for sublist in zoo for f in sublist] #flatten\n",
    "sixmonth = next(x for x, val in enumerate(zoo2) if val <= 182.5) #within 6 months\n",
    "RIDL_choose4wk = RR_vec[sixmonth]\n",
    "RIDL_choose4wk = convert_RR(RIDL_choose4wk)"
   ]
  },
  {
   "cell_type": "code",
   "execution_count": 31,
   "id": "f5c5de54",
   "metadata": {},
   "outputs": [],
   "source": [
    "switch = 1 #0 for SIT; 1 for RIDL\n",
    "\n",
    "def SIT(t, releasenumber=5, frequency=7, end=start_wol):    \n",
    "    for i in range(0,releasenumber,1):\n",
    "        if round(t) == (end-frequency) - (frequency*i):\n",
    "            return M0+F0\n",
    "    else:\n",
    "        return 0\n",
    "\n",
    "RRsupp = list(RIDL_df.loc[RIDL_df['Target efficacy'] == 45, 'RRsupp value'])\n",
    "RRsupp = RRsupp[0] "
   ]
  },
  {
   "cell_type": "code",
   "execution_count": 32,
   "id": "7deaff65",
   "metadata": {},
   "outputs": [
    {
     "name": "stdout",
     "output_type": "stream",
     "text": [
      "processing time: 6.99 seconds\n"
     ]
    }
   ],
   "source": [
    "start_time = time.time()\n",
    "\n",
    "RR_vec = [0.00047,0.00134,0.00258,0.00418,0.00612,0.00842,0.01108,0.01408,0.01745,0.02115,0.0252,0.0296,0.03437,0.03945,0.04495,0.0507,0.0569,0.0634,0.0703,0.0775,0.085,0.093,0.10125,0.1098,0.1188,0.1281,0.1378,0.1478,0.1582,0.169,0.18,0.1915,0.203,0.215,0.2277,0.2405,0.2538,0.2672,0.2811,0.2953]\n",
    "zoo = [] #capture results here\n",
    "start_wol = 200\n",
    "\n",
    "for i in RR_vec:\n",
    "        \n",
    "    RR = i\n",
    "        \n",
    "    # run the model\n",
    "    t = np.linspace(0, 1500, 1501) # Grid of time points (in days)\n",
    "    y0 = O0, OW0, rOW0, OS0, L0, LW0, rLW0, LS0, P0, PW0, rPW0, PS0, M0, MW0, MS0, F0, FW0 # Init condition vector\n",
    "    ret = odeint(deriv, y0, t,args=(fCI, MT, c, e, phi, alphaO, muO, AA, BB, alphaL, alphaP, muP, muM, muF, RR, RRsupp, pulseN, IIT, SIT, em, lv, ad, cv, switch),hmax=1)\n",
    "    O, OW, rOW, OS, L, LW, rLW, LS, P, PW, rPW, PS, M, MW, MS, F, FW = ret.T\n",
    "\n",
    "    # get output\n",
    "    total = MW+FW+M+F\n",
    "    prop = (MW+FW)/(MW+FW+M+F)\n",
    "    \n",
    "    \n",
    "    fix = np.argwhere(prop > 0.95)\n",
    "    if sum(fix) > 0:\n",
    "        min_fix = min(fix)-start_wol\n",
    "        min_fix = min_fix.tolist()\n",
    "    else:\n",
    "        min_fix = [99999] #occurs if no fixation\n",
    "        \n",
    "    zoo.append(min_fix)\n",
    "\n",
    "current_time = time.time()\n",
    "elapsed_time = current_time - start_time\n",
    "print('processing time:',round(elapsed_time,2),'seconds')"
   ]
  },
  {
   "cell_type": "code",
   "execution_count": 33,
   "id": "f772f200",
   "metadata": {},
   "outputs": [],
   "source": [
    "zoo2 = [f for sublist in zoo for f in sublist] #flatten\n",
    "sixmonth = next(x for x, val in enumerate(zoo2) if val <= 182.5) #within 6 months\n",
    "RIDL_choose5wk = RR_vec[sixmonth]\n",
    "RIDL_choose5wk = convert_RR(RIDL_choose5wk)"
   ]
  },
  {
   "cell_type": "code",
   "execution_count": 34,
   "id": "86f57452",
   "metadata": {},
   "outputs": [],
   "source": [
    "switch = 1 #0 for SIT; 1 for RIDL\n",
    "\n",
    "def SIT(t, releasenumber=6, frequency=7, end=start_wol):    \n",
    "    for i in range(0,releasenumber,1):\n",
    "        if round(t) == (end-frequency) - (frequency*i):\n",
    "            return M0+F0\n",
    "    else:\n",
    "        return 0\n",
    "\n",
    "RRsupp = list(RIDL_df.loc[RIDL_df['Target efficacy'] == 70, 'RRsupp value'])\n",
    "RRsupp = RRsupp[0] "
   ]
  },
  {
   "cell_type": "code",
   "execution_count": 35,
   "id": "58da02a2",
   "metadata": {},
   "outputs": [
    {
     "name": "stdout",
     "output_type": "stream",
     "text": [
      "processing time: 7.16 seconds\n"
     ]
    }
   ],
   "source": [
    "start_time = time.time()\n",
    "\n",
    "RR_vec = [0.00047,0.00134,0.00258,0.00418,0.00612,0.00842,0.01108,0.01408,0.01745,0.02115,0.0252,0.0296,0.03437,0.03945,0.04495,0.0507,0.0569,0.0634,0.0703,0.0775,0.085,0.093,0.10125,0.1098,0.1188,0.1281,0.1378,0.1478,0.1582,0.169,0.18,0.1915,0.203,0.215,0.2277,0.2405,0.2538,0.2672,0.2811,0.2953]\n",
    "zoo = [] #capture results here\n",
    "start_wol = 200\n",
    "\n",
    "for i in RR_vec:\n",
    "        \n",
    "    RR = i\n",
    "        \n",
    "    # run the model\n",
    "    t = np.linspace(0, 1500, 1501) # Grid of time points (in days)\n",
    "    y0 = O0, OW0, rOW0, OS0, L0, LW0, rLW0, LS0, P0, PW0, rPW0, PS0, M0, MW0, MS0, F0, FW0 # Init condition vector\n",
    "    ret = odeint(deriv, y0, t,args=(fCI, MT, c, e, phi, alphaO, muO, AA, BB, alphaL, alphaP, muP, muM, muF, RR, RRsupp, pulseN, IIT, SIT, em, lv, ad, cv, switch),hmax=1)\n",
    "    O, OW, rOW, OS, L, LW, rLW, LS, P, PW, rPW, PS, M, MW, MS, F, FW = ret.T\n",
    "\n",
    "    # get output\n",
    "    total = MW+FW+M+F\n",
    "    prop = (MW+FW)/(MW+FW+M+F)\n",
    "    \n",
    "    \n",
    "    fix = np.argwhere(prop > 0.95)\n",
    "    if sum(fix) > 0:\n",
    "        min_fix = min(fix)-start_wol\n",
    "        min_fix = min_fix.tolist()\n",
    "    else:\n",
    "        min_fix = [99999] #occurs if no fixation\n",
    "        \n",
    "    zoo.append(min_fix)\n",
    "\n",
    "current_time = time.time()\n",
    "elapsed_time = current_time - start_time\n",
    "print('processing time:',round(elapsed_time,2),'seconds')"
   ]
  },
  {
   "cell_type": "code",
   "execution_count": 36,
   "id": "59b3a516",
   "metadata": {},
   "outputs": [],
   "source": [
    "zoo2 = [f for sublist in zoo for f in sublist] #flatten\n",
    "sixmonth = next(x for x, val in enumerate(zoo2) if val <= 182.5) #within 6 months\n",
    "RIDL_choose6wk = RR_vec[sixmonth]\n",
    "RIDL_choose6wk = convert_RR(RIDL_choose6wk)"
   ]
  },
  {
   "cell_type": "code",
   "execution_count": 37,
   "id": "0a0b8f13",
   "metadata": {},
   "outputs": [],
   "source": [
    "switch = 1 #0 for SIT; 1 for RIDL\n",
    "\n",
    "def SIT(t, releasenumber=7, frequency=7, end=start_wol):    \n",
    "    for i in range(0,releasenumber,1):\n",
    "        if round(t) == (end-frequency) - (frequency*i):\n",
    "            return M0+F0\n",
    "    else:\n",
    "        return 0\n",
    "\n",
    "RRsupp = list(RIDL_df.loc[RIDL_df['Target efficacy'] == 70, 'RRsupp value'])\n",
    "RRsupp = RRsupp[0] "
   ]
  },
  {
   "cell_type": "code",
   "execution_count": 38,
   "id": "644bb704",
   "metadata": {},
   "outputs": [
    {
     "name": "stdout",
     "output_type": "stream",
     "text": [
      "processing time: 7.39 seconds\n"
     ]
    }
   ],
   "source": [
    "start_time = time.time()\n",
    "\n",
    "RR_vec = [0.00047,0.00134,0.00258,0.00418,0.00612,0.00842,0.01108,0.01408,0.01745,0.02115,0.0252,0.0296,0.03437,0.03945,0.04495,0.0507,0.0569,0.0634,0.0703,0.0775,0.085,0.093,0.10125,0.1098,0.1188,0.1281,0.1378,0.1478,0.1582,0.169,0.18,0.1915,0.203,0.215,0.2277,0.2405,0.2538,0.2672,0.2811,0.2953]\n",
    "zoo = [] #capture results here\n",
    "start_wol = 200\n",
    "\n",
    "for i in RR_vec:\n",
    "        \n",
    "    RR = i\n",
    "        \n",
    "    # run the model\n",
    "    t = np.linspace(0, 1500, 1501) # Grid of time points (in days)\n",
    "    y0 = O0, OW0, rOW0, OS0, L0, LW0, rLW0, LS0, P0, PW0, rPW0, PS0, M0, MW0, MS0, F0, FW0 # Init condition vector\n",
    "    ret = odeint(deriv, y0, t,args=(fCI, MT, c, e, phi, alphaO, muO, AA, BB, alphaL, alphaP, muP, muM, muF, RR, RRsupp, pulseN, IIT, SIT, em, lv, ad, cv, switch),hmax=1)\n",
    "    O, OW, rOW, OS, L, LW, rLW, LS, P, PW, rPW, PS, M, MW, MS, F, FW = ret.T\n",
    "\n",
    "    # get output\n",
    "    total = MW+FW+M+F\n",
    "    prop = (MW+FW)/(MW+FW+M+F)\n",
    "    \n",
    "    \n",
    "    fix = np.argwhere(prop > 0.95)\n",
    "    if sum(fix) > 0:\n",
    "        min_fix = min(fix)-start_wol\n",
    "        min_fix = min_fix.tolist()\n",
    "    else:\n",
    "        min_fix = [99999] #occurs if no fixation\n",
    "        \n",
    "    zoo.append(min_fix)\n",
    "\n",
    "current_time = time.time()\n",
    "elapsed_time = current_time - start_time\n",
    "print('processing time:',round(elapsed_time,2),'seconds')"
   ]
  },
  {
   "cell_type": "code",
   "execution_count": 39,
   "id": "9abbed47",
   "metadata": {},
   "outputs": [],
   "source": [
    "zoo2 = [f for sublist in zoo for f in sublist] #flatten\n",
    "sixmonth = next(x for x, val in enumerate(zoo2) if val <= 182.5) #within 6 months\n",
    "RIDL_choose7wk = RR_vec[sixmonth]\n",
    "RIDL_choose7wk = convert_RR(RIDL_choose7wk)"
   ]
  },
  {
   "cell_type": "code",
   "execution_count": 40,
   "id": "3d6dfeee",
   "metadata": {},
   "outputs": [],
   "source": [
    "switch = 1 #0 for SIT; 1 for RIDL\n",
    "\n",
    "def SIT(t, releasenumber=8, frequency=7, end=start_wol):    \n",
    "    for i in range(0,releasenumber,1):\n",
    "        if round(t) == (end-frequency) - (frequency*i):\n",
    "            return M0+F0\n",
    "    else:\n",
    "        return 0\n",
    "\n",
    "RRsupp = list(RIDL_df.loc[RIDL_df['Target efficacy'] == 70, 'RRsupp value'])\n",
    "RRsupp = RRsupp[0] "
   ]
  },
  {
   "cell_type": "code",
   "execution_count": 41,
   "id": "b65ec128",
   "metadata": {},
   "outputs": [
    {
     "name": "stdout",
     "output_type": "stream",
     "text": [
      "processing time: 7.58 seconds\n"
     ]
    }
   ],
   "source": [
    "start_time = time.time()\n",
    "\n",
    "RR_vec = [0.00047,0.00134,0.00258,0.00418,0.00612,0.00842,0.01108,0.01408,0.01745,0.02115,0.0252,0.0296,0.03437,0.03945,0.04495,0.0507,0.0569,0.0634,0.0703,0.0775,0.085,0.093,0.10125,0.1098,0.1188,0.1281,0.1378,0.1478,0.1582,0.169,0.18,0.1915,0.203,0.215,0.2277,0.2405,0.2538,0.2672,0.2811,0.2953]\n",
    "zoo = [] #capture results here\n",
    "start_wol = 200\n",
    "\n",
    "for i in RR_vec:\n",
    "        \n",
    "    RR = i\n",
    "        \n",
    "    # run the model\n",
    "    t = np.linspace(0, 1500, 1501) # Grid of time points (in days)\n",
    "    y0 = O0, OW0, rOW0, OS0, L0, LW0, rLW0, LS0, P0, PW0, rPW0, PS0, M0, MW0, MS0, F0, FW0 # Init condition vector\n",
    "    ret = odeint(deriv, y0, t,args=(fCI, MT, c, e, phi, alphaO, muO, AA, BB, alphaL, alphaP, muP, muM, muF, RR, RRsupp, pulseN, IIT, SIT, em, lv, ad, cv, switch),hmax=1)\n",
    "    O, OW, rOW, OS, L, LW, rLW, LS, P, PW, rPW, PS, M, MW, MS, F, FW = ret.T\n",
    "\n",
    "    # get output\n",
    "    total = MW+FW+M+F\n",
    "    prop = (MW+FW)/(MW+FW+M+F)\n",
    "    \n",
    "    \n",
    "    fix = np.argwhere(prop > 0.95)\n",
    "    if sum(fix) > 0:\n",
    "        min_fix = min(fix)-start_wol\n",
    "        min_fix = min_fix.tolist()\n",
    "    else:\n",
    "        min_fix = [99999] #occurs if no fixation\n",
    "        \n",
    "    zoo.append(min_fix)\n",
    "\n",
    "current_time = time.time()\n",
    "elapsed_time = current_time - start_time\n",
    "print('processing time:',round(elapsed_time,2),'seconds')"
   ]
  },
  {
   "cell_type": "code",
   "execution_count": 42,
   "id": "83fc58a8",
   "metadata": {},
   "outputs": [],
   "source": [
    "zoo2 = [f for sublist in zoo for f in sublist] #flatten\n",
    "sixmonth = next(x for x, val in enumerate(zoo2) if val <= 182.5) #within 6 months\n",
    "RIDL_choose8wk = RR_vec[sixmonth]\n",
    "RIDL_choose8wk = convert_RR(RIDL_choose8wk)"
   ]
  },
  {
   "cell_type": "code",
   "execution_count": 43,
   "id": "5b3faebf",
   "metadata": {},
   "outputs": [],
   "source": [
    "switch = 1 #0 for SIT; 1 for RIDL\n",
    "\n",
    "def SIT(t, releasenumber=9, frequency=7, end=start_wol):    \n",
    "    for i in range(0,releasenumber,1):\n",
    "        if round(t) == (end-frequency) - (frequency*i):\n",
    "            return M0+F0\n",
    "    else:\n",
    "        return 0\n",
    "\n",
    "RRsupp = list(RIDL_df.loc[RIDL_df['Target efficacy'] == 70, 'RRsupp value'])\n",
    "RRsupp = RRsupp[0] "
   ]
  },
  {
   "cell_type": "code",
   "execution_count": 44,
   "id": "0b8781b6",
   "metadata": {},
   "outputs": [
    {
     "name": "stdout",
     "output_type": "stream",
     "text": [
      "processing time: 7.97 seconds\n"
     ]
    }
   ],
   "source": [
    "start_time = time.time()\n",
    "\n",
    "RR_vec = [0.00047,0.00134,0.00258,0.00418,0.00612,0.00842,0.01108,0.01408,0.01745,0.02115,0.0252,0.0296,0.03437,0.03945,0.04495,0.0507,0.0569,0.0634,0.0703,0.0775,0.085,0.093,0.10125,0.1098,0.1188,0.1281,0.1378,0.1478,0.1582,0.169,0.18,0.1915,0.203,0.215,0.2277,0.2405,0.2538,0.2672,0.2811,0.2953]\n",
    "zoo = [] #capture results here\n",
    "start_wol = 200\n",
    "\n",
    "for i in RR_vec:\n",
    "        \n",
    "    RR = i\n",
    "        \n",
    "    # run the model\n",
    "    t = np.linspace(0, 1500, 1501) # Grid of time points (in days)\n",
    "    y0 = O0, OW0, rOW0, OS0, L0, LW0, rLW0, LS0, P0, PW0, rPW0, PS0, M0, MW0, MS0, F0, FW0 # Init condition vector\n",
    "    ret = odeint(deriv, y0, t,args=(fCI, MT, c, e, phi, alphaO, muO, AA, BB, alphaL, alphaP, muP, muM, muF, RR, RRsupp, pulseN, IIT, SIT, em, lv, ad, cv, switch),hmax=1)\n",
    "    O, OW, rOW, OS, L, LW, rLW, LS, P, PW, rPW, PS, M, MW, MS, F, FW = ret.T\n",
    "\n",
    "    # get output\n",
    "    total = MW+FW+M+F\n",
    "    prop = (MW+FW)/(MW+FW+M+F)\n",
    "    \n",
    "    \n",
    "    fix = np.argwhere(prop > 0.95)\n",
    "    if sum(fix) > 0:\n",
    "        min_fix = min(fix)-start_wol\n",
    "        min_fix = min_fix.tolist()\n",
    "    else:\n",
    "        min_fix = [99999] #occurs if no fixation\n",
    "        \n",
    "    zoo.append(min_fix)\n",
    "\n",
    "current_time = time.time()\n",
    "elapsed_time = current_time - start_time\n",
    "print('processing time:',round(elapsed_time,2),'seconds')"
   ]
  },
  {
   "cell_type": "code",
   "execution_count": 45,
   "id": "11963522",
   "metadata": {},
   "outputs": [],
   "source": [
    "zoo2 = [f for sublist in zoo for f in sublist] #flatten\n",
    "sixmonth = next(x for x, val in enumerate(zoo2) if val <= 182.5) #within 6 months\n",
    "RIDL_choose9wk = RR_vec[sixmonth]\n",
    "RIDL_choose9wk = convert_RR(RIDL_choose9wk)"
   ]
  },
  {
   "cell_type": "code",
   "execution_count": 46,
   "id": "550bd105",
   "metadata": {},
   "outputs": [],
   "source": [
    "switch = 1 #0 for SIT; 1 for RIDL\n",
    "\n",
    "def SIT(t, releasenumber=10, frequency=7, end=start_wol):    \n",
    "    for i in range(0,releasenumber,1):\n",
    "        if round(t) == (end-frequency) - (frequency*i):\n",
    "            return M0+F0\n",
    "    else:\n",
    "        return 0\n",
    "\n",
    "RRsupp = list(RIDL_df.loc[RIDL_df['Target efficacy'] == 70, 'RRsupp value'])\n",
    "RRsupp = RRsupp[0] "
   ]
  },
  {
   "cell_type": "code",
   "execution_count": 47,
   "id": "a7048814",
   "metadata": {},
   "outputs": [
    {
     "name": "stdout",
     "output_type": "stream",
     "text": [
      "processing time: 8.29 seconds\n"
     ]
    }
   ],
   "source": [
    "start_time = time.time()\n",
    "\n",
    "RR_vec = [0.00047,0.00134,0.00258,0.00418,0.00612,0.00842,0.01108,0.01408,0.01745,0.02115,0.0252,0.0296,0.03437,0.03945,0.04495,0.0507,0.0569,0.0634,0.0703,0.0775,0.085,0.093,0.10125,0.1098,0.1188,0.1281,0.1378,0.1478,0.1582,0.169,0.18,0.1915,0.203,0.215,0.2277,0.2405,0.2538,0.2672,0.2811,0.2953]\n",
    "zoo = [] #capture results here\n",
    "start_wol = 200\n",
    "\n",
    "for i in RR_vec:\n",
    "        \n",
    "    RR = i\n",
    "        \n",
    "    # run the model\n",
    "    t = np.linspace(0, 1500, 1501) # Grid of time points (in days)\n",
    "    y0 = O0, OW0, rOW0, OS0, L0, LW0, rLW0, LS0, P0, PW0, rPW0, PS0, M0, MW0, MS0, F0, FW0 # Init condition vector\n",
    "    ret = odeint(deriv, y0, t,args=(fCI, MT, c, e, phi, alphaO, muO, AA, BB, alphaL, alphaP, muP, muM, muF, RR, RRsupp, pulseN, IIT, SIT, em, lv, ad, cv, switch),hmax=1)\n",
    "    O, OW, rOW, OS, L, LW, rLW, LS, P, PW, rPW, PS, M, MW, MS, F, FW = ret.T\n",
    "\n",
    "    # get output\n",
    "    total = MW+FW+M+F\n",
    "    prop = (MW+FW)/(MW+FW+M+F)\n",
    "    \n",
    "    \n",
    "    fix = np.argwhere(prop > 0.95)\n",
    "    if sum(fix) > 0:\n",
    "        min_fix = min(fix)-start_wol\n",
    "        min_fix = min_fix.tolist()\n",
    "    else:\n",
    "        min_fix = [99999] #occurs if no fixation\n",
    "        \n",
    "    zoo.append(min_fix)\n",
    "\n",
    "current_time = time.time()\n",
    "elapsed_time = current_time - start_time\n",
    "print('processing time:',round(elapsed_time,2),'seconds')"
   ]
  },
  {
   "cell_type": "code",
   "execution_count": 48,
   "id": "5e5cdf1d",
   "metadata": {},
   "outputs": [],
   "source": [
    "zoo2 = [f for sublist in zoo for f in sublist] #flatten\n",
    "sixmonth = next(x for x, val in enumerate(zoo2) if val <= 182.5) #within 6 months\n",
    "RIDL_choose10wk = RR_vec[sixmonth]\n",
    "RIDL_choose10wk = convert_RR(RIDL_choose10wk)"
   ]
  },
  {
   "cell_type": "markdown",
   "id": "2219ea63",
   "metadata": {},
   "source": [
    "Store results:"
   ]
  },
  {
   "cell_type": "code",
   "execution_count": 49,
   "id": "11f40a5e",
   "metadata": {},
   "outputs": [
    {
     "data": {
      "text/html": [
       "<div>\n",
       "<style scoped>\n",
       "    .dataframe tbody tr th:only-of-type {\n",
       "        vertical-align: middle;\n",
       "    }\n",
       "\n",
       "    .dataframe tbody tr th {\n",
       "        vertical-align: top;\n",
       "    }\n",
       "\n",
       "    .dataframe thead th {\n",
       "        text-align: right;\n",
       "    }\n",
       "</style>\n",
       "<table border=\"1\" class=\"dataframe\">\n",
       "  <thead>\n",
       "    <tr style=\"text-align: right;\">\n",
       "      <th></th>\n",
       "      <th>Suppression type</th>\n",
       "      <th>1wk</th>\n",
       "      <th>2wk</th>\n",
       "      <th>3wk</th>\n",
       "      <th>4wk</th>\n",
       "      <th>5wk</th>\n",
       "      <th>6wk</th>\n",
       "      <th>7wk</th>\n",
       "      <th>8wk</th>\n",
       "      <th>9wk</th>\n",
       "      <th>10wk</th>\n",
       "    </tr>\n",
       "  </thead>\n",
       "  <tbody>\n",
       "    <tr>\n",
       "      <th>0</th>\n",
       "      <td>RIDL</td>\n",
       "      <td>0.0675</td>\n",
       "      <td>0.06</td>\n",
       "      <td>0.0525</td>\n",
       "      <td>0.0475</td>\n",
       "      <td>0.0425</td>\n",
       "      <td>0.0075</td>\n",
       "      <td>0.005</td>\n",
       "      <td>0.0025</td>\n",
       "      <td>0.0025</td>\n",
       "      <td>0.0025</td>\n",
       "    </tr>\n",
       "  </tbody>\n",
       "</table>\n",
       "</div>"
      ],
      "text/plain": [
       "  Suppression type     1wk   2wk     3wk     4wk     5wk     6wk    7wk  \\\n",
       "0             RIDL  0.0675  0.06  0.0525  0.0475  0.0425  0.0075  0.005   \n",
       "\n",
       "      8wk     9wk    10wk  \n",
       "0  0.0025  0.0025  0.0025  "
      ]
     },
     "execution_count": 49,
     "metadata": {},
     "output_type": "execute_result"
    }
   ],
   "source": [
    "weekfig_df = pd.DataFrame({'Suppression type': 'RIDL', '1wk': RIDL_choose1wk, '2wk': RIDL_choose2wk, '3wk': RIDL_choose3wk,\n",
    "           '4wk': RIDL_choose4wk, '5wk': RIDL_choose5wk, '6wk': RIDL_choose6wk, '7wk': RIDL_choose7wk,\n",
    "           '8wk': RIDL_choose8wk, '9wk': RIDL_choose9wk, '10wk': RIDL_choose10wk}, index=[0])\n",
    "\n",
    "weekfig_df"
   ]
  },
  {
   "cell_type": "code",
   "execution_count": 50,
   "id": "3581acfb",
   "metadata": {},
   "outputs": [],
   "source": [
    "# switch off\n",
    "\n",
    "switch = 1 #0 for SIT; 1 for RIDL\n",
    "\n",
    "def SIT(t, releasenumber=5, frequency=7, end=start_wol):    \n",
    "    for i in range(0,releasenumber,1):\n",
    "        if round(t) == (end-frequency) - (frequency*i):\n",
    "            return 0 #M0+F0\n",
    "    else:\n",
    "        return 0"
   ]
  },
  {
   "cell_type": "markdown",
   "id": "7009d09e",
   "metadata": {},
   "source": [
    "### SIT:"
   ]
  },
  {
   "cell_type": "code",
   "execution_count": 51,
   "id": "e1ec573a",
   "metadata": {},
   "outputs": [],
   "source": [
    "SIT_df = pd.read_csv(f'{filepath}/SIT_df_01-02-24.csv')"
   ]
  },
  {
   "cell_type": "code",
   "execution_count": 52,
   "id": "d7bfe30d",
   "metadata": {},
   "outputs": [],
   "source": [
    "switch = 0 #0 for SIT; 1 for RIDL\n",
    "\n",
    "def SIT(t, releasenumber=1, frequency=7, end=start_wol):    \n",
    "    for i in range(0,releasenumber,1):\n",
    "        if round(t) == (end-frequency) - (frequency*i):\n",
    "            return M0+F0\n",
    "    else:\n",
    "        return 0\n",
    "\n",
    "RRsupp = list(SIT_df.loc[SIT_df['Target efficacy'] == 49, 'RRsupp value'])\n",
    "RRsupp = RRsupp[0]"
   ]
  },
  {
   "cell_type": "code",
   "execution_count": 53,
   "id": "01a08c98",
   "metadata": {},
   "outputs": [
    {
     "name": "stdout",
     "output_type": "stream",
     "text": [
      "processing time: 5.99 seconds\n"
     ]
    }
   ],
   "source": [
    "start_time = time.time()\n",
    "\n",
    "RR_vec = [0.00047,0.00134,0.00258,0.00418,0.00612,0.00842,0.01108,0.01408,0.01745,0.02115,0.0252,0.0296,0.03437,0.03945,0.04495,0.0507,0.0569,0.0634,0.0703,0.0775,0.085,0.093,0.10125,0.1098,0.1188,0.1281,0.1378,0.1478,0.1582,0.169,0.18,0.1915,0.203,0.215,0.2277,0.2405,0.2538,0.2672,0.2811,0.2953]\n",
    "zoo = [] #capture results here\n",
    "start_wol = 200\n",
    "\n",
    "for i in RR_vec:\n",
    "        \n",
    "    RR = i\n",
    "        \n",
    "    # run the model\n",
    "    t = np.linspace(0, 1500, 1501) # Grid of time points (in days)\n",
    "    y0 = O0, OW0, rOW0, OS0, L0, LW0, rLW0, LS0, P0, PW0, rPW0, PS0, M0, MW0, MS0, F0, FW0 # Init condition vector\n",
    "    ret = odeint(deriv, y0, t,args=(fCI, MT, c, e, phi, alphaO, muO, AA, BB, alphaL, alphaP, muP, muM, muF, RR, RRsupp, pulseN, IIT, SIT, em, lv, ad, cv, switch),hmax=1)\n",
    "    O, OW, rOW, OS, L, LW, rLW, LS, P, PW, rPW, PS, M, MW, MS, F, FW = ret.T\n",
    "\n",
    "    # get output\n",
    "    total = MW+FW+M+F\n",
    "    prop = (MW+FW)/(MW+FW+M+F)\n",
    "    \n",
    "    \n",
    "    fix = np.argwhere(prop > 0.95)\n",
    "    if sum(fix) > 0:\n",
    "        min_fix = min(fix)-start_wol\n",
    "        min_fix = min_fix.tolist()\n",
    "    else:\n",
    "        min_fix = [99999] #occurs if no fixation\n",
    "        \n",
    "    zoo.append(min_fix)\n",
    "\n",
    "current_time = time.time()\n",
    "elapsed_time = current_time - start_time\n",
    "print('processing time:',round(elapsed_time,2),'seconds')"
   ]
  },
  {
   "cell_type": "code",
   "execution_count": 54,
   "id": "288a2d4d",
   "metadata": {},
   "outputs": [],
   "source": [
    "zoo2 = [f for sublist in zoo for f in sublist] #flatten\n",
    "sixmonth = next(x for x, val in enumerate(zoo2) if val <= 182.5) #within 6 months\n",
    "SIT_choose1wk = RR_vec[sixmonth]\n",
    "SIT_choose1wk = convert_RR(SIT_choose1wk)"
   ]
  },
  {
   "cell_type": "code",
   "execution_count": 55,
   "id": "62c0bd8a",
   "metadata": {},
   "outputs": [],
   "source": [
    "switch = 0 #0 for SIT; 1 for RIDL\n",
    "\n",
    "def SIT(t, releasenumber=2, frequency=7, end=start_wol):    \n",
    "    for i in range(0,releasenumber,1):\n",
    "        if round(t) == (end-frequency) - (frequency*i):\n",
    "            return M0+F0\n",
    "    else:\n",
    "        return 0\n",
    "\n",
    "RRsupp = list(SIT_df.loc[SIT_df['Target efficacy'] == 49, 'RRsupp value'])\n",
    "RRsupp = RRsupp[0]"
   ]
  },
  {
   "cell_type": "code",
   "execution_count": 56,
   "id": "aa0c57f3",
   "metadata": {},
   "outputs": [
    {
     "name": "stdout",
     "output_type": "stream",
     "text": [
      "processing time: 6.06 seconds\n"
     ]
    }
   ],
   "source": [
    "start_time = time.time()\n",
    "\n",
    "RR_vec = [0.00047,0.00134,0.00258,0.00418,0.00612,0.00842,0.01108,0.01408,0.01745,0.02115,0.0252,0.0296,0.03437,0.03945,0.04495,0.0507,0.0569,0.0634,0.0703,0.0775,0.085,0.093,0.10125,0.1098,0.1188,0.1281,0.1378,0.1478,0.1582,0.169,0.18,0.1915,0.203,0.215,0.2277,0.2405,0.2538,0.2672,0.2811,0.2953]\n",
    "zoo = [] #capture results here\n",
    "start_wol = 200\n",
    "\n",
    "for i in RR_vec:\n",
    "        \n",
    "    RR = i\n",
    "        \n",
    "    # run the model\n",
    "    t = np.linspace(0, 1500, 1501) # Grid of time points (in days)\n",
    "    y0 = O0, OW0, rOW0, OS0, L0, LW0, rLW0, LS0, P0, PW0, rPW0, PS0, M0, MW0, MS0, F0, FW0 # Init condition vector\n",
    "    ret = odeint(deriv, y0, t,args=(fCI, MT, c, e, phi, alphaO, muO, AA, BB, alphaL, alphaP, muP, muM, muF, RR, RRsupp, pulseN, IIT, SIT, em, lv, ad, cv, switch),hmax=1)\n",
    "    O, OW, rOW, OS, L, LW, rLW, LS, P, PW, rPW, PS, M, MW, MS, F, FW = ret.T\n",
    "\n",
    "    # get output\n",
    "    total = MW+FW+M+F\n",
    "    prop = (MW+FW)/(MW+FW+M+F)\n",
    "    \n",
    "    \n",
    "    fix = np.argwhere(prop > 0.95)\n",
    "    if sum(fix) > 0:\n",
    "        min_fix = min(fix)-start_wol\n",
    "        min_fix = min_fix.tolist()\n",
    "    else:\n",
    "        min_fix = [99999] #occurs if no fixation\n",
    "        \n",
    "    zoo.append(min_fix)\n",
    "\n",
    "current_time = time.time()\n",
    "elapsed_time = current_time - start_time\n",
    "print('processing time:',round(elapsed_time,2),'seconds')"
   ]
  },
  {
   "cell_type": "code",
   "execution_count": 57,
   "id": "95de1d38",
   "metadata": {},
   "outputs": [],
   "source": [
    "zoo2 = [f for sublist in zoo for f in sublist] #flatten\n",
    "sixmonth = next(x for x, val in enumerate(zoo2) if val <= 182.5) #within 6 months\n",
    "SIT_choose2wk = RR_vec[sixmonth]\n",
    "SIT_choose2wk = convert_RR(SIT_choose2wk)"
   ]
  },
  {
   "cell_type": "code",
   "execution_count": 58,
   "id": "72d493af",
   "metadata": {},
   "outputs": [],
   "source": [
    "switch = 0 #0 for SIT; 1 for RIDL\n",
    "\n",
    "def SIT(t, releasenumber=3, frequency=7, end=start_wol):    \n",
    "    for i in range(0,releasenumber,1):\n",
    "        if round(t) == (end-frequency) - (frequency*i):\n",
    "            return M0+F0\n",
    "    else:\n",
    "        return 0\n",
    "\n",
    "RRsupp = list(SIT_df.loc[SIT_df['Target efficacy'] == 49, 'RRsupp value'])\n",
    "RRsupp = RRsupp[0]"
   ]
  },
  {
   "cell_type": "code",
   "execution_count": 59,
   "id": "466682cc",
   "metadata": {},
   "outputs": [
    {
     "name": "stdout",
     "output_type": "stream",
     "text": [
      "processing time: 6.38 seconds\n"
     ]
    }
   ],
   "source": [
    "start_time = time.time()\n",
    "\n",
    "RR_vec = [0.00047,0.00134,0.00258,0.00418,0.00612,0.00842,0.01108,0.01408,0.01745,0.02115,0.0252,0.0296,0.03437,0.03945,0.04495,0.0507,0.0569,0.0634,0.0703,0.0775,0.085,0.093,0.10125,0.1098,0.1188,0.1281,0.1378,0.1478,0.1582,0.169,0.18,0.1915,0.203,0.215,0.2277,0.2405,0.2538,0.2672,0.2811,0.2953]\n",
    "zoo = [] #capture results here\n",
    "start_wol = 200\n",
    "\n",
    "for i in RR_vec:\n",
    "        \n",
    "    RR = i\n",
    "        \n",
    "    # run the model\n",
    "    t = np.linspace(0, 1500, 1501) # Grid of time points (in days)\n",
    "    y0 = O0, OW0, rOW0, OS0, L0, LW0, rLW0, LS0, P0, PW0, rPW0, PS0, M0, MW0, MS0, F0, FW0 # Init condition vector\n",
    "    ret = odeint(deriv, y0, t,args=(fCI, MT, c, e, phi, alphaO, muO, AA, BB, alphaL, alphaP, muP, muM, muF, RR, RRsupp, pulseN, IIT, SIT, em, lv, ad, cv, switch),hmax=1)\n",
    "    O, OW, rOW, OS, L, LW, rLW, LS, P, PW, rPW, PS, M, MW, MS, F, FW = ret.T\n",
    "\n",
    "    # get output\n",
    "    total = MW+FW+M+F\n",
    "    prop = (MW+FW)/(MW+FW+M+F)\n",
    "    \n",
    "    \n",
    "    fix = np.argwhere(prop > 0.95)\n",
    "    if sum(fix) > 0:\n",
    "        min_fix = min(fix)-start_wol\n",
    "        min_fix = min_fix.tolist()\n",
    "    else:\n",
    "        min_fix = [99999] #occurs if no fixation\n",
    "        \n",
    "    zoo.append(min_fix)\n",
    "\n",
    "current_time = time.time()\n",
    "elapsed_time = current_time - start_time\n",
    "print('processing time:',round(elapsed_time,2),'seconds')"
   ]
  },
  {
   "cell_type": "code",
   "execution_count": 60,
   "id": "f5d5c453",
   "metadata": {},
   "outputs": [],
   "source": [
    "zoo2 = [f for sublist in zoo for f in sublist] #flatten\n",
    "sixmonth = next(x for x, val in enumerate(zoo2) if val <= 182.5) #within 6 months\n",
    "SIT_choose3wk = RR_vec[sixmonth]\n",
    "SIT_choose3wk = convert_RR(SIT_choose3wk)"
   ]
  },
  {
   "cell_type": "code",
   "execution_count": 61,
   "id": "3f7e3305",
   "metadata": {},
   "outputs": [],
   "source": [
    "switch = 0 #0 for SIT; 1 for RIDL\n",
    "\n",
    "def SIT(t, releasenumber=4, frequency=7, end=start_wol):    \n",
    "    for i in range(0,releasenumber,1):\n",
    "        if round(t) == (end-frequency) - (frequency*i):\n",
    "            return M0+F0\n",
    "    else:\n",
    "        return 0\n",
    "\n",
    "RRsupp = list(SIT_df.loc[SIT_df['Target efficacy'] == 49, 'RRsupp value'])\n",
    "RRsupp = RRsupp[0]"
   ]
  },
  {
   "cell_type": "code",
   "execution_count": 62,
   "id": "60587e7c",
   "metadata": {},
   "outputs": [
    {
     "name": "stdout",
     "output_type": "stream",
     "text": [
      "processing time: 6.76 seconds\n"
     ]
    }
   ],
   "source": [
    "start_time = time.time()\n",
    "\n",
    "RR_vec = [0.00047,0.00134,0.00258,0.00418,0.00612,0.00842,0.01108,0.01408,0.01745,0.02115,0.0252,0.0296,0.03437,0.03945,0.04495,0.0507,0.0569,0.0634,0.0703,0.0775,0.085,0.093,0.10125,0.1098,0.1188,0.1281,0.1378,0.1478,0.1582,0.169,0.18,0.1915,0.203,0.215,0.2277,0.2405,0.2538,0.2672,0.2811,0.2953]\n",
    "zoo = [] #capture results here\n",
    "start_wol = 200\n",
    "\n",
    "for i in RR_vec:\n",
    "        \n",
    "    RR = i\n",
    "        \n",
    "    # run the model\n",
    "    t = np.linspace(0, 1500, 1501) # Grid of time points (in days)\n",
    "    y0 = O0, OW0, rOW0, OS0, L0, LW0, rLW0, LS0, P0, PW0, rPW0, PS0, M0, MW0, MS0, F0, FW0 # Init condition vector\n",
    "    ret = odeint(deriv, y0, t,args=(fCI, MT, c, e, phi, alphaO, muO, AA, BB, alphaL, alphaP, muP, muM, muF, RR, RRsupp, pulseN, IIT, SIT, em, lv, ad, cv, switch),hmax=1)\n",
    "    O, OW, rOW, OS, L, LW, rLW, LS, P, PW, rPW, PS, M, MW, MS, F, FW = ret.T\n",
    "\n",
    "    # get output\n",
    "    total = MW+FW+M+F\n",
    "    prop = (MW+FW)/(MW+FW+M+F)\n",
    "    \n",
    "    \n",
    "    fix = np.argwhere(prop > 0.95)\n",
    "    if sum(fix) > 0:\n",
    "        min_fix = min(fix)-start_wol\n",
    "        min_fix = min_fix.tolist()\n",
    "    else:\n",
    "        min_fix = [99999] #occurs if no fixation\n",
    "        \n",
    "    zoo.append(min_fix)\n",
    "\n",
    "current_time = time.time()\n",
    "elapsed_time = current_time - start_time\n",
    "print('processing time:',round(elapsed_time,2),'seconds')"
   ]
  },
  {
   "cell_type": "code",
   "execution_count": 63,
   "id": "98e3115f",
   "metadata": {},
   "outputs": [],
   "source": [
    "zoo2 = [f for sublist in zoo for f in sublist] #flatten\n",
    "sixmonth = next(x for x, val in enumerate(zoo2) if val <= 182.5) #within 6 months\n",
    "SIT_choose4wk = RR_vec[sixmonth]\n",
    "SIT_choose4wk = convert_RR(SIT_choose4wk)"
   ]
  },
  {
   "cell_type": "code",
   "execution_count": 64,
   "id": "a037f160",
   "metadata": {},
   "outputs": [],
   "source": [
    "switch = 0 #0 for SIT; 1 for RIDL\n",
    "\n",
    "def SIT(t, releasenumber=5, frequency=7, end=start_wol):    \n",
    "    for i in range(0,releasenumber,1):\n",
    "        if round(t) == (end-frequency) - (frequency*i):\n",
    "            return M0+F0\n",
    "    else:\n",
    "        return 0\n",
    "\n",
    "RRsupp = list(SIT_df.loc[SIT_df['Target efficacy'] == 49, 'RRsupp value'])\n",
    "RRsupp = RRsupp[0] "
   ]
  },
  {
   "cell_type": "code",
   "execution_count": 65,
   "id": "3ab00734",
   "metadata": {},
   "outputs": [
    {
     "name": "stdout",
     "output_type": "stream",
     "text": [
      "processing time: 6.91 seconds\n"
     ]
    }
   ],
   "source": [
    "start_time = time.time()\n",
    "\n",
    "RR_vec = [0.00047,0.00134,0.00258,0.00418,0.00612,0.00842,0.01108,0.01408,0.01745,0.02115,0.0252,0.0296,0.03437,0.03945,0.04495,0.0507,0.0569,0.0634,0.0703,0.0775,0.085,0.093,0.10125,0.1098,0.1188,0.1281,0.1378,0.1478,0.1582,0.169,0.18,0.1915,0.203,0.215,0.2277,0.2405,0.2538,0.2672,0.2811,0.2953]\n",
    "zoo = [] #capture results here\n",
    "start_wol = 200\n",
    "\n",
    "for i in RR_vec:\n",
    "        \n",
    "    RR = i\n",
    "        \n",
    "    # run the model\n",
    "    t = np.linspace(0, 1500, 1501) # Grid of time points (in days)\n",
    "    y0 = O0, OW0, rOW0, OS0, L0, LW0, rLW0, LS0, P0, PW0, rPW0, PS0, M0, MW0, MS0, F0, FW0 # Init condition vector\n",
    "    ret = odeint(deriv, y0, t,args=(fCI, MT, c, e, phi, alphaO, muO, AA, BB, alphaL, alphaP, muP, muM, muF, RR, RRsupp, pulseN, IIT, SIT, em, lv, ad, cv, switch),hmax=1)\n",
    "    O, OW, rOW, OS, L, LW, rLW, LS, P, PW, rPW, PS, M, MW, MS, F, FW = ret.T\n",
    "\n",
    "    # get output\n",
    "    total = MW+FW+M+F\n",
    "    prop = (MW+FW)/(MW+FW+M+F)\n",
    "    \n",
    "    \n",
    "    fix = np.argwhere(prop > 0.95)\n",
    "    if sum(fix) > 0:\n",
    "        min_fix = min(fix)-start_wol\n",
    "        min_fix = min_fix.tolist()\n",
    "    else:\n",
    "        min_fix = [99999] #occurs if no fixation\n",
    "        \n",
    "    zoo.append(min_fix)\n",
    "\n",
    "current_time = time.time()\n",
    "elapsed_time = current_time - start_time\n",
    "print('processing time:',round(elapsed_time,2),'seconds')"
   ]
  },
  {
   "cell_type": "code",
   "execution_count": 66,
   "id": "bbe10128",
   "metadata": {},
   "outputs": [],
   "source": [
    "zoo2 = [f for sublist in zoo for f in sublist] #flatten\n",
    "sixmonth = next(x for x, val in enumerate(zoo2) if val <= 182.5) #within 6 months\n",
    "SIT_choose5wk = RR_vec[sixmonth]\n",
    "SIT_choose5wk = convert_RR(SIT_choose5wk)"
   ]
  },
  {
   "cell_type": "code",
   "execution_count": 67,
   "id": "2ef05d54",
   "metadata": {},
   "outputs": [],
   "source": [
    "switch = 0 #0 for SIT; 1 for RIDL\n",
    "\n",
    "def SIT(t, releasenumber=6, frequency=7, end=start_wol):    \n",
    "    for i in range(0,releasenumber,1):\n",
    "        if round(t) == (end-frequency) - (frequency*i):\n",
    "            return M0+F0\n",
    "    else:\n",
    "        return 0\n",
    "\n",
    "RRsupp = list(SIT_df.loc[SIT_df['Target efficacy'] == 77, 'RRsupp value'])\n",
    "RRsupp = RRsupp[0] "
   ]
  },
  {
   "cell_type": "code",
   "execution_count": 68,
   "id": "c6e2522e",
   "metadata": {},
   "outputs": [
    {
     "name": "stdout",
     "output_type": "stream",
     "text": [
      "processing time: 7.3 seconds\n"
     ]
    }
   ],
   "source": [
    "start_time = time.time()\n",
    "\n",
    "RR_vec = [0.00047,0.00134,0.00258,0.00418,0.00612,0.00842,0.01108,0.01408,0.01745,0.02115,0.0252,0.0296,0.03437,0.03945,0.04495,0.0507,0.0569,0.0634,0.0703,0.0775,0.085,0.093,0.10125,0.1098,0.1188,0.1281,0.1378,0.1478,0.1582,0.169,0.18,0.1915,0.203,0.215,0.2277,0.2405,0.2538,0.2672,0.2811,0.2953]\n",
    "zoo = [] #capture results here\n",
    "start_wol = 200\n",
    "\n",
    "for i in RR_vec:\n",
    "        \n",
    "    RR = i\n",
    "        \n",
    "    # run the model\n",
    "    t = np.linspace(0, 1500, 1501) # Grid of time points (in days)\n",
    "    y0 = O0, OW0, rOW0, OS0, L0, LW0, rLW0, LS0, P0, PW0, rPW0, PS0, M0, MW0, MS0, F0, FW0 # Init condition vector\n",
    "    ret = odeint(deriv, y0, t,args=(fCI, MT, c, e, phi, alphaO, muO, AA, BB, alphaL, alphaP, muP, muM, muF, RR, RRsupp, pulseN, IIT, SIT, em, lv, ad, cv, switch),hmax=1)\n",
    "    O, OW, rOW, OS, L, LW, rLW, LS, P, PW, rPW, PS, M, MW, MS, F, FW = ret.T\n",
    "\n",
    "    # get output\n",
    "    total = MW+FW+M+F\n",
    "    prop = (MW+FW)/(MW+FW+M+F)\n",
    "    \n",
    "    \n",
    "    fix = np.argwhere(prop > 0.95)\n",
    "    if sum(fix) > 0:\n",
    "        min_fix = min(fix)-start_wol\n",
    "        min_fix = min_fix.tolist()\n",
    "    else:\n",
    "        min_fix = [99999] #occurs if no fixation\n",
    "        \n",
    "    zoo.append(min_fix)\n",
    "\n",
    "current_time = time.time()\n",
    "elapsed_time = current_time - start_time\n",
    "print('processing time:',round(elapsed_time,2),'seconds')"
   ]
  },
  {
   "cell_type": "code",
   "execution_count": 69,
   "id": "ce8c889e",
   "metadata": {},
   "outputs": [],
   "source": [
    "zoo2 = [f for sublist in zoo for f in sublist] #flatten\n",
    "sixmonth = next(x for x, val in enumerate(zoo2) if val <= 182.5) #within 6 months\n",
    "SIT_choose6wk = RR_vec[sixmonth]\n",
    "SIT_choose6wk = convert_RR(SIT_choose6wk)"
   ]
  },
  {
   "cell_type": "code",
   "execution_count": 70,
   "id": "c74333c0",
   "metadata": {},
   "outputs": [],
   "source": [
    "switch = 0 #0 for SIT; 1 for RIDL\n",
    "\n",
    "def SIT(t, releasenumber=7, frequency=7, end=start_wol):    \n",
    "    for i in range(0,releasenumber,1):\n",
    "        if round(t) == (end-frequency) - (frequency*i):\n",
    "            return M0+F0\n",
    "    else:\n",
    "        return 0\n",
    "\n",
    "RRsupp = list(SIT_df.loc[SIT_df['Target efficacy'] == 77, 'RRsupp value'])\n",
    "RRsupp = RRsupp[0] "
   ]
  },
  {
   "cell_type": "code",
   "execution_count": 71,
   "id": "2052f89f",
   "metadata": {},
   "outputs": [
    {
     "name": "stdout",
     "output_type": "stream",
     "text": [
      "processing time: 7.48 seconds\n"
     ]
    }
   ],
   "source": [
    "start_time = time.time()\n",
    "\n",
    "RR_vec = [0.00047,0.00134,0.00258,0.00418,0.00612,0.00842,0.01108,0.01408,0.01745,0.02115,0.0252,0.0296,0.03437,0.03945,0.04495,0.0507,0.0569,0.0634,0.0703,0.0775,0.085,0.093,0.10125,0.1098,0.1188,0.1281,0.1378,0.1478,0.1582,0.169,0.18,0.1915,0.203,0.215,0.2277,0.2405,0.2538,0.2672,0.2811,0.2953]\n",
    "zoo = [] #capture results here\n",
    "start_wol = 200\n",
    "\n",
    "for i in RR_vec:\n",
    "        \n",
    "    RR = i\n",
    "        \n",
    "    # run the model\n",
    "    t = np.linspace(0, 1500, 1501) # Grid of time points (in days)\n",
    "    y0 = O0, OW0, rOW0, OS0, L0, LW0, rLW0, LS0, P0, PW0, rPW0, PS0, M0, MW0, MS0, F0, FW0 # Init condition vector\n",
    "    ret = odeint(deriv, y0, t,args=(fCI, MT, c, e, phi, alphaO, muO, AA, BB, alphaL, alphaP, muP, muM, muF, RR, RRsupp, pulseN, IIT, SIT, em, lv, ad, cv, switch),hmax=1)\n",
    "    O, OW, rOW, OS, L, LW, rLW, LS, P, PW, rPW, PS, M, MW, MS, F, FW = ret.T\n",
    "\n",
    "    # get output\n",
    "    total = MW+FW+M+F\n",
    "    prop = (MW+FW)/(MW+FW+M+F)\n",
    "    \n",
    "    \n",
    "    fix = np.argwhere(prop > 0.95)\n",
    "    if sum(fix) > 0:\n",
    "        min_fix = min(fix)-start_wol\n",
    "        min_fix = min_fix.tolist()\n",
    "    else:\n",
    "        min_fix = [99999] #occurs if no fixation\n",
    "        \n",
    "    zoo.append(min_fix)\n",
    "\n",
    "current_time = time.time()\n",
    "elapsed_time = current_time - start_time\n",
    "print('processing time:',round(elapsed_time,2),'seconds')"
   ]
  },
  {
   "cell_type": "code",
   "execution_count": 72,
   "id": "fa16ad5f",
   "metadata": {},
   "outputs": [],
   "source": [
    "zoo2 = [f for sublist in zoo for f in sublist] #flatten\n",
    "sixmonth = next(x for x, val in enumerate(zoo2) if val <= 182.5) #within 6 months\n",
    "SIT_choose7wk = RR_vec[sixmonth]\n",
    "SIT_choose7wk = convert_RR(SIT_choose7wk)"
   ]
  },
  {
   "cell_type": "code",
   "execution_count": 73,
   "id": "c856838b",
   "metadata": {},
   "outputs": [],
   "source": [
    "switch = 0 #0 for SIT; 1 for RIDL\n",
    "\n",
    "def SIT(t, releasenumber=8, frequency=7, end=start_wol):    \n",
    "    for i in range(0,releasenumber,1):\n",
    "        if round(t) == (end-frequency) - (frequency*i):\n",
    "            return M0+F0\n",
    "    else:\n",
    "        return 0\n",
    "\n",
    "RRsupp = list(SIT_df.loc[SIT_df['Target efficacy'] == 77, 'RRsupp value'])\n",
    "RRsupp = RRsupp[0] "
   ]
  },
  {
   "cell_type": "code",
   "execution_count": 74,
   "id": "a8d87a28",
   "metadata": {},
   "outputs": [
    {
     "name": "stdout",
     "output_type": "stream",
     "text": [
      "processing time: 7.81 seconds\n"
     ]
    }
   ],
   "source": [
    "start_time = time.time()\n",
    "\n",
    "RR_vec = [0.00047,0.00134,0.00258,0.00418,0.00612,0.00842,0.01108,0.01408,0.01745,0.02115,0.0252,0.0296,0.03437,0.03945,0.04495,0.0507,0.0569,0.0634,0.0703,0.0775,0.085,0.093,0.10125,0.1098,0.1188,0.1281,0.1378,0.1478,0.1582,0.169,0.18,0.1915,0.203,0.215,0.2277,0.2405,0.2538,0.2672,0.2811,0.2953]\n",
    "zoo = [] #capture results here\n",
    "start_wol = 200\n",
    "\n",
    "for i in RR_vec:\n",
    "        \n",
    "    RR = i\n",
    "        \n",
    "    # run the model\n",
    "    t = np.linspace(0, 1500, 1501) # Grid of time points (in days)\n",
    "    y0 = O0, OW0, rOW0, OS0, L0, LW0, rLW0, LS0, P0, PW0, rPW0, PS0, M0, MW0, MS0, F0, FW0 # Init condition vector\n",
    "    ret = odeint(deriv, y0, t,args=(fCI, MT, c, e, phi, alphaO, muO, AA, BB, alphaL, alphaP, muP, muM, muF, RR, RRsupp, pulseN, IIT, SIT, em, lv, ad, cv, switch),hmax=1)\n",
    "    O, OW, rOW, OS, L, LW, rLW, LS, P, PW, rPW, PS, M, MW, MS, F, FW = ret.T\n",
    "\n",
    "    # get output\n",
    "    total = MW+FW+M+F\n",
    "    prop = (MW+FW)/(MW+FW+M+F)\n",
    "    \n",
    "    \n",
    "    fix = np.argwhere(prop > 0.95)\n",
    "    if sum(fix) > 0:\n",
    "        min_fix = min(fix)-start_wol\n",
    "        min_fix = min_fix.tolist()\n",
    "    else:\n",
    "        min_fix = [99999] #occurs if no fixation\n",
    "        \n",
    "    zoo.append(min_fix)\n",
    "\n",
    "current_time = time.time()\n",
    "elapsed_time = current_time - start_time\n",
    "print('processing time:',round(elapsed_time,2),'seconds')"
   ]
  },
  {
   "cell_type": "code",
   "execution_count": 75,
   "id": "531589c9",
   "metadata": {},
   "outputs": [],
   "source": [
    "zoo2 = [f for sublist in zoo for f in sublist] #flatten\n",
    "sixmonth = next(x for x, val in enumerate(zoo2) if val <= 182.5) #within 6 months\n",
    "SIT_choose8wk = RR_vec[sixmonth]\n",
    "SIT_choose8wk = convert_RR(SIT_choose8wk)"
   ]
  },
  {
   "cell_type": "code",
   "execution_count": 76,
   "id": "3c98c00c",
   "metadata": {},
   "outputs": [],
   "source": [
    "switch = 0 #0 for SIT; 1 for RIDL\n",
    "\n",
    "def SIT(t, releasenumber=9, frequency=7, end=start_wol):    \n",
    "    for i in range(0,releasenumber,1):\n",
    "        if round(t) == (end-frequency) - (frequency*i):\n",
    "            return M0+F0\n",
    "    else:\n",
    "        return 0\n",
    "\n",
    "RRsupp = list(SIT_df.loc[SIT_df['Target efficacy'] == 77, 'RRsupp value'])\n",
    "RRsupp = RRsupp[0] "
   ]
  },
  {
   "cell_type": "code",
   "execution_count": 77,
   "id": "eb70a0bc",
   "metadata": {},
   "outputs": [
    {
     "name": "stdout",
     "output_type": "stream",
     "text": [
      "processing time: 7.93 seconds\n"
     ]
    }
   ],
   "source": [
    "start_time = time.time()\n",
    "\n",
    "RR_vec = [0.00047,0.00134,0.00258,0.00418,0.00612,0.00842,0.01108,0.01408,0.01745,0.02115,0.0252,0.0296,0.03437,0.03945,0.04495,0.0507,0.0569,0.0634,0.0703,0.0775,0.085,0.093,0.10125,0.1098,0.1188,0.1281,0.1378,0.1478,0.1582,0.169,0.18,0.1915,0.203,0.215,0.2277,0.2405,0.2538,0.2672,0.2811,0.2953]\n",
    "zoo = [] #capture results here\n",
    "start_wol = 200\n",
    "\n",
    "for i in RR_vec:\n",
    "        \n",
    "    RR = i\n",
    "        \n",
    "    # run the model\n",
    "    t = np.linspace(0, 1500, 1501) # Grid of time points (in days)\n",
    "    y0 = O0, OW0, rOW0, OS0, L0, LW0, rLW0, LS0, P0, PW0, rPW0, PS0, M0, MW0, MS0, F0, FW0 # Init condition vector\n",
    "    ret = odeint(deriv, y0, t,args=(fCI, MT, c, e, phi, alphaO, muO, AA, BB, alphaL, alphaP, muP, muM, muF, RR, RRsupp, pulseN, IIT, SIT, em, lv, ad, cv, switch),hmax=1)\n",
    "    O, OW, rOW, OS, L, LW, rLW, LS, P, PW, rPW, PS, M, MW, MS, F, FW = ret.T\n",
    "\n",
    "    # get output\n",
    "    total = MW+FW+M+F\n",
    "    prop = (MW+FW)/(MW+FW+M+F)\n",
    "    \n",
    "    \n",
    "    fix = np.argwhere(prop > 0.95)\n",
    "    if sum(fix) > 0:\n",
    "        min_fix = min(fix)-start_wol\n",
    "        min_fix = min_fix.tolist()\n",
    "    else:\n",
    "        min_fix = [99999] #occurs if no fixation\n",
    "        \n",
    "    zoo.append(min_fix)\n",
    "\n",
    "current_time = time.time()\n",
    "elapsed_time = current_time - start_time\n",
    "print('processing time:',round(elapsed_time,2),'seconds')"
   ]
  },
  {
   "cell_type": "code",
   "execution_count": 78,
   "id": "df5bfbb6",
   "metadata": {},
   "outputs": [],
   "source": [
    "zoo2 = [f for sublist in zoo for f in sublist] #flatten\n",
    "sixmonth = next(x for x, val in enumerate(zoo2) if val <= 182.5) #within 6 months\n",
    "SIT_choose9wk = RR_vec[sixmonth]\n",
    "SIT_choose9wk = convert_RR(SIT_choose9wk)"
   ]
  },
  {
   "cell_type": "code",
   "execution_count": 79,
   "id": "86b22072",
   "metadata": {},
   "outputs": [],
   "source": [
    "switch = 0 #0 for SIT; 1 for RIDL\n",
    "\n",
    "def SIT(t, releasenumber=10, frequency=7, end=start_wol):    \n",
    "    for i in range(0,releasenumber,1):\n",
    "        if round(t) == (end-frequency) - (frequency*i):\n",
    "            return M0+F0\n",
    "    else:\n",
    "        return 0\n",
    "\n",
    "RRsupp = list(SIT_df.loc[SIT_df['Target efficacy'] == 77, 'RRsupp value'])\n",
    "RRsupp = RRsupp[0] "
   ]
  },
  {
   "cell_type": "code",
   "execution_count": 80,
   "id": "0ec679f1",
   "metadata": {},
   "outputs": [
    {
     "name": "stdout",
     "output_type": "stream",
     "text": [
      "processing time: 8.34 seconds\n"
     ]
    }
   ],
   "source": [
    "start_time = time.time()\n",
    "\n",
    "RR_vec = [0.00047,0.00134,0.00258,0.00418,0.00612,0.00842,0.01108,0.01408,0.01745,0.02115,0.0252,0.0296,0.03437,0.03945,0.04495,0.0507,0.0569,0.0634,0.0703,0.0775,0.085,0.093,0.10125,0.1098,0.1188,0.1281,0.1378,0.1478,0.1582,0.169,0.18,0.1915,0.203,0.215,0.2277,0.2405,0.2538,0.2672,0.2811,0.2953]\n",
    "zoo = [] #capture results here\n",
    "start_wol = 200\n",
    "\n",
    "for i in RR_vec:\n",
    "        \n",
    "    RR = i\n",
    "        \n",
    "    # run the model\n",
    "    t = np.linspace(0, 1500, 1501) # Grid of time points (in days)\n",
    "    y0 = O0, OW0, rOW0, OS0, L0, LW0, rLW0, LS0, P0, PW0, rPW0, PS0, M0, MW0, MS0, F0, FW0 # Init condition vector\n",
    "    ret = odeint(deriv, y0, t,args=(fCI, MT, c, e, phi, alphaO, muO, AA, BB, alphaL, alphaP, muP, muM, muF, RR, RRsupp, pulseN, IIT, SIT, em, lv, ad, cv, switch),hmax=1)\n",
    "    O, OW, rOW, OS, L, LW, rLW, LS, P, PW, rPW, PS, M, MW, MS, F, FW = ret.T\n",
    "\n",
    "    # get output\n",
    "    total = MW+FW+M+F\n",
    "    prop = (MW+FW)/(MW+FW+M+F)\n",
    "    \n",
    "    \n",
    "    fix = np.argwhere(prop > 0.95)\n",
    "    if sum(fix) > 0:\n",
    "        min_fix = min(fix)-start_wol\n",
    "        min_fix = min_fix.tolist()\n",
    "    else:\n",
    "        min_fix = [99999] #occurs if no fixation\n",
    "        \n",
    "    zoo.append(min_fix)\n",
    "\n",
    "current_time = time.time()\n",
    "elapsed_time = current_time - start_time\n",
    "print('processing time:',round(elapsed_time,2),'seconds')"
   ]
  },
  {
   "cell_type": "code",
   "execution_count": 81,
   "id": "0f3c7417",
   "metadata": {},
   "outputs": [],
   "source": [
    "zoo2 = [f for sublist in zoo for f in sublist] #flatten\n",
    "sixmonth = next(x for x, val in enumerate(zoo2) if val <= 182.5) #within 6 months\n",
    "SIT_choose10wk = RR_vec[sixmonth]\n",
    "SIT_choose10wk = convert_RR(SIT_choose10wk)"
   ]
  },
  {
   "cell_type": "markdown",
   "id": "fe3b681a",
   "metadata": {},
   "source": [
    "Store results:"
   ]
  },
  {
   "cell_type": "code",
   "execution_count": 82,
   "id": "4ff133f3",
   "metadata": {},
   "outputs": [
    {
     "data": {
      "text/html": [
       "<div>\n",
       "<style scoped>\n",
       "    .dataframe tbody tr th:only-of-type {\n",
       "        vertical-align: middle;\n",
       "    }\n",
       "\n",
       "    .dataframe tbody tr th {\n",
       "        vertical-align: top;\n",
       "    }\n",
       "\n",
       "    .dataframe thead th {\n",
       "        text-align: right;\n",
       "    }\n",
       "</style>\n",
       "<table border=\"1\" class=\"dataframe\">\n",
       "  <thead>\n",
       "    <tr style=\"text-align: right;\">\n",
       "      <th></th>\n",
       "      <th>Suppression type</th>\n",
       "      <th>1wk</th>\n",
       "      <th>2wk</th>\n",
       "      <th>3wk</th>\n",
       "      <th>4wk</th>\n",
       "      <th>5wk</th>\n",
       "      <th>6wk</th>\n",
       "      <th>7wk</th>\n",
       "      <th>8wk</th>\n",
       "      <th>9wk</th>\n",
       "      <th>10wk</th>\n",
       "    </tr>\n",
       "  </thead>\n",
       "  <tbody>\n",
       "    <tr>\n",
       "      <th>0</th>\n",
       "      <td>RIDL</td>\n",
       "      <td>0.0675</td>\n",
       "      <td>0.0600</td>\n",
       "      <td>0.0525</td>\n",
       "      <td>0.0475</td>\n",
       "      <td>0.0425</td>\n",
       "      <td>0.0075</td>\n",
       "      <td>0.005</td>\n",
       "      <td>0.0025</td>\n",
       "      <td>0.0025</td>\n",
       "      <td>0.0025</td>\n",
       "    </tr>\n",
       "    <tr>\n",
       "      <th>1</th>\n",
       "      <td>SIT</td>\n",
       "      <td>0.0650</td>\n",
       "      <td>0.0575</td>\n",
       "      <td>0.0500</td>\n",
       "      <td>0.0450</td>\n",
       "      <td>0.0400</td>\n",
       "      <td>0.0075</td>\n",
       "      <td>0.005</td>\n",
       "      <td>0.0050</td>\n",
       "      <td>0.0025</td>\n",
       "      <td>0.0025</td>\n",
       "    </tr>\n",
       "  </tbody>\n",
       "</table>\n",
       "</div>"
      ],
      "text/plain": [
       "  Suppression type     1wk     2wk     3wk     4wk     5wk     6wk    7wk  \\\n",
       "0             RIDL  0.0675  0.0600  0.0525  0.0475  0.0425  0.0075  0.005   \n",
       "1              SIT  0.0650  0.0575  0.0500  0.0450  0.0400  0.0075  0.005   \n",
       "\n",
       "      8wk     9wk    10wk  \n",
       "0  0.0025  0.0025  0.0025  \n",
       "1  0.0050  0.0025  0.0025  "
      ]
     },
     "execution_count": 82,
     "metadata": {},
     "output_type": "execute_result"
    }
   ],
   "source": [
    "SIT_week = {'Suppression type': 'SIT', '1wk': SIT_choose1wk, '2wk': SIT_choose2wk, '3wk': SIT_choose3wk,\n",
    "           '4wk': SIT_choose4wk, '5wk': SIT_choose5wk, '6wk': SIT_choose6wk, '7wk': SIT_choose7wk,\n",
    "           '8wk': SIT_choose8wk, '9wk': SIT_choose9wk, '10wk': SIT_choose10wk}\n",
    "weekfig_df = weekfig_df.append(SIT_week, ignore_index=True)\n",
    "\n",
    "weekfig_df"
   ]
  },
  {
   "cell_type": "code",
   "execution_count": 83,
   "id": "0c15daa0",
   "metadata": {},
   "outputs": [],
   "source": [
    "# switch off\n",
    "\n",
    "switch = 0 #0 for SIT; 1 for RIDL\n",
    "\n",
    "def SIT(t, releasenumber=5, frequency=7, end=start_wol):    \n",
    "    for i in range(0,releasenumber,1):\n",
    "        if round(t) == (end-frequency) - (frequency*i):\n",
    "            return 0 #M0+F0\n",
    "    else:\n",
    "        return 0"
   ]
  },
  {
   "cell_type": "markdown",
   "id": "f8a3e298",
   "metadata": {},
   "source": [
    "### IIT:"
   ]
  },
  {
   "cell_type": "code",
   "execution_count": 86,
   "id": "d7955ebc",
   "metadata": {},
   "outputs": [],
   "source": [
    "IIT_df = pd.read_csv(f'{filepath}/IIT_df_01-02-24.csv')"
   ]
  },
  {
   "cell_type": "code",
   "execution_count": 87,
   "id": "c239330c",
   "metadata": {},
   "outputs": [],
   "source": [
    "def IIT(t, releasenumber=1, frequency=7, end=start_wol):\n",
    "    for i in range(0,releasenumber,1):\n",
    "        if round(t) == (end-frequency) - (frequency*i):\n",
    "            return M0+F0\n",
    "    else:\n",
    "        return 0\n",
    "        \n",
    "RRsupp = list(IIT_df.loc[IIT_df['Target efficacy'] == 65, 'RRsupp value'])\n",
    "RRsupp = RRsupp[0] "
   ]
  },
  {
   "cell_type": "code",
   "execution_count": 88,
   "id": "921baa6a",
   "metadata": {},
   "outputs": [
    {
     "name": "stdout",
     "output_type": "stream",
     "text": [
      "processing time: 5.93 seconds\n"
     ]
    }
   ],
   "source": [
    "start_time = time.time()\n",
    "\n",
    "RR_vec = [0.00047,0.00134,0.00258,0.00418,0.00612,0.00842,0.01108,0.01408,0.01745,0.02115,0.0252,0.0296,0.03437,0.03945,0.04495,0.0507,0.0569,0.0634,0.0703,0.0775,0.085,0.093,0.10125,0.1098,0.1188,0.1281,0.1378,0.1478,0.1582,0.169,0.18,0.1915,0.203,0.215,0.2277,0.2405,0.2538,0.2672,0.2811,0.2953]\n",
    "zoo = [] #capture results here\n",
    "start_wol = 200\n",
    "\n",
    "for i in RR_vec:\n",
    "        \n",
    "    RR = i\n",
    "        \n",
    "    # run the model\n",
    "    t = np.linspace(0, 1500, 1501) # Grid of time points (in days)\n",
    "    y0 = O0, OW0, rOW0, OS0, L0, LW0, rLW0, LS0, P0, PW0, rPW0, PS0, M0, MW0, MS0, F0, FW0 # Init condition vector\n",
    "    ret = odeint(deriv, y0, t,args=(fCI, MT, c, e, phi, alphaO, muO, AA, BB, alphaL, alphaP, muP, muM, muF, RR, RRsupp, pulseN, IIT, SIT, em, lv, ad, cv, switch),hmax=1)\n",
    "    O, OW, rOW, OS, L, LW, rLW, LS, P, PW, rPW, PS, M, MW, MS, F, FW = ret.T\n",
    "\n",
    "    # get output\n",
    "    total = MW+FW+M+F\n",
    "    prop = (MW+FW)/(MW+FW+M+F)\n",
    "    \n",
    "    \n",
    "    fix = np.argwhere(prop > 0.95)\n",
    "    if sum(fix) > 0:\n",
    "        min_fix = min(fix)-start_wol\n",
    "        min_fix = min_fix.tolist()\n",
    "    else:\n",
    "        min_fix = [99999] #occurs if no fixation\n",
    "        \n",
    "    zoo.append(min_fix)\n",
    "\n",
    "current_time = time.time()\n",
    "elapsed_time = current_time - start_time\n",
    "print('processing time:',round(elapsed_time,2),'seconds')"
   ]
  },
  {
   "cell_type": "code",
   "execution_count": 89,
   "id": "c35336c9",
   "metadata": {},
   "outputs": [],
   "source": [
    "zoo2 = [f for sublist in zoo for f in sublist] #flatten\n",
    "sixmonth = next(x for x, val in enumerate(zoo2) if val <= 182.5) #within 6 months\n",
    "IIT_choose1wk = RR_vec[sixmonth]\n",
    "IIT_choose1wk = convert_RR(IIT_choose1wk)"
   ]
  },
  {
   "cell_type": "code",
   "execution_count": 90,
   "id": "57c7ec2e",
   "metadata": {},
   "outputs": [],
   "source": [
    "def IIT(t, releasenumber=2, frequency=7, end=start_wol):\n",
    "    for i in range(0,releasenumber,1):\n",
    "        if round(t) == (end-frequency) - (frequency*i):\n",
    "            return M0+F0\n",
    "    else:\n",
    "        return 0\n",
    "        \n",
    "RRsupp = list(IIT_df.loc[IIT_df['Target efficacy'] == 65, 'RRsupp value'])\n",
    "RRsupp = RRsupp[0] "
   ]
  },
  {
   "cell_type": "code",
   "execution_count": 91,
   "id": "5bb45855",
   "metadata": {},
   "outputs": [
    {
     "name": "stdout",
     "output_type": "stream",
     "text": [
      "processing time: 6.1 seconds\n"
     ]
    }
   ],
   "source": [
    "start_time = time.time()\n",
    "\n",
    "RR_vec = [0.00047,0.00134,0.00258,0.00418,0.00612,0.00842,0.01108,0.01408,0.01745,0.02115,0.0252,0.0296,0.03437,0.03945,0.04495,0.0507,0.0569,0.0634,0.0703,0.0775,0.085,0.093,0.10125,0.1098,0.1188,0.1281,0.1378,0.1478,0.1582,0.169,0.18,0.1915,0.203,0.215,0.2277,0.2405,0.2538,0.2672,0.2811,0.2953]\n",
    "zoo = [] #capture results here\n",
    "start_wol = 200\n",
    "\n",
    "for i in RR_vec:\n",
    "        \n",
    "    RR = i\n",
    "        \n",
    "    # run the model\n",
    "    t = np.linspace(0, 1500, 1501) # Grid of time points (in days)\n",
    "    y0 = O0, OW0, rOW0, OS0, L0, LW0, rLW0, LS0, P0, PW0, rPW0, PS0, M0, MW0, MS0, F0, FW0 # Init condition vector\n",
    "    ret = odeint(deriv, y0, t,args=(fCI, MT, c, e, phi, alphaO, muO, AA, BB, alphaL, alphaP, muP, muM, muF, RR, RRsupp, pulseN, IIT, SIT, em, lv, ad, cv, switch),hmax=1)\n",
    "    O, OW, rOW, OS, L, LW, rLW, LS, P, PW, rPW, PS, M, MW, MS, F, FW = ret.T\n",
    "\n",
    "    # get output\n",
    "    total = MW+FW+M+F\n",
    "    prop = (MW+FW)/(MW+FW+M+F)\n",
    "    \n",
    "    \n",
    "    fix = np.argwhere(prop > 0.95)\n",
    "    if sum(fix) > 0:\n",
    "        min_fix = min(fix)-start_wol\n",
    "        min_fix = min_fix.tolist()\n",
    "    else:\n",
    "        min_fix = [99999] #occurs if no fixation\n",
    "        \n",
    "    zoo.append(min_fix)\n",
    "\n",
    "current_time = time.time()\n",
    "elapsed_time = current_time - start_time\n",
    "print('processing time:',round(elapsed_time,2),'seconds')"
   ]
  },
  {
   "cell_type": "code",
   "execution_count": 92,
   "id": "dc1b0718",
   "metadata": {},
   "outputs": [],
   "source": [
    "zoo2 = [f for sublist in zoo for f in sublist] #flatten\n",
    "sixmonth = next(x for x, val in enumerate(zoo2) if val <= 182.5) #within 6 months\n",
    "IIT_choose2wk = RR_vec[sixmonth]\n",
    "IIT_choose2wk = convert_RR(IIT_choose2wk)"
   ]
  },
  {
   "cell_type": "code",
   "execution_count": 93,
   "id": "18d79d54",
   "metadata": {},
   "outputs": [],
   "source": [
    "def IIT(t, releasenumber=3, frequency=7, end=start_wol):\n",
    "    for i in range(0,releasenumber,1):\n",
    "        if round(t) == (end-frequency) - (frequency*i):\n",
    "            return M0+F0\n",
    "    else:\n",
    "        return 0\n",
    "        \n",
    "RRsupp = list(IIT_df.loc[IIT_df['Target efficacy'] == 65, 'RRsupp value'])\n",
    "RRsupp = RRsupp[0] "
   ]
  },
  {
   "cell_type": "code",
   "execution_count": 94,
   "id": "6d7f3986",
   "metadata": {},
   "outputs": [
    {
     "name": "stdout",
     "output_type": "stream",
     "text": [
      "processing time: 6.49 seconds\n"
     ]
    }
   ],
   "source": [
    "start_time = time.time()\n",
    "\n",
    "RR_vec = [0.00047,0.00134,0.00258,0.00418,0.00612,0.00842,0.01108,0.01408,0.01745,0.02115,0.0252,0.0296,0.03437,0.03945,0.04495,0.0507,0.0569,0.0634,0.0703,0.0775,0.085,0.093,0.10125,0.1098,0.1188,0.1281,0.1378,0.1478,0.1582,0.169,0.18,0.1915,0.203,0.215,0.2277,0.2405,0.2538,0.2672,0.2811,0.2953]\n",
    "zoo = [] #capture results here\n",
    "start_wol = 200\n",
    "\n",
    "for i in RR_vec:\n",
    "        \n",
    "    RR = i\n",
    "        \n",
    "    # run the model\n",
    "    t = np.linspace(0, 1500, 1501) # Grid of time points (in days)\n",
    "    y0 = O0, OW0, rOW0, OS0, L0, LW0, rLW0, LS0, P0, PW0, rPW0, PS0, M0, MW0, MS0, F0, FW0 # Init condition vector\n",
    "    ret = odeint(deriv, y0, t,args=(fCI, MT, c, e, phi, alphaO, muO, AA, BB, alphaL, alphaP, muP, muM, muF, RR, RRsupp, pulseN, IIT, SIT, em, lv, ad, cv, switch),hmax=1)\n",
    "    O, OW, rOW, OS, L, LW, rLW, LS, P, PW, rPW, PS, M, MW, MS, F, FW = ret.T\n",
    "\n",
    "    # get output\n",
    "    total = MW+FW+M+F\n",
    "    prop = (MW+FW)/(MW+FW+M+F)\n",
    "    \n",
    "    \n",
    "    fix = np.argwhere(prop > 0.95)\n",
    "    if sum(fix) > 0:\n",
    "        min_fix = min(fix)-start_wol\n",
    "        min_fix = min_fix.tolist()\n",
    "    else:\n",
    "        min_fix = [99999] #occurs if no fixation\n",
    "        \n",
    "    zoo.append(min_fix)\n",
    "\n",
    "current_time = time.time()\n",
    "elapsed_time = current_time - start_time\n",
    "print('processing time:',round(elapsed_time,2),'seconds')"
   ]
  },
  {
   "cell_type": "code",
   "execution_count": 95,
   "id": "ea104c08",
   "metadata": {},
   "outputs": [],
   "source": [
    "zoo2 = [f for sublist in zoo for f in sublist] #flatten\n",
    "sixmonth = next(x for x, val in enumerate(zoo2) if val <= 182.5) #within 6 months\n",
    "IIT_choose3wk = RR_vec[sixmonth]\n",
    "IIT_choose3wk = convert_RR(IIT_choose3wk)"
   ]
  },
  {
   "cell_type": "code",
   "execution_count": 96,
   "id": "a8b83ee6",
   "metadata": {},
   "outputs": [],
   "source": [
    "def IIT(t, releasenumber=4, frequency=7, end=start_wol):\n",
    "    for i in range(0,releasenumber,1):\n",
    "        if round(t) == (end-frequency) - (frequency*i):\n",
    "            return M0+F0\n",
    "    else:\n",
    "        return 0\n",
    "        \n",
    "RRsupp = list(IIT_df.loc[IIT_df['Target efficacy'] == 65, 'RRsupp value'])\n",
    "RRsupp = RRsupp[0] "
   ]
  },
  {
   "cell_type": "code",
   "execution_count": 97,
   "id": "7eeec1ed",
   "metadata": {},
   "outputs": [
    {
     "name": "stdout",
     "output_type": "stream",
     "text": [
      "processing time: 6.73 seconds\n"
     ]
    }
   ],
   "source": [
    "start_time = time.time()\n",
    "\n",
    "RR_vec = [0.00047,0.00134,0.00258,0.00418,0.00612,0.00842,0.01108,0.01408,0.01745,0.02115,0.0252,0.0296,0.03437,0.03945,0.04495,0.0507,0.0569,0.0634,0.0703,0.0775,0.085,0.093,0.10125,0.1098,0.1188,0.1281,0.1378,0.1478,0.1582,0.169,0.18,0.1915,0.203,0.215,0.2277,0.2405,0.2538,0.2672,0.2811,0.2953]\n",
    "zoo = [] #capture results here\n",
    "start_wol = 200\n",
    "\n",
    "for i in RR_vec:\n",
    "        \n",
    "    RR = i\n",
    "        \n",
    "    # run the model\n",
    "    t = np.linspace(0, 1500, 1501) # Grid of time points (in days)\n",
    "    y0 = O0, OW0, rOW0, OS0, L0, LW0, rLW0, LS0, P0, PW0, rPW0, PS0, M0, MW0, MS0, F0, FW0 # Init condition vector\n",
    "    ret = odeint(deriv, y0, t,args=(fCI, MT, c, e, phi, alphaO, muO, AA, BB, alphaL, alphaP, muP, muM, muF, RR, RRsupp, pulseN, IIT, SIT, em, lv, ad, cv, switch),hmax=1)\n",
    "    O, OW, rOW, OS, L, LW, rLW, LS, P, PW, rPW, PS, M, MW, MS, F, FW = ret.T\n",
    "\n",
    "    # get output\n",
    "    total = MW+FW+M+F\n",
    "    prop = (MW+FW)/(MW+FW+M+F)\n",
    "    \n",
    "    \n",
    "    fix = np.argwhere(prop > 0.95)\n",
    "    if sum(fix) > 0:\n",
    "        min_fix = min(fix)-start_wol\n",
    "        min_fix = min_fix.tolist()\n",
    "    else:\n",
    "        min_fix = [99999] #occurs if no fixation\n",
    "        \n",
    "    zoo.append(min_fix)\n",
    "\n",
    "current_time = time.time()\n",
    "elapsed_time = current_time - start_time\n",
    "print('processing time:',round(elapsed_time,2),'seconds')"
   ]
  },
  {
   "cell_type": "code",
   "execution_count": 98,
   "id": "f56b58a5",
   "metadata": {},
   "outputs": [],
   "source": [
    "zoo2 = [f for sublist in zoo for f in sublist] #flatten\n",
    "sixmonth = next(x for x, val in enumerate(zoo2) if val <= 182.5) #within 6 months\n",
    "IIT_choose4wk = RR_vec[sixmonth]\n",
    "IIT_choose4wk = convert_RR(IIT_choose4wk)"
   ]
  },
  {
   "cell_type": "code",
   "execution_count": 99,
   "id": "fe8e849b",
   "metadata": {},
   "outputs": [],
   "source": [
    "def IIT(t, releasenumber=5, frequency=7, end=start_wol):\n",
    "    for i in range(0,releasenumber,1):\n",
    "        if round(t) == (end-frequency) - (frequency*i):\n",
    "            return M0+F0\n",
    "    else:\n",
    "        return 0\n",
    "        \n",
    "RRsupp = list(IIT_df.loc[IIT_df['Target efficacy'] == 65, 'RRsupp value'])\n",
    "RRsupp = RRsupp[0] "
   ]
  },
  {
   "cell_type": "code",
   "execution_count": 100,
   "id": "d79d7a98",
   "metadata": {},
   "outputs": [
    {
     "name": "stdout",
     "output_type": "stream",
     "text": [
      "processing time: 6.89 seconds\n"
     ]
    }
   ],
   "source": [
    "start_time = time.time()\n",
    "\n",
    "RR_vec = [0.00047,0.00134,0.00258,0.00418,0.00612,0.00842,0.01108,0.01408,0.01745,0.02115,0.0252,0.0296,0.03437,0.03945,0.04495,0.0507,0.0569,0.0634,0.0703,0.0775,0.085,0.093,0.10125,0.1098,0.1188,0.1281,0.1378,0.1478,0.1582,0.169,0.18,0.1915,0.203,0.215,0.2277,0.2405,0.2538,0.2672,0.2811,0.2953]\n",
    "zoo = [] #capture results here\n",
    "start_wol = 200\n",
    "\n",
    "for i in RR_vec:\n",
    "        \n",
    "    RR = i\n",
    "        \n",
    "    # run the model\n",
    "    t = np.linspace(0, 1500, 1501) # Grid of time points (in days)\n",
    "    y0 = O0, OW0, rOW0, OS0, L0, LW0, rLW0, LS0, P0, PW0, rPW0, PS0, M0, MW0, MS0, F0, FW0 # Init condition vector\n",
    "    ret = odeint(deriv, y0, t,args=(fCI, MT, c, e, phi, alphaO, muO, AA, BB, alphaL, alphaP, muP, muM, muF, RR, RRsupp, pulseN, IIT, SIT, em, lv, ad, cv, switch),hmax=1)\n",
    "    O, OW, rOW, OS, L, LW, rLW, LS, P, PW, rPW, PS, M, MW, MS, F, FW = ret.T\n",
    "\n",
    "    # get output\n",
    "    total = MW+FW+M+F\n",
    "    prop = (MW+FW)/(MW+FW+M+F)\n",
    "    \n",
    "    \n",
    "    fix = np.argwhere(prop > 0.95)\n",
    "    if sum(fix) > 0:\n",
    "        min_fix = min(fix)-start_wol\n",
    "        min_fix = min_fix.tolist()\n",
    "    else:\n",
    "        min_fix = [99999] #occurs if no fixation\n",
    "        \n",
    "    zoo.append(min_fix)\n",
    "\n",
    "current_time = time.time()\n",
    "elapsed_time = current_time - start_time\n",
    "print('processing time:',round(elapsed_time,2),'seconds')"
   ]
  },
  {
   "cell_type": "code",
   "execution_count": 101,
   "id": "4087ea87",
   "metadata": {},
   "outputs": [],
   "source": [
    "zoo2 = [f for sublist in zoo for f in sublist] #flatten\n",
    "sixmonth = next(x for x, val in enumerate(zoo2) if val <= 182.5) #within 6 months\n",
    "IIT_choose5wk = RR_vec[sixmonth]\n",
    "IIT_choose5wk = convert_RR(IIT_choose5wk)"
   ]
  },
  {
   "cell_type": "code",
   "execution_count": 102,
   "id": "983064a3",
   "metadata": {},
   "outputs": [],
   "source": [
    "def IIT(t, releasenumber=6, frequency=7, end=start_wol):\n",
    "    for i in range(0,releasenumber,1):\n",
    "        if round(t) == (end-frequency) - (frequency*i):\n",
    "            return M0+F0\n",
    "    else:\n",
    "        return 0\n",
    "        \n",
    "RRsupp = list(IIT_df.loc[IIT_df['Target efficacy'] == 92, 'RRsupp value'])\n",
    "RRsupp = RRsupp[0] "
   ]
  },
  {
   "cell_type": "code",
   "execution_count": 103,
   "id": "24781749",
   "metadata": {},
   "outputs": [
    {
     "name": "stdout",
     "output_type": "stream",
     "text": [
      "processing time: 6.96 seconds\n"
     ]
    }
   ],
   "source": [
    "start_time = time.time()\n",
    "\n",
    "RR_vec = [0.00047,0.00134,0.00258,0.00418,0.00612,0.00842,0.01108,0.01408,0.01745,0.02115,0.0252,0.0296,0.03437,0.03945,0.04495,0.0507,0.0569,0.0634,0.0703,0.0775,0.085,0.093,0.10125,0.1098,0.1188,0.1281,0.1378,0.1478,0.1582,0.169,0.18,0.1915,0.203,0.215,0.2277,0.2405,0.2538,0.2672,0.2811,0.2953]\n",
    "zoo = [] #capture results here\n",
    "start_wol = 200\n",
    "\n",
    "for i in RR_vec:\n",
    "        \n",
    "    RR = i\n",
    "        \n",
    "    # run the model\n",
    "    t = np.linspace(0, 1500, 1501) # Grid of time points (in days)\n",
    "    y0 = O0, OW0, rOW0, OS0, L0, LW0, rLW0, LS0, P0, PW0, rPW0, PS0, M0, MW0, MS0, F0, FW0 # Init condition vector\n",
    "    ret = odeint(deriv, y0, t,args=(fCI, MT, c, e, phi, alphaO, muO, AA, BB, alphaL, alphaP, muP, muM, muF, RR, RRsupp, pulseN, IIT, SIT, em, lv, ad, cv, switch),hmax=1)\n",
    "    O, OW, rOW, OS, L, LW, rLW, LS, P, PW, rPW, PS, M, MW, MS, F, FW = ret.T\n",
    "\n",
    "    # get output\n",
    "    total = MW+FW+M+F\n",
    "    prop = (MW+FW)/(MW+FW+M+F)\n",
    "    \n",
    "    \n",
    "    fix = np.argwhere(prop > 0.95)\n",
    "    if sum(fix) > 0:\n",
    "        min_fix = min(fix)-start_wol\n",
    "        min_fix = min_fix.tolist()\n",
    "    else:\n",
    "        min_fix = [99999] #occurs if no fixation\n",
    "        \n",
    "    zoo.append(min_fix)\n",
    "\n",
    "current_time = time.time()\n",
    "elapsed_time = current_time - start_time\n",
    "print('processing time:',round(elapsed_time,2),'seconds')"
   ]
  },
  {
   "cell_type": "code",
   "execution_count": 104,
   "id": "48101868",
   "metadata": {},
   "outputs": [],
   "source": [
    "zoo2 = [f for sublist in zoo for f in sublist] #flatten\n",
    "sixmonth = next(x for x, val in enumerate(zoo2) if val <= 182.5) #within 6 months\n",
    "IIT_choose6wk = RR_vec[sixmonth]\n",
    "IIT_choose6wk = convert_RR(IIT_choose6wk)"
   ]
  },
  {
   "cell_type": "code",
   "execution_count": 105,
   "id": "6cae2434",
   "metadata": {},
   "outputs": [],
   "source": [
    "def IIT(t, releasenumber=7, frequency=7, end=start_wol):\n",
    "    for i in range(0,releasenumber,1):\n",
    "        if round(t) == (end-frequency) - (frequency*i):\n",
    "            return M0+F0\n",
    "    else:\n",
    "        return 0\n",
    "        \n",
    "RRsupp = list(IIT_df.loc[IIT_df['Target efficacy'] == 92, 'RRsupp value'])\n",
    "RRsupp = RRsupp[0] "
   ]
  },
  {
   "cell_type": "code",
   "execution_count": 106,
   "id": "fc169d06",
   "metadata": {},
   "outputs": [
    {
     "name": "stdout",
     "output_type": "stream",
     "text": [
      "processing time: 7.54 seconds\n"
     ]
    }
   ],
   "source": [
    "start_time = time.time()\n",
    "\n",
    "RR_vec = [0.00047,0.00134,0.00258,0.00418,0.00612,0.00842,0.01108,0.01408,0.01745,0.02115,0.0252,0.0296,0.03437,0.03945,0.04495,0.0507,0.0569,0.0634,0.0703,0.0775,0.085,0.093,0.10125,0.1098,0.1188,0.1281,0.1378,0.1478,0.1582,0.169,0.18,0.1915,0.203,0.215,0.2277,0.2405,0.2538,0.2672,0.2811,0.2953]\n",
    "zoo = [] #capture results here\n",
    "start_wol = 200\n",
    "\n",
    "for i in RR_vec:\n",
    "        \n",
    "    RR = i\n",
    "        \n",
    "    # run the model\n",
    "    t = np.linspace(0, 1500, 1501) # Grid of time points (in days)\n",
    "    y0 = O0, OW0, rOW0, OS0, L0, LW0, rLW0, LS0, P0, PW0, rPW0, PS0, M0, MW0, MS0, F0, FW0 # Init condition vector\n",
    "    ret = odeint(deriv, y0, t,args=(fCI, MT, c, e, phi, alphaO, muO, AA, BB, alphaL, alphaP, muP, muM, muF, RR, RRsupp, pulseN, IIT, SIT, em, lv, ad, cv, switch),hmax=1)\n",
    "    O, OW, rOW, OS, L, LW, rLW, LS, P, PW, rPW, PS, M, MW, MS, F, FW = ret.T\n",
    "\n",
    "    # get output\n",
    "    total = MW+FW+M+F\n",
    "    prop = (MW+FW)/(MW+FW+M+F)\n",
    "    \n",
    "    \n",
    "    fix = np.argwhere(prop > 0.95)\n",
    "    if sum(fix) > 0:\n",
    "        min_fix = min(fix)-start_wol\n",
    "        min_fix = min_fix.tolist()\n",
    "    else:\n",
    "        min_fix = [99999] #occurs if no fixation\n",
    "        \n",
    "    zoo.append(min_fix)\n",
    "\n",
    "current_time = time.time()\n",
    "elapsed_time = current_time - start_time\n",
    "print('processing time:',round(elapsed_time,2),'seconds')"
   ]
  },
  {
   "cell_type": "code",
   "execution_count": 107,
   "id": "67f46153",
   "metadata": {},
   "outputs": [],
   "source": [
    "zoo2 = [f for sublist in zoo for f in sublist] #flatten\n",
    "sixmonth = next(x for x, val in enumerate(zoo2) if val <= 182.5) #within 6 months\n",
    "IIT_choose7wk = RR_vec[sixmonth]\n",
    "IIT_choose7wk = convert_RR(IIT_choose7wk)"
   ]
  },
  {
   "cell_type": "code",
   "execution_count": 108,
   "id": "77efe1fe",
   "metadata": {},
   "outputs": [],
   "source": [
    "def IIT(t, releasenumber=8, frequency=7, end=start_wol):\n",
    "    for i in range(0,releasenumber,1):\n",
    "        if round(t) == (end-frequency) - (frequency*i):\n",
    "            return M0+F0\n",
    "    else:\n",
    "        return 0\n",
    "        \n",
    "RRsupp = list(IIT_df.loc[IIT_df['Target efficacy'] == 92, 'RRsupp value'])\n",
    "RRsupp = RRsupp[0] "
   ]
  },
  {
   "cell_type": "code",
   "execution_count": 109,
   "id": "7afe7712",
   "metadata": {},
   "outputs": [
    {
     "name": "stdout",
     "output_type": "stream",
     "text": [
      "processing time: 7.67 seconds\n"
     ]
    }
   ],
   "source": [
    "start_time = time.time()\n",
    "\n",
    "RR_vec = [0.00047,0.00134,0.00258,0.00418,0.00612,0.00842,0.01108,0.01408,0.01745,0.02115,0.0252,0.0296,0.03437,0.03945,0.04495,0.0507,0.0569,0.0634,0.0703,0.0775,0.085,0.093,0.10125,0.1098,0.1188,0.1281,0.1378,0.1478,0.1582,0.169,0.18,0.1915,0.203,0.215,0.2277,0.2405,0.2538,0.2672,0.2811,0.2953]\n",
    "zoo = [] #capture results here\n",
    "start_wol = 200\n",
    "\n",
    "for i in RR_vec:\n",
    "        \n",
    "    RR = i\n",
    "        \n",
    "    # run the model\n",
    "    t = np.linspace(0, 1500, 1501) # Grid of time points (in days)\n",
    "    y0 = O0, OW0, rOW0, OS0, L0, LW0, rLW0, LS0, P0, PW0, rPW0, PS0, M0, MW0, MS0, F0, FW0 # Init condition vector\n",
    "    ret = odeint(deriv, y0, t,args=(fCI, MT, c, e, phi, alphaO, muO, AA, BB, alphaL, alphaP, muP, muM, muF, RR, RRsupp, pulseN, IIT, SIT, em, lv, ad, cv, switch),hmax=1)\n",
    "    O, OW, rOW, OS, L, LW, rLW, LS, P, PW, rPW, PS, M, MW, MS, F, FW = ret.T\n",
    "\n",
    "    # get output\n",
    "    total = MW+FW+M+F\n",
    "    prop = (MW+FW)/(MW+FW+M+F)\n",
    "    \n",
    "    \n",
    "    fix = np.argwhere(prop > 0.95)\n",
    "    if sum(fix) > 0:\n",
    "        min_fix = min(fix)-start_wol\n",
    "        min_fix = min_fix.tolist()\n",
    "    else:\n",
    "        min_fix = [99999] #occurs if no fixation\n",
    "        \n",
    "    zoo.append(min_fix)\n",
    "\n",
    "current_time = time.time()\n",
    "elapsed_time = current_time - start_time\n",
    "print('processing time:',round(elapsed_time,2),'seconds')"
   ]
  },
  {
   "cell_type": "code",
   "execution_count": 110,
   "id": "10fd7d4c",
   "metadata": {},
   "outputs": [],
   "source": [
    "zoo2 = [f for sublist in zoo for f in sublist] #flatten\n",
    "sixmonth = next(x for x, val in enumerate(zoo2) if val <= 182.5) #within 6 months\n",
    "IIT_choose8wk = RR_vec[sixmonth]\n",
    "IIT_choose8wk = convert_RR(IIT_choose8wk)"
   ]
  },
  {
   "cell_type": "code",
   "execution_count": 111,
   "id": "cf0e843e",
   "metadata": {},
   "outputs": [],
   "source": [
    "def IIT(t, releasenumber=9, frequency=7, end=start_wol):\n",
    "    for i in range(0,releasenumber,1):\n",
    "        if round(t) == (end-frequency) - (frequency*i):\n",
    "            return M0+F0\n",
    "    else:\n",
    "        return 0\n",
    "        \n",
    "RRsupp = list(IIT_df.loc[IIT_df['Target efficacy'] == 92, 'RRsupp value'])\n",
    "RRsupp = RRsupp[0] "
   ]
  },
  {
   "cell_type": "code",
   "execution_count": 112,
   "id": "a9ae8182",
   "metadata": {},
   "outputs": [
    {
     "name": "stdout",
     "output_type": "stream",
     "text": [
      "processing time: 8.17 seconds\n"
     ]
    }
   ],
   "source": [
    "start_time = time.time()\n",
    "\n",
    "RR_vec = [0.00047,0.00134,0.00258,0.00418,0.00612,0.00842,0.01108,0.01408,0.01745,0.02115,0.0252,0.0296,0.03437,0.03945,0.04495,0.0507,0.0569,0.0634,0.0703,0.0775,0.085,0.093,0.10125,0.1098,0.1188,0.1281,0.1378,0.1478,0.1582,0.169,0.18,0.1915,0.203,0.215,0.2277,0.2405,0.2538,0.2672,0.2811,0.2953]\n",
    "zoo = [] #capture results here\n",
    "start_wol = 200\n",
    "\n",
    "for i in RR_vec:\n",
    "        \n",
    "    RR = i\n",
    "        \n",
    "    # run the model\n",
    "    t = np.linspace(0, 1500, 1501) # Grid of time points (in days)\n",
    "    y0 = O0, OW0, rOW0, OS0, L0, LW0, rLW0, LS0, P0, PW0, rPW0, PS0, M0, MW0, MS0, F0, FW0 # Init condition vector\n",
    "    ret = odeint(deriv, y0, t,args=(fCI, MT, c, e, phi, alphaO, muO, AA, BB, alphaL, alphaP, muP, muM, muF, RR, RRsupp, pulseN, IIT, SIT, em, lv, ad, cv, switch),hmax=1)\n",
    "    O, OW, rOW, OS, L, LW, rLW, LS, P, PW, rPW, PS, M, MW, MS, F, FW = ret.T\n",
    "\n",
    "    # get output\n",
    "    total = MW+FW+M+F\n",
    "    prop = (MW+FW)/(MW+FW+M+F)\n",
    "    \n",
    "    \n",
    "    fix = np.argwhere(prop > 0.95)\n",
    "    if sum(fix) > 0:\n",
    "        min_fix = min(fix)-start_wol\n",
    "        min_fix = min_fix.tolist()\n",
    "    else:\n",
    "        min_fix = [99999] #occurs if no fixation\n",
    "        \n",
    "    zoo.append(min_fix)\n",
    "\n",
    "current_time = time.time()\n",
    "elapsed_time = current_time - start_time\n",
    "print('processing time:',round(elapsed_time,2),'seconds')"
   ]
  },
  {
   "cell_type": "code",
   "execution_count": 113,
   "id": "2d633b26",
   "metadata": {},
   "outputs": [],
   "source": [
    "zoo2 = [f for sublist in zoo for f in sublist] #flatten\n",
    "sixmonth = next(x for x, val in enumerate(zoo2) if val <= 182.5) #within 6 months\n",
    "IIT_choose9wk = RR_vec[sixmonth]\n",
    "IIT_choose9wk = convert_RR(IIT_choose9wk)"
   ]
  },
  {
   "cell_type": "code",
   "execution_count": 114,
   "id": "8e9c179f",
   "metadata": {},
   "outputs": [],
   "source": [
    "def IIT(t, releasenumber=10, frequency=7, end=start_wol):\n",
    "    for i in range(0,releasenumber,1):\n",
    "        if round(t) == (end-frequency) - (frequency*i):\n",
    "            return M0+F0\n",
    "    else:\n",
    "        return 0\n",
    "        \n",
    "RRsupp = list(IIT_df.loc[IIT_df['Target efficacy'] == 92, 'RRsupp value'])\n",
    "RRsupp = RRsupp[0] "
   ]
  },
  {
   "cell_type": "code",
   "execution_count": 115,
   "id": "92e24c14",
   "metadata": {},
   "outputs": [
    {
     "name": "stdout",
     "output_type": "stream",
     "text": [
      "processing time: 8.22 seconds\n"
     ]
    }
   ],
   "source": [
    "start_time = time.time()\n",
    "\n",
    "RR_vec = [0.00047,0.00134,0.00258,0.00418,0.00612,0.00842,0.01108,0.01408,0.01745,0.02115,0.0252,0.0296,0.03437,0.03945,0.04495,0.0507,0.0569,0.0634,0.0703,0.0775,0.085,0.093,0.10125,0.1098,0.1188,0.1281,0.1378,0.1478,0.1582,0.169,0.18,0.1915,0.203,0.215,0.2277,0.2405,0.2538,0.2672,0.2811,0.2953]\n",
    "zoo = [] #capture results here\n",
    "start_wol = 200\n",
    "\n",
    "for i in RR_vec:\n",
    "        \n",
    "    RR = i\n",
    "        \n",
    "    # run the model\n",
    "    t = np.linspace(0, 1500, 1501) # Grid of time points (in days)\n",
    "    y0 = O0, OW0, rOW0, OS0, L0, LW0, rLW0, LS0, P0, PW0, rPW0, PS0, M0, MW0, MS0, F0, FW0 # Init condition vector\n",
    "    ret = odeint(deriv, y0, t,args=(fCI, MT, c, e, phi, alphaO, muO, AA, BB, alphaL, alphaP, muP, muM, muF, RR, RRsupp, pulseN, IIT, SIT, em, lv, ad, cv, switch),hmax=1)\n",
    "    O, OW, rOW, OS, L, LW, rLW, LS, P, PW, rPW, PS, M, MW, MS, F, FW = ret.T\n",
    "\n",
    "    # get output\n",
    "    total = MW+FW+M+F\n",
    "    prop = (MW+FW)/(MW+FW+M+F)\n",
    "    \n",
    "    \n",
    "    fix = np.argwhere(prop > 0.95)\n",
    "    if sum(fix) > 0:\n",
    "        min_fix = min(fix)-start_wol\n",
    "        min_fix = min_fix.tolist()\n",
    "    else:\n",
    "        min_fix = [99999] #occurs if no fixation\n",
    "        \n",
    "    zoo.append(min_fix)\n",
    "\n",
    "current_time = time.time()\n",
    "elapsed_time = current_time - start_time\n",
    "print('processing time:',round(elapsed_time,2),'seconds')"
   ]
  },
  {
   "cell_type": "code",
   "execution_count": 116,
   "id": "fbbe06c2",
   "metadata": {},
   "outputs": [],
   "source": [
    "zoo2 = [f for sublist in zoo for f in sublist] #flatten\n",
    "sixmonth = next(x for x, val in enumerate(zoo2) if val <= 182.5) #within 6 months\n",
    "IIT_choose10wk = RR_vec[sixmonth]\n",
    "IIT_choose10wk = convert_RR(IIT_choose10wk)"
   ]
  },
  {
   "cell_type": "markdown",
   "id": "92a1fbff",
   "metadata": {},
   "source": [
    "Store results:"
   ]
  },
  {
   "cell_type": "code",
   "execution_count": 117,
   "id": "dbc49186",
   "metadata": {},
   "outputs": [
    {
     "data": {
      "text/html": [
       "<div>\n",
       "<style scoped>\n",
       "    .dataframe tbody tr th:only-of-type {\n",
       "        vertical-align: middle;\n",
       "    }\n",
       "\n",
       "    .dataframe tbody tr th {\n",
       "        vertical-align: top;\n",
       "    }\n",
       "\n",
       "    .dataframe thead th {\n",
       "        text-align: right;\n",
       "    }\n",
       "</style>\n",
       "<table border=\"1\" class=\"dataframe\">\n",
       "  <thead>\n",
       "    <tr style=\"text-align: right;\">\n",
       "      <th></th>\n",
       "      <th>Suppression type</th>\n",
       "      <th>1wk</th>\n",
       "      <th>2wk</th>\n",
       "      <th>3wk</th>\n",
       "      <th>4wk</th>\n",
       "      <th>5wk</th>\n",
       "      <th>6wk</th>\n",
       "      <th>7wk</th>\n",
       "      <th>8wk</th>\n",
       "      <th>9wk</th>\n",
       "      <th>10wk</th>\n",
       "    </tr>\n",
       "  </thead>\n",
       "  <tbody>\n",
       "    <tr>\n",
       "      <th>0</th>\n",
       "      <td>RIDL</td>\n",
       "      <td>0.0675</td>\n",
       "      <td>0.0600</td>\n",
       "      <td>0.0525</td>\n",
       "      <td>0.0475</td>\n",
       "      <td>0.0425</td>\n",
       "      <td>0.0075</td>\n",
       "      <td>0.0050</td>\n",
       "      <td>0.0025</td>\n",
       "      <td>0.0025</td>\n",
       "      <td>0.0025</td>\n",
       "    </tr>\n",
       "    <tr>\n",
       "      <th>1</th>\n",
       "      <td>SIT</td>\n",
       "      <td>0.0650</td>\n",
       "      <td>0.0575</td>\n",
       "      <td>0.0500</td>\n",
       "      <td>0.0450</td>\n",
       "      <td>0.0400</td>\n",
       "      <td>0.0075</td>\n",
       "      <td>0.0050</td>\n",
       "      <td>0.0050</td>\n",
       "      <td>0.0025</td>\n",
       "      <td>0.0025</td>\n",
       "    </tr>\n",
       "    <tr>\n",
       "      <th>2</th>\n",
       "      <td>IIT</td>\n",
       "      <td>0.0500</td>\n",
       "      <td>0.0350</td>\n",
       "      <td>0.0250</td>\n",
       "      <td>0.0175</td>\n",
       "      <td>0.0125</td>\n",
       "      <td>0.0025</td>\n",
       "      <td>0.0025</td>\n",
       "      <td>0.0025</td>\n",
       "      <td>0.0025</td>\n",
       "      <td>0.0025</td>\n",
       "    </tr>\n",
       "  </tbody>\n",
       "</table>\n",
       "</div>"
      ],
      "text/plain": [
       "  Suppression type     1wk     2wk     3wk     4wk     5wk     6wk     7wk  \\\n",
       "0             RIDL  0.0675  0.0600  0.0525  0.0475  0.0425  0.0075  0.0050   \n",
       "1              SIT  0.0650  0.0575  0.0500  0.0450  0.0400  0.0075  0.0050   \n",
       "2              IIT  0.0500  0.0350  0.0250  0.0175  0.0125  0.0025  0.0025   \n",
       "\n",
       "      8wk     9wk    10wk  \n",
       "0  0.0025  0.0025  0.0025  \n",
       "1  0.0050  0.0025  0.0025  \n",
       "2  0.0025  0.0025  0.0025  "
      ]
     },
     "execution_count": 117,
     "metadata": {},
     "output_type": "execute_result"
    }
   ],
   "source": [
    "IIT_week = {'Suppression type': 'IIT', '1wk': IIT_choose1wk, '2wk': IIT_choose2wk, '3wk': IIT_choose3wk,\n",
    "           '4wk': IIT_choose4wk, '5wk': IIT_choose5wk, '6wk': IIT_choose6wk, '7wk': IIT_choose7wk,\n",
    "           '8wk': IIT_choose8wk, '9wk': IIT_choose9wk, '10wk': IIT_choose10wk}\n",
    "weekfig_df = weekfig_df.append(IIT_week, ignore_index=True)\n",
    "\n",
    "weekfig_df"
   ]
  },
  {
   "cell_type": "code",
   "execution_count": 118,
   "id": "58f0de63",
   "metadata": {},
   "outputs": [],
   "source": [
    "# switch off\n",
    "\n",
    "def IIT(t, releasenumber=5, frequency=7, end=start_wol):\n",
    "    for i in range(0,releasenumber,1):\n",
    "        if round(t) == (end-frequency) - (frequency*i):\n",
    "            return 0 #M0+F0\n",
    "    else:\n",
    "        return 0"
   ]
  },
  {
   "cell_type": "markdown",
   "id": "76735790",
   "metadata": {},
   "source": [
    "### Environmental Management:"
   ]
  },
  {
   "cell_type": "code",
   "execution_count": 119,
   "id": "b47f0a73",
   "metadata": {},
   "outputs": [],
   "source": [
    "EM_df = pd.read_csv(f'{filepath}/EM_df.csv')"
   ]
  },
  {
   "cell_type": "code",
   "execution_count": 120,
   "id": "4dddf090",
   "metadata": {},
   "outputs": [],
   "source": [
    "start_em = start_wol-(7*1)\n",
    "stop_em = 200\n",
    "em_eff = list(EM_df.loc[EM_df['Target efficacy'] == 47.4, 'Efficacy parameter'])\n",
    "em_eff = em_eff[0]\n",
    "\n",
    "def em(t):\n",
    "    if round(t) < start_em:     #start\n",
    "        return 1\n",
    "    elif round(t) > stop_em:    #stop releases\n",
    "        return 1\n",
    "    else:\n",
    "        return em_eff"
   ]
  },
  {
   "cell_type": "code",
   "execution_count": 121,
   "id": "a0cb18b0",
   "metadata": {},
   "outputs": [
    {
     "name": "stdout",
     "output_type": "stream",
     "text": [
      "processing time: 5.72 seconds\n"
     ]
    }
   ],
   "source": [
    "start_time = time.time()\n",
    "\n",
    "RR_vec = [0.00047,0.00134,0.00258,0.00418,0.00612,0.00842,0.01108,0.01408,0.01745,0.02115,0.0252,0.0296,0.03437,0.03945,0.04495,0.0507,0.0569,0.0634,0.0703,0.0775,0.085,0.093,0.10125,0.1098,0.1188,0.1281,0.1378,0.1478,0.1582,0.169,0.18,0.1915,0.203,0.215,0.2277,0.2405,0.2538,0.2672,0.2811,0.2953]\n",
    "zoo = [] #capture results here\n",
    "start_wol = 200\n",
    "\n",
    "for i in RR_vec:\n",
    "        \n",
    "    RR = i\n",
    "        \n",
    "    # run the model\n",
    "    t = np.linspace(0, 1500, 1501) # Grid of time points (in days)\n",
    "    y0 = O0, OW0, rOW0, OS0, L0, LW0, rLW0, LS0, P0, PW0, rPW0, PS0, M0, MW0, MS0, F0, FW0 # Init condition vector\n",
    "    ret = odeint(deriv, y0, t,args=(fCI, MT, c, e, phi, alphaO, muO, AA, BB, alphaL, alphaP, muP, muM, muF, RR, RRsupp, pulseN, IIT, SIT, em, lv, ad, cv, switch),hmax=1)\n",
    "    O, OW, rOW, OS, L, LW, rLW, LS, P, PW, rPW, PS, M, MW, MS, F, FW = ret.T\n",
    "\n",
    "    # get output\n",
    "    total = MW+FW+M+F\n",
    "    prop = (MW+FW)/(MW+FW+M+F)\n",
    "    \n",
    "    \n",
    "    fix = np.argwhere(prop > 0.95)\n",
    "    if sum(fix) > 0:\n",
    "        min_fix = min(fix)-start_wol\n",
    "        min_fix = min_fix.tolist()\n",
    "    else:\n",
    "        min_fix = [99999] #occurs if no fixation\n",
    "        \n",
    "    zoo.append(min_fix)\n",
    "\n",
    "current_time = time.time()\n",
    "elapsed_time = current_time - start_time\n",
    "print('processing time:',round(elapsed_time,2),'seconds')"
   ]
  },
  {
   "cell_type": "code",
   "execution_count": 122,
   "id": "3ef646d8",
   "metadata": {},
   "outputs": [],
   "source": [
    "zoo2 = [f for sublist in zoo for f in sublist] #flatten\n",
    "sixmonth = next(x for x, val in enumerate(zoo2) if val <= 182.5) #within 6 months\n",
    "EM_choose1wk = RR_vec[sixmonth]\n",
    "EM_choose1wk = convert_RR(EM_choose1wk)"
   ]
  },
  {
   "cell_type": "code",
   "execution_count": 123,
   "id": "dee3f9a9",
   "metadata": {},
   "outputs": [],
   "source": [
    "start_em = start_wol-(7*2)\n",
    "stop_em = 200\n",
    "em_eff = list(EM_df.loc[EM_df['Target efficacy'] == 47.4, 'Efficacy parameter'])\n",
    "em_eff = em_eff[0]\n",
    "\n",
    "def em(t):\n",
    "    if round(t) < start_em:     #start\n",
    "        return 1\n",
    "    elif round(t) > stop_em:    #stop releases\n",
    "        return 1\n",
    "    else:\n",
    "        return em_eff"
   ]
  },
  {
   "cell_type": "code",
   "execution_count": 124,
   "id": "b5536573",
   "metadata": {},
   "outputs": [
    {
     "name": "stdout",
     "output_type": "stream",
     "text": [
      "processing time: 5.87 seconds\n"
     ]
    }
   ],
   "source": [
    "start_time = time.time()\n",
    "\n",
    "RR_vec = [0.00047,0.00134,0.00258,0.00418,0.00612,0.00842,0.01108,0.01408,0.01745,0.02115,0.0252,0.0296,0.03437,0.03945,0.04495,0.0507,0.0569,0.0634,0.0703,0.0775,0.085,0.093,0.10125,0.1098,0.1188,0.1281,0.1378,0.1478,0.1582,0.169,0.18,0.1915,0.203,0.215,0.2277,0.2405,0.2538,0.2672,0.2811,0.2953]\n",
    "zoo = [] #capture results here\n",
    "start_wol = 200\n",
    "\n",
    "for i in RR_vec:\n",
    "        \n",
    "    RR = i\n",
    "        \n",
    "    # run the model\n",
    "    t = np.linspace(0, 1500, 1501) # Grid of time points (in days)\n",
    "    y0 = O0, OW0, rOW0, OS0, L0, LW0, rLW0, LS0, P0, PW0, rPW0, PS0, M0, MW0, MS0, F0, FW0 # Init condition vector\n",
    "    ret = odeint(deriv, y0, t,args=(fCI, MT, c, e, phi, alphaO, muO, AA, BB, alphaL, alphaP, muP, muM, muF, RR, RRsupp, pulseN, IIT, SIT, em, lv, ad, cv, switch),hmax=1)\n",
    "    O, OW, rOW, OS, L, LW, rLW, LS, P, PW, rPW, PS, M, MW, MS, F, FW = ret.T\n",
    "\n",
    "    # get output\n",
    "    total = MW+FW+M+F\n",
    "    prop = (MW+FW)/(MW+FW+M+F)\n",
    "    \n",
    "    \n",
    "    fix = np.argwhere(prop > 0.95)\n",
    "    if sum(fix) > 0:\n",
    "        min_fix = min(fix)-start_wol\n",
    "        min_fix = min_fix.tolist()\n",
    "    else:\n",
    "        min_fix = [99999] #occurs if no fixation\n",
    "        \n",
    "    zoo.append(min_fix)\n",
    "\n",
    "current_time = time.time()\n",
    "elapsed_time = current_time - start_time\n",
    "print('processing time:',round(elapsed_time,2),'seconds')"
   ]
  },
  {
   "cell_type": "code",
   "execution_count": 125,
   "id": "31d729f9",
   "metadata": {},
   "outputs": [],
   "source": [
    "zoo2 = [f for sublist in zoo for f in sublist] #flatten\n",
    "sixmonth = next(x for x, val in enumerate(zoo2) if val <= 182.5) #within 6 months\n",
    "EM_choose2wk = RR_vec[sixmonth]\n",
    "EM_choose2wk = convert_RR(EM_choose2wk)"
   ]
  },
  {
   "cell_type": "code",
   "execution_count": 126,
   "id": "7021eabf",
   "metadata": {},
   "outputs": [],
   "source": [
    "start_em = start_wol-(7*3)\n",
    "stop_em = 200\n",
    "em_eff = list(EM_df.loc[EM_df['Target efficacy'] == 47.4, 'Efficacy parameter'])\n",
    "em_eff = em_eff[0]\n",
    "\n",
    "def em(t):\n",
    "    if round(t) < start_em:     #start\n",
    "        return 1\n",
    "    elif round(t) > stop_em:    #stop releases\n",
    "        return 1\n",
    "    else:\n",
    "        return em_eff"
   ]
  },
  {
   "cell_type": "code",
   "execution_count": 127,
   "id": "0d681676",
   "metadata": {},
   "outputs": [
    {
     "name": "stdout",
     "output_type": "stream",
     "text": [
      "processing time: 5.82 seconds\n"
     ]
    }
   ],
   "source": [
    "start_time = time.time()\n",
    "\n",
    "RR_vec = [0.00047,0.00134,0.00258,0.00418,0.00612,0.00842,0.01108,0.01408,0.01745,0.02115,0.0252,0.0296,0.03437,0.03945,0.04495,0.0507,0.0569,0.0634,0.0703,0.0775,0.085,0.093,0.10125,0.1098,0.1188,0.1281,0.1378,0.1478,0.1582,0.169,0.18,0.1915,0.203,0.215,0.2277,0.2405,0.2538,0.2672,0.2811,0.2953]\n",
    "zoo = [] #capture results here\n",
    "start_wol = 200\n",
    "\n",
    "for i in RR_vec:\n",
    "        \n",
    "    RR = i\n",
    "        \n",
    "    # run the model\n",
    "    t = np.linspace(0, 1500, 1501) # Grid of time points (in days)\n",
    "    y0 = O0, OW0, rOW0, OS0, L0, LW0, rLW0, LS0, P0, PW0, rPW0, PS0, M0, MW0, MS0, F0, FW0 # Init condition vector\n",
    "    ret = odeint(deriv, y0, t,args=(fCI, MT, c, e, phi, alphaO, muO, AA, BB, alphaL, alphaP, muP, muM, muF, RR, RRsupp, pulseN, IIT, SIT, em, lv, ad, cv, switch),hmax=1)\n",
    "    O, OW, rOW, OS, L, LW, rLW, LS, P, PW, rPW, PS, M, MW, MS, F, FW = ret.T\n",
    "\n",
    "    # get output\n",
    "    total = MW+FW+M+F\n",
    "    prop = (MW+FW)/(MW+FW+M+F)\n",
    "    \n",
    "    \n",
    "    fix = np.argwhere(prop > 0.95)\n",
    "    if sum(fix) > 0:\n",
    "        min_fix = min(fix)-start_wol\n",
    "        min_fix = min_fix.tolist()\n",
    "    else:\n",
    "        min_fix = [99999] #occurs if no fixation\n",
    "        \n",
    "    zoo.append(min_fix)\n",
    "\n",
    "current_time = time.time()\n",
    "elapsed_time = current_time - start_time\n",
    "print('processing time:',round(elapsed_time,2),'seconds')"
   ]
  },
  {
   "cell_type": "code",
   "execution_count": 128,
   "id": "461b620e",
   "metadata": {},
   "outputs": [],
   "source": [
    "zoo2 = [f for sublist in zoo for f in sublist] #flatten\n",
    "sixmonth = next(x for x, val in enumerate(zoo2) if val <= 182.5) #within 6 months\n",
    "EM_choose3wk = RR_vec[sixmonth]\n",
    "EM_choose3wk = convert_RR(EM_choose3wk)"
   ]
  },
  {
   "cell_type": "code",
   "execution_count": 129,
   "id": "9e33bd6e",
   "metadata": {},
   "outputs": [],
   "source": [
    "start_em = start_wol-(7*4)\n",
    "stop_em = 200\n",
    "em_eff = list(EM_df.loc[EM_df['Target efficacy'] == 47.4, 'Efficacy parameter'])\n",
    "em_eff = em_eff[0]\n",
    "\n",
    "def em(t):\n",
    "    if round(t) < start_em:     #start\n",
    "        return 1\n",
    "    elif round(t) > stop_em:    #stop releases\n",
    "        return 1\n",
    "    else:\n",
    "        return em_eff"
   ]
  },
  {
   "cell_type": "code",
   "execution_count": 130,
   "id": "99d360a0",
   "metadata": {},
   "outputs": [
    {
     "name": "stdout",
     "output_type": "stream",
     "text": [
      "processing time: 5.8 seconds\n"
     ]
    }
   ],
   "source": [
    "start_time = time.time()\n",
    "\n",
    "RR_vec = [0.00047,0.00134,0.00258,0.00418,0.00612,0.00842,0.01108,0.01408,0.01745,0.02115,0.0252,0.0296,0.03437,0.03945,0.04495,0.0507,0.0569,0.0634,0.0703,0.0775,0.085,0.093,0.10125,0.1098,0.1188,0.1281,0.1378,0.1478,0.1582,0.169,0.18,0.1915,0.203,0.215,0.2277,0.2405,0.2538,0.2672,0.2811,0.2953]\n",
    "zoo = [] #capture results here\n",
    "start_wol = 200\n",
    "\n",
    "for i in RR_vec:\n",
    "        \n",
    "    RR = i\n",
    "        \n",
    "    # run the model\n",
    "    t = np.linspace(0, 1500, 1501) # Grid of time points (in days)\n",
    "    y0 = O0, OW0, rOW0, OS0, L0, LW0, rLW0, LS0, P0, PW0, rPW0, PS0, M0, MW0, MS0, F0, FW0 # Init condition vector\n",
    "    ret = odeint(deriv, y0, t,args=(fCI, MT, c, e, phi, alphaO, muO, AA, BB, alphaL, alphaP, muP, muM, muF, RR, RRsupp, pulseN, IIT, SIT, em, lv, ad, cv, switch),hmax=1)\n",
    "    O, OW, rOW, OS, L, LW, rLW, LS, P, PW, rPW, PS, M, MW, MS, F, FW = ret.T\n",
    "\n",
    "    # get output\n",
    "    total = MW+FW+M+F\n",
    "    prop = (MW+FW)/(MW+FW+M+F)\n",
    "    \n",
    "    \n",
    "    fix = np.argwhere(prop > 0.95)\n",
    "    if sum(fix) > 0:\n",
    "        min_fix = min(fix)-start_wol\n",
    "        min_fix = min_fix.tolist()\n",
    "    else:\n",
    "        min_fix = [99999] #occurs if no fixation\n",
    "        \n",
    "    zoo.append(min_fix)\n",
    "\n",
    "current_time = time.time()\n",
    "elapsed_time = current_time - start_time\n",
    "print('processing time:',round(elapsed_time,2),'seconds')"
   ]
  },
  {
   "cell_type": "code",
   "execution_count": 131,
   "id": "59903574",
   "metadata": {},
   "outputs": [],
   "source": [
    "zoo2 = [f for sublist in zoo for f in sublist] #flatten\n",
    "sixmonth = next(x for x, val in enumerate(zoo2) if val <= 182.5) #within 6 months\n",
    "EM_choose4wk = RR_vec[sixmonth]\n",
    "EM_choose4wk = convert_RR(EM_choose4wk)"
   ]
  },
  {
   "cell_type": "code",
   "execution_count": 132,
   "id": "d2f2b3cd",
   "metadata": {},
   "outputs": [],
   "source": [
    "start_em = start_wol-(7*5)\n",
    "stop_em = 200\n",
    "em_eff = list(EM_df.loc[EM_df['Target efficacy'] == 47.4, 'Efficacy parameter'])\n",
    "em_eff = em_eff[0]\n",
    "\n",
    "def em(t):\n",
    "    if round(t) < start_em:     #start\n",
    "        return 1\n",
    "    elif round(t) > stop_em:    #stop releases\n",
    "        return 1\n",
    "    else:\n",
    "        return em_eff"
   ]
  },
  {
   "cell_type": "code",
   "execution_count": 133,
   "id": "3c2511ff",
   "metadata": {},
   "outputs": [
    {
     "name": "stdout",
     "output_type": "stream",
     "text": [
      "processing time: 5.77 seconds\n"
     ]
    }
   ],
   "source": [
    "start_time = time.time()\n",
    "\n",
    "RR_vec = [0.00047,0.00134,0.00258,0.00418,0.00612,0.00842,0.01108,0.01408,0.01745,0.02115,0.0252,0.0296,0.03437,0.03945,0.04495,0.0507,0.0569,0.0634,0.0703,0.0775,0.085,0.093,0.10125,0.1098,0.1188,0.1281,0.1378,0.1478,0.1582,0.169,0.18,0.1915,0.203,0.215,0.2277,0.2405,0.2538,0.2672,0.2811,0.2953]\n",
    "zoo = [] #capture results here\n",
    "start_wol = 200\n",
    "\n",
    "for i in RR_vec:\n",
    "        \n",
    "    RR = i\n",
    "        \n",
    "    # run the model\n",
    "    t = np.linspace(0, 1500, 1501) # Grid of time points (in days)\n",
    "    y0 = O0, OW0, rOW0, OS0, L0, LW0, rLW0, LS0, P0, PW0, rPW0, PS0, M0, MW0, MS0, F0, FW0 # Init condition vector\n",
    "    ret = odeint(deriv, y0, t,args=(fCI, MT, c, e, phi, alphaO, muO, AA, BB, alphaL, alphaP, muP, muM, muF, RR, RRsupp, pulseN, IIT, SIT, em, lv, ad, cv, switch),hmax=1)\n",
    "    O, OW, rOW, OS, L, LW, rLW, LS, P, PW, rPW, PS, M, MW, MS, F, FW = ret.T\n",
    "\n",
    "    # get output\n",
    "    total = MW+FW+M+F\n",
    "    prop = (MW+FW)/(MW+FW+M+F)\n",
    "    \n",
    "    \n",
    "    fix = np.argwhere(prop > 0.95)\n",
    "    if sum(fix) > 0:\n",
    "        min_fix = min(fix)-start_wol\n",
    "        min_fix = min_fix.tolist()\n",
    "    else:\n",
    "        min_fix = [99999] #occurs if no fixation\n",
    "        \n",
    "    zoo.append(min_fix)\n",
    "\n",
    "current_time = time.time()\n",
    "elapsed_time = current_time - start_time\n",
    "print('processing time:',round(elapsed_time,2),'seconds')"
   ]
  },
  {
   "cell_type": "code",
   "execution_count": 134,
   "id": "e0c9a050",
   "metadata": {},
   "outputs": [],
   "source": [
    "zoo2 = [f for sublist in zoo for f in sublist] #flatten\n",
    "sixmonth = next(x for x, val in enumerate(zoo2) if val <= 182.5) #within 6 months\n",
    "EM_choose5wk = RR_vec[sixmonth]\n",
    "EM_choose5wk = convert_RR(EM_choose5wk)"
   ]
  },
  {
   "cell_type": "code",
   "execution_count": 135,
   "id": "74b478e3",
   "metadata": {},
   "outputs": [],
   "source": [
    "start_em = start_wol-(7*6)\n",
    "stop_em = 200\n",
    "em_eff = list(EM_df.loc[EM_df['Target efficacy'] == 47.4, 'Efficacy parameter'])\n",
    "em_eff = em_eff[0]\n",
    "\n",
    "def em(t):\n",
    "    if round(t) < start_em:     #start\n",
    "        return 1\n",
    "    elif round(t) > stop_em:    #stop releases\n",
    "        return 1\n",
    "    else:\n",
    "        return em_eff"
   ]
  },
  {
   "cell_type": "code",
   "execution_count": 136,
   "id": "ec47f506",
   "metadata": {},
   "outputs": [
    {
     "name": "stdout",
     "output_type": "stream",
     "text": [
      "processing time: 5.73 seconds\n"
     ]
    }
   ],
   "source": [
    "start_time = time.time()\n",
    "\n",
    "RR_vec = [0.00047,0.00134,0.00258,0.00418,0.00612,0.00842,0.01108,0.01408,0.01745,0.02115,0.0252,0.0296,0.03437,0.03945,0.04495,0.0507,0.0569,0.0634,0.0703,0.0775,0.085,0.093,0.10125,0.1098,0.1188,0.1281,0.1378,0.1478,0.1582,0.169,0.18,0.1915,0.203,0.215,0.2277,0.2405,0.2538,0.2672,0.2811,0.2953]\n",
    "zoo = [] #capture results here\n",
    "start_wol = 200\n",
    "\n",
    "for i in RR_vec:\n",
    "        \n",
    "    RR = i\n",
    "        \n",
    "    # run the model\n",
    "    t = np.linspace(0, 1500, 1501) # Grid of time points (in days)\n",
    "    y0 = O0, OW0, rOW0, OS0, L0, LW0, rLW0, LS0, P0, PW0, rPW0, PS0, M0, MW0, MS0, F0, FW0 # Init condition vector\n",
    "    ret = odeint(deriv, y0, t,args=(fCI, MT, c, e, phi, alphaO, muO, AA, BB, alphaL, alphaP, muP, muM, muF, RR, RRsupp, pulseN, IIT, SIT, em, lv, ad, cv, switch),hmax=1)\n",
    "    O, OW, rOW, OS, L, LW, rLW, LS, P, PW, rPW, PS, M, MW, MS, F, FW = ret.T\n",
    "\n",
    "    # get output\n",
    "    total = MW+FW+M+F\n",
    "    prop = (MW+FW)/(MW+FW+M+F)\n",
    "    \n",
    "    \n",
    "    fix = np.argwhere(prop > 0.95)\n",
    "    if sum(fix) > 0:\n",
    "        min_fix = min(fix)-start_wol\n",
    "        min_fix = min_fix.tolist()\n",
    "    else:\n",
    "        min_fix = [99999] #occurs if no fixation\n",
    "        \n",
    "    zoo.append(min_fix)\n",
    "\n",
    "current_time = time.time()\n",
    "elapsed_time = current_time - start_time\n",
    "print('processing time:',round(elapsed_time,2),'seconds')"
   ]
  },
  {
   "cell_type": "code",
   "execution_count": 137,
   "id": "b681d6b4",
   "metadata": {},
   "outputs": [],
   "source": [
    "zoo2 = [f for sublist in zoo for f in sublist] #flatten\n",
    "sixmonth = next(x for x, val in enumerate(zoo2) if val <= 182.5) #within 6 months\n",
    "EM_choose6wk = RR_vec[sixmonth]\n",
    "EM_choose6wk = convert_RR(EM_choose6wk)"
   ]
  },
  {
   "cell_type": "code",
   "execution_count": 138,
   "id": "55eb567a",
   "metadata": {},
   "outputs": [],
   "source": [
    "start_em = start_wol-(7*7)\n",
    "stop_em = 200\n",
    "em_eff = list(EM_df.loc[EM_df['Target efficacy'] == 47.4, 'Efficacy parameter'])\n",
    "em_eff = em_eff[0]\n",
    "\n",
    "def em(t):\n",
    "    if round(t) < start_em:     #start\n",
    "        return 1\n",
    "    elif round(t) > stop_em:    #stop releases\n",
    "        return 1\n",
    "    else:\n",
    "        return em_eff"
   ]
  },
  {
   "cell_type": "code",
   "execution_count": 139,
   "id": "b7ba5486",
   "metadata": {},
   "outputs": [
    {
     "name": "stdout",
     "output_type": "stream",
     "text": [
      "processing time: 5.68 seconds\n"
     ]
    }
   ],
   "source": [
    "start_time = time.time()\n",
    "\n",
    "RR_vec = [0.00047,0.00134,0.00258,0.00418,0.00612,0.00842,0.01108,0.01408,0.01745,0.02115,0.0252,0.0296,0.03437,0.03945,0.04495,0.0507,0.0569,0.0634,0.0703,0.0775,0.085,0.093,0.10125,0.1098,0.1188,0.1281,0.1378,0.1478,0.1582,0.169,0.18,0.1915,0.203,0.215,0.2277,0.2405,0.2538,0.2672,0.2811,0.2953]\n",
    "zoo = [] #capture results here\n",
    "start_wol = 200\n",
    "\n",
    "for i in RR_vec:\n",
    "        \n",
    "    RR = i\n",
    "        \n",
    "    # run the model\n",
    "    t = np.linspace(0, 1500, 1501) # Grid of time points (in days)\n",
    "    y0 = O0, OW0, rOW0, OS0, L0, LW0, rLW0, LS0, P0, PW0, rPW0, PS0, M0, MW0, MS0, F0, FW0 # Init condition vector\n",
    "    ret= odeint(deriv, y0, t,args=(fCI, MT, c, e, phi, alphaO, muO, AA, BB, alphaL, alphaP, muP, muM, muF, RR, RRsupp, pulseN, IIT, SIT, em, lv, ad, cv, switch),hmax=1)\n",
    "    O, OW, rOW, OS, L, LW, rLW, LS, P, PW, rPW, PS, M, MW, MS, F, FW = ret.T\n",
    "\n",
    "    # get output\n",
    "    total = MW+FW+M+F\n",
    "    prop = (MW+FW)/(MW+FW+M+F)\n",
    "    \n",
    "    \n",
    "    fix = np.argwhere(prop > 0.95)\n",
    "    if sum(fix) > 0:\n",
    "        min_fix = min(fix)-start_wol\n",
    "        min_fix = min_fix.tolist()\n",
    "    else:\n",
    "        min_fix = [99999] #occurs if no fixation\n",
    "        \n",
    "    zoo.append(min_fix)\n",
    "\n",
    "current_time = time.time()\n",
    "elapsed_time = current_time - start_time\n",
    "print('processing time:',round(elapsed_time,2),'seconds')"
   ]
  },
  {
   "cell_type": "code",
   "execution_count": 140,
   "id": "347733be",
   "metadata": {},
   "outputs": [],
   "source": [
    "zoo2 = [f for sublist in zoo for f in sublist] #flatten\n",
    "sixmonth = next(x for x, val in enumerate(zoo2) if val <= 182.5) #within 6 months\n",
    "EM_choose7wk = RR_vec[sixmonth]\n",
    "EM_choose7wk = convert_RR(EM_choose7wk)"
   ]
  },
  {
   "cell_type": "code",
   "execution_count": 141,
   "id": "3c2d5d39",
   "metadata": {},
   "outputs": [],
   "source": [
    "start_em = start_wol-(7*8)\n",
    "stop_em = 200\n",
    "em_eff = list(EM_df.loc[EM_df['Target efficacy'] == 47.4, 'Efficacy parameter'])\n",
    "em_eff = em_eff[0]\n",
    "\n",
    "def em(t):\n",
    "    if round(t) < start_em:     #start\n",
    "        return 1\n",
    "    elif round(t) > stop_em:    #stop releases\n",
    "        return 1\n",
    "    else:\n",
    "        return em_eff"
   ]
  },
  {
   "cell_type": "code",
   "execution_count": 142,
   "id": "3b2d4428",
   "metadata": {},
   "outputs": [
    {
     "name": "stdout",
     "output_type": "stream",
     "text": [
      "processing time: 5.75 seconds\n"
     ]
    }
   ],
   "source": [
    "start_time = time.time()\n",
    "\n",
    "RR_vec = [0.00047,0.00134,0.00258,0.00418,0.00612,0.00842,0.01108,0.01408,0.01745,0.02115,0.0252,0.0296,0.03437,0.03945,0.04495,0.0507,0.0569,0.0634,0.0703,0.0775,0.085,0.093,0.10125,0.1098,0.1188,0.1281,0.1378,0.1478,0.1582,0.169,0.18,0.1915,0.203,0.215,0.2277,0.2405,0.2538,0.2672,0.2811,0.2953]\n",
    "zoo = [] #capture results here\n",
    "start_wol = 200\n",
    "\n",
    "for i in RR_vec:\n",
    "        \n",
    "    RR = i\n",
    "        \n",
    "    # run the model\n",
    "    t = np.linspace(0, 1500, 1501) # Grid of time points (in days)\n",
    "    y0 = O0, OW0, rOW0, OS0, L0, LW0, rLW0, LS0, P0, PW0, rPW0, PS0, M0, MW0, MS0, F0, FW0 # Init condition vector\n",
    "    ret = odeint(deriv, y0, t,args=(fCI, MT, c, e, phi, alphaO, muO, AA, BB, alphaL, alphaP, muP, muM, muF, RR, RRsupp, pulseN, IIT, SIT, em, lv, ad, cv, switch),hmax=1)\n",
    "    O, OW, rOW, OS, L, LW, rLW, LS, P, PW, rPW, PS, M, MW, MS, F, FW = ret.T\n",
    "\n",
    "    # get output\n",
    "    total = MW+FW+M+F\n",
    "    prop = (MW+FW)/(MW+FW+M+F)\n",
    "    \n",
    "    \n",
    "    fix = np.argwhere(prop > 0.95)\n",
    "    if sum(fix) > 0:\n",
    "        min_fix = min(fix)-start_wol\n",
    "        min_fix = min_fix.tolist()\n",
    "    else:\n",
    "        min_fix = [99999] #occurs if no fixation\n",
    "        \n",
    "    zoo.append(min_fix)\n",
    "\n",
    "current_time = time.time()\n",
    "elapsed_time = current_time - start_time\n",
    "print('processing time:',round(elapsed_time,2),'seconds')"
   ]
  },
  {
   "cell_type": "code",
   "execution_count": 143,
   "id": "500fb9cd",
   "metadata": {},
   "outputs": [],
   "source": [
    "zoo2 = [f for sublist in zoo for f in sublist] #flatten\n",
    "sixmonth = next(x for x, val in enumerate(zoo2) if val <= 182.5) #within 6 months\n",
    "EM_choose8wk = RR_vec[sixmonth]\n",
    "EM_choose8wk = convert_RR(EM_choose8wk)"
   ]
  },
  {
   "cell_type": "code",
   "execution_count": 144,
   "id": "880d5a3f",
   "metadata": {},
   "outputs": [],
   "source": [
    "start_em = start_wol-(7*9)\n",
    "stop_em = 200\n",
    "em_eff = list(EM_df.loc[EM_df['Target efficacy'] == 47.4, 'Efficacy parameter'])\n",
    "em_eff = em_eff[0]\n",
    "\n",
    "def em(t):\n",
    "    if round(t) < start_em:     #start\n",
    "        return 1\n",
    "    elif round(t) > stop_em:    #stop releases\n",
    "        return 1\n",
    "    else:\n",
    "        return em_eff"
   ]
  },
  {
   "cell_type": "code",
   "execution_count": 145,
   "id": "8333c91a",
   "metadata": {},
   "outputs": [
    {
     "name": "stdout",
     "output_type": "stream",
     "text": [
      "processing time: 5.72 seconds\n"
     ]
    }
   ],
   "source": [
    "start_time = time.time()\n",
    "\n",
    "RR_vec = [0.00047,0.00134,0.00258,0.00418,0.00612,0.00842,0.01108,0.01408,0.01745,0.02115,0.0252,0.0296,0.03437,0.03945,0.04495,0.0507,0.0569,0.0634,0.0703,0.0775,0.085,0.093,0.10125,0.1098,0.1188,0.1281,0.1378,0.1478,0.1582,0.169,0.18,0.1915,0.203,0.215,0.2277,0.2405,0.2538,0.2672,0.2811,0.2953]\n",
    "zoo = [] #capture results here\n",
    "start_wol = 200\n",
    "\n",
    "for i in RR_vec:\n",
    "        \n",
    "    RR = i\n",
    "        \n",
    "    # run the model\n",
    "    t = np.linspace(0, 1500, 1501) # Grid of time points (in days)\n",
    "    y0 = O0, OW0, rOW0, OS0, L0, LW0, rLW0, LS0, P0, PW0, rPW0, PS0, M0, MW0, MS0, F0, FW0 # Init condition vector\n",
    "    ret = odeint(deriv, y0, t,args=(fCI, MT, c, e, phi, alphaO, muO, AA, BB, alphaL, alphaP, muP, muM, muF, RR, RRsupp, pulseN, IIT, SIT, em, lv, ad, cv, switch),hmax=1)\n",
    "    O, OW, rOW, OS, L, LW, rLW, LS, P, PW, rPW, PS, M, MW, MS, F, FW = ret.T\n",
    "\n",
    "    # get output\n",
    "    total = MW+FW+M+F\n",
    "    prop = (MW+FW)/(MW+FW+M+F)\n",
    "    \n",
    "    \n",
    "    fix = np.argwhere(prop > 0.95)\n",
    "    if sum(fix) > 0:\n",
    "        min_fix = min(fix)-start_wol\n",
    "        min_fix = min_fix.tolist()\n",
    "    else:\n",
    "        min_fix = [99999] #occurs if no fixation\n",
    "        \n",
    "    zoo.append(min_fix)\n",
    "\n",
    "current_time = time.time()\n",
    "elapsed_time = current_time - start_time\n",
    "print('processing time:',round(elapsed_time,2),'seconds')"
   ]
  },
  {
   "cell_type": "code",
   "execution_count": 146,
   "id": "5aa75d0e",
   "metadata": {},
   "outputs": [],
   "source": [
    "zoo2 = [f for sublist in zoo for f in sublist] #flatten\n",
    "sixmonth = next(x for x, val in enumerate(zoo2) if val <= 182.5) #within 6 months\n",
    "EM_choose9wk = RR_vec[sixmonth]\n",
    "EM_choose9wk = convert_RR(EM_choose9wk)"
   ]
  },
  {
   "cell_type": "code",
   "execution_count": 147,
   "id": "339f1940",
   "metadata": {},
   "outputs": [],
   "source": [
    "start_em = start_wol-(7*10)\n",
    "stop_em = 200\n",
    "em_eff = list(EM_df.loc[EM_df['Target efficacy'] == 47.4, 'Efficacy parameter'])\n",
    "em_eff = em_eff[0]\n",
    "\n",
    "def em(t):\n",
    "    if round(t) < start_em:     #start\n",
    "        return 1\n",
    "    elif round(t) > stop_em:    #stop releases\n",
    "        return 1\n",
    "    else:\n",
    "        return em_eff"
   ]
  },
  {
   "cell_type": "code",
   "execution_count": 148,
   "id": "364621dd",
   "metadata": {},
   "outputs": [
    {
     "name": "stdout",
     "output_type": "stream",
     "text": [
      "processing time: 5.78 seconds\n"
     ]
    }
   ],
   "source": [
    "start_time = time.time()\n",
    "\n",
    "RR_vec = [0.00047,0.00134,0.00258,0.00418,0.00612,0.00842,0.01108,0.01408,0.01745,0.02115,0.0252,0.0296,0.03437,0.03945,0.04495,0.0507,0.0569,0.0634,0.0703,0.0775,0.085,0.093,0.10125,0.1098,0.1188,0.1281,0.1378,0.1478,0.1582,0.169,0.18,0.1915,0.203,0.215,0.2277,0.2405,0.2538,0.2672,0.2811,0.2953]\n",
    "zoo = [] #capture results here\n",
    "start_wol = 200\n",
    "\n",
    "for i in RR_vec:\n",
    "        \n",
    "    RR = i\n",
    "        \n",
    "    # run the model\n",
    "    t = np.linspace(0, 1500, 1501) # Grid of time points (in days)\n",
    "    y0 = O0, OW0, rOW0, OS0, L0, LW0, rLW0, LS0, P0, PW0, rPW0, PS0, M0, MW0, MS0, F0, FW0 # Init condition vector\n",
    "    ret = odeint(deriv, y0, t,args=(fCI, MT, c, e, phi, alphaO, muO, AA, BB, alphaL, alphaP, muP, muM, muF, RR, RRsupp, pulseN, IIT, SIT, em, lv, ad, cv, switch),hmax=1)\n",
    "    O, OW, rOW, OS, L, LW, rLW, LS, P, PW, rPW, PS, M, MW, MS, F, FW = ret.T\n",
    "\n",
    "    # get output\n",
    "    total = MW+FW+M+F\n",
    "    prop = (MW+FW)/(MW+FW+M+F)\n",
    "    \n",
    "    \n",
    "    fix = np.argwhere(prop > 0.95)\n",
    "    if sum(fix) > 0:\n",
    "        min_fix = min(fix)-start_wol\n",
    "        min_fix = min_fix.tolist()\n",
    "    else:\n",
    "        min_fix = [99999] #occurs if no fixation\n",
    "        \n",
    "    zoo.append(min_fix)\n",
    "\n",
    "current_time = time.time()\n",
    "elapsed_time = current_time - start_time\n",
    "print('processing time:',round(elapsed_time,2),'seconds')"
   ]
  },
  {
   "cell_type": "code",
   "execution_count": 149,
   "id": "55f1b404",
   "metadata": {},
   "outputs": [],
   "source": [
    "zoo2 = [f for sublist in zoo for f in sublist] #flatten\n",
    "sixmonth = next(x for x, val in enumerate(zoo2) if val <= 182.5) #within 6 months\n",
    "EM_choose10wk = RR_vec[sixmonth]\n",
    "EM_choose10wk = convert_RR(EM_choose10wk)"
   ]
  },
  {
   "cell_type": "markdown",
   "id": "ed5ec5ac",
   "metadata": {},
   "source": [
    "Store results:"
   ]
  },
  {
   "cell_type": "code",
   "execution_count": 150,
   "id": "bd3ba9a2",
   "metadata": {},
   "outputs": [
    {
     "data": {
      "text/html": [
       "<div>\n",
       "<style scoped>\n",
       "    .dataframe tbody tr th:only-of-type {\n",
       "        vertical-align: middle;\n",
       "    }\n",
       "\n",
       "    .dataframe tbody tr th {\n",
       "        vertical-align: top;\n",
       "    }\n",
       "\n",
       "    .dataframe thead th {\n",
       "        text-align: right;\n",
       "    }\n",
       "</style>\n",
       "<table border=\"1\" class=\"dataframe\">\n",
       "  <thead>\n",
       "    <tr style=\"text-align: right;\">\n",
       "      <th></th>\n",
       "      <th>Suppression type</th>\n",
       "      <th>1wk</th>\n",
       "      <th>2wk</th>\n",
       "      <th>3wk</th>\n",
       "      <th>4wk</th>\n",
       "      <th>5wk</th>\n",
       "      <th>6wk</th>\n",
       "      <th>7wk</th>\n",
       "      <th>8wk</th>\n",
       "      <th>9wk</th>\n",
       "      <th>10wk</th>\n",
       "    </tr>\n",
       "  </thead>\n",
       "  <tbody>\n",
       "    <tr>\n",
       "      <th>0</th>\n",
       "      <td>RIDL</td>\n",
       "      <td>0.0675</td>\n",
       "      <td>0.0600</td>\n",
       "      <td>0.0525</td>\n",
       "      <td>0.0475</td>\n",
       "      <td>0.0425</td>\n",
       "      <td>0.0075</td>\n",
       "      <td>0.0050</td>\n",
       "      <td>0.0025</td>\n",
       "      <td>0.0025</td>\n",
       "      <td>0.0025</td>\n",
       "    </tr>\n",
       "    <tr>\n",
       "      <th>1</th>\n",
       "      <td>SIT</td>\n",
       "      <td>0.0650</td>\n",
       "      <td>0.0575</td>\n",
       "      <td>0.0500</td>\n",
       "      <td>0.0450</td>\n",
       "      <td>0.0400</td>\n",
       "      <td>0.0075</td>\n",
       "      <td>0.0050</td>\n",
       "      <td>0.0050</td>\n",
       "      <td>0.0025</td>\n",
       "      <td>0.0025</td>\n",
       "    </tr>\n",
       "    <tr>\n",
       "      <th>2</th>\n",
       "      <td>IIT</td>\n",
       "      <td>0.0500</td>\n",
       "      <td>0.0350</td>\n",
       "      <td>0.0250</td>\n",
       "      <td>0.0175</td>\n",
       "      <td>0.0125</td>\n",
       "      <td>0.0025</td>\n",
       "      <td>0.0025</td>\n",
       "      <td>0.0025</td>\n",
       "      <td>0.0025</td>\n",
       "      <td>0.0025</td>\n",
       "    </tr>\n",
       "    <tr>\n",
       "      <th>3</th>\n",
       "      <td>EM</td>\n",
       "      <td>0.0725</td>\n",
       "      <td>0.0700</td>\n",
       "      <td>0.0675</td>\n",
       "      <td>0.0650</td>\n",
       "      <td>0.0625</td>\n",
       "      <td>0.0600</td>\n",
       "      <td>0.0600</td>\n",
       "      <td>0.0575</td>\n",
       "      <td>0.0575</td>\n",
       "      <td>0.0575</td>\n",
       "    </tr>\n",
       "  </tbody>\n",
       "</table>\n",
       "</div>"
      ],
      "text/plain": [
       "  Suppression type     1wk     2wk     3wk     4wk     5wk     6wk     7wk  \\\n",
       "0             RIDL  0.0675  0.0600  0.0525  0.0475  0.0425  0.0075  0.0050   \n",
       "1              SIT  0.0650  0.0575  0.0500  0.0450  0.0400  0.0075  0.0050   \n",
       "2              IIT  0.0500  0.0350  0.0250  0.0175  0.0125  0.0025  0.0025   \n",
       "3               EM  0.0725  0.0700  0.0675  0.0650  0.0625  0.0600  0.0600   \n",
       "\n",
       "      8wk     9wk    10wk  \n",
       "0  0.0025  0.0025  0.0025  \n",
       "1  0.0050  0.0025  0.0025  \n",
       "2  0.0025  0.0025  0.0025  \n",
       "3  0.0575  0.0575  0.0575  "
      ]
     },
     "execution_count": 150,
     "metadata": {},
     "output_type": "execute_result"
    }
   ],
   "source": [
    "EM_week = {'Suppression type': 'EM', '1wk': EM_choose1wk, '2wk': EM_choose2wk, '3wk': EM_choose3wk,\n",
    "           '4wk': EM_choose4wk, '5wk': EM_choose5wk, '6wk': EM_choose6wk, '7wk': EM_choose7wk,\n",
    "           '8wk': EM_choose8wk, '9wk': EM_choose9wk, '10wk': EM_choose10wk}\n",
    "weekfig_df = weekfig_df.append(EM_week, ignore_index=True)\n",
    "\n",
    "weekfig_df"
   ]
  },
  {
   "cell_type": "code",
   "execution_count": 151,
   "id": "e3af46fa",
   "metadata": {},
   "outputs": [],
   "source": [
    "# switch off\n",
    "\n",
    "start_em = start_wol-(7*5)\n",
    "stop_em = 200\n",
    "em_eff = 1\n",
    "\n",
    "def em(t):\n",
    "    if round(t) < start_em:     #start\n",
    "        return 1\n",
    "    elif round(t) > stop_em:    #stop releases\n",
    "        return 1\n",
    "    else:\n",
    "        return em_eff"
   ]
  },
  {
   "cell_type": "markdown",
   "id": "4a2e3280",
   "metadata": {},
   "source": [
    "### Larvicide:"
   ]
  },
  {
   "cell_type": "code",
   "execution_count": 152,
   "id": "a2069c03",
   "metadata": {},
   "outputs": [],
   "source": [
    "LV_df = pd.read_csv(f'{filepath}/LV_df.csv')"
   ]
  },
  {
   "cell_type": "code",
   "execution_count": 153,
   "id": "7e7c7ba4",
   "metadata": {},
   "outputs": [],
   "source": [
    "start_lv = start_wol-(7*1)\n",
    "stop_lv = 200\n",
    "lv_eff = list(LV_df.loc[LV_df['Target efficacy'] == 45, 'Efficacy parameter'])\n",
    "lv_eff = lv_eff[0]\n",
    "\n",
    "def lv(t):\n",
    "    if round(t) < start_lv:     #start\n",
    "        return 1\n",
    "    elif round(t) > stop_lv:    #stop releases\n",
    "        return 1\n",
    "    else:\n",
    "        return lv_eff"
   ]
  },
  {
   "cell_type": "code",
   "execution_count": 154,
   "id": "42384165",
   "metadata": {},
   "outputs": [
    {
     "name": "stdout",
     "output_type": "stream",
     "text": [
      "processing time: 5.65 seconds\n"
     ]
    }
   ],
   "source": [
    "start_time = time.time()\n",
    "\n",
    "RR_vec = [0.00047,0.00134,0.00258,0.00418,0.00612,0.00842,0.01108,0.01408,0.01745,0.02115,0.0252,0.0296,0.03437,0.03945,0.04495,0.0507,0.0569,0.0634,0.0703,0.0775,0.085,0.093,0.10125,0.1098,0.1188,0.1281,0.1378,0.1478,0.1582,0.169,0.18,0.1915,0.203,0.215,0.2277,0.2405,0.2538,0.2672,0.2811,0.2953]\n",
    "zoo = [] #capture results here\n",
    "start_wol = 200\n",
    "\n",
    "for i in RR_vec:\n",
    "        \n",
    "    RR = i\n",
    "        \n",
    "    # run the model\n",
    "    t = np.linspace(0, 1500, 1501) # Grid of time points (in days)\n",
    "    y0 = O0, OW0, rOW0, OS0, L0, LW0, rLW0, LS0, P0, PW0, rPW0, PS0, M0, MW0, MS0, F0, FW0 # Init condition vector\n",
    "    ret = odeint(deriv, y0, t,args=(fCI, MT, c, e, phi, alphaO, muO, AA, BB, alphaL, alphaP, muP, muM, muF, RR, RRsupp, pulseN, IIT, SIT, em, lv, ad, cv, switch),hmax=1)\n",
    "    O, OW, rOW, OS, L, LW, rLW, LS, P, PW, rPW, PS, M, MW, MS, F, FW = ret.T\n",
    "\n",
    "    # get output\n",
    "    total = MW+FW+M+F\n",
    "    prop = (MW+FW)/(MW+FW+M+F)\n",
    "    \n",
    "    \n",
    "    fix = np.argwhere(prop > 0.95)\n",
    "    if sum(fix) > 0:\n",
    "        min_fix = min(fix)-start_wol\n",
    "        min_fix = min_fix.tolist()\n",
    "    else:\n",
    "        min_fix = [99999] #occurs if no fixation\n",
    "        \n",
    "    zoo.append(min_fix)\n",
    "\n",
    "current_time = time.time()\n",
    "elapsed_time = current_time - start_time\n",
    "print('processing time:',round(elapsed_time,2),'seconds')"
   ]
  },
  {
   "cell_type": "code",
   "execution_count": 155,
   "id": "a632d449",
   "metadata": {},
   "outputs": [],
   "source": [
    "zoo2 = [f for sublist in zoo for f in sublist] #flatten\n",
    "sixmonth = next(x for x, val in enumerate(zoo2) if val <= 182.5) #within 6 months\n",
    "LV_choose1wk = RR_vec[sixmonth]\n",
    "LV_choose1wk = convert_RR(LV_choose1wk)"
   ]
  },
  {
   "cell_type": "code",
   "execution_count": 156,
   "id": "c89a16b1",
   "metadata": {},
   "outputs": [],
   "source": [
    "start_lv = start_wol-(7*2)\n",
    "stop_lv = 200\n",
    "lv_eff = list(LV_df.loc[LV_df['Target efficacy'] == 45, 'Efficacy parameter'])\n",
    "lv_eff = lv_eff[0]\n",
    "\n",
    "def lv(t):\n",
    "    if round(t) < start_lv:     #start\n",
    "        return 1\n",
    "    elif round(t) > stop_lv:    #stop releases\n",
    "        return 1\n",
    "    else:\n",
    "        return lv_eff"
   ]
  },
  {
   "cell_type": "code",
   "execution_count": 157,
   "id": "c910eafa",
   "metadata": {},
   "outputs": [
    {
     "name": "stdout",
     "output_type": "stream",
     "text": [
      "processing time: 5.69 seconds\n"
     ]
    }
   ],
   "source": [
    "start_time = time.time()\n",
    "\n",
    "RR_vec = [0.00047,0.00134,0.00258,0.00418,0.00612,0.00842,0.01108,0.01408,0.01745,0.02115,0.0252,0.0296,0.03437,0.03945,0.04495,0.0507,0.0569,0.0634,0.0703,0.0775,0.085,0.093,0.10125,0.1098,0.1188,0.1281,0.1378,0.1478,0.1582,0.169,0.18,0.1915,0.203,0.215,0.2277,0.2405,0.2538,0.2672,0.2811,0.2953]\n",
    "zoo = [] #capture results here\n",
    "start_wol = 200\n",
    "\n",
    "for i in RR_vec:\n",
    "        \n",
    "    RR = i\n",
    "        \n",
    "    # run the model\n",
    "    t = np.linspace(0, 1500, 1501) # Grid of time points (in days)\n",
    "    y0 = O0, OW0, rOW0, OS0, L0, LW0, rLW0, LS0, P0, PW0, rPW0, PS0, M0, MW0, MS0, F0, FW0 # Init condition vector\n",
    "    ret = odeint(deriv, y0, t,args=(fCI, MT, c, e, phi, alphaO, muO, AA, BB, alphaL, alphaP, muP, muM, muF, RR, RRsupp, pulseN, IIT, SIT, em, lv, ad, cv, switch),hmax=1)\n",
    "    O, OW, rOW, OS, L, LW, rLW, LS, P, PW, rPW, PS, M, MW, MS, F, FW = ret.T\n",
    "\n",
    "    # get output\n",
    "    total = MW+FW+M+F\n",
    "    prop = (MW+FW)/(MW+FW+M+F)\n",
    "    \n",
    "    \n",
    "    fix = np.argwhere(prop > 0.95)\n",
    "    if sum(fix) > 0:\n",
    "        min_fix = min(fix)-start_wol\n",
    "        min_fix = min_fix.tolist()\n",
    "    else:\n",
    "        min_fix = [99999] #occurs if no fixation\n",
    "        \n",
    "    zoo.append(min_fix)\n",
    "\n",
    "current_time = time.time()\n",
    "elapsed_time = current_time - start_time\n",
    "print('processing time:',round(elapsed_time,2),'seconds')"
   ]
  },
  {
   "cell_type": "code",
   "execution_count": 158,
   "id": "173bec9c",
   "metadata": {},
   "outputs": [],
   "source": [
    "zoo2 = [f for sublist in zoo for f in sublist] #flatten\n",
    "sixmonth = next(x for x, val in enumerate(zoo2) if val <= 182.5) #within 6 months\n",
    "LV_choose2wk = RR_vec[sixmonth]\n",
    "LV_choose2wk = convert_RR(LV_choose2wk)"
   ]
  },
  {
   "cell_type": "code",
   "execution_count": 159,
   "id": "8bfe50de",
   "metadata": {},
   "outputs": [],
   "source": [
    "start_lv = start_wol-(7*3)\n",
    "stop_lv = 200\n",
    "lv_eff = list(LV_df.loc[LV_df['Target efficacy'] == 45, 'Efficacy parameter'])\n",
    "lv_eff = lv_eff[0]\n",
    "\n",
    "def lv(t):\n",
    "    if round(t) < start_lv:     #start\n",
    "        return 1\n",
    "    elif round(t) > stop_lv:    #stop releases\n",
    "        return 1\n",
    "    else:\n",
    "        return lv_eff"
   ]
  },
  {
   "cell_type": "code",
   "execution_count": 160,
   "id": "cfe14fcd",
   "metadata": {},
   "outputs": [
    {
     "name": "stdout",
     "output_type": "stream",
     "text": [
      "processing time: 5.68 seconds\n"
     ]
    }
   ],
   "source": [
    "start_time = time.time()\n",
    "\n",
    "RR_vec = [0.00047,0.00134,0.00258,0.00418,0.00612,0.00842,0.01108,0.01408,0.01745,0.02115,0.0252,0.0296,0.03437,0.03945,0.04495,0.0507,0.0569,0.0634,0.0703,0.0775,0.085,0.093,0.10125,0.1098,0.1188,0.1281,0.1378,0.1478,0.1582,0.169,0.18,0.1915,0.203,0.215,0.2277,0.2405,0.2538,0.2672,0.2811,0.2953]\n",
    "zoo = [] #capture results here\n",
    "start_wol = 200\n",
    "\n",
    "for i in RR_vec:\n",
    "        \n",
    "    RR = i\n",
    "        \n",
    "    # run the model\n",
    "    t = np.linspace(0, 1500, 1501) # Grid of time points (in days)\n",
    "    y0 = O0, OW0, rOW0, OS0, L0, LW0, rLW0, LS0, P0, PW0, rPW0, PS0, M0, MW0, MS0, F0, FW0 # Init condition vector\n",
    "    ret = odeint(deriv, y0, t,args=(fCI, MT, c, e, phi, alphaO, muO, AA, BB, alphaL, alphaP, muP, muM, muF, RR, RRsupp, pulseN, IIT, SIT, em, lv, ad, cv, switch),hmax=1)\n",
    "    O, OW, rOW, OS, L, LW, rLW, LS, P, PW, rPW, PS, M, MW, MS, F, FW = ret.T\n",
    "\n",
    "    # get output\n",
    "    total = MW+FW+M+F\n",
    "    prop = (MW+FW)/(MW+FW+M+F)\n",
    "    \n",
    "    \n",
    "    fix = np.argwhere(prop > 0.95)\n",
    "    if sum(fix) > 0:\n",
    "        min_fix = min(fix)-start_wol\n",
    "        min_fix = min_fix.tolist()\n",
    "    else:\n",
    "        min_fix = [99999] #occurs if no fixation\n",
    "        \n",
    "    zoo.append(min_fix)\n",
    "\n",
    "current_time = time.time()\n",
    "elapsed_time = current_time - start_time\n",
    "print('processing time:',round(elapsed_time,2),'seconds')"
   ]
  },
  {
   "cell_type": "code",
   "execution_count": 161,
   "id": "26a43cfe",
   "metadata": {},
   "outputs": [],
   "source": [
    "zoo2 = [f for sublist in zoo for f in sublist] #flatten\n",
    "sixmonth = next(x for x, val in enumerate(zoo2) if val <= 182.5) #within 6 months\n",
    "LV_choose3wk = RR_vec[sixmonth]\n",
    "LV_choose3wk = convert_RR(LV_choose3wk)"
   ]
  },
  {
   "cell_type": "code",
   "execution_count": 162,
   "id": "802bd6f0",
   "metadata": {},
   "outputs": [],
   "source": [
    "start_lv = start_wol-(7*4)\n",
    "stop_lv = 200\n",
    "lv_eff = list(LV_df.loc[LV_df['Target efficacy'] == 45, 'Efficacy parameter'])\n",
    "lv_eff = lv_eff[0]\n",
    "\n",
    "def lv(t):\n",
    "    if round(t) < start_lv:     #start\n",
    "        return 1\n",
    "    elif round(t) > stop_lv:    #stop releases\n",
    "        return 1\n",
    "    else:\n",
    "        return lv_eff"
   ]
  },
  {
   "cell_type": "code",
   "execution_count": 163,
   "id": "0a76aa28",
   "metadata": {},
   "outputs": [
    {
     "name": "stdout",
     "output_type": "stream",
     "text": [
      "processing time: 5.64 seconds\n"
     ]
    }
   ],
   "source": [
    "start_time = time.time()\n",
    "\n",
    "RR_vec = [0.00047,0.00134,0.00258,0.00418,0.00612,0.00842,0.01108,0.01408,0.01745,0.02115,0.0252,0.0296,0.03437,0.03945,0.04495,0.0507,0.0569,0.0634,0.0703,0.0775,0.085,0.093,0.10125,0.1098,0.1188,0.1281,0.1378,0.1478,0.1582,0.169,0.18,0.1915,0.203,0.215,0.2277,0.2405,0.2538,0.2672,0.2811,0.2953]\n",
    "zoo = [] #capture results here\n",
    "start_wol = 200\n",
    "\n",
    "for i in RR_vec:\n",
    "        \n",
    "    RR = i\n",
    "        \n",
    "    # run the model\n",
    "    t = np.linspace(0, 1500, 1501) # Grid of time points (in days)\n",
    "    y0 = O0, OW0, rOW0, OS0, L0, LW0, rLW0, LS0, P0, PW0, rPW0, PS0, M0, MW0, MS0, F0, FW0 # Init condition vector\n",
    "    ret = odeint(deriv, y0, t,args=(fCI, MT, c, e, phi, alphaO, muO, AA, BB, alphaL, alphaP, muP, muM, muF, RR, RRsupp, pulseN, IIT, SIT, em, lv, ad, cv, switch),hmax=1)\n",
    "    O, OW, rOW, OS, L, LW, rLW, LS, P, PW, rPW, PS, M, MW, MS, F, FW = ret.T\n",
    "\n",
    "    # get output\n",
    "    total = MW+FW+M+F\n",
    "    prop = (MW+FW)/(MW+FW+M+F)\n",
    "    \n",
    "    \n",
    "    fix = np.argwhere(prop > 0.95)\n",
    "    if sum(fix) > 0:\n",
    "        min_fix = min(fix)-start_wol\n",
    "        min_fix = min_fix.tolist()\n",
    "    else:\n",
    "        min_fix = [99999] #occurs if no fixation\n",
    "        \n",
    "    zoo.append(min_fix)\n",
    "\n",
    "current_time = time.time()\n",
    "elapsed_time = current_time - start_time\n",
    "print('processing time:',round(elapsed_time,2),'seconds')"
   ]
  },
  {
   "cell_type": "code",
   "execution_count": 164,
   "id": "ed2f06ad",
   "metadata": {},
   "outputs": [],
   "source": [
    "zoo2 = [f for sublist in zoo for f in sublist] #flatten\n",
    "sixmonth = next(x for x, val in enumerate(zoo2) if val <= 182.5) #within 6 months\n",
    "LV_choose4wk = RR_vec[sixmonth]\n",
    "LV_choose4wk = convert_RR(LV_choose4wk)"
   ]
  },
  {
   "cell_type": "code",
   "execution_count": 165,
   "id": "376180c3",
   "metadata": {},
   "outputs": [],
   "source": [
    "start_lv = start_wol-(7*5)\n",
    "stop_lv = 200\n",
    "lv_eff = list(LV_df.loc[LV_df['Target efficacy'] == 45, 'Efficacy parameter'])\n",
    "lv_eff = lv_eff[0]\n",
    "\n",
    "def lv(t):\n",
    "    if round(t) < start_lv:     #start\n",
    "        return 1\n",
    "    elif round(t) > stop_lv:    #stop releases\n",
    "        return 1\n",
    "    else:\n",
    "        return lv_eff"
   ]
  },
  {
   "cell_type": "code",
   "execution_count": 166,
   "id": "fe152e68",
   "metadata": {},
   "outputs": [
    {
     "name": "stdout",
     "output_type": "stream",
     "text": [
      "processing time: 5.71 seconds\n"
     ]
    }
   ],
   "source": [
    "start_time = time.time()\n",
    "\n",
    "RR_vec = [0.00047,0.00134,0.00258,0.00418,0.00612,0.00842,0.01108,0.01408,0.01745,0.02115,0.0252,0.0296,0.03437,0.03945,0.04495,0.0507,0.0569,0.0634,0.0703,0.0775,0.085,0.093,0.10125,0.1098,0.1188,0.1281,0.1378,0.1478,0.1582,0.169,0.18,0.1915,0.203,0.215,0.2277,0.2405,0.2538,0.2672,0.2811,0.2953]\n",
    "zoo = [] #capture results here\n",
    "start_wol = 200\n",
    "\n",
    "for i in RR_vec:\n",
    "        \n",
    "    RR = i\n",
    "        \n",
    "    # run the model\n",
    "    t = np.linspace(0, 1500, 1501) # Grid of time points (in days)\n",
    "    y0 = O0, OW0, rOW0, OS0, L0, LW0, rLW0, LS0, P0, PW0, rPW0, PS0, M0, MW0, MS0, F0, FW0 # Init condition vector\n",
    "    ret = odeint(deriv, y0, t,args=(fCI, MT, c, e, phi, alphaO, muO, AA, BB, alphaL, alphaP, muP, muM, muF, RR, RRsupp, pulseN, IIT, SIT, em, lv, ad, cv, switch),hmax=1)\n",
    "    O, OW, rOW, OS, L, LW, rLW, LS, P, PW, rPW, PS, M, MW, MS, F, FW = ret.T\n",
    "\n",
    "    # get output\n",
    "    total = MW+FW+M+F\n",
    "    prop = (MW+FW)/(MW+FW+M+F)\n",
    "    \n",
    "    \n",
    "    fix = np.argwhere(prop > 0.95)\n",
    "    if sum(fix) > 0:\n",
    "        min_fix = min(fix)-start_wol\n",
    "        min_fix = min_fix.tolist()\n",
    "    else:\n",
    "        min_fix = [99999] #occurs if no fixation\n",
    "        \n",
    "    zoo.append(min_fix)\n",
    "\n",
    "current_time = time.time()\n",
    "elapsed_time = current_time - start_time\n",
    "print('processing time:',round(elapsed_time,2),'seconds')"
   ]
  },
  {
   "cell_type": "code",
   "execution_count": 167,
   "id": "e52d9075",
   "metadata": {},
   "outputs": [],
   "source": [
    "zoo2 = [f for sublist in zoo for f in sublist] #flatten\n",
    "sixmonth = next(x for x, val in enumerate(zoo2) if val <= 182.5) #within 6 months\n",
    "LV_choose5wk = RR_vec[sixmonth]\n",
    "LV_choose5wk = convert_RR(LV_choose5wk)"
   ]
  },
  {
   "cell_type": "code",
   "execution_count": 168,
   "id": "8e843782",
   "metadata": {},
   "outputs": [],
   "source": [
    "start_lv = start_wol-(7*6)\n",
    "stop_lv = 200\n",
    "lv_eff = list(LV_df.loc[LV_df['Target efficacy'] == 45, 'Efficacy parameter'])\n",
    "lv_eff = lv_eff[0]\n",
    "\n",
    "def lv(t):\n",
    "    if round(t) < start_lv:     #start\n",
    "        return 1\n",
    "    elif round(t) > stop_lv:    #stop releases\n",
    "        return 1\n",
    "    else:\n",
    "        return lv_eff"
   ]
  },
  {
   "cell_type": "code",
   "execution_count": 169,
   "id": "ccdd1409",
   "metadata": {},
   "outputs": [
    {
     "name": "stdout",
     "output_type": "stream",
     "text": [
      "processing time: 5.68 seconds\n"
     ]
    }
   ],
   "source": [
    "start_time = time.time()\n",
    "\n",
    "RR_vec = [0.00047,0.00134,0.00258,0.00418,0.00612,0.00842,0.01108,0.01408,0.01745,0.02115,0.0252,0.0296,0.03437,0.03945,0.04495,0.0507,0.0569,0.0634,0.0703,0.0775,0.085,0.093,0.10125,0.1098,0.1188,0.1281,0.1378,0.1478,0.1582,0.169,0.18,0.1915,0.203,0.215,0.2277,0.2405,0.2538,0.2672,0.2811,0.2953]\n",
    "zoo = [] #capture results here\n",
    "start_wol = 200\n",
    "\n",
    "for i in RR_vec:\n",
    "        \n",
    "    RR = i\n",
    "        \n",
    "    # run the model\n",
    "    t = np.linspace(0, 1500, 1501) # Grid of time points (in days)\n",
    "    y0 = O0, OW0, rOW0, OS0, L0, LW0, rLW0, LS0, P0, PW0, rPW0, PS0, M0, MW0, MS0, F0, FW0 # Init condition vector\n",
    "    ret = odeint(deriv, y0, t,args=(fCI, MT, c, e, phi, alphaO, muO, AA, BB, alphaL, alphaP, muP, muM, muF, RR, RRsupp, pulseN, IIT, SIT, em, lv, ad, cv, switch),hmax=1)\n",
    "    O, OW, rOW, OS, L, LW, rLW, LS, P, PW, rPW, PS, M, MW, MS, F, FW = ret.T\n",
    "\n",
    "    # get output\n",
    "    total = MW+FW+M+F\n",
    "    prop = (MW+FW)/(MW+FW+M+F)\n",
    "    \n",
    "    \n",
    "    fix = np.argwhere(prop > 0.95)\n",
    "    if sum(fix) > 0:\n",
    "        min_fix = min(fix)-start_wol\n",
    "        min_fix = min_fix.tolist()\n",
    "    else:\n",
    "        min_fix = [99999] #occurs if no fixation\n",
    "        \n",
    "    zoo.append(min_fix)\n",
    "\n",
    "current_time = time.time()\n",
    "elapsed_time = current_time - start_time\n",
    "print('processing time:',round(elapsed_time,2),'seconds')"
   ]
  },
  {
   "cell_type": "code",
   "execution_count": 170,
   "id": "f9c92bc9",
   "metadata": {},
   "outputs": [],
   "source": [
    "zoo2 = [f for sublist in zoo for f in sublist] #flatten\n",
    "sixmonth = next(x for x, val in enumerate(zoo2) if val <= 182.5) #within 6 months\n",
    "LV_choose6wk = RR_vec[sixmonth]\n",
    "LV_choose6wk = convert_RR(LV_choose6wk)"
   ]
  },
  {
   "cell_type": "code",
   "execution_count": 171,
   "id": "7c165983",
   "metadata": {},
   "outputs": [],
   "source": [
    "start_lv = start_wol-(7*7)\n",
    "stop_lv = 200\n",
    "lv_eff = list(LV_df.loc[LV_df['Target efficacy'] == 45, 'Efficacy parameter'])\n",
    "lv_eff = lv_eff[0]\n",
    "\n",
    "def lv(t):\n",
    "    if round(t) < start_lv:     #start\n",
    "        return 1\n",
    "    elif round(t) > stop_lv:    #stop releases\n",
    "        return 1\n",
    "    else:\n",
    "        return lv_eff"
   ]
  },
  {
   "cell_type": "code",
   "execution_count": 172,
   "id": "357f0fe2",
   "metadata": {},
   "outputs": [
    {
     "name": "stdout",
     "output_type": "stream",
     "text": [
      "processing time: 5.76 seconds\n"
     ]
    }
   ],
   "source": [
    "start_time = time.time()\n",
    "\n",
    "RR_vec = [0.00047,0.00134,0.00258,0.00418,0.00612,0.00842,0.01108,0.01408,0.01745,0.02115,0.0252,0.0296,0.03437,0.03945,0.04495,0.0507,0.0569,0.0634,0.0703,0.0775,0.085,0.093,0.10125,0.1098,0.1188,0.1281,0.1378,0.1478,0.1582,0.169,0.18,0.1915,0.203,0.215,0.2277,0.2405,0.2538,0.2672,0.2811,0.2953]\n",
    "zoo = [] #capture results here\n",
    "start_wol = 200\n",
    "\n",
    "for i in RR_vec:\n",
    "        \n",
    "    RR = i\n",
    "        \n",
    "    # run the model\n",
    "    t = np.linspace(0, 1500, 1501) # Grid of time points (in days)\n",
    "    y0 = O0, OW0, rOW0, OS0, L0, LW0, rLW0, LS0, P0, PW0, rPW0, PS0, M0, MW0, MS0, F0, FW0 # Init condition vector\n",
    "    ret = odeint(deriv, y0, t,args=(fCI, MT, c, e, phi, alphaO, muO, AA, BB, alphaL, alphaP, muP, muM, muF, RR, RRsupp, pulseN, IIT, SIT, em, lv, ad, cv, switch),hmax=1)\n",
    "    O, OW, rOW, OS, L, LW, rLW, LS, P, PW, rPW, PS, M, MW, MS, F, FW = ret.T\n",
    "\n",
    "    # get output\n",
    "    total = MW+FW+M+F\n",
    "    prop = (MW+FW)/(MW+FW+M+F)\n",
    "    \n",
    "    \n",
    "    fix = np.argwhere(prop > 0.95)\n",
    "    if sum(fix) > 0:\n",
    "        min_fix = min(fix)-start_wol\n",
    "        min_fix = min_fix.tolist()\n",
    "    else:\n",
    "        min_fix = [99999] #occurs if no fixation\n",
    "        \n",
    "    zoo.append(min_fix)\n",
    "\n",
    "current_time = time.time()\n",
    "elapsed_time = current_time - start_time\n",
    "print('processing time:',round(elapsed_time,2),'seconds')"
   ]
  },
  {
   "cell_type": "code",
   "execution_count": 173,
   "id": "6021ec3e",
   "metadata": {},
   "outputs": [],
   "source": [
    "zoo2 = [f for sublist in zoo for f in sublist] #flatten\n",
    "sixmonth = next(x for x, val in enumerate(zoo2) if val <= 182.5) #within 6 months\n",
    "LV_choose7wk = RR_vec[sixmonth]\n",
    "LV_choose7wk = convert_RR(LV_choose7wk)"
   ]
  },
  {
   "cell_type": "code",
   "execution_count": 174,
   "id": "8c6c9124",
   "metadata": {},
   "outputs": [],
   "source": [
    "start_lv = start_wol-(7*8)\n",
    "stop_lv = 200\n",
    "lv_eff = list(LV_df.loc[LV_df['Target efficacy'] == 45, 'Efficacy parameter'])\n",
    "lv_eff = lv_eff[0]\n",
    "\n",
    "def lv(t):\n",
    "    if round(t) < start_lv:     #start\n",
    "        return 1\n",
    "    elif round(t) > stop_lv:    #stop releases\n",
    "        return 1\n",
    "    else:\n",
    "        return lv_eff"
   ]
  },
  {
   "cell_type": "code",
   "execution_count": 175,
   "id": "f969871d",
   "metadata": {},
   "outputs": [
    {
     "name": "stdout",
     "output_type": "stream",
     "text": [
      "processing time: 5.74 seconds\n"
     ]
    }
   ],
   "source": [
    "start_time = time.time()\n",
    "\n",
    "RR_vec = [0.00047,0.00134,0.00258,0.00418,0.00612,0.00842,0.01108,0.01408,0.01745,0.02115,0.0252,0.0296,0.03437,0.03945,0.04495,0.0507,0.0569,0.0634,0.0703,0.0775,0.085,0.093,0.10125,0.1098,0.1188,0.1281,0.1378,0.1478,0.1582,0.169,0.18,0.1915,0.203,0.215,0.2277,0.2405,0.2538,0.2672,0.2811,0.2953]\n",
    "zoo = [] #capture results here\n",
    "start_wol = 200\n",
    "\n",
    "for i in RR_vec:\n",
    "        \n",
    "    RR = i\n",
    "        \n",
    "    # run the model\n",
    "    t = np.linspace(0, 1500, 1501) # Grid of time points (in days)\n",
    "    y0 = O0, OW0, rOW0, OS0, L0, LW0, rLW0, LS0, P0, PW0, rPW0, PS0, M0, MW0, MS0, F0, FW0 # Init condition vector\n",
    "    ret = odeint(deriv, y0, t,args=(fCI, MT, c, e, phi, alphaO, muO, AA, BB, alphaL, alphaP, muP, muM, muF, RR, RRsupp, pulseN, IIT, SIT, em, lv, ad, cv, switch),hmax=1)\n",
    "    O, OW, rOW, OS, L, LW, rLW, LS, P, PW, rPW, PS, M, MW, MS, F, FW = ret.T\n",
    "\n",
    "    # get output\n",
    "    total = MW+FW+M+F\n",
    "    prop = (MW+FW)/(MW+FW+M+F)\n",
    "    \n",
    "    \n",
    "    fix = np.argwhere(prop > 0.95)\n",
    "    if sum(fix) > 0:\n",
    "        min_fix = min(fix)-start_wol\n",
    "        min_fix = min_fix.tolist()\n",
    "    else:\n",
    "        min_fix = [99999] #occurs if no fixation\n",
    "        \n",
    "    zoo.append(min_fix)\n",
    "\n",
    "current_time = time.time()\n",
    "elapsed_time = current_time - start_time\n",
    "print('processing time:',round(elapsed_time,2),'seconds')"
   ]
  },
  {
   "cell_type": "code",
   "execution_count": 176,
   "id": "542ba6ae",
   "metadata": {},
   "outputs": [],
   "source": [
    "zoo2 = [f for sublist in zoo for f in sublist] #flatten\n",
    "sixmonth = next(x for x, val in enumerate(zoo2) if val <= 182.5) #within 6 months\n",
    "LV_choose8wk = RR_vec[sixmonth]\n",
    "LV_choose8wk = convert_RR(LV_choose8wk)"
   ]
  },
  {
   "cell_type": "code",
   "execution_count": 177,
   "id": "60bff543",
   "metadata": {},
   "outputs": [],
   "source": [
    "start_lv = start_wol-(7*9)\n",
    "stop_lv = 200\n",
    "lv_eff = list(LV_df.loc[LV_df['Target efficacy'] == 45, 'Efficacy parameter'])\n",
    "lv_eff = lv_eff[0]\n",
    "\n",
    "def lv(t):\n",
    "    if round(t) < start_lv:     #start\n",
    "        return 1\n",
    "    elif round(t) > stop_lv:    #stop releases\n",
    "        return 1\n",
    "    else:\n",
    "        return lv_eff"
   ]
  },
  {
   "cell_type": "code",
   "execution_count": 178,
   "id": "d7b55515",
   "metadata": {},
   "outputs": [
    {
     "name": "stdout",
     "output_type": "stream",
     "text": [
      "processing time: 5.77 seconds\n"
     ]
    }
   ],
   "source": [
    "start_time = time.time()\n",
    "\n",
    "RR_vec = [0.00047,0.00134,0.00258,0.00418,0.00612,0.00842,0.01108,0.01408,0.01745,0.02115,0.0252,0.0296,0.03437,0.03945,0.04495,0.0507,0.0569,0.0634,0.0703,0.0775,0.085,0.093,0.10125,0.1098,0.1188,0.1281,0.1378,0.1478,0.1582,0.169,0.18,0.1915,0.203,0.215,0.2277,0.2405,0.2538,0.2672,0.2811,0.2953]\n",
    "zoo = [] #capture results here\n",
    "start_wol = 200\n",
    "\n",
    "for i in RR_vec:\n",
    "        \n",
    "    RR = i\n",
    "        \n",
    "    # run the model\n",
    "    t = np.linspace(0, 1500, 1501) # Grid of time points (in days)\n",
    "    y0 = O0, OW0, rOW0, OS0, L0, LW0, rLW0, LS0, P0, PW0, rPW0, PS0, M0, MW0, MS0, F0, FW0 # Init condition vector\n",
    "    ret = odeint(deriv, y0, t,args=(fCI, MT, c, e, phi, alphaO, muO, AA, BB, alphaL, alphaP, muP, muM, muF, RR, RRsupp, pulseN, IIT, SIT, em, lv, ad, cv, switch),hmax=1)\n",
    "    O, OW, rOW, OS, L, LW, rLW, LS, P, PW, rPW, PS, M, MW, MS, F, FW = ret.T\n",
    "\n",
    "    # get output\n",
    "    total = MW+FW+M+F\n",
    "    prop = (MW+FW)/(MW+FW+M+F)\n",
    "    \n",
    "    \n",
    "    fix = np.argwhere(prop > 0.95)\n",
    "    if sum(fix) > 0:\n",
    "        min_fix = min(fix)-start_wol\n",
    "        min_fix = min_fix.tolist()\n",
    "    else:\n",
    "        min_fix = [99999] #occurs if no fixation\n",
    "        \n",
    "    zoo.append(min_fix)\n",
    "\n",
    "current_time = time.time()\n",
    "elapsed_time = current_time - start_time\n",
    "print('processing time:',round(elapsed_time,2),'seconds')"
   ]
  },
  {
   "cell_type": "code",
   "execution_count": 179,
   "id": "6bb461ec",
   "metadata": {},
   "outputs": [],
   "source": [
    "zoo2 = [f for sublist in zoo for f in sublist] #flatten\n",
    "sixmonth = next(x for x, val in enumerate(zoo2) if val <= 182.5) #within 6 months\n",
    "LV_choose9wk = RR_vec[sixmonth]\n",
    "LV_choose9wk = convert_RR(LV_choose9wk)"
   ]
  },
  {
   "cell_type": "code",
   "execution_count": 180,
   "id": "47b6ca66",
   "metadata": {},
   "outputs": [],
   "source": [
    "start_lv = start_wol-(7*10)\n",
    "stop_lv = 200\n",
    "lv_eff = list(LV_df.loc[LV_df['Target efficacy'] == 45, 'Efficacy parameter'])\n",
    "lv_eff = lv_eff[0]\n",
    "\n",
    "def lv(t):\n",
    "    if round(t) < start_lv:     #start\n",
    "        return 1\n",
    "    elif round(t) > stop_lv:    #stop releases\n",
    "        return 1\n",
    "    else:\n",
    "        return lv_eff"
   ]
  },
  {
   "cell_type": "code",
   "execution_count": 181,
   "id": "1da9dade",
   "metadata": {},
   "outputs": [
    {
     "name": "stdout",
     "output_type": "stream",
     "text": [
      "processing time: 7.36 seconds\n"
     ]
    }
   ],
   "source": [
    "start_time = time.time()\n",
    "\n",
    "RR_vec = [0.00047,0.00134,0.00258,0.00418,0.00612,0.00842,0.01108,0.01408,0.01745,0.02115,0.0252,0.0296,0.03437,0.03945,0.04495,0.0507,0.0569,0.0634,0.0703,0.0775,0.085,0.093,0.10125,0.1098,0.1188,0.1281,0.1378,0.1478,0.1582,0.169,0.18,0.1915,0.203,0.215,0.2277,0.2405,0.2538,0.2672,0.2811,0.2953]\n",
    "zoo = [] #capture results here\n",
    "start_wol = 200\n",
    "\n",
    "for i in RR_vec:\n",
    "        \n",
    "    RR = i\n",
    "        \n",
    "    # run the model\n",
    "    t = np.linspace(0, 1500, 1501) # Grid of time points (in days)\n",
    "    y0 = O0, OW0, rOW0, OS0, L0, LW0, rLW0, LS0, P0, PW0, rPW0, PS0, M0, MW0, MS0, F0, FW0 # Init condition vector\n",
    "    ret = odeint(deriv, y0, t,args=(fCI, MT, c, e, phi, alphaO, muO, AA, BB, alphaL, alphaP, muP, muM, muF, RR, RRsupp, pulseN, IIT, SIT, em, lv, ad, cv, switch),hmax=1)\n",
    "    O, OW, rOW, OS, L, LW, rLW, LS, P, PW, rPW, PS, M, MW, MS, F, FW = ret.T\n",
    "\n",
    "    # get output\n",
    "    total = MW+FW+M+F\n",
    "    prop = (MW+FW)/(MW+FW+M+F)\n",
    "    \n",
    "    \n",
    "    fix = np.argwhere(prop > 0.95)\n",
    "    if sum(fix) > 0:\n",
    "        min_fix = min(fix)-start_wol\n",
    "        min_fix = min_fix.tolist()\n",
    "    else:\n",
    "        min_fix = [99999] #occurs if no fixation\n",
    "        \n",
    "    zoo.append(min_fix)\n",
    "\n",
    "current_time = time.time()\n",
    "elapsed_time = current_time - start_time\n",
    "print('processing time:',round(elapsed_time,2),'seconds')"
   ]
  },
  {
   "cell_type": "code",
   "execution_count": 182,
   "id": "b64f0491",
   "metadata": {},
   "outputs": [],
   "source": [
    "zoo2 = [f for sublist in zoo for f in sublist] #flatten\n",
    "sixmonth = next(x for x, val in enumerate(zoo2) if val <= 182.5) #within 6 months\n",
    "LV_choose10wk = RR_vec[sixmonth]\n",
    "LV_choose10wk = convert_RR(LV_choose10wk)"
   ]
  },
  {
   "cell_type": "markdown",
   "id": "588ecf02",
   "metadata": {},
   "source": [
    "Store results:"
   ]
  },
  {
   "cell_type": "code",
   "execution_count": 183,
   "id": "daab2288",
   "metadata": {},
   "outputs": [
    {
     "data": {
      "text/html": [
       "<div>\n",
       "<style scoped>\n",
       "    .dataframe tbody tr th:only-of-type {\n",
       "        vertical-align: middle;\n",
       "    }\n",
       "\n",
       "    .dataframe tbody tr th {\n",
       "        vertical-align: top;\n",
       "    }\n",
       "\n",
       "    .dataframe thead th {\n",
       "        text-align: right;\n",
       "    }\n",
       "</style>\n",
       "<table border=\"1\" class=\"dataframe\">\n",
       "  <thead>\n",
       "    <tr style=\"text-align: right;\">\n",
       "      <th></th>\n",
       "      <th>Suppression type</th>\n",
       "      <th>1wk</th>\n",
       "      <th>2wk</th>\n",
       "      <th>3wk</th>\n",
       "      <th>4wk</th>\n",
       "      <th>5wk</th>\n",
       "      <th>6wk</th>\n",
       "      <th>7wk</th>\n",
       "      <th>8wk</th>\n",
       "      <th>9wk</th>\n",
       "      <th>10wk</th>\n",
       "    </tr>\n",
       "  </thead>\n",
       "  <tbody>\n",
       "    <tr>\n",
       "      <th>0</th>\n",
       "      <td>RIDL</td>\n",
       "      <td>0.0675</td>\n",
       "      <td>0.0600</td>\n",
       "      <td>0.0525</td>\n",
       "      <td>0.0475</td>\n",
       "      <td>0.0425</td>\n",
       "      <td>0.0075</td>\n",
       "      <td>0.0050</td>\n",
       "      <td>0.0025</td>\n",
       "      <td>0.0025</td>\n",
       "      <td>0.0025</td>\n",
       "    </tr>\n",
       "    <tr>\n",
       "      <th>1</th>\n",
       "      <td>SIT</td>\n",
       "      <td>0.0650</td>\n",
       "      <td>0.0575</td>\n",
       "      <td>0.0500</td>\n",
       "      <td>0.0450</td>\n",
       "      <td>0.0400</td>\n",
       "      <td>0.0075</td>\n",
       "      <td>0.0050</td>\n",
       "      <td>0.0050</td>\n",
       "      <td>0.0025</td>\n",
       "      <td>0.0025</td>\n",
       "    </tr>\n",
       "    <tr>\n",
       "      <th>2</th>\n",
       "      <td>IIT</td>\n",
       "      <td>0.0500</td>\n",
       "      <td>0.0350</td>\n",
       "      <td>0.0250</td>\n",
       "      <td>0.0175</td>\n",
       "      <td>0.0125</td>\n",
       "      <td>0.0025</td>\n",
       "      <td>0.0025</td>\n",
       "      <td>0.0025</td>\n",
       "      <td>0.0025</td>\n",
       "      <td>0.0025</td>\n",
       "    </tr>\n",
       "    <tr>\n",
       "      <th>3</th>\n",
       "      <td>EM</td>\n",
       "      <td>0.0725</td>\n",
       "      <td>0.0700</td>\n",
       "      <td>0.0675</td>\n",
       "      <td>0.0650</td>\n",
       "      <td>0.0625</td>\n",
       "      <td>0.0600</td>\n",
       "      <td>0.0600</td>\n",
       "      <td>0.0575</td>\n",
       "      <td>0.0575</td>\n",
       "      <td>0.0575</td>\n",
       "    </tr>\n",
       "    <tr>\n",
       "      <th>4</th>\n",
       "      <td>LV</td>\n",
       "      <td>0.0725</td>\n",
       "      <td>0.0700</td>\n",
       "      <td>0.0675</td>\n",
       "      <td>0.0650</td>\n",
       "      <td>0.0650</td>\n",
       "      <td>0.0625</td>\n",
       "      <td>0.0625</td>\n",
       "      <td>0.0625</td>\n",
       "      <td>0.0600</td>\n",
       "      <td>0.0600</td>\n",
       "    </tr>\n",
       "  </tbody>\n",
       "</table>\n",
       "</div>"
      ],
      "text/plain": [
       "  Suppression type     1wk     2wk     3wk     4wk     5wk     6wk     7wk  \\\n",
       "0             RIDL  0.0675  0.0600  0.0525  0.0475  0.0425  0.0075  0.0050   \n",
       "1              SIT  0.0650  0.0575  0.0500  0.0450  0.0400  0.0075  0.0050   \n",
       "2              IIT  0.0500  0.0350  0.0250  0.0175  0.0125  0.0025  0.0025   \n",
       "3               EM  0.0725  0.0700  0.0675  0.0650  0.0625  0.0600  0.0600   \n",
       "4               LV  0.0725  0.0700  0.0675  0.0650  0.0650  0.0625  0.0625   \n",
       "\n",
       "      8wk     9wk    10wk  \n",
       "0  0.0025  0.0025  0.0025  \n",
       "1  0.0050  0.0025  0.0025  \n",
       "2  0.0025  0.0025  0.0025  \n",
       "3  0.0575  0.0575  0.0575  \n",
       "4  0.0625  0.0600  0.0600  "
      ]
     },
     "execution_count": 183,
     "metadata": {},
     "output_type": "execute_result"
    }
   ],
   "source": [
    "LV_week = {'Suppression type': 'LV', '1wk': LV_choose1wk, '2wk': LV_choose2wk, '3wk': LV_choose3wk,\n",
    "           '4wk': LV_choose4wk, '5wk': LV_choose5wk, '6wk': LV_choose6wk, '7wk': LV_choose7wk,\n",
    "           '8wk': LV_choose8wk, '9wk': LV_choose9wk, '10wk': LV_choose10wk}\n",
    "weekfig_df = weekfig_df.append(LV_week, ignore_index=True)\n",
    "\n",
    "weekfig_df"
   ]
  },
  {
   "cell_type": "code",
   "execution_count": 184,
   "id": "df7d0b9d",
   "metadata": {},
   "outputs": [],
   "source": [
    "# switch off\n",
    "\n",
    "start_lv = start_wol-(7*5)\n",
    "stop_lv = 200\n",
    "lv_eff = 1\n",
    "\n",
    "def lv(t):\n",
    "    if round(t) < start_lv:     #start\n",
    "        return 1\n",
    "    elif round(t) > stop_lv:    #stop releases\n",
    "        return 1\n",
    "    else:\n",
    "        return lv_eff"
   ]
  },
  {
   "cell_type": "markdown",
   "id": "96597562",
   "metadata": {},
   "source": [
    "### Adulticide"
   ]
  },
  {
   "cell_type": "code",
   "execution_count": 185,
   "id": "8eb7fc5d",
   "metadata": {},
   "outputs": [],
   "source": [
    "AD_df = pd.read_csv(f'{filepath}/AD_df.csv')"
   ]
  },
  {
   "cell_type": "code",
   "execution_count": 186,
   "id": "043c16db",
   "metadata": {},
   "outputs": [],
   "source": [
    "h = [] #needed to set adulticide pulses\n",
    "for i in range(0, 1, 1):\n",
    "    h.append((start_wol-7) + (7*i))\n",
    "\n",
    "ad_eff = list(AD_df.loc[AD_df['Target efficacy'] == 94, 'Efficacy parameter'])\n",
    "ad_eff = ad_eff[0]\n",
    "cv = list(AD_df.loc[AD_df['Target efficacy'] == 94, 'Coverage value'])\n",
    "cv = cv[0]\n",
    "    \n",
    "def ad(t):    \n",
    "    if round(t) < h[0]:\n",
    "        return 0\n",
    "    elif round(t) > h[0]+0.01:\n",
    "        return 0\n",
    "    else:\n",
    "        return ad_eff"
   ]
  },
  {
   "cell_type": "code",
   "execution_count": 187,
   "id": "907db5b5",
   "metadata": {},
   "outputs": [
    {
     "name": "stdout",
     "output_type": "stream",
     "text": [
      "processing time: 4.6 seconds\n"
     ]
    }
   ],
   "source": [
    "start_time = time.time()\n",
    "\n",
    "RR_vec = [0.00047,0.00134,0.00258,0.00418,0.00612,0.00842,0.01108,0.01408,0.01745,0.02115,0.0252,0.0296,0.03437,0.03945,0.04495,0.0507,0.0569,0.0634,0.0703,0.0775,0.085,0.093,0.10125,0.1098,0.1188,0.1281,0.1378,0.1478,0.1582,0.169,0.18,0.1915,0.203,0.215,0.2277,0.2405,0.2538,0.2672,0.2811,0.2953]\n",
    "zoo = [] #capture results here\n",
    "start_wol = 200\n",
    "\n",
    "for i in RR_vec:\n",
    "        \n",
    "    RR = i\n",
    "        \n",
    "    # run the model\n",
    "    t = np.linspace(0, 1500, 1501) # Grid of time points (in days)\n",
    "    y0 = O0, OW0, rOW0, OS0, L0, LW0, rLW0, LS0, P0, PW0, rPW0, PS0, M0, MW0, MS0, F0, FW0 # Init condition vector\n",
    "    ret = odeint(deriv, y0, t,args=(fCI, MT, c, e, phi, alphaO, muO, AA, BB, alphaL, alphaP, muP, muM, muF, RR, RRsupp, pulseN, IIT, SIT, em, lv, ad, cv, switch),hmax=1)\n",
    "    O, OW, rOW, OS, L, LW, rLW, LS, P, PW, rPW, PS, M, MW, MS, F, FW = ret.T\n",
    "\n",
    "    # get output\n",
    "    total = MW+FW+M+F\n",
    "    prop = (MW+FW)/(MW+FW+M+F)\n",
    "    \n",
    "    \n",
    "    fix = np.argwhere(prop > 0.95)\n",
    "    if sum(fix) > 0:\n",
    "        min_fix = min(fix)-start_wol\n",
    "        min_fix = min_fix.tolist()\n",
    "    else:\n",
    "        min_fix = [99999] #occurs if no fixation\n",
    "        \n",
    "    zoo.append(min_fix)\n",
    "\n",
    "current_time = time.time()\n",
    "elapsed_time = current_time - start_time\n",
    "print('processing time:',round(elapsed_time,2),'seconds')"
   ]
  },
  {
   "cell_type": "code",
   "execution_count": 188,
   "id": "78d2c47d",
   "metadata": {},
   "outputs": [],
   "source": [
    "zoo2 = [f for sublist in zoo for f in sublist] #flatten\n",
    "sixmonth = next(x for x, val in enumerate(zoo2) if val <= 182.5) #within 6 months\n",
    "AD_choose1wk = RR_vec[sixmonth]\n",
    "AD_choose1wk = convert_RR(AD_choose1wk)"
   ]
  },
  {
   "cell_type": "code",
   "execution_count": 189,
   "id": "316ce529",
   "metadata": {},
   "outputs": [],
   "source": [
    "h = [] #needed to set adulticide pulses\n",
    "for i in range(-1, 1, 1):\n",
    "    h.append((start_wol-7) + (7*i))\n",
    "\n",
    "ad_eff = list(AD_df.loc[AD_df['Target efficacy'] == 94, 'Efficacy parameter'])\n",
    "ad_eff = ad_eff[0]\n",
    "cv = list(AD_df.loc[AD_df['Target efficacy'] == 94, 'Coverage value'])\n",
    "cv = cv[0]\n",
    "    \n",
    "def ad(t):    \n",
    "    if round(t) < h[0]:\n",
    "        return 0\n",
    "    elif round(t) > h[0]+0.01 and round(t) < h[1]:\n",
    "        return 0\n",
    "    elif round(t) > h[1]+0.01:\n",
    "        return 0\n",
    "    else:\n",
    "        return ad_eff"
   ]
  },
  {
   "cell_type": "code",
   "execution_count": 190,
   "id": "6f97c2ce",
   "metadata": {},
   "outputs": [
    {
     "name": "stdout",
     "output_type": "stream",
     "text": [
      "processing time: 5.17 seconds\n"
     ]
    }
   ],
   "source": [
    "start_time = time.time()\n",
    "\n",
    "RR_vec = [0.00047,0.00134,0.00258,0.00418,0.00612,0.00842,0.01108,0.01408,0.01745,0.02115,0.0252,0.0296,0.03437,0.03945,0.04495,0.0507,0.0569,0.0634,0.0703,0.0775,0.085,0.093,0.10125,0.1098,0.1188,0.1281,0.1378,0.1478,0.1582,0.169,0.18,0.1915,0.203,0.215,0.2277,0.2405,0.2538,0.2672,0.2811,0.2953]\n",
    "zoo = [] #capture results here\n",
    "start_wol = 200\n",
    "\n",
    "for i in RR_vec:\n",
    "        \n",
    "    RR = i\n",
    "        \n",
    "    # run the model\n",
    "    t = np.linspace(0, 1500, 1501) # Grid of time points (in days)\n",
    "    y0 = O0, OW0, rOW0, OS0, L0, LW0, rLW0, LS0, P0, PW0, rPW0, PS0, M0, MW0, MS0, F0, FW0 # Init condition vector\n",
    "    ret = odeint(deriv, y0, t,args=(fCI, MT, c, e, phi, alphaO, muO, AA, BB, alphaL, alphaP, muP, muM, muF, RR, RRsupp, pulseN, IIT, SIT, em, lv, ad, cv, switch),hmax=1)\n",
    "    O, OW, rOW, OS, L, LW, rLW, LS, P, PW, rPW, PS, M, MW, MS, F, FW = ret.T\n",
    "\n",
    "    # get output\n",
    "    total = MW+FW+M+F\n",
    "    prop = (MW+FW)/(MW+FW+M+F)\n",
    "    \n",
    "    \n",
    "    fix = np.argwhere(prop > 0.95)\n",
    "    if sum(fix) > 0:\n",
    "        min_fix = min(fix)-start_wol\n",
    "        min_fix = min_fix.tolist()\n",
    "    else:\n",
    "        min_fix = [99999] #occurs if no fixation\n",
    "        \n",
    "    zoo.append(min_fix)\n",
    "\n",
    "current_time = time.time()\n",
    "elapsed_time = current_time - start_time\n",
    "print('processing time:',round(elapsed_time,2),'seconds')"
   ]
  },
  {
   "cell_type": "code",
   "execution_count": 191,
   "id": "5f094c8b",
   "metadata": {},
   "outputs": [],
   "source": [
    "zoo2 = [f for sublist in zoo for f in sublist] #flatten\n",
    "sixmonth = next(x for x, val in enumerate(zoo2) if val <= 182.5) #within 6 months\n",
    "AD_choose2wk = RR_vec[sixmonth]\n",
    "AD_choose2wk = convert_RR(AD_choose2wk)"
   ]
  },
  {
   "cell_type": "code",
   "execution_count": 192,
   "id": "2e72cc8f",
   "metadata": {},
   "outputs": [],
   "source": [
    "h = [] #needed to set adulticide pulses\n",
    "for i in range(-2, 1, 1):\n",
    "    h.append((start_wol-7) + (7*i))\n",
    "\n",
    "ad_eff = list(AD_df.loc[AD_df['Target efficacy'] == 94, 'Efficacy parameter'])\n",
    "ad_eff = ad_eff[0]\n",
    "cv = list(AD_df.loc[AD_df['Target efficacy'] == 94, 'Coverage value'])\n",
    "cv = cv[0]\n",
    "    \n",
    "def ad(t):    \n",
    "    if round(t) < h[0]:\n",
    "        return 0\n",
    "    elif round(t) > h[0]+0.01 and round(t) < h[1]:\n",
    "        return 0\n",
    "    elif round(t) > h[1]+0.01 and round(t) < h[2]:\n",
    "        return 0\n",
    "    elif round(t) > h[2]+0.01:\n",
    "        return 0\n",
    "    else:\n",
    "        return ad_eff"
   ]
  },
  {
   "cell_type": "code",
   "execution_count": 193,
   "id": "14083124",
   "metadata": {},
   "outputs": [
    {
     "name": "stdout",
     "output_type": "stream",
     "text": [
      "processing time: 5.69 seconds\n"
     ]
    }
   ],
   "source": [
    "start_time = time.time()\n",
    "\n",
    "RR_vec = [0.00047,0.00134,0.00258,0.00418,0.00612,0.00842,0.01108,0.01408,0.01745,0.02115,0.0252,0.0296,0.03437,0.03945,0.04495,0.0507,0.0569,0.0634,0.0703,0.0775,0.085,0.093,0.10125,0.1098,0.1188,0.1281,0.1378,0.1478,0.1582,0.169,0.18,0.1915,0.203,0.215,0.2277,0.2405,0.2538,0.2672,0.2811,0.2953]\n",
    "zoo = [] #capture results here\n",
    "start_wol = 200\n",
    "\n",
    "for i in RR_vec:\n",
    "        \n",
    "    RR = i\n",
    "        \n",
    "    # run the model\n",
    "    t = np.linspace(0, 1500, 1501) # Grid of time points (in days)\n",
    "    y0 = O0, OW0, rOW0, OS0, L0, LW0, rLW0, LS0, P0, PW0, rPW0, PS0, M0, MW0, MS0, F0, FW0 # Init condition vector\n",
    "    ret = odeint(deriv, y0, t,args=(fCI, MT, c, e, phi, alphaO, muO, AA, BB, alphaL, alphaP, muP, muM, muF, RR, RRsupp, pulseN, IIT, SIT, em, lv, ad, cv, switch),hmax=1)\n",
    "    O, OW, rOW, OS, L, LW, rLW, LS, P, PW, rPW, PS, M, MW, MS, F, FW = ret.T\n",
    "\n",
    "    # get output\n",
    "    total = MW+FW+M+F\n",
    "    prop = (MW+FW)/(MW+FW+M+F)\n",
    "    \n",
    "    \n",
    "    fix = np.argwhere(prop > 0.95)\n",
    "    if sum(fix) > 0:\n",
    "        min_fix = min(fix)-start_wol\n",
    "        min_fix = min_fix.tolist()\n",
    "    else:\n",
    "        min_fix = [99999] #occurs if no fixation\n",
    "        \n",
    "    zoo.append(min_fix)\n",
    "\n",
    "current_time = time.time()\n",
    "elapsed_time = current_time - start_time\n",
    "print('processing time:',round(elapsed_time,2),'seconds')"
   ]
  },
  {
   "cell_type": "code",
   "execution_count": 194,
   "id": "823d26d8",
   "metadata": {},
   "outputs": [],
   "source": [
    "zoo2 = [f for sublist in zoo for f in sublist] #flatten\n",
    "sixmonth = next(x for x, val in enumerate(zoo2) if val <= 182.5) #within 6 months\n",
    "AD_choose3wk = RR_vec[sixmonth]\n",
    "AD_choose3wk = convert_RR(AD_choose3wk)"
   ]
  },
  {
   "cell_type": "code",
   "execution_count": 195,
   "id": "19f826b3",
   "metadata": {},
   "outputs": [],
   "source": [
    "h = [] #needed to set adulticide pulses\n",
    "for i in range(-3, 1, 1):\n",
    "    h.append((start_wol-7) + (7*i))\n",
    "\n",
    "ad_eff = list(AD_df.loc[AD_df['Target efficacy'] == 94, 'Efficacy parameter'])\n",
    "ad_eff = ad_eff[0]\n",
    "cv = list(AD_df.loc[AD_df['Target efficacy'] == 94, 'Coverage value'])\n",
    "cv = cv[0]\n",
    "    \n",
    "def ad(t):    \n",
    "    if round(t) < h[0]:\n",
    "        return 0\n",
    "    elif round(t) > h[0]+0.01 and round(t) < h[1]:\n",
    "        return 0\n",
    "    elif round(t) > h[1]+0.01 and round(t) < h[2]:\n",
    "        return 0\n",
    "    elif round(t) > h[2]+0.01 and round(t) < h[3]:\n",
    "        return 0\n",
    "    elif round(t) > h[3]+0.01:\n",
    "        return 0\n",
    "    else:\n",
    "        return ad_eff"
   ]
  },
  {
   "cell_type": "code",
   "execution_count": 196,
   "id": "2e16bc7b",
   "metadata": {},
   "outputs": [
    {
     "name": "stdout",
     "output_type": "stream",
     "text": [
      "processing time: 6.18 seconds\n"
     ]
    }
   ],
   "source": [
    "start_time = time.time()\n",
    "\n",
    "RR_vec = [0.00047,0.00134,0.00258,0.00418,0.00612,0.00842,0.01108,0.01408,0.01745,0.02115,0.0252,0.0296,0.03437,0.03945,0.04495,0.0507,0.0569,0.0634,0.0703,0.0775,0.085,0.093,0.10125,0.1098,0.1188,0.1281,0.1378,0.1478,0.1582,0.169,0.18,0.1915,0.203,0.215,0.2277,0.2405,0.2538,0.2672,0.2811,0.2953]\n",
    "zoo = [] #capture results here\n",
    "start_wol = 200\n",
    "\n",
    "for i in RR_vec:\n",
    "        \n",
    "    RR = i\n",
    "        \n",
    "    # run the model\n",
    "    t = np.linspace(0, 1500, 1501) # Grid of time points (in days)\n",
    "    y0 = O0, OW0, rOW0, OS0, L0, LW0, rLW0, LS0, P0, PW0, rPW0, PS0, M0, MW0, MS0, F0, FW0 # Init condition vector\n",
    "    ret = odeint(deriv, y0, t,args=(fCI, MT, c, e, phi, alphaO, muO, AA, BB, alphaL, alphaP, muP, muM, muF, RR, RRsupp, pulseN, IIT, SIT, em, lv, ad, cv, switch),hmax=1)\n",
    "    O, OW, rOW, OS, L, LW, rLW, LS, P, PW, rPW, PS, M, MW, MS, F, FW = ret.T\n",
    "\n",
    "    # get output\n",
    "    total = MW+FW+M+F\n",
    "    prop = (MW+FW)/(MW+FW+M+F)\n",
    "    \n",
    "    \n",
    "    fix = np.argwhere(prop > 0.95)\n",
    "    if sum(fix) > 0:\n",
    "        min_fix = min(fix)-start_wol\n",
    "        min_fix = min_fix.tolist()\n",
    "    else:\n",
    "        min_fix = [99999] #occurs if no fixation\n",
    "        \n",
    "    zoo.append(min_fix)\n",
    "\n",
    "current_time = time.time()\n",
    "elapsed_time = current_time - start_time\n",
    "print('processing time:',round(elapsed_time,2),'seconds')"
   ]
  },
  {
   "cell_type": "code",
   "execution_count": 197,
   "id": "bcf50286",
   "metadata": {},
   "outputs": [],
   "source": [
    "zoo2 = [f for sublist in zoo for f in sublist] #flatten\n",
    "sixmonth = next(x for x, val in enumerate(zoo2) if val <= 182.5) #within 6 months\n",
    "AD_choose4wk = RR_vec[sixmonth]\n",
    "AD_choose4wk = convert_RR(AD_choose4wk)"
   ]
  },
  {
   "cell_type": "code",
   "execution_count": 198,
   "id": "7263f4b5",
   "metadata": {},
   "outputs": [
    {
     "data": {
      "text/plain": [
       "0.141"
      ]
     },
     "execution_count": 198,
     "metadata": {},
     "output_type": "execute_result"
    }
   ],
   "source": [
    "cv = list(AD_df.loc[AD_df['Target efficacy'] == 94, 'Coverage value'])\n",
    "cv = cv[0]\n",
    "cv"
   ]
  },
  {
   "cell_type": "code",
   "execution_count": 199,
   "id": "7324105f",
   "metadata": {},
   "outputs": [],
   "source": [
    "h = [] #needed to set adulticide pulses\n",
    "for i in range(-4, 1, 1):\n",
    "    h.append((start_wol-7) + (7*i))\n",
    "\n",
    "ad_eff = list(AD_df.loc[AD_df['Target efficacy'] == 94, 'Efficacy parameter'])\n",
    "ad_eff = ad_eff[0]\n",
    "cv = list(AD_df.loc[AD_df['Target efficacy'] == 94, 'Coverage value'])\n",
    "cv = cv[0]\n",
    "    \n",
    "def ad(t):    \n",
    "    if round(t) < h[0]:\n",
    "        return 0\n",
    "    elif round(t) > h[0]+0.01 and round(t) < h[1]:\n",
    "        return 0\n",
    "    elif round(t) > h[1]+0.01 and round(t) < h[2]:\n",
    "        return 0\n",
    "    elif round(t) > h[2]+0.01 and round(t) < h[3]:\n",
    "        return 0\n",
    "    elif round(t) > h[3]+0.01 and round(t) < h[4]:\n",
    "        return 0\n",
    "    elif round(t) > h[4]+0.01:\n",
    "        return 0\n",
    "    else:\n",
    "        return ad_eff"
   ]
  },
  {
   "cell_type": "code",
   "execution_count": 200,
   "id": "eec826f8",
   "metadata": {},
   "outputs": [
    {
     "name": "stdout",
     "output_type": "stream",
     "text": [
      "processing time: 6.8 seconds\n"
     ]
    }
   ],
   "source": [
    "start_time = time.time()\n",
    "\n",
    "RR_vec = [0.00047,0.00134,0.00258,0.00418,0.00612,0.00842,0.01108,0.01408,0.01745,0.02115,0.0252,0.0296,0.03437,0.03945,0.04495,0.0507,0.0569,0.0634,0.0703,0.0775,0.085,0.093,0.10125,0.1098,0.1188,0.1281,0.1378,0.1478,0.1582,0.169,0.18,0.1915,0.203,0.215,0.2277,0.2405,0.2538,0.2672,0.2811,0.2953]\n",
    "zoo = [] #capture results here\n",
    "start_wol = 200\n",
    "\n",
    "for i in RR_vec:\n",
    "        \n",
    "    RR = i\n",
    "        \n",
    "    # run the model\n",
    "    t = np.linspace(0, 1500, 1501) # Grid of time points (in days)\n",
    "    y0 = O0, OW0, rOW0, OS0, L0, LW0, rLW0, LS0, P0, PW0, rPW0, PS0, M0, MW0, MS0, F0, FW0 # Init condition vector\n",
    "    ret = odeint(deriv, y0, t,args=(fCI, MT, c, e, phi, alphaO, muO, AA, BB, alphaL, alphaP, muP, muM, muF, RR, RRsupp, pulseN, IIT, SIT, em, lv, ad, cv, switch),hmax=1)\n",
    "    O, OW, rOW, OS, L, LW, rLW, LS, P, PW, rPW, PS, M, MW, MS, F, FW = ret.T\n",
    "\n",
    "    # get output\n",
    "    total = MW+FW+M+F\n",
    "    prop = (MW+FW)/(MW+FW+M+F)\n",
    "    \n",
    "    \n",
    "    fix = np.argwhere(prop > 0.95)\n",
    "    if sum(fix) > 0:\n",
    "        min_fix = min(fix)-start_wol\n",
    "        min_fix = min_fix.tolist()\n",
    "    else:\n",
    "        min_fix = [99999] #occurs if no fixation\n",
    "        \n",
    "    zoo.append(min_fix)\n",
    "\n",
    "current_time = time.time()\n",
    "elapsed_time = current_time - start_time\n",
    "print('processing time:',round(elapsed_time,2),'seconds')"
   ]
  },
  {
   "cell_type": "code",
   "execution_count": 201,
   "id": "7d6a123a",
   "metadata": {},
   "outputs": [],
   "source": [
    "zoo2 = [f for sublist in zoo for f in sublist] #flatten\n",
    "sixmonth = next(x for x, val in enumerate(zoo2) if val <= 182.5) #within 6 months\n",
    "AD_choose5wk = RR_vec[sixmonth]\n",
    "AD_choose5wk = convert_RR(AD_choose5wk)"
   ]
  },
  {
   "cell_type": "code",
   "execution_count": 202,
   "id": "d7c63c7b",
   "metadata": {},
   "outputs": [],
   "source": [
    "h = [] #needed to set adulticide pulses\n",
    "for i in range(-5, 1, 1):\n",
    "    h.append((start_wol-7) + (7*i))\n",
    "\n",
    "ad_eff = list(AD_df.loc[AD_df['Target efficacy'] == 94, 'Efficacy parameter'])\n",
    "ad_eff = ad_eff[0]\n",
    "cv = list(AD_df.loc[AD_df['Target efficacy'] == 94, 'Coverage value'])\n",
    "cv = cv[0]\n",
    "    \n",
    "def ad(t):    \n",
    "    if round(t) < h[0]:\n",
    "        return 0\n",
    "    elif round(t) > h[0]+0.01 and round(t) < h[1]:\n",
    "        return 0\n",
    "    elif round(t) > h[1]+0.01 and round(t) < h[2]:\n",
    "        return 0\n",
    "    elif round(t) > h[2]+0.01 and round(t) < h[3]:\n",
    "        return 0\n",
    "    elif round(t) > h[3]+0.01 and round(t) < h[4]:\n",
    "        return 0\n",
    "    elif round(t) > h[4]+0.01 and round(t) < h[5]:\n",
    "        return 0\n",
    "    elif round(t) > h[5]+0.01:\n",
    "        return 0\n",
    "    else:\n",
    "        return ad_eff"
   ]
  },
  {
   "cell_type": "code",
   "execution_count": 203,
   "id": "bb7ad8e6",
   "metadata": {},
   "outputs": [
    {
     "name": "stdout",
     "output_type": "stream",
     "text": [
      "processing time: 7.49 seconds\n"
     ]
    }
   ],
   "source": [
    "start_time = time.time()\n",
    "\n",
    "RR_vec = [0.00047,0.00134,0.00258,0.00418,0.00612,0.00842,0.01108,0.01408,0.01745,0.02115,0.0252,0.0296,0.03437,0.03945,0.04495,0.0507,0.0569,0.0634,0.0703,0.0775,0.085,0.093,0.10125,0.1098,0.1188,0.1281,0.1378,0.1478,0.1582,0.169,0.18,0.1915,0.203,0.215,0.2277,0.2405,0.2538,0.2672,0.2811,0.2953]\n",
    "zoo = [] #capture results here\n",
    "start_wol = 200\n",
    "\n",
    "for i in RR_vec:\n",
    "        \n",
    "    RR = i\n",
    "        \n",
    "    # run the model\n",
    "    t = np.linspace(0, 1500, 1501) # Grid of time points (in days)\n",
    "    y0 = O0, OW0, rOW0, OS0, L0, LW0, rLW0, LS0, P0, PW0, rPW0, PS0, M0, MW0, MS0, F0, FW0 # Init condition vector\n",
    "    ret = odeint(deriv, y0, t,args=(fCI, MT, c, e, phi, alphaO, muO, AA, BB, alphaL, alphaP, muP, muM, muF, RR, RRsupp, pulseN, IIT, SIT, em, lv, ad, cv, switch),hmax=1)\n",
    "    O, OW, rOW, OS, L, LW, rLW, LS, P, PW, rPW, PS, M, MW, MS, F, FW = ret.T\n",
    "\n",
    "    # get output\n",
    "    total = MW+FW+M+F\n",
    "    prop = (MW+FW)/(MW+FW+M+F)\n",
    "    \n",
    "    \n",
    "    fix = np.argwhere(prop > 0.95)\n",
    "    if sum(fix) > 0:\n",
    "        min_fix = min(fix)-start_wol\n",
    "        min_fix = min_fix.tolist()\n",
    "    else:\n",
    "        min_fix = [99999] #occurs if no fixation\n",
    "        \n",
    "    zoo.append(min_fix)\n",
    "\n",
    "current_time = time.time()\n",
    "elapsed_time = current_time - start_time\n",
    "print('processing time:',round(elapsed_time,2),'seconds')"
   ]
  },
  {
   "cell_type": "code",
   "execution_count": 204,
   "id": "8d354311",
   "metadata": {},
   "outputs": [],
   "source": [
    "zoo2 = [f for sublist in zoo for f in sublist] #flatten\n",
    "sixmonth = next(x for x, val in enumerate(zoo2) if val <= 182.5) #within 6 months\n",
    "AD_choose6wk = RR_vec[sixmonth]\n",
    "AD_choose6wk = convert_RR(AD_choose6wk)"
   ]
  },
  {
   "cell_type": "code",
   "execution_count": 205,
   "id": "21eb4c88",
   "metadata": {},
   "outputs": [],
   "source": [
    "h = [] #needed to set adulticide pulses\n",
    "for i in range(-6, 1, 1):\n",
    "    h.append((start_wol-7) + (7*i))\n",
    "\n",
    "ad_eff = list(AD_df.loc[AD_df['Target efficacy'] == 94, 'Efficacy parameter'])\n",
    "ad_eff = ad_eff[0]\n",
    "cv = list(AD_df.loc[AD_df['Target efficacy'] == 94, 'Coverage value'])\n",
    "cv = cv[0]\n",
    "    \n",
    "def ad(t):    \n",
    "    if round(t) < h[0]:\n",
    "        return 0\n",
    "    elif round(t) > h[0]+0.01 and round(t) < h[1]:\n",
    "        return 0\n",
    "    elif round(t) > h[1]+0.01 and round(t) < h[2]:\n",
    "        return 0\n",
    "    elif round(t) > h[2]+0.01 and round(t) < h[3]:\n",
    "        return 0\n",
    "    elif round(t) > h[3]+0.01 and round(t) < h[4]:\n",
    "        return 0\n",
    "    elif round(t) > h[4]+0.01 and round(t) < h[5]:\n",
    "        return 0\n",
    "    elif round(t) > h[5]+0.01 and round(t) < h[6]:\n",
    "        return 0\n",
    "    elif round(t) > h[6]+0.01:\n",
    "        return 0\n",
    "    else:\n",
    "        return ad_eff"
   ]
  },
  {
   "cell_type": "code",
   "execution_count": 206,
   "id": "3f580726",
   "metadata": {},
   "outputs": [
    {
     "name": "stdout",
     "output_type": "stream",
     "text": [
      "processing time: 8.09 seconds\n"
     ]
    }
   ],
   "source": [
    "start_time = time.time()\n",
    "\n",
    "RR_vec = [0.00047,0.00134,0.00258,0.00418,0.00612,0.00842,0.01108,0.01408,0.01745,0.02115,0.0252,0.0296,0.03437,0.03945,0.04495,0.0507,0.0569,0.0634,0.0703,0.0775,0.085,0.093,0.10125,0.1098,0.1188,0.1281,0.1378,0.1478,0.1582,0.169,0.18,0.1915,0.203,0.215,0.2277,0.2405,0.2538,0.2672,0.2811,0.2953]\n",
    "zoo = [] #capture results here\n",
    "start_wol = 200\n",
    "\n",
    "for i in RR_vec:\n",
    "        \n",
    "    RR = i\n",
    "        \n",
    "    # run the model\n",
    "    t = np.linspace(0, 1500, 1501) # Grid of time points (in days)\n",
    "    y0 = O0, OW0, rOW0, OS0, L0, LW0, rLW0, LS0, P0, PW0, rPW0, PS0, M0, MW0, MS0, F0, FW0 # Init condition vector\n",
    "    ret = odeint(deriv, y0, t,args=(fCI, MT, c, e, phi, alphaO, muO, AA, BB, alphaL, alphaP, muP, muM, muF, RR, RRsupp, pulseN, IIT, SIT, em, lv, ad, cv, switch),hmax=1)\n",
    "    O, OW, rOW, OS, L, LW, rLW, LS, P, PW, rPW, PS, M, MW, MS, F, FW = ret.T\n",
    "\n",
    "    # get output\n",
    "    total = MW+FW+M+F\n",
    "    prop = (MW+FW)/(MW+FW+M+F)\n",
    "    \n",
    "    \n",
    "    fix = np.argwhere(prop > 0.95)\n",
    "    if sum(fix) > 0:\n",
    "        min_fix = min(fix)-start_wol\n",
    "        min_fix = min_fix.tolist()\n",
    "    else:\n",
    "        min_fix = [99999] #occurs if no fixation\n",
    "        \n",
    "    zoo.append(min_fix)\n",
    "\n",
    "current_time = time.time()\n",
    "elapsed_time = current_time - start_time\n",
    "print('processing time:',round(elapsed_time,2),'seconds')"
   ]
  },
  {
   "cell_type": "code",
   "execution_count": 207,
   "id": "f07d8963",
   "metadata": {},
   "outputs": [],
   "source": [
    "zoo2 = [f for sublist in zoo for f in sublist] #flatten\n",
    "sixmonth = next(x for x, val in enumerate(zoo2) if val <= 182.5) #within 6 months\n",
    "AD_choose7wk = RR_vec[sixmonth]\n",
    "AD_choose7wk = convert_RR(AD_choose7wk)"
   ]
  },
  {
   "cell_type": "code",
   "execution_count": 208,
   "id": "24244170",
   "metadata": {},
   "outputs": [],
   "source": [
    "h = [] #needed to set adulticide pulses\n",
    "for i in range(-7, 1, 1):\n",
    "    h.append((start_wol-7) + (7*i))\n",
    "\n",
    "ad_eff = list(AD_df.loc[AD_df['Target efficacy'] == 94, 'Efficacy parameter'])\n",
    "ad_eff = ad_eff[0]\n",
    "cv = list(AD_df.loc[AD_df['Target efficacy'] == 94, 'Coverage value'])\n",
    "cv = cv[0]\n",
    "    \n",
    "def ad(t):    \n",
    "    if round(t) < h[0]:\n",
    "        return 0\n",
    "    elif round(t) > h[0]+0.01 and round(t) < h[1]:\n",
    "        return 0\n",
    "    elif round(t) > h[1]+0.01 and round(t) < h[2]:\n",
    "        return 0\n",
    "    elif round(t) > h[2]+0.01 and round(t) < h[3]:\n",
    "        return 0\n",
    "    elif round(t) > h[3]+0.01 and round(t) < h[4]:\n",
    "        return 0\n",
    "    elif round(t) > h[4]+0.01 and round(t) < h[5]:\n",
    "        return 0\n",
    "    elif round(t) > h[5]+0.01 and round(t) < h[6]:\n",
    "        return 0\n",
    "    elif round(t) > h[6]+0.01 and round(t) < h[7]:\n",
    "        return 0\n",
    "    elif round(t) > h[7]+0.01:\n",
    "        return 0\n",
    "    else:\n",
    "        return ad_eff"
   ]
  },
  {
   "cell_type": "code",
   "execution_count": 209,
   "id": "1fb16953",
   "metadata": {},
   "outputs": [
    {
     "name": "stdout",
     "output_type": "stream",
     "text": [
      "processing time: 8.79 seconds\n"
     ]
    }
   ],
   "source": [
    "start_time = time.time()\n",
    "\n",
    "RR_vec = [0.00047,0.00134,0.00258,0.00418,0.00612,0.00842,0.01108,0.01408,0.01745,0.02115,0.0252,0.0296,0.03437,0.03945,0.04495,0.0507,0.0569,0.0634,0.0703,0.0775,0.085,0.093,0.10125,0.1098,0.1188,0.1281,0.1378,0.1478,0.1582,0.169,0.18,0.1915,0.203,0.215,0.2277,0.2405,0.2538,0.2672,0.2811,0.2953]\n",
    "zoo = [] #capture results here\n",
    "start_wol = 200\n",
    "\n",
    "for i in RR_vec:\n",
    "        \n",
    "    RR = i\n",
    "        \n",
    "    # run the model\n",
    "    t = np.linspace(0, 1500, 1501) # Grid of time points (in days)\n",
    "    y0 = O0, OW0, rOW0, OS0, L0, LW0, rLW0, LS0, P0, PW0, rPW0, PS0, M0, MW0, MS0, F0, FW0 # Init condition vector\n",
    "    ret = odeint(deriv, y0, t,args=(fCI, MT, c, e, phi, alphaO, muO, AA, BB, alphaL, alphaP, muP, muM, muF, RR, RRsupp, pulseN, IIT, SIT, em, lv, ad, cv, switch),hmax=1)\n",
    "    O, OW, rOW, OS, L, LW, rLW, LS, P, PW, rPW, PS, M, MW, MS, F, FW = ret.T\n",
    "\n",
    "    # get output\n",
    "    total = MW+FW+M+F\n",
    "    prop = (MW+FW)/(MW+FW+M+F)\n",
    "    \n",
    "    \n",
    "    fix = np.argwhere(prop > 0.95)\n",
    "    if sum(fix) > 0:\n",
    "        min_fix = min(fix)-start_wol\n",
    "        min_fix = min_fix.tolist()\n",
    "    else:\n",
    "        min_fix = [99999] #occurs if no fixation\n",
    "        \n",
    "    zoo.append(min_fix)\n",
    "\n",
    "current_time = time.time()\n",
    "elapsed_time = current_time - start_time\n",
    "print('processing time:',round(elapsed_time,2),'seconds')"
   ]
  },
  {
   "cell_type": "code",
   "execution_count": 210,
   "id": "ec51358a",
   "metadata": {},
   "outputs": [],
   "source": [
    "zoo2 = [f for sublist in zoo for f in sublist] #flatten\n",
    "sixmonth = next(x for x, val in enumerate(zoo2) if val <= 182.5) #within 6 months\n",
    "AD_choose8wk = RR_vec[sixmonth]\n",
    "AD_choose8wk = convert_RR(AD_choose8wk)"
   ]
  },
  {
   "cell_type": "code",
   "execution_count": 211,
   "id": "0a7e1a37",
   "metadata": {},
   "outputs": [],
   "source": [
    "h = [] #needed to set adulticide pulses\n",
    "for i in range(-8, 1, 1):\n",
    "    h.append((start_wol-7) + (7*i))\n",
    "\n",
    "ad_eff = list(AD_df.loc[AD_df['Target efficacy'] == 94, 'Efficacy parameter'])\n",
    "ad_eff = ad_eff[0]\n",
    "cv = list(AD_df.loc[AD_df['Target efficacy'] == 94, 'Coverage value'])\n",
    "cv = cv[0]\n",
    "    \n",
    "def ad(t):    \n",
    "    if round(t) < h[0]:\n",
    "        return 0\n",
    "    elif round(t) > h[0]+0.01 and round(t) < h[1]:\n",
    "        return 0\n",
    "    elif round(t) > h[1]+0.01 and round(t) < h[2]:\n",
    "        return 0\n",
    "    elif round(t) > h[2]+0.01 and round(t) < h[3]:\n",
    "        return 0\n",
    "    elif round(t) > h[3]+0.01 and round(t) < h[4]:\n",
    "        return 0\n",
    "    elif round(t) > h[4]+0.01 and round(t) < h[5]:\n",
    "        return 0\n",
    "    elif round(t) > h[5]+0.01 and round(t) < h[6]:\n",
    "        return 0\n",
    "    elif round(t) > h[6]+0.01 and round(t) < h[7]:\n",
    "        return 0\n",
    "    elif round(t) > h[7]+0.01 and round(t) < h[8]:\n",
    "        return 0\n",
    "    elif round(t) > h[8]+0.01:\n",
    "        return 0\n",
    "    else:\n",
    "        return ad_eff"
   ]
  },
  {
   "cell_type": "code",
   "execution_count": 212,
   "id": "ef2e4f4a",
   "metadata": {},
   "outputs": [
    {
     "name": "stdout",
     "output_type": "stream",
     "text": [
      "processing time: 9.47 seconds\n"
     ]
    }
   ],
   "source": [
    "start_time = time.time()\n",
    "\n",
    "RR_vec = [0.00047,0.00134,0.00258,0.00418,0.00612,0.00842,0.01108,0.01408,0.01745,0.02115,0.0252,0.0296,0.03437,0.03945,0.04495,0.0507,0.0569,0.0634,0.0703,0.0775,0.085,0.093,0.10125,0.1098,0.1188,0.1281,0.1378,0.1478,0.1582,0.169,0.18,0.1915,0.203,0.215,0.2277,0.2405,0.2538,0.2672,0.2811,0.2953]\n",
    "zoo = [] #capture results here\n",
    "start_wol = 200\n",
    "\n",
    "for i in RR_vec:\n",
    "        \n",
    "    RR = i\n",
    "        \n",
    "    # run the model\n",
    "    t = np.linspace(0, 1500, 1501) # Grid of time points (in days)\n",
    "    y0 = O0, OW0, rOW0, OS0, L0, LW0, rLW0, LS0, P0, PW0, rPW0, PS0, M0, MW0, MS0, F0, FW0 # Init condition vector\n",
    "    ret = odeint(deriv, y0, t,args=(fCI, MT, c, e, phi, alphaO, muO, AA, BB, alphaL, alphaP, muP, muM, muF, RR, RRsupp, pulseN, IIT, SIT, em, lv, ad, cv, switch),hmax=1)\n",
    "    O, OW, rOW, OS, L, LW, rLW, LS, P, PW, rPW, PS, M, MW, MS, F, FW = ret.T\n",
    "\n",
    "    # get output\n",
    "    total = MW+FW+M+F\n",
    "    prop = (MW+FW)/(MW+FW+M+F)\n",
    "    \n",
    "    \n",
    "    fix = np.argwhere(prop > 0.95)\n",
    "    if sum(fix) > 0:\n",
    "        min_fix = min(fix)-start_wol\n",
    "        min_fix = min_fix.tolist()\n",
    "    else:\n",
    "        min_fix = [99999] #occurs if no fixation\n",
    "        \n",
    "    zoo.append(min_fix)\n",
    "\n",
    "current_time = time.time()\n",
    "elapsed_time = current_time - start_time\n",
    "print('processing time:',round(elapsed_time,2),'seconds')"
   ]
  },
  {
   "cell_type": "code",
   "execution_count": 213,
   "id": "70d80ccb",
   "metadata": {},
   "outputs": [],
   "source": [
    "zoo2 = [f for sublist in zoo for f in sublist] #flatten\n",
    "sixmonth = next(x for x, val in enumerate(zoo2) if val <= 182.5) #within 6 months\n",
    "AD_choose9wk = RR_vec[sixmonth]\n",
    "AD_choose9wk = convert_RR(AD_choose9wk)"
   ]
  },
  {
   "cell_type": "code",
   "execution_count": 214,
   "id": "198cfc8f",
   "metadata": {},
   "outputs": [],
   "source": [
    "h = [] #needed to set adulticide pulses\n",
    "for i in range(-9, 1, 1):\n",
    "    h.append((start_wol-7) + (7*i))\n",
    "\n",
    "ad_eff = list(AD_df.loc[AD_df['Target efficacy'] == 94, 'Efficacy parameter'])\n",
    "ad_eff = ad_eff[0]\n",
    "cv = list(AD_df.loc[AD_df['Target efficacy'] == 94, 'Coverage value'])\n",
    "cv = cv[0]\n",
    "    \n",
    "def ad(t):    \n",
    "    if round(t) < h[0]:\n",
    "        return 0\n",
    "    elif round(t) > h[0]+0.01 and round(t) < h[1]:\n",
    "        return 0\n",
    "    elif round(t) > h[1]+0.01 and round(t) < h[2]:\n",
    "        return 0\n",
    "    elif round(t) > h[2]+0.01 and round(t) < h[3]:\n",
    "        return 0\n",
    "    elif round(t) > h[3]+0.01 and round(t) < h[4]:\n",
    "        return 0\n",
    "    elif round(t) > h[4]+0.01 and round(t) < h[5]:\n",
    "        return 0\n",
    "    elif round(t) > h[5]+0.01 and round(t) < h[6]:\n",
    "        return 0\n",
    "    elif round(t) > h[6]+0.01 and round(t) < h[7]:\n",
    "        return 0\n",
    "    elif round(t) > h[7]+0.01 and round(t) < h[8]:\n",
    "        return 0\n",
    "    elif round(t) > h[8]+0.01 and round(t) < h[9]:\n",
    "        return 0\n",
    "    elif round(t) > h[9]+0.01:\n",
    "        return 0\n",
    "    else:\n",
    "        return ad_eff"
   ]
  },
  {
   "cell_type": "code",
   "execution_count": 215,
   "id": "4f919fd1",
   "metadata": {},
   "outputs": [
    {
     "name": "stdout",
     "output_type": "stream",
     "text": [
      "processing time: 9.96 seconds\n"
     ]
    }
   ],
   "source": [
    "start_time = time.time()\n",
    "\n",
    "RR_vec = [0.00047,0.00134,0.00258,0.00418,0.00612,0.00842,0.01108,0.01408,0.01745,0.02115,0.0252,0.0296,0.03437,0.03945,0.04495,0.0507,0.0569,0.0634,0.0703,0.0775,0.085,0.093,0.10125,0.1098,0.1188,0.1281,0.1378,0.1478,0.1582,0.169,0.18,0.1915,0.203,0.215,0.2277,0.2405,0.2538,0.2672,0.2811,0.2953]\n",
    "zoo = [] #capture results here\n",
    "start_wol = 200\n",
    "\n",
    "for i in RR_vec:\n",
    "        \n",
    "    RR = i\n",
    "        \n",
    "    # run the model\n",
    "    t = np.linspace(0, 1500, 1501) # Grid of time points (in days)\n",
    "    y0 = O0, OW0, rOW0, OS0, L0, LW0, rLW0, LS0, P0, PW0, rPW0, PS0, M0, MW0, MS0, F0, FW0 # Init condition vector\n",
    "    ret = odeint(deriv, y0, t,args=(fCI, MT, c, e, phi, alphaO, muO, AA, BB, alphaL, alphaP, muP, muM, muF, RR, RRsupp, pulseN, IIT, SIT, em, lv, ad, cv, switch),hmax=1)\n",
    "    O, OW, rOW, OS, L, LW, rLW, LS, P, PW, rPW, PS, M, MW, MS, F, FW = ret.T\n",
    "\n",
    "    # get output\n",
    "    total = MW+FW+M+F\n",
    "    prop = (MW+FW)/(MW+FW+M+F)\n",
    "    \n",
    "    \n",
    "    fix = np.argwhere(prop > 0.95)\n",
    "    if sum(fix) > 0:\n",
    "        min_fix = min(fix)-start_wol\n",
    "        min_fix = min_fix.tolist()\n",
    "    else:\n",
    "        min_fix = [99999] #occurs if no fixation\n",
    "        \n",
    "    zoo.append(min_fix)\n",
    "\n",
    "current_time = time.time()\n",
    "elapsed_time = current_time - start_time\n",
    "print('processing time:',round(elapsed_time,2),'seconds')"
   ]
  },
  {
   "cell_type": "code",
   "execution_count": 216,
   "id": "334e24df",
   "metadata": {},
   "outputs": [],
   "source": [
    "zoo2 = [f for sublist in zoo for f in sublist] #flatten\n",
    "sixmonth = next(x for x, val in enumerate(zoo2) if val <= 182.5) #within 6 months\n",
    "AD_choose10wk = RR_vec[sixmonth]\n",
    "AD_choose10wk = convert_RR(AD_choose10wk)"
   ]
  },
  {
   "cell_type": "markdown",
   "id": "825f9f39",
   "metadata": {},
   "source": [
    "Store results:"
   ]
  },
  {
   "cell_type": "code",
   "execution_count": 217,
   "id": "5aa5c597",
   "metadata": {},
   "outputs": [
    {
     "data": {
      "text/html": [
       "<div>\n",
       "<style scoped>\n",
       "    .dataframe tbody tr th:only-of-type {\n",
       "        vertical-align: middle;\n",
       "    }\n",
       "\n",
       "    .dataframe tbody tr th {\n",
       "        vertical-align: top;\n",
       "    }\n",
       "\n",
       "    .dataframe thead th {\n",
       "        text-align: right;\n",
       "    }\n",
       "</style>\n",
       "<table border=\"1\" class=\"dataframe\">\n",
       "  <thead>\n",
       "    <tr style=\"text-align: right;\">\n",
       "      <th></th>\n",
       "      <th>Suppression type</th>\n",
       "      <th>1wk</th>\n",
       "      <th>2wk</th>\n",
       "      <th>3wk</th>\n",
       "      <th>4wk</th>\n",
       "      <th>5wk</th>\n",
       "      <th>6wk</th>\n",
       "      <th>7wk</th>\n",
       "      <th>8wk</th>\n",
       "      <th>9wk</th>\n",
       "      <th>10wk</th>\n",
       "    </tr>\n",
       "  </thead>\n",
       "  <tbody>\n",
       "    <tr>\n",
       "      <th>0</th>\n",
       "      <td>RIDL</td>\n",
       "      <td>0.0675</td>\n",
       "      <td>0.0600</td>\n",
       "      <td>0.0525</td>\n",
       "      <td>0.0475</td>\n",
       "      <td>0.0425</td>\n",
       "      <td>0.0075</td>\n",
       "      <td>0.0050</td>\n",
       "      <td>0.0025</td>\n",
       "      <td>0.0025</td>\n",
       "      <td>0.0025</td>\n",
       "    </tr>\n",
       "    <tr>\n",
       "      <th>1</th>\n",
       "      <td>SIT</td>\n",
       "      <td>0.0650</td>\n",
       "      <td>0.0575</td>\n",
       "      <td>0.0500</td>\n",
       "      <td>0.0450</td>\n",
       "      <td>0.0400</td>\n",
       "      <td>0.0075</td>\n",
       "      <td>0.0050</td>\n",
       "      <td>0.0050</td>\n",
       "      <td>0.0025</td>\n",
       "      <td>0.0025</td>\n",
       "    </tr>\n",
       "    <tr>\n",
       "      <th>2</th>\n",
       "      <td>IIT</td>\n",
       "      <td>0.0500</td>\n",
       "      <td>0.0350</td>\n",
       "      <td>0.0250</td>\n",
       "      <td>0.0175</td>\n",
       "      <td>0.0125</td>\n",
       "      <td>0.0025</td>\n",
       "      <td>0.0025</td>\n",
       "      <td>0.0025</td>\n",
       "      <td>0.0025</td>\n",
       "      <td>0.0025</td>\n",
       "    </tr>\n",
       "    <tr>\n",
       "      <th>3</th>\n",
       "      <td>EM</td>\n",
       "      <td>0.0725</td>\n",
       "      <td>0.0700</td>\n",
       "      <td>0.0675</td>\n",
       "      <td>0.0650</td>\n",
       "      <td>0.0625</td>\n",
       "      <td>0.0600</td>\n",
       "      <td>0.0600</td>\n",
       "      <td>0.0575</td>\n",
       "      <td>0.0575</td>\n",
       "      <td>0.0575</td>\n",
       "    </tr>\n",
       "    <tr>\n",
       "      <th>4</th>\n",
       "      <td>LV</td>\n",
       "      <td>0.0725</td>\n",
       "      <td>0.0700</td>\n",
       "      <td>0.0675</td>\n",
       "      <td>0.0650</td>\n",
       "      <td>0.0650</td>\n",
       "      <td>0.0625</td>\n",
       "      <td>0.0625</td>\n",
       "      <td>0.0625</td>\n",
       "      <td>0.0600</td>\n",
       "      <td>0.0600</td>\n",
       "    </tr>\n",
       "    <tr>\n",
       "      <th>5</th>\n",
       "      <td>AD</td>\n",
       "      <td>0.0650</td>\n",
       "      <td>0.0575</td>\n",
       "      <td>0.0525</td>\n",
       "      <td>0.0500</td>\n",
       "      <td>0.0475</td>\n",
       "      <td>0.0450</td>\n",
       "      <td>0.0450</td>\n",
       "      <td>0.0425</td>\n",
       "      <td>0.0425</td>\n",
       "      <td>0.0425</td>\n",
       "    </tr>\n",
       "  </tbody>\n",
       "</table>\n",
       "</div>"
      ],
      "text/plain": [
       "  Suppression type     1wk     2wk     3wk     4wk     5wk     6wk     7wk  \\\n",
       "0             RIDL  0.0675  0.0600  0.0525  0.0475  0.0425  0.0075  0.0050   \n",
       "1              SIT  0.0650  0.0575  0.0500  0.0450  0.0400  0.0075  0.0050   \n",
       "2              IIT  0.0500  0.0350  0.0250  0.0175  0.0125  0.0025  0.0025   \n",
       "3               EM  0.0725  0.0700  0.0675  0.0650  0.0625  0.0600  0.0600   \n",
       "4               LV  0.0725  0.0700  0.0675  0.0650  0.0650  0.0625  0.0625   \n",
       "5               AD  0.0650  0.0575  0.0525  0.0500  0.0475  0.0450  0.0450   \n",
       "\n",
       "      8wk     9wk    10wk  \n",
       "0  0.0025  0.0025  0.0025  \n",
       "1  0.0050  0.0025  0.0025  \n",
       "2  0.0025  0.0025  0.0025  \n",
       "3  0.0575  0.0575  0.0575  \n",
       "4  0.0625  0.0600  0.0600  \n",
       "5  0.0425  0.0425  0.0425  "
      ]
     },
     "execution_count": 217,
     "metadata": {},
     "output_type": "execute_result"
    }
   ],
   "source": [
    "AD_week = {'Suppression type': 'AD', '1wk': AD_choose1wk, '2wk': AD_choose2wk, '3wk': AD_choose3wk,\n",
    "           '4wk': AD_choose4wk, '5wk': AD_choose5wk, '6wk': AD_choose6wk, '7wk': AD_choose7wk,\n",
    "           '8wk': AD_choose8wk, '9wk': AD_choose9wk, '10wk': AD_choose10wk}\n",
    "weekfig_df = weekfig_df.append(AD_week, ignore_index=True)\n",
    "\n",
    "weekfig_df"
   ]
  },
  {
   "cell_type": "code",
   "execution_count": 218,
   "id": "a00b75c5",
   "metadata": {},
   "outputs": [],
   "source": [
    "weekfig_df.to_csv('weekfig_df_01-02-24.csv', index=False)"
   ]
  },
  {
   "cell_type": "code",
   "execution_count": 219,
   "id": "e5d6c3dd",
   "metadata": {},
   "outputs": [],
   "source": [
    "# switch off\n",
    "\n",
    "h = [] #needed to set adulticide pulses\n",
    "for i in range(-4, 1, 1):\n",
    "    h.append((start_wol-7) + (7*i))\n",
    "\n",
    "ad_eff = 0\n",
    "    \n",
    "def ad(t):    \n",
    "    if round(t) < h[0]:\n",
    "        return 0\n",
    "    elif round(t) > h[0]+0.01:\n",
    "        return 0\n",
    "    else:\n",
    "        return ad_eff"
   ]
  },
  {
   "cell_type": "markdown",
   "id": "583bc9b8",
   "metadata": {},
   "source": [
    "### 2.b. Data formatting: minimum Wolbachia RR relative to no suppression for fixation within 6 months"
   ]
  },
  {
   "cell_type": "markdown",
   "id": "2d8e0dd0",
   "metadata": {},
   "source": [
    "#### To run if not running script all-through:"
   ]
  },
  {
   "cell_type": "code",
   "execution_count": 220,
   "id": "2b2b4221",
   "metadata": {},
   "outputs": [],
   "source": [
    "weekfig_df = pd.read_csv(f'{filepath}/weekfig_df_01-02-24.csv')\n",
    "\n",
    "RR_choosenosupp = 0.0775"
   ]
  },
  {
   "cell_type": "code",
   "execution_count": 221,
   "id": "178ac959",
   "metadata": {},
   "outputs": [
    {
     "data": {
      "text/html": [
       "<div>\n",
       "<style scoped>\n",
       "    .dataframe tbody tr th:only-of-type {\n",
       "        vertical-align: middle;\n",
       "    }\n",
       "\n",
       "    .dataframe tbody tr th {\n",
       "        vertical-align: top;\n",
       "    }\n",
       "\n",
       "    .dataframe thead th {\n",
       "        text-align: right;\n",
       "    }\n",
       "</style>\n",
       "<table border=\"1\" class=\"dataframe\">\n",
       "  <thead>\n",
       "    <tr style=\"text-align: right;\">\n",
       "      <th></th>\n",
       "      <th>1wk</th>\n",
       "      <th>2wk</th>\n",
       "      <th>3wk</th>\n",
       "      <th>4wk</th>\n",
       "      <th>5wk</th>\n",
       "      <th>6wk</th>\n",
       "      <th>7wk</th>\n",
       "      <th>8wk</th>\n",
       "      <th>9wk</th>\n",
       "      <th>10wk</th>\n",
       "    </tr>\n",
       "  </thead>\n",
       "  <tbody>\n",
       "    <tr>\n",
       "      <th>0</th>\n",
       "      <td>0.0675</td>\n",
       "      <td>0.0600</td>\n",
       "      <td>0.0525</td>\n",
       "      <td>0.0475</td>\n",
       "      <td>0.0425</td>\n",
       "      <td>0.0075</td>\n",
       "      <td>0.0050</td>\n",
       "      <td>0.0025</td>\n",
       "      <td>0.0025</td>\n",
       "      <td>0.0025</td>\n",
       "    </tr>\n",
       "    <tr>\n",
       "      <th>1</th>\n",
       "      <td>0.0650</td>\n",
       "      <td>0.0575</td>\n",
       "      <td>0.0500</td>\n",
       "      <td>0.0450</td>\n",
       "      <td>0.0400</td>\n",
       "      <td>0.0075</td>\n",
       "      <td>0.0050</td>\n",
       "      <td>0.0050</td>\n",
       "      <td>0.0025</td>\n",
       "      <td>0.0025</td>\n",
       "    </tr>\n",
       "    <tr>\n",
       "      <th>2</th>\n",
       "      <td>0.0500</td>\n",
       "      <td>0.0350</td>\n",
       "      <td>0.0250</td>\n",
       "      <td>0.0175</td>\n",
       "      <td>0.0125</td>\n",
       "      <td>0.0025</td>\n",
       "      <td>0.0025</td>\n",
       "      <td>0.0025</td>\n",
       "      <td>0.0025</td>\n",
       "      <td>0.0025</td>\n",
       "    </tr>\n",
       "    <tr>\n",
       "      <th>3</th>\n",
       "      <td>0.0725</td>\n",
       "      <td>0.0700</td>\n",
       "      <td>0.0675</td>\n",
       "      <td>0.0650</td>\n",
       "      <td>0.0625</td>\n",
       "      <td>0.0600</td>\n",
       "      <td>0.0600</td>\n",
       "      <td>0.0575</td>\n",
       "      <td>0.0575</td>\n",
       "      <td>0.0575</td>\n",
       "    </tr>\n",
       "    <tr>\n",
       "      <th>4</th>\n",
       "      <td>0.0725</td>\n",
       "      <td>0.0700</td>\n",
       "      <td>0.0675</td>\n",
       "      <td>0.0650</td>\n",
       "      <td>0.0650</td>\n",
       "      <td>0.0625</td>\n",
       "      <td>0.0625</td>\n",
       "      <td>0.0625</td>\n",
       "      <td>0.0600</td>\n",
       "      <td>0.0600</td>\n",
       "    </tr>\n",
       "    <tr>\n",
       "      <th>5</th>\n",
       "      <td>0.0650</td>\n",
       "      <td>0.0575</td>\n",
       "      <td>0.0525</td>\n",
       "      <td>0.0500</td>\n",
       "      <td>0.0475</td>\n",
       "      <td>0.0450</td>\n",
       "      <td>0.0450</td>\n",
       "      <td>0.0425</td>\n",
       "      <td>0.0425</td>\n",
       "      <td>0.0425</td>\n",
       "    </tr>\n",
       "  </tbody>\n",
       "</table>\n",
       "</div>"
      ],
      "text/plain": [
       "      1wk     2wk     3wk     4wk     5wk     6wk     7wk     8wk     9wk  \\\n",
       "0  0.0675  0.0600  0.0525  0.0475  0.0425  0.0075  0.0050  0.0025  0.0025   \n",
       "1  0.0650  0.0575  0.0500  0.0450  0.0400  0.0075  0.0050  0.0050  0.0025   \n",
       "2  0.0500  0.0350  0.0250  0.0175  0.0125  0.0025  0.0025  0.0025  0.0025   \n",
       "3  0.0725  0.0700  0.0675  0.0650  0.0625  0.0600  0.0600  0.0575  0.0575   \n",
       "4  0.0725  0.0700  0.0675  0.0650  0.0650  0.0625  0.0625  0.0625  0.0600   \n",
       "5  0.0650  0.0575  0.0525  0.0500  0.0475  0.0450  0.0450  0.0425  0.0425   \n",
       "\n",
       "     10wk  \n",
       "0  0.0025  \n",
       "1  0.0025  \n",
       "2  0.0025  \n",
       "3  0.0575  \n",
       "4  0.0600  \n",
       "5  0.0425  "
      ]
     },
     "execution_count": 221,
     "metadata": {},
     "output_type": "execute_result"
    }
   ],
   "source": [
    "weekfig_df.drop('Suppression type', inplace=True, axis=1)\n",
    "weekfig_df"
   ]
  },
  {
   "cell_type": "code",
   "execution_count": 222,
   "id": "4bb29d85",
   "metadata": {},
   "outputs": [
    {
     "data": {
      "text/html": [
       "<div>\n",
       "<style scoped>\n",
       "    .dataframe tbody tr th:only-of-type {\n",
       "        vertical-align: middle;\n",
       "    }\n",
       "\n",
       "    .dataframe tbody tr th {\n",
       "        vertical-align: top;\n",
       "    }\n",
       "\n",
       "    .dataframe thead th {\n",
       "        text-align: right;\n",
       "    }\n",
       "</style>\n",
       "<table border=\"1\" class=\"dataframe\">\n",
       "  <thead>\n",
       "    <tr style=\"text-align: right;\">\n",
       "      <th></th>\n",
       "      <th>1wk</th>\n",
       "      <th>2wk</th>\n",
       "      <th>3wk</th>\n",
       "      <th>4wk</th>\n",
       "      <th>5wk</th>\n",
       "      <th>6wk</th>\n",
       "      <th>7wk</th>\n",
       "      <th>8wk</th>\n",
       "      <th>9wk</th>\n",
       "      <th>10wk</th>\n",
       "    </tr>\n",
       "  </thead>\n",
       "  <tbody>\n",
       "    <tr>\n",
       "      <th>0</th>\n",
       "      <td>0.870968</td>\n",
       "      <td>0.774194</td>\n",
       "      <td>0.677419</td>\n",
       "      <td>0.612903</td>\n",
       "      <td>0.548387</td>\n",
       "      <td>0.096774</td>\n",
       "      <td>0.064516</td>\n",
       "      <td>0.032258</td>\n",
       "      <td>0.032258</td>\n",
       "      <td>0.032258</td>\n",
       "    </tr>\n",
       "    <tr>\n",
       "      <th>1</th>\n",
       "      <td>0.838710</td>\n",
       "      <td>0.741935</td>\n",
       "      <td>0.645161</td>\n",
       "      <td>0.580645</td>\n",
       "      <td>0.516129</td>\n",
       "      <td>0.096774</td>\n",
       "      <td>0.064516</td>\n",
       "      <td>0.064516</td>\n",
       "      <td>0.032258</td>\n",
       "      <td>0.032258</td>\n",
       "    </tr>\n",
       "    <tr>\n",
       "      <th>2</th>\n",
       "      <td>0.645161</td>\n",
       "      <td>0.451613</td>\n",
       "      <td>0.322581</td>\n",
       "      <td>0.225806</td>\n",
       "      <td>0.161290</td>\n",
       "      <td>0.032258</td>\n",
       "      <td>0.032258</td>\n",
       "      <td>0.032258</td>\n",
       "      <td>0.032258</td>\n",
       "      <td>0.032258</td>\n",
       "    </tr>\n",
       "    <tr>\n",
       "      <th>3</th>\n",
       "      <td>0.935484</td>\n",
       "      <td>0.903226</td>\n",
       "      <td>0.870968</td>\n",
       "      <td>0.838710</td>\n",
       "      <td>0.806452</td>\n",
       "      <td>0.774194</td>\n",
       "      <td>0.774194</td>\n",
       "      <td>0.741935</td>\n",
       "      <td>0.741935</td>\n",
       "      <td>0.741935</td>\n",
       "    </tr>\n",
       "    <tr>\n",
       "      <th>4</th>\n",
       "      <td>0.935484</td>\n",
       "      <td>0.903226</td>\n",
       "      <td>0.870968</td>\n",
       "      <td>0.838710</td>\n",
       "      <td>0.838710</td>\n",
       "      <td>0.806452</td>\n",
       "      <td>0.806452</td>\n",
       "      <td>0.806452</td>\n",
       "      <td>0.774194</td>\n",
       "      <td>0.774194</td>\n",
       "    </tr>\n",
       "    <tr>\n",
       "      <th>5</th>\n",
       "      <td>0.838710</td>\n",
       "      <td>0.741935</td>\n",
       "      <td>0.677419</td>\n",
       "      <td>0.645161</td>\n",
       "      <td>0.612903</td>\n",
       "      <td>0.580645</td>\n",
       "      <td>0.580645</td>\n",
       "      <td>0.548387</td>\n",
       "      <td>0.548387</td>\n",
       "      <td>0.548387</td>\n",
       "    </tr>\n",
       "  </tbody>\n",
       "</table>\n",
       "</div>"
      ],
      "text/plain": [
       "        1wk       2wk       3wk       4wk       5wk       6wk       7wk  \\\n",
       "0  0.870968  0.774194  0.677419  0.612903  0.548387  0.096774  0.064516   \n",
       "1  0.838710  0.741935  0.645161  0.580645  0.516129  0.096774  0.064516   \n",
       "2  0.645161  0.451613  0.322581  0.225806  0.161290  0.032258  0.032258   \n",
       "3  0.935484  0.903226  0.870968  0.838710  0.806452  0.774194  0.774194   \n",
       "4  0.935484  0.903226  0.870968  0.838710  0.838710  0.806452  0.806452   \n",
       "5  0.838710  0.741935  0.677419  0.645161  0.612903  0.580645  0.580645   \n",
       "\n",
       "        8wk       9wk      10wk  \n",
       "0  0.032258  0.032258  0.032258  \n",
       "1  0.064516  0.032258  0.032258  \n",
       "2  0.032258  0.032258  0.032258  \n",
       "3  0.741935  0.741935  0.741935  \n",
       "4  0.806452  0.774194  0.774194  \n",
       "5  0.548387  0.548387  0.548387  "
      ]
     },
     "execution_count": 222,
     "metadata": {},
     "output_type": "execute_result"
    }
   ],
   "source": [
    "a = RR_choosenosupp\n",
    "\n",
    "weekfig_df['1wk'] = weekfig_df['1wk']/a\n",
    "weekfig_df['2wk'] = weekfig_df['2wk']/a\n",
    "weekfig_df['3wk'] = weekfig_df['3wk']/a\n",
    "weekfig_df['4wk'] = weekfig_df['4wk']/a\n",
    "weekfig_df['5wk'] = weekfig_df['5wk']/a\n",
    "weekfig_df['6wk'] = weekfig_df['6wk']/a\n",
    "weekfig_df['7wk'] = weekfig_df['7wk']/a\n",
    "weekfig_df['8wk'] = weekfig_df['8wk']/a\n",
    "weekfig_df['9wk'] = weekfig_df['9wk']/a\n",
    "weekfig_df['10wk'] = weekfig_df['10wk']/a\n",
    "\n",
    "weekfig_df"
   ]
  },
  {
   "cell_type": "markdown",
   "id": "37b0af26",
   "metadata": {},
   "source": [
    "### 2.c. Plot results for panel B"
   ]
  },
  {
   "cell_type": "code",
   "execution_count": 223,
   "id": "170c5c76",
   "metadata": {},
   "outputs": [],
   "source": [
    "w1 = weekfig_df.loc[0]\n",
    "w1 = w1.values.tolist()\n",
    "w2 = weekfig_df.loc[1]\n",
    "w2 = w2.values.tolist()\n",
    "w3 = weekfig_df.loc[2]\n",
    "w3 = w3.values.tolist()\n",
    "w4 = weekfig_df.loc[3]\n",
    "w4 = w4.values.tolist()\n",
    "w5 = weekfig_df.loc[4]\n",
    "w5 = w5.values.tolist()\n",
    "w6 = weekfig_df.loc[5]\n",
    "w6 = w6.values.tolist()\n",
    "\n",
    "t = np.linspace(1,10,10)"
   ]
  },
  {
   "cell_type": "code",
   "execution_count": 224,
   "id": "34ca8211",
   "metadata": {},
   "outputs": [
    {
     "data": {
      "text/plain": [
       "<matplotlib.legend.Legend at 0x7fac19722430>"
      ]
     },
     "execution_count": 224,
     "metadata": {},
     "output_type": "execute_result"
    },
    {
     "data": {
      "image/png": "[encoded data removed]",
      "text/plain": [
       "<Figure size 720x504 with 1 Axes>"
      ]
     },
     "metadata": {
      "needs_background": "light"
     },
     "output_type": "display_data"
    }
   ],
   "source": [
    "fig, ax2 = plt.subplots(figsize=(10,7))\n",
    "\n",
    "ax2.plot(t, w1, 'red', marker=\"o\", label=\"RIDL\")\n",
    "ax2.plot(t, w2, 'green', marker=\"^\", label=\"SIT\")\n",
    "ax2.plot(t, w3, 'purple', marker=\"2\", label=\"IIT\")\n",
    "ax2.plot(t, w4, 'blue', marker=\"s\", label=\"Env\")\n",
    "ax2.plot(t, w5, 'orange', marker=\"x\", label=\"Lar\")\n",
    "ax2.plot(t, w6, 'black', marker=\"+\", label=\"Ad\")\n",
    "plt.xticks(np.linspace(1,10,10))\n",
    "ax2.set_xlim(1,10)\n",
    "ax2.set_xlabel(\"Week of switch from suppression to release\", fontsize=12, labelpad=8)\n",
    "ax2.set_ylabel(\"RR relative to no suppression\", fontsize=12, labelpad=8)\n",
    "ax2.legend(loc='upper right', ncol=2)\n",
    "#ax2.set_title(\"Minimum RR required to reach 95% fixation\\n of Wolbachia within 6 months\")\n",
    "\n",
    "#plt.savefig('Fig5B.jpeg', dpi=600, bbox_inches='tight',)"
   ]
  },
  {
   "cell_type": "code",
   "execution_count": null,
   "id": "ad64c017",
   "metadata": {},
   "outputs": [],
   "source": []
  },
  {
   "cell_type": "code",
   "execution_count": null,
   "id": "bc911afa",
   "metadata": {},
   "outputs": [],
   "source": []
  },
  {
   "cell_type": "code",
   "execution_count": null,
   "id": "b07b4926",
   "metadata": {},
   "outputs": [],
   "source": []
  }
 ],
 "metadata": {
  "kernelspec": {
   "display_name": "Python 3 (ipykernel)",
   "language": "python",
   "name": "python3"
  },
  "language_info": {
   "codemirror_mode": {
    "name": "ipython",
    "version": 3
   },
   "file_extension": ".py",
   "mimetype": "text/x-python",
   "name": "python",
   "nbconvert_exporter": "python",
   "pygments_lexer": "ipython3",
   "version": "3.8.12"
  }
 },
 "nbformat": 4,
 "nbformat_minor": 5
}
