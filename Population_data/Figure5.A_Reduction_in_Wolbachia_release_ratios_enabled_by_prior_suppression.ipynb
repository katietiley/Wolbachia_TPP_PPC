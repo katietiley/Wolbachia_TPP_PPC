{
 "cells": [
  {
   "cell_type": "markdown",
   "id": "5235df6d",
   "metadata": {},
   "source": [
    "# Figure 5.A. Reduction in Wolbachia release ratios enabled by prior suppression\n",
    "Author: Katie Tiley (katherine.tiley@lshtm.ac.uk) <br>\n",
    "Date: 25 Oct 22 <br>\n",
    "<br>\n",
    "Note: in the code RIDL refers to 1gSLT, and IIT refers to Male Wolbachia release"
   ]
  },
  {
   "cell_type": "code",
   "execution_count": 1,
   "id": "0bd84416",
   "metadata": {},
   "outputs": [],
   "source": [
    "from scipy.integrate import odeint\n",
    "import numpy as np\n",
    "import matplotlib as mat\n",
    "import matplotlib.pyplot as plt\n",
    "from scipy import integrate as sp\n",
    "import seaborn as sns\n",
    "from tabulate import tabulate\n",
    "import pandas as pd\n",
    "import time\n",
    "import os"
   ]
  },
  {
   "cell_type": "code",
   "execution_count": 2,
   "id": "4fa50ca0",
   "metadata": {},
   "outputs": [],
   "source": [
    "filepath = os.path.abspath(os.getcwd())"
   ]
  },
  {
   "cell_type": "markdown",
   "id": "f803f7bf",
   "metadata": {},
   "source": [
    "### 1. Set up model\n",
    "Parameters:"
   ]
  },
  {
   "cell_type": "code",
   "execution_count": 3,
   "id": "b1a6ee81",
   "metadata": {},
   "outputs": [],
   "source": [
    "# MOSQUITO\n",
    "alphaO = 0.5  # rate that eggs hatch into larvae\n",
    "alphaL = 0.18  # rate that larvae pupate\n",
    "alphaP = 1  # rate that pupae eclose\n",
    "phi = 500*(1/14)    # number eggs laid per mosquito per day\n",
    "muO = 0.01    # daily death rate of eggs\n",
    "muL = 0.1*alphaL    # daily death rate of larvae\n",
    "muP = 0.1*alphaP     # pupae death rate\n",
    "muM = 1/14     # adult mosquito death rate\n",
    "muF = 1/14     # adult female mosquito death rate\n",
    "\n",
    "# density-dependence via Bellows 1981:\n",
    "AA = 1   # determines the density at which mortality remains proportionate\n",
    "BB = 0.5   # determines the 'abruptness' of density-dependence\n",
    "\n",
    "# WOLBACHIA\n",
    "fCI = 0.012   # prop of cytoplasmic incompatibility that fails 'sigma'\n",
    "MT = 0    # prop of wolbachia females that don't successfully maternally transfer 'omega'\n",
    "c = 0.5      # mating competitiveness of released wolbachia males\n",
    "cv = 1   #coverage of adulticide\n",
    "e = 1.2      # relative mortality of wolbachia adults compared to wild adults\n",
    "RR = 1       # release ratio of wolbachia eggs to wild type eggs\n",
    "RRsupp = 1      # release ratio of wolbachia eggs to wild type eggs for suppression techniques"
   ]
  },
  {
   "cell_type": "markdown",
   "id": "d769e252",
   "metadata": {},
   "source": [
    "Initial conditions:\n",
    "(equilibrium values previously defined in Supp)"
   ]
  },
  {
   "cell_type": "code",
   "execution_count": 4,
   "id": "da61f073",
   "metadata": {},
   "outputs": [],
   "source": [
    "O0 = 15947.608023052446\n",
    "OW0 = 0\n",
    "rOW0 = 0\n",
    "OS0 = 0\n",
    "L0 = 40271.71074193975\n",
    "LW0 = 0\n",
    "rLW0 = 0\n",
    "LS0 = 0\n",
    "P0 = 32.67541200187585\n",
    "PW0 = 0\n",
    "rPW0 = 0\n",
    "PS0 = 0\n",
    "M0 = 228.72754035145144\n",
    "MW0 = 0\n",
    "MS0 = 0\n",
    "F0 = 228.72754035145144\n",
    "FW0 = 0"
   ]
  },
  {
   "cell_type": "markdown",
   "id": "d17984ed",
   "metadata": {},
   "source": [
    "Wolbachia release function:"
   ]
  },
  {
   "cell_type": "code",
   "execution_count": 5,
   "id": "a5768743",
   "metadata": {},
   "outputs": [],
   "source": [
    "start_wol = 200\n",
    "\n",
    "def pulseN(t, start_wol=start_wol, releasenumber=5, frequency=14):    \n",
    "    for i in range(0,releasenumber,1):\n",
    "        if round(t) == start_wol + (frequency*i):\n",
    "            return O0\n",
    "    else:\n",
    "        return 0"
   ]
  },
  {
   "cell_type": "markdown",
   "id": "42232efc",
   "metadata": {},
   "source": [
    "Suppression functions:"
   ]
  },
  {
   "cell_type": "code",
   "execution_count": 6,
   "id": "5237b30d",
   "metadata": {},
   "outputs": [],
   "source": [
    "# IIT\n",
    "\n",
    "def IIT(t, releasenumber=5, frequency=7, end=start_wol):\n",
    "    for i in range(0,releasenumber,1):\n",
    "        if round(t) == (end-frequency) - (frequency*i):\n",
    "            return 0 #M0+F0\n",
    "    else:\n",
    "        return 0"
   ]
  },
  {
   "cell_type": "code",
   "execution_count": 7,
   "id": "877208b0",
   "metadata": {},
   "outputs": [],
   "source": [
    "# SIT / RIDL\n",
    "\n",
    "switch = 0 #0 for SIT; 1 for RIDL\n",
    "\n",
    "def SIT(t, releasenumber=5, frequency=7, end=start_wol):    \n",
    "    for i in range(0,releasenumber,1):\n",
    "        if round(t) == (end-frequency) - (frequency*i):\n",
    "            return 0 #M0+F0\n",
    "    else:\n",
    "        return 0"
   ]
  },
  {
   "cell_type": "code",
   "execution_count": 8,
   "id": "15c422bc",
   "metadata": {},
   "outputs": [],
   "source": [
    "# Environmental management\n",
    "\n",
    "start_em=start_wol-(7*5)\n",
    "stop_em=200\n",
    "em_eff= 1 #0.526\n",
    "\n",
    "def em(t):\n",
    "    if round(t) < start_em:     #start\n",
    "        return 1\n",
    "    elif round(t) > stop_em:    #stop releases\n",
    "        return 1\n",
    "    else:\n",
    "        return em_eff"
   ]
  },
  {
   "cell_type": "code",
   "execution_count": 9,
   "id": "a7fdb9fe",
   "metadata": {},
   "outputs": [],
   "source": [
    "# Larvicides (e.g. guppies)\n",
    "\n",
    "start_lv=start_wol-(7*5)\n",
    "stop_lv=200\n",
    "lv_eff= 1 #5.95\n",
    "\n",
    "def lv(t):\n",
    "    if round(t) < start_lv:     #start\n",
    "        return 1\n",
    "    elif round(t) > stop_lv:    #stop releases\n",
    "        return 1\n",
    "    else:\n",
    "        return lv_eff"
   ]
  },
  {
   "cell_type": "code",
   "execution_count": 10,
   "id": "26baa7b8",
   "metadata": {},
   "outputs": [],
   "source": [
    "# Adulticide\n",
    "\n",
    "h = [] #needed to set adulticide pulses\n",
    "for i in range(-4, 1, 1):\n",
    "    h.append((start_wol-7) + (7*i))\n",
    "\n",
    "def ad(t):    \n",
    "    ad_eff = 0 #4.9\n",
    "    if round(t) < h[0]:\n",
    "        return 0\n",
    "    elif round(t) > h[0]+0.01 and round(t) < h[1]:\n",
    "        return 0\n",
    "    elif round(t) > h[1]+0.01 and round(t) < h[2]:\n",
    "        return 0\n",
    "    elif round(t) > h[2]+0.01 and round(t) < h[3]:\n",
    "        return 0\n",
    "    elif round(t) > h[3]+0.01 and round(t) < h[4]:\n",
    "        return 0\n",
    "    elif round(t) > h[4]+0.01: # and round(t) < h[5]:\n",
    "        return 0\n",
    "#    elif round(t) > h[5]+0.01 and round(t) < h[6]:\n",
    "#        return 0\n",
    "#    elif round(t) > h[6]+0.01 and round(t) < h[7]:\n",
    "#        return 0\n",
    "#    elif round(t) > h[7]+0.01 and round(t) < h[8]:\n",
    "#        return 0\n",
    "#    elif round(t) > h[8]+0.01 and round(t) < h[9]:\n",
    "#        return 0\n",
    "#    elif round(t) > h[9]+0.01:\n",
    "#        return 0\n",
    "    else:\n",
    "        return ad_eff"
   ]
  },
  {
   "cell_type": "markdown",
   "id": "99fc21a7",
   "metadata": {},
   "source": [
    "Model:"
   ]
  },
  {
   "cell_type": "code",
   "execution_count": 11,
   "id": "dadd7f89",
   "metadata": {},
   "outputs": [],
   "source": [
    "def deriv(y, t, fCI, MT, c, e, phi, alphaO, muO, AA, BB, alphaL, alphaP, muP, muM, muF, RR, RRsupp, pulseN, IIT, SIT, em, lv, ad, cv, switch):\n",
    "    \n",
    "    O, OW, rOW, OS, L, LW, rLW, LS, P, PW, rPW, PS, M, MW, MS, F, FW = y\n",
    "    \n",
    "    #MOSQUITOES\n",
    "    \n",
    "    allfemales = 1+F+FW\n",
    "    allmales = 1+M+MW+(MS*c)\n",
    "    \n",
    "    F_nothing = F + FW*MT \n",
    "    M_nothing = M + MW*fCI \n",
    "    \n",
    "    F_wol = FW*(1-MT)\n",
    "    \n",
    "    #Eggs\n",
    "    dOdt = em(t) * phi * F_nothing * M_nothing/allmales - alphaO*O - lv(t)*muO*O # eggs laid * females no-wol * (males no_wol / all males) (aka prop no-wol males)\n",
    "    dOWdt = em(t) * phi * F_wol * (M+MW)/allmales - alphaO*OW - lv(t)*muO*OW \n",
    "    drOWdt = pulseN(t)*RR - alphaO*rOW - muO*rOW\n",
    "    dOSdt = phi * allfemales * (MS*c)/allmales - alphaO*OS - muO*OS\n",
    "    \n",
    "    #Larvae\n",
    "    dLdt =  alphaO*O - alphaL*L - lv(t)*muL*L\n",
    "    dLWdt = alphaO*OW - alphaL*LW - lv(t)*muL*LW\n",
    "    drLWdt = alphaO*rOW - alphaL*rLW - muL*rLW\n",
    "    dLSdt = switch*alphaO*OS - alphaL*LS - muL*LS\n",
    "    \n",
    "    #Pupae \n",
    "    dPdt =  alphaL*(L/(1+((AA*(L+LW+LS))**BB))) - alphaP*P - lv(t)*muP*P \n",
    "    dPWdt = alphaL*(LW/(1+((AA*(L+LW+LS))**BB))) - alphaP*PW - lv(t)*muP*PW\n",
    "    drPWdt = alphaL*(rLW/(1+((AA*(rLW))**BB))) - alphaP*rPW - muP*rPW \n",
    "    dPSdt = alphaL*(LS/(1+((AA*(L+LW+LS))**BB))) - alphaP*PS - muP*PS\n",
    "        \n",
    "    #Adult\n",
    "    dMdt =  .5*alphaP*P - muM*M - ad(t)*M*cv\n",
    "    dMWdt = IIT(t)*RRsupp + .5*alphaP*(PW+rPW) - muM*1.2*MW - ad(t)*MW*cv\n",
    "    dMSdt = SIT(t)*RRsupp - muM*1.2*MS #+ .5*alphaP*PS remove for 1gSLT\n",
    "    \n",
    "    dFdt =  .5*alphaP*P - muF*F - ad(t)*F*cv\n",
    "    dFWdt = .5*alphaP*(PW+rPW) - muF*1.2*FW - ad(t)*FW*cv\n",
    "\n",
    "    return dOdt, dOWdt, drOWdt, dOSdt, dLdt, dLWdt, drLWdt, dLSdt, dPdt, dPWdt, drPWdt, dPSdt, dMdt, dMWdt, dMSdt, dFdt, dFWdt"
   ]
  },
  {
   "cell_type": "markdown",
   "id": "9a50a66b",
   "metadata": {},
   "source": [
    "Model prerequisites:"
   ]
  },
  {
   "cell_type": "code",
   "execution_count": 12,
   "id": "02cb4754",
   "metadata": {},
   "outputs": [],
   "source": [
    "t = np.linspace(0, 1500, 1501) # grid of time points (in days)\n",
    "y0 = O0, OW0, rOW0, OS0, L0, LW0, rLW0, LS0, P0, PW0, rPW0, PS0, M0, MW0, MS0, F0, FW0 # initial condition vector"
   ]
  },
  {
   "cell_type": "markdown",
   "id": "1c8f5052",
   "metadata": {},
   "source": [
    "Run model:"
   ]
  },
  {
   "cell_type": "code",
   "execution_count": 13,
   "id": "22270a29",
   "metadata": {},
   "outputs": [],
   "source": [
    "ret = odeint(deriv, y0, t,args=(fCI, MT, c, e, phi, alphaO, muO, AA, BB, alphaL, alphaP, muP, muM, muF, RR, RRsupp, pulseN, IIT, SIT, em, lv, ad, cv, switch),hmax=1)\n",
    "\n",
    "O, OW, rOW, OS, L, LW, rLW, LS, P, PW, rPW, PS, M, MW, MS, F, FW = ret.T"
   ]
  },
  {
   "cell_type": "markdown",
   "id": "d38a7e45",
   "metadata": {},
   "source": [
    "Visual check all suppression functions are off and Wolbachia functions is on: (should see Wolbachia come to fixation from day 200)"
   ]
  },
  {
   "cell_type": "code",
   "execution_count": 14,
   "id": "0112331f",
   "metadata": {},
   "outputs": [
    {
     "data": {
      "image/png": "[encoded data removed]",
      "text/plain": [
       "<Figure size 720x720 with 4 Axes>"
      ]
     },
     "metadata": {
      "needs_background": "light"
     },
     "output_type": "display_data"
    }
   ],
   "source": [
    "fig, ((ax1, ax2), (ax3, ax4)) = plt.subplots(2, 2, figsize=[10,10])\n",
    "\n",
    "ax1.plot(t, F+FW+M+MW, 'blue', label='all adults')\n",
    "ax1.plot(t, F+FW, 'pink', label='all females')\n",
    "ax1.set_xlabel(\"Time (days)\", fontsize=12, labelpad=8)\n",
    "ax1.set_ylabel(\"Number of Adult Mosquitoes\", fontsize=12, labelpad=8)\n",
    "ax1.legend()\n",
    "\n",
    "ax2.plot(t, M+F, 'black', label='all wildtypes')\n",
    "ax2.plot(t, MW+FW, 'red', label='all wol')\n",
    "ax2.set_xlabel(\"Time (days)\", fontsize=12, labelpad=8)\n",
    "ax2.set_ylabel(\"Number of wildtype and wol mosquitoes\", fontsize=12, labelpad=8)\n",
    "ax2.legend()\n",
    "\n",
    "ax3.plot(t, L, 'black', linestyle='dashed', label='wildtype larvae')\n",
    "ax3.plot(t, P, 'black', label='wildtype pupae')\n",
    "ax3.plot(t, LW, 'grey', linestyle='dashed', label='wol larvae')\n",
    "ax3.plot(t, PW, 'grey', label='wol pupae')\n",
    "ax3.set_xlabel(\"Time (days)\", fontsize=12, labelpad=8)\n",
    "ax3.set_ylabel(\"Number of wildtype and wol \\naquatic stage mosquitoes\", fontsize=12, labelpad=8)\n",
    "ax3.legend()\n",
    "\n",
    "ax4.plot(t[140:400], (MW[140:400]+FW[140:400])/(MW[140:400]+FW[140:400]+M[140:400]+F[140:400]), 'black')\n",
    "plt.xticks([150,200,250,300,350,400])\n",
    "ax4.set_xlabel(\"Time (days)\", fontsize=12, labelpad=8)\n",
    "ax4.set_ylabel(\"Proportion of Mosquitoes with Wolbachia\", fontsize=12, labelpad=8)\n",
    "\n",
    "\n",
    "plt.subplots_adjust(wspace=.35)"
   ]
  },
  {
   "cell_type": "markdown",
   "id": "00f46b7f",
   "metadata": {},
   "source": [
    "Convert raw eggRR values into adultRR values:"
   ]
  },
  {
   "cell_type": "code",
   "execution_count": 15,
   "id": "f24ae737",
   "metadata": {},
   "outputs": [],
   "source": [
    "RR_df = pd.read_csv(f'{filepath}/eggRR_adultRR.csv')\n",
    "\n",
    "def convert_RR(RR):\n",
    "    return  list(RR_df.loc[RR_df['egg RR'] == RR]['adult RR'])[0]"
   ]
  },
  {
   "cell_type": "markdown",
   "id": "88e19020",
   "metadata": {},
   "source": [
    "### 2.a. Data collection: minimum Wolbachia RR with each suppression for fixation within 6 months\n",
    "### No suppression:"
   ]
  },
  {
   "cell_type": "code",
   "execution_count": 16,
   "id": "0e41f248",
   "metadata": {},
   "outputs": [
    {
     "name": "stdout",
     "output_type": "stream",
     "text": [
      "processing time: 5.6 seconds\n"
     ]
    }
   ],
   "source": [
    "start_time = time.time()\n",
    "\n",
    "RR_vec = [0.00047,0.00134,0.00258,0.00418,0.00612,0.00842,0.01108,0.01408,0.01745,0.02115,0.0252,0.0296,0.03437,0.03945,0.04495,0.0507,0.0569,0.0634,0.0703,0.0775,0.085,0.093,0.10125,0.1098,0.1188,0.1281,0.1378,0.1478,0.1582,0.169,0.18,0.1915,0.203,0.215,0.2277,0.2405,0.2538,0.2672,0.2811,0.2953]\n",
    "zoo=[] #capture results here\n",
    "start_wol=200\n",
    "\n",
    "for i in RR_vec:\n",
    "        \n",
    "    RR = i\n",
    "        \n",
    "    # run the model\n",
    "    t = np.linspace(0, 1500, 1501) # Grid of time points (in days)\n",
    "    y0 = O0, OW0, rOW0, OS0, L0, LW0, rLW0, LS0, P0, PW0, rPW0, PS0, M0, MW0, MS0, F0, FW0 # Init condition vector\n",
    "    ret = odeint(deriv, y0, t,args=(fCI, MT, c, e, phi, alphaO, muO, AA, BB, alphaL, alphaP, muP, muM, muF, RR, RRsupp, pulseN, IIT, SIT, em, lv, ad, cv, switch),hmax=1)\n",
    "    O, OW, rOW, OS, L, LW, rLW, LS, P, PW, rPW, PS, M, MW, MS, F, FW = ret.T\n",
    "\n",
    "    # get output\n",
    "    total = MW+FW+M+F\n",
    "    prop = (MW+FW)/(MW+FW+M+F)\n",
    "    \n",
    "    \n",
    "    fix = np.argwhere(prop > 0.95)\n",
    "    if sum(fix) > 0:\n",
    "        min_fix = min(fix)-start_wol\n",
    "        min_fix = min_fix.tolist()\n",
    "    else:\n",
    "        min_fix = [99999] #occurs if no fixation\n",
    "        \n",
    "    zoo.append(min_fix)\n",
    "\n",
    "current_time = time.time()\n",
    "elapsed_time = current_time - start_time\n",
    "print('processing time:',round(elapsed_time,2),'seconds')"
   ]
  },
  {
   "cell_type": "code",
   "execution_count": 17,
   "id": "640c696d",
   "metadata": {},
   "outputs": [],
   "source": [
    "zoo2 = [f for sublist in zoo for f in sublist] #flatten\n",
    "sixmonth = next(x for x, val in enumerate(zoo2) if val <= 182.5) #within 6 months\n",
    "RR_choosenosupp = RR_vec[sixmonth]\n",
    "RR_choosenosupp = convert_RR(RR_choosenosupp)\n",
    "\n",
    "## returns error if there is no fixation"
   ]
  },
  {
   "cell_type": "code",
   "execution_count": 18,
   "id": "976928cb",
   "metadata": {},
   "outputs": [
    {
     "data": {
      "text/html": [
       "<div>\n",
       "<style scoped>\n",
       "    .dataframe tbody tr th:only-of-type {\n",
       "        vertical-align: middle;\n",
       "    }\n",
       "\n",
       "    .dataframe tbody tr th {\n",
       "        vertical-align: top;\n",
       "    }\n",
       "\n",
       "    .dataframe thead th {\n",
       "        text-align: right;\n",
       "    }\n",
       "</style>\n",
       "<table border=\"1\" class=\"dataframe\">\n",
       "  <thead>\n",
       "    <tr style=\"text-align: right;\">\n",
       "      <th></th>\n",
       "      <th>Suppression type</th>\n",
       "      <th>20%</th>\n",
       "      <th>50%</th>\n",
       "      <th>80%</th>\n",
       "      <th>%lit</th>\n",
       "    </tr>\n",
       "  </thead>\n",
       "  <tbody>\n",
       "    <tr>\n",
       "      <th>0</th>\n",
       "      <td>No Suppression</td>\n",
       "      <td>0</td>\n",
       "      <td>0</td>\n",
       "      <td>0</td>\n",
       "      <td>0.0775</td>\n",
       "    </tr>\n",
       "  </tbody>\n",
       "</table>\n",
       "</div>"
      ],
      "text/plain": [
       "  Suppression type  20%  50%  80%    %lit\n",
       "0   No Suppression    0    0    0  0.0775"
      ]
     },
     "execution_count": 18,
     "metadata": {},
     "output_type": "execute_result"
    }
   ],
   "source": [
    "# set up results dataframe\n",
    "fig_df = pd.DataFrame({'Suppression type': 'No Suppression', '20%': 0, '50%': 0, '80%': 0, '%lit': RR_choosenosupp}, index=[0]) #0 indicates NA\n",
    "\n",
    "fig_df"
   ]
  },
  {
   "cell_type": "markdown",
   "id": "121f9491",
   "metadata": {},
   "source": [
    "### RIDL:"
   ]
  },
  {
   "cell_type": "code",
   "execution_count": 19,
   "id": "273309f0",
   "metadata": {},
   "outputs": [],
   "source": [
    "RIDL_df = pd.read_csv(f'{filepath}/RIDL_df.csv')"
   ]
  },
  {
   "cell_type": "code",
   "execution_count": 20,
   "id": "236cd3d6",
   "metadata": {},
   "outputs": [],
   "source": [
    "# switch on\n",
    "\n",
    "switch = 1 #0 for SIT; 1 for RIDL\n",
    "\n",
    "def SIT(t, releasenumber=5, frequency=7, end=start_wol):    \n",
    "    for i in range(0,releasenumber,1):\n",
    "        if round(t) == (end-frequency) - (frequency*i):\n",
    "            return M0+F0\n",
    "    else:\n",
    "        return 0"
   ]
  },
  {
   "cell_type": "markdown",
   "id": "b4b4d427",
   "metadata": {},
   "source": [
    "20% efficacy:"
   ]
  },
  {
   "cell_type": "code",
   "execution_count": 21,
   "id": "b40820ac",
   "metadata": {},
   "outputs": [],
   "source": [
    "RRsupp = list(RIDL_df.loc[RIDL_df['Target efficacy'] == 20, 'RRsupp value'])\n",
    "RRsupp = RRsupp[0]"
   ]
  },
  {
   "cell_type": "code",
   "execution_count": 22,
   "id": "c9352a4f",
   "metadata": {},
   "outputs": [
    {
     "name": "stdout",
     "output_type": "stream",
     "text": [
      "processing time: 7.1 seconds\n"
     ]
    }
   ],
   "source": [
    "start_time = time.time()\n",
    "\n",
    "RR_vec = [0.00047,0.00134,0.00258,0.00418,0.00612,0.00842,0.01108,0.01408,0.01745,0.02115,0.0252,0.0296,0.03437,0.03945,0.04495,0.0507,0.0569,0.0634,0.0703,0.0775,0.085,0.093,0.10125,0.1098,0.1188,0.1281,0.1378,0.1478,0.1582,0.169,0.18,0.1915,0.203,0.215,0.2277,0.2405,0.2538,0.2672,0.2811,0.2953]\n",
    "zoo = [] #capture results here\n",
    "start_wol = 200\n",
    "\n",
    "for i in RR_vec:\n",
    "        \n",
    "    RR = i\n",
    "        \n",
    "    # run the model\n",
    "    t = np.linspace(0, 1500, 1501) # Grid of time points (in days)\n",
    "    y0 = O0, OW0, rOW0, OS0, L0, LW0, rLW0, LS0, P0, PW0, rPW0, PS0, M0, MW0, MS0, F0, FW0 # Init condition vector\n",
    "    ret = odeint(deriv, y0, t,args=(fCI, MT, c, e, phi, alphaO, muO, AA, BB, alphaL, alphaP, muP, muM, muF, RR, RRsupp, pulseN, IIT, SIT, em, lv, ad, cv, switch),hmax=1)\n",
    "    O, OW, rOW, OS, L, LW, rLW, LS, P, PW, rPW, PS, M, MW, MS, F, FW = ret.T\n",
    "\n",
    "    # get output\n",
    "    total = MW+FW+M+F\n",
    "    prop = (MW+FW)/(MW+FW+M+F)\n",
    "    \n",
    "    \n",
    "    fix = np.argwhere(prop > 0.95)\n",
    "    if sum(fix) > 0:\n",
    "        min_fix = min(fix)-start_wol\n",
    "        min_fix = min_fix.tolist()\n",
    "    else:\n",
    "        min_fix = [99999] #occurs if no fixation\n",
    "        \n",
    "    zoo.append(min_fix)\n",
    "\n",
    "current_time = time.time()\n",
    "elapsed_time = current_time - start_time\n",
    "print('processing time:',round(elapsed_time,2),'seconds')"
   ]
  },
  {
   "cell_type": "code",
   "execution_count": 23,
   "id": "2f4e9258",
   "metadata": {},
   "outputs": [],
   "source": [
    "zoo2 = [f for sublist in zoo for f in sublist] #flatten\n",
    "sixmonth = next(x for x, val in enumerate(zoo2) if val <= 182.5) #within 6 months\n",
    "RIDL_choose20 = RR_vec[sixmonth]\n",
    "RIDL_choose20 = convert_RR(RIDL_choose20)"
   ]
  },
  {
   "cell_type": "markdown",
   "id": "89163de6",
   "metadata": {},
   "source": [
    "50% efficacy:"
   ]
  },
  {
   "cell_type": "code",
   "execution_count": 24,
   "id": "884b1040",
   "metadata": {},
   "outputs": [],
   "source": [
    "RRsupp = list(RIDL_df.loc[RIDL_df['Target efficacy'] == 50, 'RRsupp value'])\n",
    "RRsupp = RRsupp[0] "
   ]
  },
  {
   "cell_type": "code",
   "execution_count": 25,
   "id": "233af80c",
   "metadata": {},
   "outputs": [
    {
     "name": "stdout",
     "output_type": "stream",
     "text": [
      "processing time: 7.15 seconds\n"
     ]
    }
   ],
   "source": [
    "start_time = time.time()\n",
    "\n",
    "RR_vec = [0.00047,0.00134,0.00258,0.00418,0.00612,0.00842,0.01108,0.01408,0.01745,0.02115,0.0252,0.0296,0.03437,0.03945,0.04495,0.0507,0.0569,0.0634,0.0703,0.0775,0.085,0.093,0.10125,0.1098,0.1188,0.1281,0.1378,0.1478,0.1582,0.169,0.18,0.1915,0.203,0.215,0.2277,0.2405,0.2538,0.2672,0.2811,0.2953]\n",
    "zoo = [] #capture results here\n",
    "start_wol = 200\n",
    "\n",
    "for i in RR_vec:\n",
    "        \n",
    "    RR = i\n",
    "        \n",
    "    # run the model\n",
    "    t = np.linspace(0, 1500, 1501) # Grid of time points (in days)\n",
    "    y0 = O0, OW0, rOW0, OS0, L0, LW0, rLW0, LS0, P0, PW0, rPW0, PS0, M0, MW0, MS0, F0, FW0 # Init condition vector\n",
    "    ret = odeint(deriv, y0, t,args=(fCI, MT, c, e, phi, alphaO, muO, AA, BB, alphaL, alphaP, muP, muM, muF, RR, RRsupp, pulseN, IIT, SIT, em, lv, ad, cv, switch),hmax=1)\n",
    "    O, OW, rOW, OS, L, LW, rLW, LS, P, PW, rPW, PS, M, MW, MS, F, FW = ret.T\n",
    "\n",
    "    # get output\n",
    "    total = MW+FW+M+F\n",
    "    prop = (MW+FW)/(MW+FW+M+F)\n",
    "    \n",
    "    \n",
    "    fix = np.argwhere(prop > 0.95)\n",
    "    if sum(fix) > 0:\n",
    "        min_fix = min(fix)-start_wol\n",
    "        min_fix = min_fix.tolist()\n",
    "    else:\n",
    "        min_fix = [99999] #occurs if no fixation\n",
    "        \n",
    "    zoo.append(min_fix)\n",
    "\n",
    "current_time = time.time()\n",
    "elapsed_time = current_time - start_time\n",
    "print('processing time:',round(elapsed_time,2),'seconds')"
   ]
  },
  {
   "cell_type": "code",
   "execution_count": 26,
   "id": "a3705642",
   "metadata": {},
   "outputs": [],
   "source": [
    "zoo2 = [f for sublist in zoo for f in sublist] #flatten\n",
    "sixmonth = next(x for x, val in enumerate(zoo2) if val <= 182.5) #within 6 months\n",
    "RIDL_choose50 = RR_vec[sixmonth]\n",
    "RIDL_choose50 = convert_RR(RIDL_choose50)"
   ]
  },
  {
   "cell_type": "markdown",
   "id": "1ff72d97",
   "metadata": {},
   "source": [
    "80% efficacy:"
   ]
  },
  {
   "cell_type": "code",
   "execution_count": 27,
   "id": "da640e8e",
   "metadata": {},
   "outputs": [],
   "source": [
    "RRsupp = list(RIDL_df.loc[RIDL_df['Target efficacy'] == 80, 'RRsupp value'])\n",
    "RRsupp = RRsupp[0]"
   ]
  },
  {
   "cell_type": "code",
   "execution_count": 28,
   "id": "eca8b410",
   "metadata": {},
   "outputs": [
    {
     "name": "stdout",
     "output_type": "stream",
     "text": [
      "processing time: 7.17 seconds\n"
     ]
    }
   ],
   "source": [
    "start_time = time.time()\n",
    "\n",
    "RR_vec = [0.00047,0.00134,0.00258,0.00418,0.00612,0.00842,0.01108,0.01408,0.01745,0.02115,0.0252,0.0296,0.03437,0.03945,0.04495,0.0507,0.0569,0.0634,0.0703,0.0775,0.085,0.093,0.10125,0.1098,0.1188,0.1281,0.1378,0.1478,0.1582,0.169,0.18,0.1915,0.203,0.215,0.2277,0.2405,0.2538,0.2672,0.2811,0.2953]\n",
    "zoo = [] #capture results here\n",
    "start_wol = 200\n",
    "\n",
    "for i in RR_vec:\n",
    "        \n",
    "    RR = i\n",
    "        \n",
    "    # run the model\n",
    "    t = np.linspace(0, 1500, 1501) # Grid of time points (in days)\n",
    "    y0 = O0, OW0, rOW0, OS0, L0, LW0, rLW0, LS0, P0, PW0, rPW0, PS0, M0, MW0, MS0, F0, FW0 # Init condition vector\n",
    "    ret = odeint(deriv, y0, t,args=(fCI, MT, c, e, phi, alphaO, muO, AA, BB, alphaL, alphaP, muP, muM, muF, RR, RRsupp, pulseN, IIT, SIT, em, lv, ad, cv, switch),hmax=1)\n",
    "    O, OW, rOW, OS, L, LW, rLW, LS, P, PW, rPW, PS, M, MW, MS, F, FW = ret.T\n",
    "\n",
    "    # get output\n",
    "    total = MW+FW+M+F\n",
    "    prop = (MW+FW)/(MW+FW+M+F)\n",
    "    \n",
    "    \n",
    "    fix = np.argwhere(prop > 0.95)\n",
    "    if sum(fix) > 0:\n",
    "        min_fix = min(fix)-start_wol\n",
    "        min_fix = min_fix.tolist()\n",
    "    else:\n",
    "        min_fix = [99999] #occurs if no fixation\n",
    "        \n",
    "    zoo.append(min_fix)\n",
    "\n",
    "current_time = time.time()\n",
    "elapsed_time = current_time - start_time\n",
    "print('processing time:',round(elapsed_time,2),'seconds')"
   ]
  },
  {
   "cell_type": "code",
   "execution_count": 29,
   "id": "0c20b256",
   "metadata": {},
   "outputs": [],
   "source": [
    "zoo2 = [f for sublist in zoo for f in sublist] #flatten\n",
    "sixmonth = next(x for x, val in enumerate(zoo2) if val <= 182.5) #within 6 months\n",
    "RIDL_choose80 = RR_vec[sixmonth]\n",
    "RIDL_choose80 = convert_RR(RIDL_choose80)"
   ]
  },
  {
   "cell_type": "markdown",
   "id": "c1607400",
   "metadata": {},
   "source": [
    "Literature efficacy:"
   ]
  },
  {
   "cell_type": "code",
   "execution_count": 30,
   "id": "ae46683f",
   "metadata": {},
   "outputs": [],
   "source": [
    "RRsupp = list(RIDL_df.loc[RIDL_df['Target efficacy'] == 45, 'RRsupp value'])\n",
    "RRsupp = RRsupp[0] "
   ]
  },
  {
   "cell_type": "code",
   "execution_count": 31,
   "id": "ab872853",
   "metadata": {},
   "outputs": [
    {
     "name": "stdout",
     "output_type": "stream",
     "text": [
      "processing time: 7.07 seconds\n"
     ]
    }
   ],
   "source": [
    "start_time = time.time()\n",
    "\n",
    "RR_vec = [0.00047,0.00134,0.00258,0.00418,0.00612,0.00842,0.01108,0.01408,0.01745,0.02115,0.0252,0.0296,0.03437,0.03945,0.04495,0.0507,0.0569,0.0634,0.0703,0.0775,0.085,0.093,0.10125,0.1098,0.1188,0.1281,0.1378,0.1478,0.1582,0.169,0.18,0.1915,0.203,0.215,0.2277,0.2405,0.2538,0.2672,0.2811,0.2953]\n",
    "zoo = [] #capture results here\n",
    "start_wol = 200\n",
    "\n",
    "for i in RR_vec:\n",
    "        \n",
    "    RR = i\n",
    "        \n",
    "    # run the model\n",
    "    t = np.linspace(0, 1500, 1501) # Grid of time points (in days)\n",
    "    y0 = O0, OW0, rOW0, OS0, L0, LW0, rLW0, LS0, P0, PW0, rPW0, PS0, M0, MW0, MS0, F0, FW0 # Init condition vector\n",
    "    ret = odeint(deriv, y0, t,args=(fCI, MT, c, e, phi, alphaO, muO, AA, BB, alphaL, alphaP, muP, muM, muF, RR, RRsupp, pulseN, IIT, SIT, em, lv, ad, cv, switch),hmax=1)\n",
    "    O, OW, rOW, OS, L, LW, rLW, LS, P, PW, rPW, PS, M, MW, MS, F, FW = ret.T\n",
    "\n",
    "    # get output\n",
    "    total = MW+FW+M+F\n",
    "    prop = (MW+FW)/(MW+FW+M+F)\n",
    "    \n",
    "    \n",
    "    fix = np.argwhere(prop > 0.95)\n",
    "    if sum(fix) > 0:\n",
    "        min_fix = min(fix)-start_wol\n",
    "        min_fix = min_fix.tolist()\n",
    "    else:\n",
    "        min_fix = [99999] #occurs if no fixation\n",
    "        \n",
    "    zoo.append(min_fix)\n",
    "\n",
    "current_time = time.time()\n",
    "elapsed_time = current_time - start_time\n",
    "print('processing time:',round(elapsed_time,2),'seconds')"
   ]
  },
  {
   "cell_type": "code",
   "execution_count": 32,
   "id": "9c1b90ef",
   "metadata": {},
   "outputs": [],
   "source": [
    "zoo2 = [f for sublist in zoo for f in sublist] #flatten\n",
    "sixmonth = next(x for x, val in enumerate(zoo2) if val <= 182.5) #within 6 months\n",
    "RIDL_chooselit = RR_vec[sixmonth]\n",
    "RIDL_chooselit = convert_RR(RIDL_chooselit)"
   ]
  },
  {
   "cell_type": "markdown",
   "id": "e4507d4a",
   "metadata": {},
   "source": [
    "Store results:"
   ]
  },
  {
   "cell_type": "code",
   "execution_count": 33,
   "id": "1ec2345a",
   "metadata": {},
   "outputs": [
    {
     "data": {
      "text/html": [
       "<div>\n",
       "<style scoped>\n",
       "    .dataframe tbody tr th:only-of-type {\n",
       "        vertical-align: middle;\n",
       "    }\n",
       "\n",
       "    .dataframe tbody tr th {\n",
       "        vertical-align: top;\n",
       "    }\n",
       "\n",
       "    .dataframe thead th {\n",
       "        text-align: right;\n",
       "    }\n",
       "</style>\n",
       "<table border=\"1\" class=\"dataframe\">\n",
       "  <thead>\n",
       "    <tr style=\"text-align: right;\">\n",
       "      <th></th>\n",
       "      <th>Suppression type</th>\n",
       "      <th>20%</th>\n",
       "      <th>50%</th>\n",
       "      <th>80%</th>\n",
       "      <th>%lit</th>\n",
       "    </tr>\n",
       "  </thead>\n",
       "  <tbody>\n",
       "    <tr>\n",
       "      <th>0</th>\n",
       "      <td>No Suppression</td>\n",
       "      <td>0.000</td>\n",
       "      <td>0.0000</td>\n",
       "      <td>0.0000</td>\n",
       "      <td>0.0775</td>\n",
       "    </tr>\n",
       "    <tr>\n",
       "      <th>1</th>\n",
       "      <td>RIDL</td>\n",
       "      <td>0.065</td>\n",
       "      <td>0.0425</td>\n",
       "      <td>0.0175</td>\n",
       "      <td>0.0425</td>\n",
       "    </tr>\n",
       "  </tbody>\n",
       "</table>\n",
       "</div>"
      ],
      "text/plain": [
       "  Suppression type    20%     50%     80%    %lit\n",
       "0   No Suppression  0.000  0.0000  0.0000  0.0775\n",
       "1             RIDL  0.065  0.0425  0.0175  0.0425"
      ]
     },
     "execution_count": 33,
     "metadata": {},
     "output_type": "execute_result"
    }
   ],
   "source": [
    "RIDL_vec = {'Suppression type': 'RIDL', '20%': RIDL_choose20, '50%': RIDL_choose50, '80%': RIDL_choose80, '%lit': RIDL_chooselit}\n",
    "fig_df = fig_df.append(RIDL_vec, ignore_index=True)\n",
    "\n",
    "fig_df"
   ]
  },
  {
   "cell_type": "code",
   "execution_count": 34,
   "id": "f5ca4188",
   "metadata": {},
   "outputs": [],
   "source": [
    "# switch off\n",
    "\n",
    "switch = 1 #0 for SIT; 1 for RIDL\n",
    "\n",
    "def SIT(t, releasenumber=5, frequency=7, end=start_wol):    \n",
    "    for i in range(0,releasenumber,1):\n",
    "        if round(t) == (end-frequency) - (frequency*i):\n",
    "            return 0 #M0+F0\n",
    "    else:\n",
    "        return 0"
   ]
  },
  {
   "cell_type": "markdown",
   "id": "11837eb8",
   "metadata": {},
   "source": [
    "### SIT"
   ]
  },
  {
   "cell_type": "code",
   "execution_count": 35,
   "id": "80d40a94",
   "metadata": {},
   "outputs": [],
   "source": [
    "SIT_df = pd.read_csv(f'{filepath}/SIT_df_01-02-24.csv')"
   ]
  },
  {
   "cell_type": "code",
   "execution_count": 36,
   "id": "75456c6d",
   "metadata": {},
   "outputs": [],
   "source": [
    "# switch on\n",
    "\n",
    "switch = 0 #0 for SIT; 1 for RIDL\n",
    "\n",
    "def SIT(t, releasenumber=5, frequency=7, end=start_wol):    \n",
    "    for i in range(0,releasenumber,1):\n",
    "        if round(t) == (end-frequency) - (frequency*i):\n",
    "            return M0+F0\n",
    "    else:\n",
    "        return 0"
   ]
  },
  {
   "cell_type": "markdown",
   "id": "99129306",
   "metadata": {},
   "source": [
    "20% efficacy:"
   ]
  },
  {
   "cell_type": "code",
   "execution_count": 37,
   "id": "eaffa12b",
   "metadata": {},
   "outputs": [],
   "source": [
    "RRsupp = list(SIT_df.loc[SIT_df['Target efficacy'] == 20, 'RRsupp value'])\n",
    "RRsupp = RRsupp[0]"
   ]
  },
  {
   "cell_type": "code",
   "execution_count": 38,
   "id": "3535d7c0",
   "metadata": {},
   "outputs": [
    {
     "name": "stdout",
     "output_type": "stream",
     "text": [
      "processing time: 6.93 seconds\n"
     ]
    }
   ],
   "source": [
    "start_time = time.time()\n",
    "\n",
    "RR_vec = [0.00047,0.00134,0.00258,0.00418,0.00612,0.00842,0.01108,0.01408,0.01745,0.02115,0.0252,0.0296,0.03437,0.03945,0.04495,0.0507,0.0569,0.0634,0.0703,0.0775,0.085,0.093,0.10125,0.1098,0.1188,0.1281,0.1378,0.1478,0.1582,0.169,0.18,0.1915,0.203,0.215,0.2277,0.2405,0.2538,0.2672,0.2811,0.2953]\n",
    "zoo = [] #capture results here\n",
    "start_wol = 200\n",
    "\n",
    "for i in RR_vec:\n",
    "        \n",
    "    RR = i\n",
    "        \n",
    "    # run the model\n",
    "    t = np.linspace(0, 1500, 1501) # Grid of time points (in days)\n",
    "    y0 = O0, OW0, rOW0, OS0, L0, LW0, rLW0, LS0, P0, PW0, rPW0, PS0, M0, MW0, MS0, F0, FW0 # Init condition vector\n",
    "    ret = odeint(deriv, y0, t,args=(fCI, MT, c, e, phi, alphaO, muO, AA, BB, alphaL, alphaP, muP, muM, muF, RR, RRsupp, pulseN, IIT, SIT, em, lv, ad, cv, switch),hmax=1)\n",
    "    O, OW, rOW, OS, L, LW, rLW, LS, P, PW, rPW, PS, M, MW, MS, F, FW = ret.T\n",
    "\n",
    "    # get output\n",
    "    total = MW+FW+M+F\n",
    "    prop = (MW+FW)/(MW+FW+M+F)\n",
    "    \n",
    "    \n",
    "    fix = np.argwhere(prop > 0.95)\n",
    "    if sum(fix) > 0:\n",
    "        min_fix = min(fix)-start_wol\n",
    "        min_fix = min_fix.tolist()\n",
    "    else:\n",
    "        min_fix = [99999] #occurs if no fixation\n",
    "        \n",
    "    zoo.append(min_fix)\n",
    "\n",
    "current_time = time.time()\n",
    "elapsed_time = current_time - start_time\n",
    "print('processing time:',round(elapsed_time,2),'seconds')"
   ]
  },
  {
   "cell_type": "code",
   "execution_count": 39,
   "id": "a24c3722",
   "metadata": {},
   "outputs": [],
   "source": [
    "zoo2 = [f for sublist in zoo for f in sublist] #flatten\n",
    "sixmonth = next(x for x, val in enumerate(zoo2) if val <= 182.5) #within 6 months\n",
    "SIT_choose20 = RR_vec[sixmonth]\n",
    "SIT_choose20 = convert_RR(SIT_choose20)"
   ]
  },
  {
   "cell_type": "markdown",
   "id": "1c37a714",
   "metadata": {},
   "source": [
    "50% efficacy:"
   ]
  },
  {
   "cell_type": "code",
   "execution_count": 40,
   "id": "9fee6e4f",
   "metadata": {},
   "outputs": [],
   "source": [
    "RRsupp = list(SIT_df.loc[SIT_df['Target efficacy'] == 50, 'RRsupp value'])\n",
    "RRsupp = RRsupp[0]"
   ]
  },
  {
   "cell_type": "code",
   "execution_count": 41,
   "id": "936786fc",
   "metadata": {},
   "outputs": [
    {
     "name": "stdout",
     "output_type": "stream",
     "text": [
      "processing time: 7.05 seconds\n"
     ]
    }
   ],
   "source": [
    "start_time = time.time()\n",
    "\n",
    "RR_vec = [0.00047,0.00134,0.00258,0.00418,0.00612,0.00842,0.01108,0.01408,0.01745,0.02115,0.0252,0.0296,0.03437,0.03945,0.04495,0.0507,0.0569,0.0634,0.0703,0.0775,0.085,0.093,0.10125,0.1098,0.1188,0.1281,0.1378,0.1478,0.1582,0.169,0.18,0.1915,0.203,0.215,0.2277,0.2405,0.2538,0.2672,0.2811,0.2953]\n",
    "zoo = [] #capture results here\n",
    "start_wol = 200\n",
    "\n",
    "for i in RR_vec:\n",
    "        \n",
    "    RR = i\n",
    "        \n",
    "    # run the model\n",
    "    t = np.linspace(0, 1500, 1501) # Grid of time points (in days)\n",
    "    y0 = O0, OW0, rOW0, OS0, L0, LW0, rLW0, LS0, P0, PW0, rPW0, PS0, M0, MW0, MS0, F0, FW0 # Init condition vector\n",
    "    ret = odeint(deriv, y0, t,args=(fCI, MT, c, e, phi, alphaO, muO, AA, BB, alphaL, alphaP, muP, muM, muF, RR, RRsupp, pulseN, IIT, SIT, em, lv, ad, cv, switch),hmax=1)\n",
    "    O, OW, rOW, OS, L, LW, rLW, LS, P, PW, rPW, PS, M, MW, MS, F, FW = ret.T\n",
    "\n",
    "    # get output\n",
    "    total = MW+FW+M+F\n",
    "    prop = (MW+FW)/(MW+FW+M+F)\n",
    "    \n",
    "    \n",
    "    fix = np.argwhere(prop > 0.95)\n",
    "    if sum(fix) > 0:\n",
    "        min_fix = min(fix)-start_wol\n",
    "        min_fix = min_fix.tolist()\n",
    "    else:\n",
    "        min_fix = [99999] #occurs if no fixation\n",
    "        \n",
    "    zoo.append(min_fix)\n",
    "\n",
    "current_time = time.time()\n",
    "elapsed_time = current_time - start_time\n",
    "print('processing time:',round(elapsed_time,2),'seconds')"
   ]
  },
  {
   "cell_type": "code",
   "execution_count": 42,
   "id": "eae4d715",
   "metadata": {},
   "outputs": [],
   "source": [
    "zoo2 = [f for sublist in zoo for f in sublist] #flatten\n",
    "sixmonth = next(x for x, val in enumerate(zoo2) if val <= 182.5) #within 6 months\n",
    "SIT_choose50 = RR_vec[sixmonth]\n",
    "SIT_choose50 = convert_RR(SIT_choose50)"
   ]
  },
  {
   "cell_type": "markdown",
   "id": "508f7b67",
   "metadata": {},
   "source": [
    "80% efficacy:"
   ]
  },
  {
   "cell_type": "code",
   "execution_count": 43,
   "id": "add48ec7",
   "metadata": {},
   "outputs": [],
   "source": [
    "RRsupp = list(SIT_df.loc[SIT_df['Target efficacy'] == 80, 'RRsupp value'])\n",
    "RRsupp = RRsupp[0]"
   ]
  },
  {
   "cell_type": "code",
   "execution_count": 44,
   "id": "0cf8d42b",
   "metadata": {},
   "outputs": [
    {
     "name": "stdout",
     "output_type": "stream",
     "text": [
      "processing time: 7.18 seconds\n"
     ]
    }
   ],
   "source": [
    "start_time = time.time()\n",
    "\n",
    "RR_vec = [0.00047,0.00134,0.00258,0.00418,0.00612,0.00842,0.01108,0.01408,0.01745,0.02115,0.0252,0.0296,0.03437,0.03945,0.04495,0.0507,0.0569,0.0634,0.0703,0.0775,0.085,0.093,0.10125,0.1098,0.1188,0.1281,0.1378,0.1478,0.1582,0.169,0.18,0.1915,0.203,0.215,0.2277,0.2405,0.2538,0.2672,0.2811,0.2953]\n",
    "zoo = [] #capture results here\n",
    "start_wol = 200\n",
    "\n",
    "for i in RR_vec:\n",
    "        \n",
    "    RR = i\n",
    "        \n",
    "    # run the model\n",
    "    t = np.linspace(0, 1500, 1501) # Grid of time points (in days)\n",
    "    y0 = O0, OW0, rOW0, OS0, L0, LW0, rLW0, LS0, P0, PW0, rPW0, PS0, M0, MW0, MS0, F0, FW0 # Init condition vector\n",
    "    ret = odeint(deriv, y0, t,args=(fCI, MT, c, e, phi, alphaO, muO, AA, BB, alphaL, alphaP, muP, muM, muF, RR, RRsupp, pulseN, IIT, SIT, em, lv, ad, cv, switch),hmax=1)\n",
    "    O, OW, rOW, OS, L, LW, rLW, LS, P, PW, rPW, PS, M, MW, MS, F, FW = ret.T\n",
    "\n",
    "    # get output\n",
    "    total = MW+FW+M+F\n",
    "    prop = (MW+FW)/(MW+FW+M+F)\n",
    "    \n",
    "    \n",
    "    fix = np.argwhere(prop > 0.95)\n",
    "    if sum(fix) > 0:\n",
    "        min_fix = min(fix)-start_wol\n",
    "        min_fix = min_fix.tolist()\n",
    "    else:\n",
    "        min_fix = [99999] #occurs if no fixation\n",
    "        \n",
    "    zoo.append(min_fix)\n",
    "\n",
    "current_time = time.time()\n",
    "elapsed_time = current_time - start_time\n",
    "print('processing time:',round(elapsed_time,2),'seconds')"
   ]
  },
  {
   "cell_type": "code",
   "execution_count": 45,
   "id": "dffca0c1",
   "metadata": {},
   "outputs": [],
   "source": [
    "zoo2 = [f for sublist in zoo for f in sublist] #flatten\n",
    "sixmonth = next(x for x, val in enumerate(zoo2) if val <= 182.5) #within 6 months\n",
    "SIT_choose80 = RR_vec[sixmonth]\n",
    "SIT_choose80 = convert_RR(SIT_choose80)"
   ]
  },
  {
   "cell_type": "markdown",
   "id": "3fd8afb1",
   "metadata": {},
   "source": [
    "Literature efficacy:"
   ]
  },
  {
   "cell_type": "code",
   "execution_count": 46,
   "id": "98ee5511",
   "metadata": {},
   "outputs": [],
   "source": [
    "RRsupp = list(SIT_df.loc[SIT_df['Target efficacy'] == 49, 'RRsupp value'])\n",
    "RRsupp = RRsupp[0]"
   ]
  },
  {
   "cell_type": "code",
   "execution_count": 47,
   "id": "187701b8",
   "metadata": {},
   "outputs": [
    {
     "name": "stdout",
     "output_type": "stream",
     "text": [
      "processing time: 7.3 seconds\n"
     ]
    }
   ],
   "source": [
    "start_time = time.time()\n",
    "\n",
    "RR_vec = [0.00047,0.00134,0.00258,0.00418,0.00612,0.00842,0.01108,0.01408,0.01745,0.02115,0.0252,0.0296,0.03437,0.03945,0.04495,0.0507,0.0569,0.0634,0.0703,0.0775,0.085,0.093,0.10125,0.1098,0.1188,0.1281,0.1378,0.1478,0.1582,0.169,0.18,0.1915,0.203,0.215,0.2277,0.2405,0.2538,0.2672,0.2811,0.2953]\n",
    "zoo = [] #capture results here\n",
    "start_wol = 200\n",
    "\n",
    "for i in RR_vec:\n",
    "        \n",
    "    RR = i\n",
    "        \n",
    "    # run the model\n",
    "    t = np.linspace(0, 1500, 1501) # Grid of time points (in days)\n",
    "    y0 = O0, OW0, rOW0, OS0, L0, LW0, rLW0, LS0, P0, PW0, rPW0, PS0, M0, MW0, MS0, F0, FW0 # Init condition vector\n",
    "    ret = odeint(deriv, y0, t,args=(fCI, MT, c, e, phi, alphaO, muO, AA, BB, alphaL, alphaP, muP, muM, muF, RR, RRsupp, pulseN, IIT, SIT, em, lv, ad, cv, switch),hmax=1)\n",
    "    O, OW, rOW, OS, L, LW, rLW, LS, P, PW, rPW, PS, M, MW, MS, F, FW = ret.T\n",
    "\n",
    "    # get output\n",
    "    total = MW+FW+M+F\n",
    "    prop = (MW+FW)/(MW+FW+M+F)\n",
    "    \n",
    "    \n",
    "    fix = np.argwhere(prop > 0.95)\n",
    "    if sum(fix) > 0:\n",
    "        min_fix = min(fix)-start_wol\n",
    "        min_fix = min_fix.tolist()\n",
    "    else:\n",
    "        min_fix = [99999] #occurs if no fixation\n",
    "        \n",
    "    zoo.append(min_fix)\n",
    "\n",
    "current_time = time.time()\n",
    "elapsed_time = current_time - start_time\n",
    "print('processing time:',round(elapsed_time,2),'seconds')"
   ]
  },
  {
   "cell_type": "code",
   "execution_count": 48,
   "id": "cb084818",
   "metadata": {},
   "outputs": [],
   "source": [
    "zoo2 = [f for sublist in zoo for f in sublist] #flatten\n",
    "sixmonth = next(x for x, val in enumerate(zoo2) if val <= 182.5) #within 6 months\n",
    "SIT_chooselit = RR_vec[sixmonth]\n",
    "SIT_chooselit = convert_RR(SIT_chooselit)"
   ]
  },
  {
   "cell_type": "markdown",
   "id": "eec53c65",
   "metadata": {},
   "source": [
    "Store results:"
   ]
  },
  {
   "cell_type": "code",
   "execution_count": 49,
   "id": "62aebd12",
   "metadata": {},
   "outputs": [
    {
     "data": {
      "text/html": [
       "<div>\n",
       "<style scoped>\n",
       "    .dataframe tbody tr th:only-of-type {\n",
       "        vertical-align: middle;\n",
       "    }\n",
       "\n",
       "    .dataframe tbody tr th {\n",
       "        vertical-align: top;\n",
       "    }\n",
       "\n",
       "    .dataframe thead th {\n",
       "        text-align: right;\n",
       "    }\n",
       "</style>\n",
       "<table border=\"1\" class=\"dataframe\">\n",
       "  <thead>\n",
       "    <tr style=\"text-align: right;\">\n",
       "      <th></th>\n",
       "      <th>Suppression type</th>\n",
       "      <th>20%</th>\n",
       "      <th>50%</th>\n",
       "      <th>80%</th>\n",
       "      <th>%lit</th>\n",
       "    </tr>\n",
       "  </thead>\n",
       "  <tbody>\n",
       "    <tr>\n",
       "      <th>0</th>\n",
       "      <td>No Suppression</td>\n",
       "      <td>0.000</td>\n",
       "      <td>0.0000</td>\n",
       "      <td>0.0000</td>\n",
       "      <td>0.0775</td>\n",
       "    </tr>\n",
       "    <tr>\n",
       "      <th>1</th>\n",
       "      <td>RIDL</td>\n",
       "      <td>0.065</td>\n",
       "      <td>0.0425</td>\n",
       "      <td>0.0175</td>\n",
       "      <td>0.0425</td>\n",
       "    </tr>\n",
       "    <tr>\n",
       "      <th>2</th>\n",
       "      <td>SIT</td>\n",
       "      <td>0.065</td>\n",
       "      <td>0.0425</td>\n",
       "      <td>0.0175</td>\n",
       "      <td>0.0400</td>\n",
       "    </tr>\n",
       "  </tbody>\n",
       "</table>\n",
       "</div>"
      ],
      "text/plain": [
       "  Suppression type    20%     50%     80%    %lit\n",
       "0   No Suppression  0.000  0.0000  0.0000  0.0775\n",
       "1             RIDL  0.065  0.0425  0.0175  0.0425\n",
       "2              SIT  0.065  0.0425  0.0175  0.0400"
      ]
     },
     "execution_count": 49,
     "metadata": {},
     "output_type": "execute_result"
    }
   ],
   "source": [
    "SIT_vec = {'Suppression type': 'SIT', '20%': SIT_choose20, '50%': SIT_choose50, '80%': SIT_choose80, '%lit': SIT_chooselit}\n",
    "fig_df = fig_df.append(SIT_vec, ignore_index=True)\n",
    "\n",
    "fig_df"
   ]
  },
  {
   "cell_type": "code",
   "execution_count": 50,
   "id": "3220b084",
   "metadata": {},
   "outputs": [],
   "source": [
    "# switch off\n",
    "\n",
    "switch = 0 #0 for SIT; 1 for RIDL\n",
    "\n",
    "def SIT(t, releasenumber=5, frequency=7, end=start_wol):    \n",
    "    for i in range(0,releasenumber,1):\n",
    "        if round(t) == (end-frequency) - (frequency*i):\n",
    "            return 0 #M0+F0\n",
    "    else:\n",
    "        return 0"
   ]
  },
  {
   "cell_type": "markdown",
   "id": "436af1b1",
   "metadata": {},
   "source": [
    "### IIT"
   ]
  },
  {
   "cell_type": "code",
   "execution_count": 51,
   "id": "6347db68",
   "metadata": {},
   "outputs": [],
   "source": [
    "IIT_df = pd.read_csv(f'{filepath}/IIT_df_01-02-24.csv')"
   ]
  },
  {
   "cell_type": "code",
   "execution_count": 52,
   "id": "8be9f942",
   "metadata": {},
   "outputs": [],
   "source": [
    "# switch on\n",
    "\n",
    "def IIT(t, releasenumber=5, frequency=7, end=start_wol):\n",
    "    for i in range(0,releasenumber,1):\n",
    "        if round(t) == (end-frequency) - (frequency*i):\n",
    "            return M0+F0\n",
    "    else:\n",
    "        return 0"
   ]
  },
  {
   "cell_type": "markdown",
   "id": "b826c031",
   "metadata": {},
   "source": [
    "20% efficacy:"
   ]
  },
  {
   "cell_type": "code",
   "execution_count": 53,
   "id": "873dff74",
   "metadata": {},
   "outputs": [],
   "source": [
    "RRsupp = list(IIT_df.loc[IIT_df['Target efficacy'] == 20, 'RRsupp value'])\n",
    "RRsupp = RRsupp[0]"
   ]
  },
  {
   "cell_type": "code",
   "execution_count": 54,
   "id": "a5f6c51b",
   "metadata": {},
   "outputs": [
    {
     "name": "stdout",
     "output_type": "stream",
     "text": [
      "processing time: 7.01 seconds\n"
     ]
    }
   ],
   "source": [
    "start_time = time.time()\n",
    "\n",
    "RR_vec = [0.00047,0.00134,0.00258,0.00418,0.00612,0.00842,0.01108,0.01408,0.01745,0.02115,0.0252,0.0296,0.03437,0.03945,0.04495,0.0507,0.0569,0.0634,0.0703,0.0775,0.085,0.093,0.10125,0.1098,0.1188,0.1281,0.1378,0.1478,0.1582,0.169,0.18,0.1915,0.203,0.215,0.2277,0.2405,0.2538,0.2672,0.2811,0.2953]\n",
    "zoo = [] #capture results here\n",
    "start_wol = 200\n",
    "\n",
    "for i in RR_vec:\n",
    "        \n",
    "    RR = i\n",
    "        \n",
    "    # run the model\n",
    "    t = np.linspace(0, 1500, 1501) # Grid of time points (in days)\n",
    "    y0 = O0, OW0, rOW0, OS0, L0, LW0, rLW0, LS0, P0, PW0, rPW0, PS0, M0, MW0, MS0, F0, FW0 # Init condition vector\n",
    "    ret = odeint(deriv, y0, t,args=(fCI, MT, c, e, phi, alphaO, muO, AA, BB, alphaL, alphaP, muP, muM, muF, RR, RRsupp, pulseN, IIT, SIT, em, lv, ad, cv, switch),hmax=1)\n",
    "    O, OW, rOW, OS, L, LW, rLW, LS, P, PW, rPW, PS, M, MW, MS, F, FW = ret.T\n",
    "\n",
    "    # get output\n",
    "    total = MW+FW+M+F\n",
    "    prop = (MW+FW)/(MW+FW+M+F)\n",
    "    \n",
    "    \n",
    "    fix = np.argwhere(prop > 0.95)\n",
    "    if sum(fix) > 0:\n",
    "        min_fix = min(fix)-start_wol\n",
    "        min_fix = min_fix.tolist()\n",
    "    else:\n",
    "        min_fix = [99999] #occurs if no fixation\n",
    "        \n",
    "    zoo.append(min_fix)\n",
    "\n",
    "current_time = time.time()\n",
    "elapsed_time = current_time - start_time\n",
    "print('processing time:',round(elapsed_time,2),'seconds')"
   ]
  },
  {
   "cell_type": "code",
   "execution_count": 55,
   "id": "7a45b2ec",
   "metadata": {},
   "outputs": [],
   "source": [
    "zoo2 = [f for sublist in zoo for f in sublist] #flatten\n",
    "sixmonth = next(x for x, val in enumerate(zoo2) if val <= 182.5) #within 6 months\n",
    "IIT_choose20 = RR_vec[sixmonth]\n",
    "IIT_choose20 = convert_RR(IIT_choose20)"
   ]
  },
  {
   "cell_type": "markdown",
   "id": "0e903a28",
   "metadata": {},
   "source": [
    "50% efficacy:"
   ]
  },
  {
   "cell_type": "code",
   "execution_count": 56,
   "id": "450ec84c",
   "metadata": {},
   "outputs": [],
   "source": [
    "RRsupp = list(IIT_df.loc[IIT_df['Target efficacy'] == 50, 'RRsupp value'])\n",
    "RRsupp = RRsupp[0]"
   ]
  },
  {
   "cell_type": "code",
   "execution_count": 57,
   "id": "7a98cfda",
   "metadata": {},
   "outputs": [
    {
     "name": "stdout",
     "output_type": "stream",
     "text": [
      "processing time: 7.01 seconds\n"
     ]
    }
   ],
   "source": [
    "start_time = time.time()\n",
    "\n",
    "RR_vec = [0.00047,0.00134,0.00258,0.00418,0.00612,0.00842,0.01108,0.01408,0.01745,0.02115,0.0252,0.0296,0.03437,0.03945,0.04495,0.0507,0.0569,0.0634,0.0703,0.0775,0.085,0.093,0.10125,0.1098,0.1188,0.1281,0.1378,0.1478,0.1582,0.169,0.18,0.1915,0.203,0.215,0.2277,0.2405,0.2538,0.2672,0.2811,0.2953]\n",
    "zoo = [] #capture results here\n",
    "start_wol = 200\n",
    "\n",
    "for i in RR_vec:\n",
    "        \n",
    "    RR = i\n",
    "        \n",
    "    # run the model\n",
    "    t = np.linspace(0, 1500, 1501) # Grid of time points (in days)\n",
    "    y0 = O0, OW0, rOW0, OS0, L0, LW0, rLW0, LS0, P0, PW0, rPW0, PS0, M0, MW0, MS0, F0, FW0 # Init condition vector\n",
    "    ret = odeint(deriv, y0, t,args=(fCI, MT, c, e, phi, alphaO, muO, AA, BB, alphaL, alphaP, muP, muM, muF, RR, RRsupp, pulseN, IIT, SIT, em, lv, ad, cv, switch),hmax=1)\n",
    "    O, OW, rOW, OS, L, LW, rLW, LS, P, PW, rPW, PS, M, MW, MS, F, FW = ret.T\n",
    "\n",
    "    # get output\n",
    "    total = MW+FW+M+F\n",
    "    prop = (MW+FW)/(MW+FW+M+F)\n",
    "    \n",
    "    \n",
    "    fix = np.argwhere(prop > 0.95)\n",
    "    if sum(fix) > 0:\n",
    "        min_fix = min(fix)-start_wol\n",
    "        min_fix = min_fix.tolist()\n",
    "    else:\n",
    "        min_fix = [99999] #occurs if no fixation\n",
    "        \n",
    "    zoo.append(min_fix)\n",
    "\n",
    "current_time = time.time()\n",
    "elapsed_time = current_time - start_time\n",
    "print('processing time:',round(elapsed_time,2),'seconds')"
   ]
  },
  {
   "cell_type": "code",
   "execution_count": 58,
   "id": "2487f925",
   "metadata": {},
   "outputs": [],
   "source": [
    "zoo2 = [f for sublist in zoo for f in sublist] #flatten\n",
    "sixmonth = next(x for x, val in enumerate(zoo2) if val <= 182.5) #within 6 months\n",
    "IIT_choose50 = RR_vec[sixmonth]\n",
    "IIT_choose50 = convert_RR(IIT_choose50)"
   ]
  },
  {
   "cell_type": "markdown",
   "id": "974e184c",
   "metadata": {},
   "source": [
    "80% efficacy:"
   ]
  },
  {
   "cell_type": "code",
   "execution_count": 59,
   "id": "16b9fd9a",
   "metadata": {},
   "outputs": [],
   "source": [
    "RRsupp = list(IIT_df.loc[IIT_df['Target efficacy'] == 80, 'RRsupp value'])\n",
    "RRsupp = RRsupp[0]"
   ]
  },
  {
   "cell_type": "code",
   "execution_count": 60,
   "id": "6f508a9e",
   "metadata": {},
   "outputs": [
    {
     "name": "stdout",
     "output_type": "stream",
     "text": [
      "processing time: 7.07 seconds\n"
     ]
    }
   ],
   "source": [
    "start_time = time.time()\n",
    "\n",
    "RR_vec = [0.00047,0.00134,0.00258,0.00418,0.00612,0.00842,0.01108,0.01408,0.01745,0.02115,0.0252,0.0296,0.03437,0.03945,0.04495,0.0507,0.0569,0.0634,0.0703,0.0775,0.085,0.093,0.10125,0.1098,0.1188,0.1281,0.1378,0.1478,0.1582,0.169,0.18,0.1915,0.203,0.215,0.2277,0.2405,0.2538,0.2672,0.2811,0.2953]\n",
    "zoo = [] #capture results here\n",
    "start_wol = 200\n",
    "\n",
    "for i in RR_vec:\n",
    "        \n",
    "    RR = i\n",
    "        \n",
    "    # run the model\n",
    "    t = np.linspace(0, 1500, 1501) # Grid of time points (in days)\n",
    "    y0 = O0, OW0, rOW0, OS0, L0, LW0, rLW0, LS0, P0, PW0, rPW0, PS0, M0, MW0, MS0, F0, FW0 # Init condition vector\n",
    "    ret = odeint(deriv, y0, t,args=(fCI, MT, c, e, phi, alphaO, muO, AA, BB, alphaL, alphaP, muP, muM, muF, RR, RRsupp, pulseN, IIT, SIT, em, lv, ad, cv, switch),hmax=1)\n",
    "    O, OW, rOW, OS, L, LW, rLW, LS, P, PW, rPW, PS, M, MW, MS, F, FW = ret.T\n",
    "\n",
    "    # get output\n",
    "    total = MW+FW+M+F\n",
    "    prop = (MW+FW)/(MW+FW+M+F)\n",
    "    \n",
    "    \n",
    "    fix = np.argwhere(prop > 0.95)\n",
    "    if sum(fix) > 0:\n",
    "        min_fix = min(fix)-start_wol\n",
    "        min_fix = min_fix.tolist()\n",
    "    else:\n",
    "        min_fix = [99999] #occurs if no fixation\n",
    "        \n",
    "    zoo.append(min_fix)\n",
    "\n",
    "current_time = time.time()\n",
    "elapsed_time = current_time - start_time\n",
    "print('processing time:',round(elapsed_time,2),'seconds')"
   ]
  },
  {
   "cell_type": "code",
   "execution_count": 61,
   "id": "7f6f3be5",
   "metadata": {},
   "outputs": [],
   "source": [
    "zoo2 = [f for sublist in zoo for f in sublist] #flatten\n",
    "sixmonth = next(x for x, val in enumerate(zoo2) if val <= 182.5) #within 6 months\n",
    "IIT_choose80 = RR_vec[sixmonth]\n",
    "IIT_choose80 = convert_RR(IIT_choose80)"
   ]
  },
  {
   "cell_type": "markdown",
   "id": "418a5265",
   "metadata": {},
   "source": [
    "Literature efficacy:"
   ]
  },
  {
   "cell_type": "code",
   "execution_count": 62,
   "id": "991b60f0",
   "metadata": {},
   "outputs": [],
   "source": [
    "RRsupp = list(IIT_df.loc[IIT_df['Target efficacy'] == 65, 'RRsupp value'])\n",
    "RRsupp = RRsupp[0]"
   ]
  },
  {
   "cell_type": "code",
   "execution_count": 63,
   "id": "98de3b0b",
   "metadata": {},
   "outputs": [
    {
     "name": "stdout",
     "output_type": "stream",
     "text": [
      "processing time: 6.95 seconds\n"
     ]
    }
   ],
   "source": [
    "start_time = time.time()\n",
    "\n",
    "RR_vec = [0.00047,0.00134,0.00258,0.00418,0.00612,0.00842,0.01108,0.01408,0.01745,0.02115,0.0252,0.0296,0.03437,0.03945,0.04495,0.0507,0.0569,0.0634,0.0703,0.0775,0.085,0.093,0.10125,0.1098,0.1188,0.1281,0.1378,0.1478,0.1582,0.169,0.18,0.1915,0.203,0.215,0.2277,0.2405,0.2538,0.2672,0.2811,0.2953]\n",
    "zoo = [] #capture results here\n",
    "start_wol = 200\n",
    "\n",
    "for i in RR_vec:\n",
    "        \n",
    "    RR = i\n",
    "        \n",
    "    # run the model\n",
    "    t = np.linspace(0, 1500, 1501) # Grid of time points (in days)\n",
    "    y0 = O0, OW0, rOW0, OS0, L0, LW0, rLW0, LS0, P0, PW0, rPW0, PS0, M0, MW0, MS0, F0, FW0 # Init condition vector\n",
    "    ret = odeint(deriv, y0, t,args=(fCI, MT, c, e, phi, alphaO, muO, AA, BB, alphaL, alphaP, muP, muM, muF, RR, RRsupp, pulseN, IIT, SIT, em, lv, ad, cv, switch),hmax=1)\n",
    "    O, OW, rOW, OS, L, LW, rLW, LS, P, PW, rPW, PS, M, MW, MS, F, FW = ret.T\n",
    "\n",
    "    # get output\n",
    "    total = MW+FW+M+F\n",
    "    prop = (MW+FW)/(MW+FW+M+F)\n",
    "    \n",
    "    \n",
    "    fix = np.argwhere(prop > 0.95)\n",
    "    if sum(fix) > 0:\n",
    "        min_fix = min(fix)-start_wol\n",
    "        min_fix = min_fix.tolist()\n",
    "    else:\n",
    "        min_fix = [99999] #occurs if no fixation\n",
    "        \n",
    "    zoo.append(min_fix)\n",
    "\n",
    "current_time = time.time()\n",
    "elapsed_time = current_time - start_time\n",
    "print('processing time:',round(elapsed_time,2),'seconds')"
   ]
  },
  {
   "cell_type": "code",
   "execution_count": 64,
   "id": "4d53154c",
   "metadata": {},
   "outputs": [],
   "source": [
    "zoo2 = [f for sublist in zoo for f in sublist] #flatten\n",
    "sixmonth = next(x for x, val in enumerate(zoo2) if val <= 182.5) #within 6 months\n",
    "IIT_chooselit = RR_vec[sixmonth]\n",
    "IIT_chooselit = convert_RR(IIT_chooselit)"
   ]
  },
  {
   "cell_type": "markdown",
   "id": "08b34639",
   "metadata": {},
   "source": [
    "Store results:"
   ]
  },
  {
   "cell_type": "code",
   "execution_count": 65,
   "id": "69a67395",
   "metadata": {},
   "outputs": [
    {
     "data": {
      "text/html": [
       "<div>\n",
       "<style scoped>\n",
       "    .dataframe tbody tr th:only-of-type {\n",
       "        vertical-align: middle;\n",
       "    }\n",
       "\n",
       "    .dataframe tbody tr th {\n",
       "        vertical-align: top;\n",
       "    }\n",
       "\n",
       "    .dataframe thead th {\n",
       "        text-align: right;\n",
       "    }\n",
       "</style>\n",
       "<table border=\"1\" class=\"dataframe\">\n",
       "  <thead>\n",
       "    <tr style=\"text-align: right;\">\n",
       "      <th></th>\n",
       "      <th>Suppression type</th>\n",
       "      <th>20%</th>\n",
       "      <th>50%</th>\n",
       "      <th>80%</th>\n",
       "      <th>%lit</th>\n",
       "    </tr>\n",
       "  </thead>\n",
       "  <tbody>\n",
       "    <tr>\n",
       "      <th>0</th>\n",
       "      <td>No Suppression</td>\n",
       "      <td>0.0000</td>\n",
       "      <td>0.0000</td>\n",
       "      <td>0.0000</td>\n",
       "      <td>0.0775</td>\n",
       "    </tr>\n",
       "    <tr>\n",
       "      <th>1</th>\n",
       "      <td>RIDL</td>\n",
       "      <td>0.0650</td>\n",
       "      <td>0.0425</td>\n",
       "      <td>0.0175</td>\n",
       "      <td>0.0425</td>\n",
       "    </tr>\n",
       "    <tr>\n",
       "      <th>2</th>\n",
       "      <td>SIT</td>\n",
       "      <td>0.0650</td>\n",
       "      <td>0.0425</td>\n",
       "      <td>0.0175</td>\n",
       "      <td>0.0400</td>\n",
       "    </tr>\n",
       "    <tr>\n",
       "      <th>3</th>\n",
       "      <td>IIT</td>\n",
       "      <td>0.0625</td>\n",
       "      <td>0.0325</td>\n",
       "      <td>0.0025</td>\n",
       "      <td>0.0125</td>\n",
       "    </tr>\n",
       "  </tbody>\n",
       "</table>\n",
       "</div>"
      ],
      "text/plain": [
       "  Suppression type     20%     50%     80%    %lit\n",
       "0   No Suppression  0.0000  0.0000  0.0000  0.0775\n",
       "1             RIDL  0.0650  0.0425  0.0175  0.0425\n",
       "2              SIT  0.0650  0.0425  0.0175  0.0400\n",
       "3              IIT  0.0625  0.0325  0.0025  0.0125"
      ]
     },
     "execution_count": 65,
     "metadata": {},
     "output_type": "execute_result"
    }
   ],
   "source": [
    "IIT_vec = {'Suppression type': 'IIT', '20%': IIT_choose20, '50%': IIT_choose50, '80%': IIT_choose80, '%lit': IIT_chooselit}\n",
    "fig_df = fig_df.append(IIT_vec, ignore_index=True)\n",
    "\n",
    "fig_df"
   ]
  },
  {
   "cell_type": "code",
   "execution_count": 66,
   "id": "914f5432",
   "metadata": {},
   "outputs": [],
   "source": [
    "# switch off\n",
    "\n",
    "def IIT(t, releasenumber=5, frequency=7, end=start_wol):\n",
    "    for i in range(0,releasenumber,1):\n",
    "        if round(t) == (end-frequency) - (frequency*i):\n",
    "            return 0 #M0+F0\n",
    "    else:\n",
    "        return 0"
   ]
  },
  {
   "cell_type": "markdown",
   "id": "69ffc9f4",
   "metadata": {},
   "source": [
    "### Environmental Management"
   ]
  },
  {
   "cell_type": "code",
   "execution_count": 67,
   "id": "82b785d4",
   "metadata": {},
   "outputs": [],
   "source": [
    "EM_df = pd.read_csv(f'{filepath}/EM_df.csv')"
   ]
  },
  {
   "cell_type": "code",
   "execution_count": 68,
   "id": "293ecccb",
   "metadata": {},
   "outputs": [],
   "source": [
    "# switch on\n",
    "\n",
    "start_em = 165\n",
    "stop_em = 200\n",
    "em_eff = 1\n",
    "\n",
    "def em(t):\n",
    "    if round(t) < start_em:     #start\n",
    "        return 1\n",
    "    elif round(t) > stop_em:    #stop releases\n",
    "        return 1\n",
    "    else:\n",
    "        return em_eff"
   ]
  },
  {
   "cell_type": "markdown",
   "id": "423028d4",
   "metadata": {},
   "source": [
    "20% efficacy:"
   ]
  },
  {
   "cell_type": "code",
   "execution_count": 69,
   "id": "edf0a95d",
   "metadata": {},
   "outputs": [],
   "source": [
    "em_eff = list(EM_df.loc[EM_df['Target efficacy'] == 20, 'Efficacy parameter'])\n",
    "em_eff = em_eff[0]"
   ]
  },
  {
   "cell_type": "code",
   "execution_count": 70,
   "id": "8425cb8f",
   "metadata": {},
   "outputs": [
    {
     "name": "stdout",
     "output_type": "stream",
     "text": [
      "processing time: 5.86 seconds\n"
     ]
    }
   ],
   "source": [
    "start_time = time.time()\n",
    "\n",
    "RR_vec = [0.00047,0.00134,0.00258,0.00418,0.00612,0.00842,0.01108,0.01408,0.01745,0.02115,0.0252,0.0296,0.03437,0.03945,0.04495,0.0507,0.0569,0.0634,0.0703,0.0775,0.085,0.093,0.10125,0.1098,0.1188,0.1281,0.1378,0.1478,0.1582,0.169,0.18,0.1915,0.203,0.215,0.2277,0.2405,0.2538,0.2672,0.2811,0.2953]\n",
    "zoo = [] #capture results here\n",
    "start_wol = 200\n",
    "\n",
    "for i in RR_vec:\n",
    "        \n",
    "    RR = i\n",
    "        \n",
    "    # run the model\n",
    "    t = np.linspace(0, 1500, 1501) # Grid of time points (in days)\n",
    "    y0 = O0, OW0, rOW0, OS0, L0, LW0, rLW0, LS0, P0, PW0, rPW0, PS0, M0, MW0, MS0, F0, FW0 # Init condition vector\n",
    "    ret = odeint(deriv, y0, t,args=(fCI, MT, c, e, phi, alphaO, muO, AA, BB, alphaL, alphaP, muP, muM, muF, RR, RRsupp, pulseN, IIT, SIT, em, lv, ad, cv, switch),hmax=1)\n",
    "    O, OW, rOW, OS, L, LW, rLW, LS, P, PW, rPW, PS, M, MW, MS, F, FW = ret.T\n",
    "\n",
    "    # get output\n",
    "    total = MW+FW+M+F\n",
    "    prop = (MW+FW)/(MW+FW+M+F)\n",
    "    \n",
    "    \n",
    "    fix = np.argwhere(prop > 0.95)\n",
    "    if sum(fix) > 0:\n",
    "        min_fix = min(fix)-start_wol\n",
    "        min_fix = min_fix.tolist()\n",
    "    else:\n",
    "        min_fix = [99999] #occurs if no fixation\n",
    "        \n",
    "    zoo.append(min_fix)\n",
    "\n",
    "current_time = time.time()\n",
    "elapsed_time = current_time - start_time\n",
    "print('processing time:',round(elapsed_time,2),'seconds')"
   ]
  },
  {
   "cell_type": "code",
   "execution_count": 71,
   "id": "50901a3b",
   "metadata": {},
   "outputs": [],
   "source": [
    "zoo2 = [f for sublist in zoo for f in sublist] #flatten\n",
    "sixmonth = next(x for x, val in enumerate(zoo2) if val <= 182.5) #within 6 months\n",
    "EM_choose20 = RR_vec[sixmonth]\n",
    "EM_choose20 = convert_RR(EM_choose20)"
   ]
  },
  {
   "cell_type": "markdown",
   "id": "21bcaaa2",
   "metadata": {},
   "source": [
    "50% efficacy:"
   ]
  },
  {
   "cell_type": "code",
   "execution_count": 72,
   "id": "a4938092",
   "metadata": {},
   "outputs": [],
   "source": [
    "em_eff = list(EM_df.loc[EM_df['Target efficacy'] == 50, 'Efficacy parameter'])\n",
    "em_eff = em_eff[0]"
   ]
  },
  {
   "cell_type": "code",
   "execution_count": 73,
   "id": "3e4db547",
   "metadata": {},
   "outputs": [
    {
     "name": "stdout",
     "output_type": "stream",
     "text": [
      "processing time: 5.84 seconds\n"
     ]
    }
   ],
   "source": [
    "start_time = time.time()\n",
    "\n",
    "RR_vec = [0.00047,0.00134,0.00258,0.00418,0.00612,0.00842,0.01108,0.01408,0.01745,0.02115,0.0252,0.0296,0.03437,0.03945,0.04495,0.0507,0.0569,0.0634,0.0703,0.0775,0.085,0.093,0.10125,0.1098,0.1188,0.1281,0.1378,0.1478,0.1582,0.169,0.18,0.1915,0.203,0.215,0.2277,0.2405,0.2538,0.2672,0.2811,0.2953]\n",
    "zoo = [] #capture results here\n",
    "start_wol = 200\n",
    "\n",
    "for i in RR_vec:\n",
    "        \n",
    "    RR = i\n",
    "        \n",
    "    # run the model\n",
    "    t = np.linspace(0, 1500, 1501) # Grid of time points (in days)\n",
    "    y0 = O0, OW0, rOW0, OS0, L0, LW0, rLW0, LS0, P0, PW0, rPW0, PS0, M0, MW0, MS0, F0, FW0 # Init condition vector\n",
    "    ret = odeint(deriv, y0, t,args=(fCI, MT, c, e, phi, alphaO, muO, AA, BB, alphaL, alphaP, muP, muM, muF, RR, RRsupp, pulseN, IIT, SIT, em, lv, ad, cv, switch),hmax=1)\n",
    "    O, OW, rOW, OS, L, LW, rLW, LS, P, PW, rPW, PS, M, MW, MS, F, FW = ret.T\n",
    "\n",
    "    # get output\n",
    "    total = MW+FW+M+F\n",
    "    prop = (MW+FW)/(MW+FW+M+F)\n",
    "    \n",
    "    \n",
    "    fix = np.argwhere(prop > 0.95)\n",
    "    if sum(fix) > 0:\n",
    "        min_fix = min(fix)-start_wol\n",
    "        min_fix = min_fix.tolist()\n",
    "    else:\n",
    "        min_fix = [99999] #occurs if no fixation\n",
    "        \n",
    "    zoo.append(min_fix)\n",
    "\n",
    "current_time = time.time()\n",
    "elapsed_time = current_time - start_time\n",
    "print('processing time:',round(elapsed_time,2),'seconds')"
   ]
  },
  {
   "cell_type": "code",
   "execution_count": 74,
   "id": "e1350dd5",
   "metadata": {},
   "outputs": [],
   "source": [
    "zoo2 = [f for sublist in zoo for f in sublist] #flatten\n",
    "sixmonth = next(x for x, val in enumerate(zoo2) if val <= 182.5) #within 6 months\n",
    "EM_choose50 = RR_vec[sixmonth]\n",
    "EM_choose50 = convert_RR(EM_choose50)"
   ]
  },
  {
   "cell_type": "markdown",
   "id": "5ddfb747",
   "metadata": {},
   "source": [
    "80% efficacy:"
   ]
  },
  {
   "cell_type": "code",
   "execution_count": 75,
   "id": "f6a3893c",
   "metadata": {},
   "outputs": [],
   "source": [
    "em_eff = list(EM_df.loc[EM_df['Target efficacy'] == 80, 'Efficacy parameter'])\n",
    "em_eff = em_eff[0]"
   ]
  },
  {
   "cell_type": "code",
   "execution_count": 76,
   "id": "0e3c5e07",
   "metadata": {},
   "outputs": [
    {
     "name": "stdout",
     "output_type": "stream",
     "text": [
      "processing time: 5.79 seconds\n"
     ]
    }
   ],
   "source": [
    "start_time = time.time()\n",
    "\n",
    "RR_vec = [0.00047,0.00134,0.00258,0.00418,0.00612,0.00842,0.01108,0.01408,0.01745,0.02115,0.0252,0.0296,0.03437,0.03945,0.04495,0.0507,0.0569,0.0634,0.0703,0.0775,0.085,0.093,0.10125,0.1098,0.1188,0.1281,0.1378,0.1478,0.1582,0.169,0.18,0.1915,0.203,0.215,0.2277,0.2405,0.2538,0.2672,0.2811,0.2953]\n",
    "zoo = [] #capture results here\n",
    "start_wol = 200\n",
    "\n",
    "for i in RR_vec:\n",
    "        \n",
    "    RR = i\n",
    "        \n",
    "    # run the model\n",
    "    t = np.linspace(0, 1500, 1501) # Grid of time points (in days)\n",
    "    y0 = O0, OW0, rOW0, OS0, L0, LW0, rLW0, LS0, P0, PW0, rPW0, PS0, M0, MW0, MS0, F0, FW0 # Init condition vector\n",
    "    ret = odeint(deriv, y0, t,args=(fCI, MT, c, e, phi, alphaO, muO, AA, BB, alphaL, alphaP, muP, muM, muF, RR, RRsupp, pulseN, IIT, SIT, em, lv, ad, cv, switch),hmax=1)\n",
    "    O, OW, rOW, OS, L, LW, rLW, LS, P, PW, rPW, PS, M, MW, MS, F, FW = ret.T\n",
    "\n",
    "    # get output\n",
    "    total = MW+FW+M+F\n",
    "    prop = (MW+FW)/(MW+FW+M+F)\n",
    "    \n",
    "    \n",
    "    fix = np.argwhere(prop > 0.95)\n",
    "    if sum(fix) > 0:\n",
    "        min_fix = min(fix)-start_wol\n",
    "        min_fix = min_fix.tolist()\n",
    "    else:\n",
    "        min_fix = [99999] #occurs if no fixation\n",
    "        \n",
    "    zoo.append(min_fix)\n",
    "\n",
    "current_time = time.time()\n",
    "elapsed_time = current_time - start_time\n",
    "print('processing time:',round(elapsed_time,2),'seconds')"
   ]
  },
  {
   "cell_type": "code",
   "execution_count": 77,
   "id": "a7361779",
   "metadata": {},
   "outputs": [],
   "source": [
    "zoo2 = [f for sublist in zoo for f in sublist] #flatten\n",
    "sixmonth = next(x for x, val in enumerate(zoo2) if val <= 182.5) #within 6 months\n",
    "EM_choose80 = RR_vec[sixmonth]\n",
    "EM_choose80 = convert_RR(EM_choose80)"
   ]
  },
  {
   "cell_type": "markdown",
   "id": "2281c773",
   "metadata": {},
   "source": [
    "Literature efficacy:"
   ]
  },
  {
   "cell_type": "code",
   "execution_count": 78,
   "id": "c9af41aa",
   "metadata": {},
   "outputs": [],
   "source": [
    "em_eff = list(EM_df.loc[EM_df['Target efficacy'] == 47.4, 'Efficacy parameter'])\n",
    "em_eff = em_eff[0]"
   ]
  },
  {
   "cell_type": "code",
   "execution_count": 79,
   "id": "c2876986",
   "metadata": {},
   "outputs": [
    {
     "name": "stdout",
     "output_type": "stream",
     "text": [
      "processing time: 5.75 seconds\n"
     ]
    }
   ],
   "source": [
    "start_time = time.time()\n",
    "\n",
    "RR_vec = [0.00047,0.00134,0.00258,0.00418,0.00612,0.00842,0.01108,0.01408,0.01745,0.02115,0.0252,0.0296,0.03437,0.03945,0.04495,0.0507,0.0569,0.0634,0.0703,0.0775,0.085,0.093,0.10125,0.1098,0.1188,0.1281,0.1378,0.1478,0.1582,0.169,0.18,0.1915,0.203,0.215,0.2277,0.2405,0.2538,0.2672,0.2811,0.2953]\n",
    "zoo = [] #capture results here\n",
    "start_wol = 200\n",
    "\n",
    "for i in RR_vec:\n",
    "        \n",
    "    RR = i\n",
    "        \n",
    "    # run the model\n",
    "    t = np.linspace(0, 1500, 1501) # Grid of time points (in days)\n",
    "    y0 = O0, OW0, rOW0, OS0, L0, LW0, rLW0, LS0, P0, PW0, rPW0, PS0, M0, MW0, MS0, F0, FW0 # Init condition vector\n",
    "    ret = odeint(deriv, y0, t,args=(fCI, MT, c, e, phi, alphaO, muO, AA, BB, alphaL, alphaP, muP, muM, muF, RR, RRsupp, pulseN, IIT, SIT, em, lv, ad, cv, switch),hmax=1)\n",
    "    O, OW, rOW, OS, L, LW, rLW, LS, P, PW, rPW, PS, M, MW, MS, F, FW = ret.T\n",
    "\n",
    "    # get output\n",
    "    total = MW+FW+M+F\n",
    "    prop = (MW+FW)/(MW+FW+M+F)\n",
    "    \n",
    "    \n",
    "    fix = np.argwhere(prop > 0.95)\n",
    "    if sum(fix) > 0:\n",
    "        min_fix = min(fix)-start_wol\n",
    "        min_fix = min_fix.tolist()\n",
    "    else:\n",
    "        min_fix = [99999] #occurs if no fixation\n",
    "        \n",
    "    zoo.append(min_fix)\n",
    "\n",
    "current_time = time.time()\n",
    "elapsed_time = current_time - start_time\n",
    "print('processing time:',round(elapsed_time,2),'seconds')"
   ]
  },
  {
   "cell_type": "code",
   "execution_count": 80,
   "id": "8813c316",
   "metadata": {},
   "outputs": [],
   "source": [
    "zoo2 = [f for sublist in zoo for f in sublist] #flatten\n",
    "sixmonth = next(x for x, val in enumerate(zoo2) if val <= 182.5) #within 6 months\n",
    "EM_chooselit = RR_vec[sixmonth]\n",
    "EM_chooselit = convert_RR(EM_chooselit)"
   ]
  },
  {
   "cell_type": "markdown",
   "id": "f5e65e20",
   "metadata": {},
   "source": [
    "Store results:"
   ]
  },
  {
   "cell_type": "code",
   "execution_count": 81,
   "id": "dbe13eea",
   "metadata": {},
   "outputs": [
    {
     "data": {
      "text/html": [
       "<div>\n",
       "<style scoped>\n",
       "    .dataframe tbody tr th:only-of-type {\n",
       "        vertical-align: middle;\n",
       "    }\n",
       "\n",
       "    .dataframe tbody tr th {\n",
       "        vertical-align: top;\n",
       "    }\n",
       "\n",
       "    .dataframe thead th {\n",
       "        text-align: right;\n",
       "    }\n",
       "</style>\n",
       "<table border=\"1\" class=\"dataframe\">\n",
       "  <thead>\n",
       "    <tr style=\"text-align: right;\">\n",
       "      <th></th>\n",
       "      <th>Suppression type</th>\n",
       "      <th>20%</th>\n",
       "      <th>50%</th>\n",
       "      <th>80%</th>\n",
       "      <th>%lit</th>\n",
       "    </tr>\n",
       "  </thead>\n",
       "  <tbody>\n",
       "    <tr>\n",
       "      <th>0</th>\n",
       "      <td>No Suppression</td>\n",
       "      <td>0.0000</td>\n",
       "      <td>0.0000</td>\n",
       "      <td>0.0000</td>\n",
       "      <td>0.0775</td>\n",
       "    </tr>\n",
       "    <tr>\n",
       "      <th>1</th>\n",
       "      <td>RIDL</td>\n",
       "      <td>0.0650</td>\n",
       "      <td>0.0425</td>\n",
       "      <td>0.0175</td>\n",
       "      <td>0.0425</td>\n",
       "    </tr>\n",
       "    <tr>\n",
       "      <th>2</th>\n",
       "      <td>SIT</td>\n",
       "      <td>0.0650</td>\n",
       "      <td>0.0425</td>\n",
       "      <td>0.0175</td>\n",
       "      <td>0.0400</td>\n",
       "    </tr>\n",
       "    <tr>\n",
       "      <th>3</th>\n",
       "      <td>IIT</td>\n",
       "      <td>0.0625</td>\n",
       "      <td>0.0325</td>\n",
       "      <td>0.0025</td>\n",
       "      <td>0.0125</td>\n",
       "    </tr>\n",
       "    <tr>\n",
       "      <th>4</th>\n",
       "      <td>EM</td>\n",
       "      <td>0.0725</td>\n",
       "      <td>0.0600</td>\n",
       "      <td>0.0475</td>\n",
       "      <td>0.0625</td>\n",
       "    </tr>\n",
       "  </tbody>\n",
       "</table>\n",
       "</div>"
      ],
      "text/plain": [
       "  Suppression type     20%     50%     80%    %lit\n",
       "0   No Suppression  0.0000  0.0000  0.0000  0.0775\n",
       "1             RIDL  0.0650  0.0425  0.0175  0.0425\n",
       "2              SIT  0.0650  0.0425  0.0175  0.0400\n",
       "3              IIT  0.0625  0.0325  0.0025  0.0125\n",
       "4               EM  0.0725  0.0600  0.0475  0.0625"
      ]
     },
     "execution_count": 81,
     "metadata": {},
     "output_type": "execute_result"
    }
   ],
   "source": [
    "EM_vec = {'Suppression type': 'EM', '20%': EM_choose20, '50%': EM_choose50, '80%': EM_choose80, '%lit': EM_chooselit}\n",
    "fig_df = fig_df.append(EM_vec, ignore_index=True)\n",
    "\n",
    "fig_df"
   ]
  },
  {
   "cell_type": "code",
   "execution_count": 82,
   "id": "768abe4c",
   "metadata": {},
   "outputs": [],
   "source": [
    "# switch off\n",
    "\n",
    "start_em = 165\n",
    "stop_em = 200\n",
    "em_eff = 1\n",
    "\n",
    "def em(t):\n",
    "    if round(t) < start_em:     #start\n",
    "        return 1\n",
    "    elif round(t) > stop_em:    #stop releases\n",
    "        return 1\n",
    "    else:\n",
    "        return em_eff"
   ]
  },
  {
   "cell_type": "markdown",
   "id": "ec4f8d8b",
   "metadata": {},
   "source": [
    "### Larvicide"
   ]
  },
  {
   "cell_type": "code",
   "execution_count": 83,
   "id": "f2b62b62",
   "metadata": {},
   "outputs": [],
   "source": [
    "LV_df = pd.read_csv(f'{filepath}/LV_df.csv')"
   ]
  },
  {
   "cell_type": "code",
   "execution_count": 84,
   "id": "fa4969a4",
   "metadata": {},
   "outputs": [],
   "source": [
    "# switch on\n",
    "\n",
    "start_lv = start_wol-(7*5)\n",
    "stop_lv = 200\n",
    "lv_eff = 1 #5.95\n",
    "\n",
    "def lv(t):\n",
    "    if round(t) < start_lv:     #start\n",
    "        return 1\n",
    "    elif round(t) > stop_lv:    #stop releases\n",
    "        return 1\n",
    "    else:\n",
    "        return lv_eff"
   ]
  },
  {
   "cell_type": "markdown",
   "id": "e98b4f8c",
   "metadata": {},
   "source": [
    "20% efficacy:"
   ]
  },
  {
   "cell_type": "code",
   "execution_count": 85,
   "id": "8e334093",
   "metadata": {},
   "outputs": [],
   "source": [
    "lv_eff = list(LV_df.loc[LV_df['Target efficacy'] == 20, 'Efficacy parameter'])\n",
    "lv_eff = lv_eff[0]"
   ]
  },
  {
   "cell_type": "code",
   "execution_count": 86,
   "id": "6d2cc42d",
   "metadata": {},
   "outputs": [
    {
     "name": "stdout",
     "output_type": "stream",
     "text": [
      "processing time: 5.75 seconds\n"
     ]
    }
   ],
   "source": [
    "start_time = time.time()\n",
    "\n",
    "RR_vec = [0.00047,0.00134,0.00258,0.00418,0.00612,0.00842,0.01108,0.01408,0.01745,0.02115,0.0252,0.0296,0.03437,0.03945,0.04495,0.0507,0.0569,0.0634,0.0703,0.0775,0.085,0.093,0.10125,0.1098,0.1188,0.1281,0.1378,0.1478,0.1582,0.169,0.18,0.1915,0.203,0.215,0.2277,0.2405,0.2538,0.2672,0.2811,0.2953]\n",
    "zoo = [] #capture results here\n",
    "start_wol = 200\n",
    "\n",
    "for i in RR_vec:\n",
    "        \n",
    "    RR = i\n",
    "        \n",
    "    # run the model\n",
    "    t = np.linspace(0, 1500, 1501) # Grid of time points (in days)\n",
    "    y0 = O0, OW0, rOW0, OS0, L0, LW0, rLW0, LS0, P0, PW0, rPW0, PS0, M0, MW0, MS0, F0, FW0 # Init condition vector\n",
    "    ret = odeint(deriv, y0, t,args=(fCI, MT, c, e, phi, alphaO, muO, AA, BB, alphaL, alphaP, muP, muM, muF, RR, RRsupp, pulseN, IIT, SIT, em, lv, ad, cv, switch),hmax=1)\n",
    "    O, OW, rOW, OS, L, LW, rLW, LS, P, PW, rPW, PS, M, MW, MS, F, FW = ret.T\n",
    "\n",
    "    # get output\n",
    "    total = MW+FW+M+F\n",
    "    prop = (MW+FW)/(MW+FW+M+F)\n",
    "    \n",
    "    \n",
    "    fix = np.argwhere(prop > 0.95)\n",
    "    if sum(fix) > 0:\n",
    "        min_fix = min(fix)-start_wol\n",
    "        min_fix = min_fix.tolist()\n",
    "    else:\n",
    "        min_fix = [99999] #occurs if no fixation\n",
    "        \n",
    "    zoo.append(min_fix)\n",
    "\n",
    "current_time = time.time()\n",
    "elapsed_time = current_time - start_time\n",
    "print('processing time:',round(elapsed_time,2),'seconds')"
   ]
  },
  {
   "cell_type": "code",
   "execution_count": 87,
   "id": "d41609ff",
   "metadata": {},
   "outputs": [],
   "source": [
    "zoo2 = [f for sublist in zoo for f in sublist] #flatten\n",
    "sixmonth = next(x for x, val in enumerate(zoo2) if val <= 182.5) #within 6 months\n",
    "LV_choose20 = RR_vec[sixmonth]\n",
    "LV_choose20 = convert_RR(LV_choose20)"
   ]
  },
  {
   "cell_type": "markdown",
   "id": "04eee637",
   "metadata": {},
   "source": [
    "50% efficacy:"
   ]
  },
  {
   "cell_type": "code",
   "execution_count": 88,
   "id": "32374b8e",
   "metadata": {},
   "outputs": [],
   "source": [
    "lv_eff = list(LV_df.loc[LV_df['Target efficacy'] == 50, 'Efficacy parameter'])\n",
    "lv_eff = lv_eff[0]"
   ]
  },
  {
   "cell_type": "code",
   "execution_count": 89,
   "id": "08df594e",
   "metadata": {},
   "outputs": [
    {
     "name": "stdout",
     "output_type": "stream",
     "text": [
      "processing time: 5.81 seconds\n"
     ]
    }
   ],
   "source": [
    "start_time = time.time()\n",
    "\n",
    "RR_vec = [0.00047,0.00134,0.00258,0.00418,0.00612,0.00842,0.01108,0.01408,0.01745,0.02115,0.0252,0.0296,0.03437,0.03945,0.04495,0.0507,0.0569,0.0634,0.0703,0.0775,0.085,0.093,0.10125,0.1098,0.1188,0.1281,0.1378,0.1478,0.1582,0.169,0.18,0.1915,0.203,0.215,0.2277,0.2405,0.2538,0.2672,0.2811,0.2953]\n",
    "zoo = [] #capture results here\n",
    "start_wol = 200\n",
    "\n",
    "for i in RR_vec:\n",
    "        \n",
    "    RR = i\n",
    "        \n",
    "    # run the model\n",
    "    t = np.linspace(0, 1500, 1501) # Grid of time points (in days)\n",
    "    y0 = O0, OW0, rOW0, OS0, L0, LW0, rLW0, LS0, P0, PW0, rPW0, PS0, M0, MW0, MS0, F0, FW0 # Init condition vector\n",
    "    ret = odeint(deriv, y0, t,args=(fCI, MT, c, e, phi, alphaO, muO, AA, BB, alphaL, alphaP, muP, muM, muF, RR, RRsupp, pulseN, IIT, SIT, em, lv, ad, cv, switch),hmax=1)\n",
    "    O, OW, rOW, OS, L, LW, rLW, LS, P, PW, rPW, PS, M, MW, MS, F, FW = ret.T\n",
    "\n",
    "    # get output\n",
    "    total = MW+FW+M+F\n",
    "    prop = (MW+FW)/(MW+FW+M+F)\n",
    "    \n",
    "    \n",
    "    fix = np.argwhere(prop > 0.95)\n",
    "    if sum(fix) > 0:\n",
    "        min_fix = min(fix)-start_wol\n",
    "        min_fix = min_fix.tolist()\n",
    "    else:\n",
    "        min_fix = [99999] #occurs if no fixation\n",
    "        \n",
    "    zoo.append(min_fix)\n",
    "\n",
    "current_time = time.time()\n",
    "elapsed_time = current_time - start_time\n",
    "print('processing time:',round(elapsed_time,2),'seconds')"
   ]
  },
  {
   "cell_type": "code",
   "execution_count": 90,
   "id": "24aaf329",
   "metadata": {},
   "outputs": [],
   "source": [
    "zoo2 = [f for sublist in zoo for f in sublist] #flatten\n",
    "sixmonth = next(x for x, val in enumerate(zoo2) if val <= 182.5) #within 6 months\n",
    "LV_choose50 = RR_vec[sixmonth]\n",
    "LV_choose50 = convert_RR(LV_choose50)"
   ]
  },
  {
   "cell_type": "markdown",
   "id": "989e67b5",
   "metadata": {},
   "source": [
    "80% efficacy:"
   ]
  },
  {
   "cell_type": "code",
   "execution_count": 91,
   "id": "fcaca861",
   "metadata": {},
   "outputs": [],
   "source": [
    "lv_eff = list(LV_df.loc[LV_df['Target efficacy'] == 80, 'Efficacy parameter'])\n",
    "lv_eff = lv_eff[0]"
   ]
  },
  {
   "cell_type": "code",
   "execution_count": 92,
   "id": "ec3dc63d",
   "metadata": {},
   "outputs": [
    {
     "name": "stdout",
     "output_type": "stream",
     "text": [
      "processing time: 5.87 seconds\n"
     ]
    }
   ],
   "source": [
    "start_time = time.time()\n",
    "\n",
    "RR_vec = [0.00047,0.00134,0.00258,0.00418,0.00612,0.00842,0.01108,0.01408,0.01745,0.02115,0.0252,0.0296,0.03437,0.03945,0.04495,0.0507,0.0569,0.0634,0.0703,0.0775,0.085,0.093,0.10125,0.1098,0.1188,0.1281,0.1378,0.1478,0.1582,0.169,0.18,0.1915,0.203,0.215,0.2277,0.2405,0.2538,0.2672,0.2811,0.2953]\n",
    "zoo = [] #capture results here\n",
    "start_wol = 200\n",
    "\n",
    "for i in RR_vec:\n",
    "        \n",
    "    RR = i\n",
    "        \n",
    "    # run the model\n",
    "    t = np.linspace(0, 1500, 1501) # Grid of time points (in days)\n",
    "    y0 = O0, OW0, rOW0, OS0, L0, LW0, rLW0, LS0, P0, PW0, rPW0, PS0, M0, MW0, MS0, F0, FW0 # Init condition vector\n",
    "    ret = odeint(deriv, y0, t,args=(fCI, MT, c, e, phi, alphaO, muO, AA, BB, alphaL, alphaP, muP, muM, muF, RR, RRsupp, pulseN, IIT, SIT, em, lv, ad, cv, switch),hmax=1)\n",
    "    O, OW, rOW, OS, L, LW, rLW, LS, P, PW, rPW, PS, M, MW, MS, F, FW = ret.T\n",
    "\n",
    "    # get output\n",
    "    total = MW+FW+M+F\n",
    "    prop = (MW+FW)/(MW+FW+M+F)\n",
    "    \n",
    "    \n",
    "    fix = np.argwhere(prop > 0.95)\n",
    "    if sum(fix) > 0:\n",
    "        min_fix = min(fix)-start_wol\n",
    "        min_fix = min_fix.tolist()\n",
    "    else:\n",
    "        min_fix = [99999] #occurs if no fixation\n",
    "        \n",
    "    zoo.append(min_fix)\n",
    "\n",
    "current_time = time.time()\n",
    "elapsed_time = current_time - start_time\n",
    "print('processing time:',round(elapsed_time,2),'seconds')"
   ]
  },
  {
   "cell_type": "code",
   "execution_count": 93,
   "id": "4db480a1",
   "metadata": {},
   "outputs": [],
   "source": [
    "zoo2 = [f for sublist in zoo for f in sublist] #flatten\n",
    "sixmonth = next(x for x, val in enumerate(zoo2) if val <= 182.5) #within 6 months\n",
    "LV_choose80 = RR_vec[sixmonth]\n",
    "LV_choose80 = convert_RR(LV_choose80)"
   ]
  },
  {
   "cell_type": "markdown",
   "id": "b0140d3d",
   "metadata": {},
   "source": [
    "Literature efficacy:"
   ]
  },
  {
   "cell_type": "code",
   "execution_count": 94,
   "id": "578bb3d8",
   "metadata": {},
   "outputs": [],
   "source": [
    "lv_eff = list(LV_df.loc[LV_df['Target efficacy'] == 45, 'Efficacy parameter'])\n",
    "lv_eff = lv_eff[0]"
   ]
  },
  {
   "cell_type": "code",
   "execution_count": 95,
   "id": "3ef9bdea",
   "metadata": {},
   "outputs": [
    {
     "name": "stdout",
     "output_type": "stream",
     "text": [
      "processing time: 5.76 seconds\n"
     ]
    }
   ],
   "source": [
    "start_time = time.time()\n",
    "\n",
    "RR_vec = [0.00047,0.00134,0.00258,0.00418,0.00612,0.00842,0.01108,0.01408,0.01745,0.02115,0.0252,0.0296,0.03437,0.03945,0.04495,0.0507,0.0569,0.0634,0.0703,0.0775,0.085,0.093,0.10125,0.1098,0.1188,0.1281,0.1378,0.1478,0.1582,0.169,0.18,0.1915,0.203,0.215,0.2277,0.2405,0.2538,0.2672,0.2811,0.2953]\n",
    "zoo = [] #capture results here\n",
    "start_wol = 200\n",
    "\n",
    "for i in RR_vec:\n",
    "        \n",
    "    RR = i\n",
    "        \n",
    "    # run the model\n",
    "    t = np.linspace(0, 1500, 1501) # Grid of time points (in days)\n",
    "    y0 = O0, OW0, rOW0, OS0, L0, LW0, rLW0, LS0, P0, PW0, rPW0, PS0, M0, MW0, MS0, F0, FW0 # Init condition vector\n",
    "    ret = odeint(deriv, y0, t,args=(fCI, MT, c, e, phi, alphaO, muO, AA, BB, alphaL, alphaP, muP, muM, muF, RR, RRsupp, pulseN, IIT, SIT, em, lv, ad, cv, switch),hmax=1)\n",
    "    O, OW, rOW, OS, L, LW, rLW, LS, P, PW, rPW, PS, M, MW, MS, F, FW = ret.T\n",
    "\n",
    "    # get output\n",
    "    total = MW+FW+M+F\n",
    "    prop = (MW+FW)/(MW+FW+M+F)\n",
    "    \n",
    "    \n",
    "    fix = np.argwhere(prop > 0.95)\n",
    "    if sum(fix) > 0:\n",
    "        min_fix = min(fix)-start_wol\n",
    "        min_fix = min_fix.tolist()\n",
    "    else:\n",
    "        min_fix = [99999] #occurs if no fixation\n",
    "        \n",
    "    zoo.append(min_fix)\n",
    "\n",
    "current_time = time.time()\n",
    "elapsed_time = current_time - start_time\n",
    "print('processing time:',round(elapsed_time,2),'seconds')"
   ]
  },
  {
   "cell_type": "code",
   "execution_count": 96,
   "id": "36b0fe27",
   "metadata": {},
   "outputs": [],
   "source": [
    "zoo2 = [f for sublist in zoo for f in sublist] #flatten\n",
    "sixmonth = next(x for x, val in enumerate(zoo2) if val <= 182.5) #within 6 months\n",
    "LV_chooselit = RR_vec[sixmonth]\n",
    "LV_chooselit = convert_RR(LV_chooselit)"
   ]
  },
  {
   "cell_type": "markdown",
   "id": "ddffdecd",
   "metadata": {},
   "source": [
    "Store results:"
   ]
  },
  {
   "cell_type": "code",
   "execution_count": 97,
   "id": "5f547d5f",
   "metadata": {},
   "outputs": [
    {
     "data": {
      "text/html": [
       "<div>\n",
       "<style scoped>\n",
       "    .dataframe tbody tr th:only-of-type {\n",
       "        vertical-align: middle;\n",
       "    }\n",
       "\n",
       "    .dataframe tbody tr th {\n",
       "        vertical-align: top;\n",
       "    }\n",
       "\n",
       "    .dataframe thead th {\n",
       "        text-align: right;\n",
       "    }\n",
       "</style>\n",
       "<table border=\"1\" class=\"dataframe\">\n",
       "  <thead>\n",
       "    <tr style=\"text-align: right;\">\n",
       "      <th></th>\n",
       "      <th>Suppression type</th>\n",
       "      <th>20%</th>\n",
       "      <th>50%</th>\n",
       "      <th>80%</th>\n",
       "      <th>%lit</th>\n",
       "    </tr>\n",
       "  </thead>\n",
       "  <tbody>\n",
       "    <tr>\n",
       "      <th>0</th>\n",
       "      <td>No Suppression</td>\n",
       "      <td>0.0000</td>\n",
       "      <td>0.0000</td>\n",
       "      <td>0.0000</td>\n",
       "      <td>0.0775</td>\n",
       "    </tr>\n",
       "    <tr>\n",
       "      <th>1</th>\n",
       "      <td>RIDL</td>\n",
       "      <td>0.0650</td>\n",
       "      <td>0.0425</td>\n",
       "      <td>0.0175</td>\n",
       "      <td>0.0425</td>\n",
       "    </tr>\n",
       "    <tr>\n",
       "      <th>2</th>\n",
       "      <td>SIT</td>\n",
       "      <td>0.0650</td>\n",
       "      <td>0.0425</td>\n",
       "      <td>0.0175</td>\n",
       "      <td>0.0400</td>\n",
       "    </tr>\n",
       "    <tr>\n",
       "      <th>3</th>\n",
       "      <td>IIT</td>\n",
       "      <td>0.0625</td>\n",
       "      <td>0.0325</td>\n",
       "      <td>0.0025</td>\n",
       "      <td>0.0125</td>\n",
       "    </tr>\n",
       "    <tr>\n",
       "      <th>4</th>\n",
       "      <td>EM</td>\n",
       "      <td>0.0725</td>\n",
       "      <td>0.0600</td>\n",
       "      <td>0.0475</td>\n",
       "      <td>0.0625</td>\n",
       "    </tr>\n",
       "    <tr>\n",
       "      <th>5</th>\n",
       "      <td>LV</td>\n",
       "      <td>0.0725</td>\n",
       "      <td>0.0625</td>\n",
       "      <td>0.0475</td>\n",
       "      <td>0.0650</td>\n",
       "    </tr>\n",
       "  </tbody>\n",
       "</table>\n",
       "</div>"
      ],
      "text/plain": [
       "  Suppression type     20%     50%     80%    %lit\n",
       "0   No Suppression  0.0000  0.0000  0.0000  0.0775\n",
       "1             RIDL  0.0650  0.0425  0.0175  0.0425\n",
       "2              SIT  0.0650  0.0425  0.0175  0.0400\n",
       "3              IIT  0.0625  0.0325  0.0025  0.0125\n",
       "4               EM  0.0725  0.0600  0.0475  0.0625\n",
       "5               LV  0.0725  0.0625  0.0475  0.0650"
      ]
     },
     "execution_count": 97,
     "metadata": {},
     "output_type": "execute_result"
    }
   ],
   "source": [
    "LV_vec = {'Suppression type': 'LV', '20%': LV_choose20, '50%': LV_choose50, '80%': LV_choose80, '%lit': LV_chooselit}\n",
    "fig_df = fig_df.append(LV_vec, ignore_index=True)\n",
    "\n",
    "fig_df"
   ]
  },
  {
   "cell_type": "code",
   "execution_count": 98,
   "id": "3bedf89f",
   "metadata": {},
   "outputs": [],
   "source": [
    "# switch off\n",
    "\n",
    "start_lv = start_wol-(7*5)\n",
    "stop_lv = 200\n",
    "lv_eff = 1\n",
    "\n",
    "def lv(t):\n",
    "    if round(t) < start_lv:     #start\n",
    "        return 1\n",
    "    elif round(t) > stop_lv:    #stop releases\n",
    "        return 1\n",
    "    else:\n",
    "        return lv_eff"
   ]
  },
  {
   "cell_type": "markdown",
   "id": "07e14afe",
   "metadata": {},
   "source": [
    "### Adulticide"
   ]
  },
  {
   "cell_type": "code",
   "execution_count": 99,
   "id": "530e6413",
   "metadata": {},
   "outputs": [],
   "source": [
    "AD_df = pd.read_csv(f'{filepath}/AD_df.csv')"
   ]
  },
  {
   "cell_type": "code",
   "execution_count": 100,
   "id": "15f9092c",
   "metadata": {},
   "outputs": [],
   "source": [
    "# switch on\n",
    "\n",
    "h = [] #needed to set adulticide pulses\n",
    "for i in range(-4, 1, 1):\n",
    "    h.append((start_wol-7) + (7*i))\n",
    "\n",
    "def ad(t):    \n",
    "    if round(t) < h[0]:\n",
    "        return 0\n",
    "    elif round(t) > h[0]+0.01 and round(t) < h[1]:\n",
    "        return 0\n",
    "    elif round(t) > h[1]+0.01 and round(t) < h[2]:\n",
    "        return 0\n",
    "    elif round(t) > h[2]+0.01 and round(t) < h[3]:\n",
    "        return 0\n",
    "    elif round(t) > h[3]+0.01 and round(t) < h[4]:\n",
    "        return 0\n",
    "    elif round(t) > h[4]+0.01:\n",
    "        return 0\n",
    "    else:\n",
    "        return ad_eff"
   ]
  },
  {
   "cell_type": "markdown",
   "id": "90a5f171",
   "metadata": {},
   "source": [
    "20% efficacy:"
   ]
  },
  {
   "cell_type": "code",
   "execution_count": 101,
   "id": "cbc8aee9",
   "metadata": {},
   "outputs": [],
   "source": [
    "ad_eff = list(AD_df.loc[AD_df['Target efficacy'] == 20, 'Efficacy parameter'])\n",
    "ad_eff = ad_eff[0]"
   ]
  },
  {
   "cell_type": "code",
   "execution_count": 102,
   "id": "159e5e0f",
   "metadata": {},
   "outputs": [
    {
     "name": "stdout",
     "output_type": "stream",
     "text": [
      "processing time: 6.79 seconds\n"
     ]
    }
   ],
   "source": [
    "start_time = time.time()\n",
    "\n",
    "RR_vec = [0.00047,0.00134,0.00258,0.00418,0.00612,0.00842,0.01108,0.01408,0.01745,0.02115,0.0252,0.0296,0.03437,0.03945,0.04495,0.0507,0.0569,0.0634,0.0703,0.0775,0.085,0.093,0.10125,0.1098,0.1188,0.1281,0.1378,0.1478,0.1582,0.169,0.18,0.1915,0.203,0.215,0.2277,0.2405,0.2538,0.2672,0.2811,0.2953]\n",
    "zoo = [] #capture results here\n",
    "start_wol = 200\n",
    "\n",
    "for i in RR_vec:\n",
    "        \n",
    "    RR = i\n",
    "        \n",
    "    # run the model\n",
    "    t = np.linspace(0, 1500, 1501) # Grid of time points (in days)\n",
    "    y0 = O0, OW0, rOW0, OS0, L0, LW0, rLW0, LS0, P0, PW0, rPW0, PS0, M0, MW0, MS0, F0, FW0 # Init condition vector\n",
    "    ret = odeint(deriv, y0, t,args=(fCI, MT, c, e, phi, alphaO, muO, AA, BB, alphaL, alphaP, muP, muM, muF, RR, RRsupp, pulseN, IIT, SIT, em, lv, ad, cv, switch),hmax=1)\n",
    "    O, OW, rOW, OS, L, LW, rLW, LS, P, PW, rPW, PS, M, MW, MS, F, FW = ret.T\n",
    "\n",
    "    # get output\n",
    "    total = MW+FW+M+F\n",
    "    prop = (MW+FW)/(MW+FW+M+F)\n",
    "    \n",
    "    \n",
    "    fix = np.argwhere(prop > 0.95)\n",
    "    if sum(fix) > 0:\n",
    "        min_fix = min(fix)-start_wol\n",
    "        min_fix = min_fix.tolist()\n",
    "    else:\n",
    "        min_fix = [99999] #occurs if no fixation\n",
    "        \n",
    "    zoo.append(min_fix)\n",
    "\n",
    "current_time = time.time()\n",
    "elapsed_time = current_time - start_time\n",
    "print('processing time:',round(elapsed_time,2),'seconds')"
   ]
  },
  {
   "cell_type": "code",
   "execution_count": 103,
   "id": "4851391e",
   "metadata": {},
   "outputs": [],
   "source": [
    "zoo2 = [f for sublist in zoo for f in sublist] #flatten\n",
    "sixmonth = next(x for x, val in enumerate(zoo2) if val <= 182.5) #within 6 months\n",
    "AD_choose20 = RR_vec[sixmonth]\n",
    "AD_choose20 = convert_RR(AD_choose20)"
   ]
  },
  {
   "cell_type": "markdown",
   "id": "372bffcc",
   "metadata": {},
   "source": [
    "50% efficacy:"
   ]
  },
  {
   "cell_type": "code",
   "execution_count": 104,
   "id": "6dc2d01c",
   "metadata": {},
   "outputs": [],
   "source": [
    "ad_eff = list(AD_df.loc[AD_df['Target efficacy'] == 50, 'Efficacy parameter'])\n",
    "ad_eff = ad_eff[0]"
   ]
  },
  {
   "cell_type": "code",
   "execution_count": 105,
   "id": "bbf25c49",
   "metadata": {},
   "outputs": [
    {
     "name": "stdout",
     "output_type": "stream",
     "text": [
      "processing time: 6.98 seconds\n"
     ]
    }
   ],
   "source": [
    "start_time = time.time()\n",
    "\n",
    "RR_vec = [0.00047,0.00134,0.00258,0.00418,0.00612,0.00842,0.01108,0.01408,0.01745,0.02115,0.0252,0.0296,0.03437,0.03945,0.04495,0.0507,0.0569,0.0634,0.0703,0.0775,0.085,0.093,0.10125,0.1098,0.1188,0.1281,0.1378,0.1478,0.1582,0.169,0.18,0.1915,0.203,0.215,0.2277,0.2405,0.2538,0.2672,0.2811,0.2953]\n",
    "zoo = [] #capture results here\n",
    "start_wol = 200\n",
    "\n",
    "for i in RR_vec:\n",
    "        \n",
    "    RR = i\n",
    "        \n",
    "    # run the model\n",
    "    t = np.linspace(0, 1500, 1501) # Grid of time points (in days)\n",
    "    y0 = O0, OW0, rOW0, OS0, L0, LW0, rLW0, LS0, P0, PW0, rPW0, PS0, M0, MW0, MS0, F0, FW0 # Init condition vector\n",
    "    ret = odeint(deriv, y0, t,args=(fCI, MT, c, e, phi, alphaO, muO, AA, BB, alphaL, alphaP, muP, muM, muF, RR, RRsupp, pulseN, IIT, SIT, em, lv, ad, cv, switch),hmax=1)\n",
    "    O, OW, rOW, OS, L, LW, rLW, LS, P, PW, rPW, PS, M, MW, MS, F, FW = ret.T\n",
    "\n",
    "    # get output\n",
    "    total = MW+FW+M+F\n",
    "    prop = (MW+FW)/(MW+FW+M+F)\n",
    "    \n",
    "    \n",
    "    fix = np.argwhere(prop > 0.95)\n",
    "    if sum(fix) > 0:\n",
    "        min_fix = min(fix)-start_wol\n",
    "        min_fix = min_fix.tolist()\n",
    "    else:\n",
    "        min_fix = [99999] #occurs if no fixation\n",
    "        \n",
    "    zoo.append(min_fix)\n",
    "\n",
    "current_time = time.time()\n",
    "elapsed_time = current_time - start_time\n",
    "print('processing time:',round(elapsed_time,2),'seconds')"
   ]
  },
  {
   "cell_type": "code",
   "execution_count": 106,
   "id": "07997c07",
   "metadata": {},
   "outputs": [],
   "source": [
    "zoo2 = [f for sublist in zoo for f in sublist] #flatten\n",
    "sixmonth = next(x for x, val in enumerate(zoo2) if val <= 182.5) #within 6 months\n",
    "AD_choose50 = RR_vec[sixmonth]\n",
    "AD_choose50 = convert_RR(AD_choose50)"
   ]
  },
  {
   "cell_type": "markdown",
   "id": "6a86a2fa",
   "metadata": {},
   "source": [
    "80% efficacy:"
   ]
  },
  {
   "cell_type": "code",
   "execution_count": 107,
   "id": "bbc7328e",
   "metadata": {},
   "outputs": [],
   "source": [
    "ad_eff = list(AD_df.loc[AD_df['Target efficacy'] == 80, 'Efficacy parameter'])\n",
    "ad_eff = ad_eff[0]"
   ]
  },
  {
   "cell_type": "code",
   "execution_count": 108,
   "id": "d28ccae6",
   "metadata": {},
   "outputs": [
    {
     "name": "stdout",
     "output_type": "stream",
     "text": [
      "processing time: 7.02 seconds\n"
     ]
    }
   ],
   "source": [
    "start_time = time.time()\n",
    "\n",
    "RR_vec = [0.00047,0.00134,0.00258,0.00418,0.00612,0.00842,0.01108,0.01408,0.01745,0.02115,0.0252,0.0296,0.03437,0.03945,0.04495,0.0507,0.0569,0.0634,0.0703,0.0775,0.085,0.093,0.10125,0.1098,0.1188,0.1281,0.1378,0.1478,0.1582,0.169,0.18,0.1915,0.203,0.215,0.2277,0.2405,0.2538,0.2672,0.2811,0.2953]\n",
    "zoo = [] #capture results here\n",
    "start_wol = 200\n",
    "\n",
    "for i in RR_vec:\n",
    "        \n",
    "    RR = i\n",
    "        \n",
    "    # run the model\n",
    "    t = np.linspace(0, 1500, 1501) # Grid of time points (in days)\n",
    "    y0 = O0, OW0, rOW0, OS0, L0, LW0, rLW0, LS0, P0, PW0, rPW0, PS0, M0, MW0, MS0, F0, FW0 # Init condition vector\n",
    "    ret = odeint(deriv, y0, t,args=(fCI, MT, c, e, phi, alphaO, muO, AA, BB, alphaL, alphaP, muP, muM, muF, RR, RRsupp, pulseN, IIT, SIT, em, lv, ad, cv, switch),hmax=1)\n",
    "    O, OW, rOW, OS, L, LW, rLW, LS, P, PW, rPW, PS, M, MW, MS, F, FW = ret.T\n",
    "\n",
    "    # get output\n",
    "    total = MW+FW+M+F\n",
    "    prop = (MW+FW)/(MW+FW+M+F)\n",
    "    \n",
    "    \n",
    "    fix = np.argwhere(prop > 0.95)\n",
    "    if sum(fix) > 0:\n",
    "        min_fix = min(fix)-start_wol\n",
    "        min_fix = min_fix.tolist()\n",
    "    else:\n",
    "        min_fix = [99999] #occurs if no fixation\n",
    "        \n",
    "    zoo.append(min_fix)\n",
    "\n",
    "current_time = time.time()\n",
    "elapsed_time = current_time - start_time\n",
    "print('processing time:',round(elapsed_time,2),'seconds')"
   ]
  },
  {
   "cell_type": "code",
   "execution_count": 109,
   "id": "b23eea01",
   "metadata": {},
   "outputs": [],
   "source": [
    "zoo2 = [f for sublist in zoo for f in sublist] #flatten\n",
    "sixmonth = next(x for x, val in enumerate(zoo2) if val <= 182.5) #within 6 months\n",
    "AD_choose80 = RR_vec[sixmonth]\n",
    "AD_choose80 = convert_RR(AD_choose80)"
   ]
  },
  {
   "cell_type": "markdown",
   "id": "22a1bf22",
   "metadata": {},
   "source": [
    "Literature efficacy:"
   ]
  },
  {
   "cell_type": "code",
   "execution_count": 110,
   "id": "3888673c",
   "metadata": {},
   "outputs": [],
   "source": [
    "ad_eff = list(AD_df.loc[AD_df['Target efficacy'] == 94, 'Efficacy parameter'])\n",
    "ad_eff = ad_eff[0]\n",
    "cv = list(AD_df.loc[AD_df['Target efficacy'] == 94, 'Coverage value'])\n",
    "cv = cv[0]"
   ]
  },
  {
   "cell_type": "code",
   "execution_count": 111,
   "id": "c6ba67db",
   "metadata": {},
   "outputs": [
    {
     "name": "stdout",
     "output_type": "stream",
     "text": [
      "processing time: 6.87 seconds\n"
     ]
    }
   ],
   "source": [
    "start_time = time.time()\n",
    "\n",
    "RR_vec = [0.00047,0.00134,0.00258,0.00418,0.00612,0.00842,0.01108,0.01408,0.01745,0.02115,0.0252,0.0296,0.03437,0.03945,0.04495,0.0507,0.0569,0.0634,0.0703,0.0775,0.085,0.093,0.10125,0.1098,0.1188,0.1281,0.1378,0.1478,0.1582,0.169,0.18,0.1915,0.203,0.215,0.2277,0.2405,0.2538,0.2672,0.2811,0.2953]\n",
    "zoo = [] #capture results here\n",
    "start_wol = 200\n",
    "\n",
    "for i in RR_vec:\n",
    "        \n",
    "    RR = i\n",
    "        \n",
    "    # run the model\n",
    "    t = np.linspace(0, 1500, 1501) # Grid of time points (in days)\n",
    "    y0 = O0, OW0, rOW0, OS0, L0, LW0, rLW0, LS0, P0, PW0, rPW0, PS0, M0, MW0, MS0, F0, FW0 # Init condition vector\n",
    "    ret = odeint(deriv, y0, t,args=(fCI, MT, c, e, phi, alphaO, muO, AA, BB, alphaL, alphaP, muP, muM, muF, RR, RRsupp, pulseN, IIT, SIT, em, lv, ad, cv, switch),hmax=1)\n",
    "    O, OW, rOW, OS, L, LW, rLW, LS, P, PW, rPW, PS, M, MW, MS, F, FW = ret.T\n",
    "\n",
    "    # get output\n",
    "    total = MW+FW+M+F\n",
    "    prop = (MW+FW)/(MW+FW+M+F)\n",
    "    \n",
    "    \n",
    "    fix = np.argwhere(prop > 0.95)\n",
    "    if sum(fix) > 0:\n",
    "        min_fix = min(fix)-start_wol\n",
    "        min_fix = min_fix.tolist()\n",
    "    else:\n",
    "        min_fix = [99999] #occurs if no fixation\n",
    "        \n",
    "    zoo.append(min_fix)\n",
    "\n",
    "current_time = time.time()\n",
    "elapsed_time = current_time - start_time\n",
    "print('processing time:',round(elapsed_time,2),'seconds')"
   ]
  },
  {
   "cell_type": "code",
   "execution_count": 112,
   "id": "a5a6e54c",
   "metadata": {},
   "outputs": [],
   "source": [
    "zoo2 = [f for sublist in zoo for f in sublist] #flatten\n",
    "sixmonth = next(x for x, val in enumerate(zoo2) if val <= 182.5) #within 6 months\n",
    "AD_chooselit = RR_vec[sixmonth]\n",
    "AD_chooselit = convert_RR(AD_chooselit)"
   ]
  },
  {
   "cell_type": "markdown",
   "id": "902a0795",
   "metadata": {},
   "source": [
    "Store results:"
   ]
  },
  {
   "cell_type": "code",
   "execution_count": 113,
   "id": "a0ee1afd",
   "metadata": {},
   "outputs": [],
   "source": [
    "AD_vec = {'Suppression type': 'AD', '20%': AD_choose20, '50%': AD_choose50, '80%': AD_choose80, '%lit': AD_chooselit}\n",
    "fig_df = fig_df.append(AD_vec, ignore_index=True)"
   ]
  },
  {
   "cell_type": "code",
   "execution_count": 114,
   "id": "54a76845",
   "metadata": {},
   "outputs": [],
   "source": [
    "fig_df.to_csv('RRfig_df_01-02-24.csv', index = False)"
   ]
  },
  {
   "cell_type": "code",
   "execution_count": 115,
   "id": "986b5c26",
   "metadata": {},
   "outputs": [],
   "source": [
    "# switch off\n",
    "\n",
    "h = [] #needed to set adulticide pulses\n",
    "for i in range(-4, 1, 1):\n",
    "    h.append((start_wol-7) + (7*i))\n",
    "\n",
    "def ad(t):    \n",
    "    ad_eff = 0\n",
    "    if round(t) < h[0]:\n",
    "        return 0\n",
    "    elif round(t) > h[0]+0.01 and round(t) < h[1]:\n",
    "        return 0\n",
    "    elif round(t) > h[1]+0.01 and round(t) < h[2]:\n",
    "        return 0\n",
    "    elif round(t) > h[2]+0.01 and round(t) < h[3]:\n",
    "        return 0\n",
    "    elif round(t) > h[3]+0.01 and round(t) < h[4]:\n",
    "        return 0\n",
    "    elif round(t) > h[4]+0.01:\n",
    "        return 0\n",
    "    else:\n",
    "        return ad_eff"
   ]
  },
  {
   "cell_type": "markdown",
   "id": "8a17e623",
   "metadata": {},
   "source": [
    "### 2.b. Data formatting: minimum Wolbachia RR relative to no suppression for fixation within 6 months\n",
    "#### To run if not running script all-through:"
   ]
  },
  {
   "cell_type": "code",
   "execution_count": 116,
   "id": "47dfcfe6",
   "metadata": {},
   "outputs": [
    {
     "data": {
      "text/html": [
       "<div>\n",
       "<style scoped>\n",
       "    .dataframe tbody tr th:only-of-type {\n",
       "        vertical-align: middle;\n",
       "    }\n",
       "\n",
       "    .dataframe tbody tr th {\n",
       "        vertical-align: top;\n",
       "    }\n",
       "\n",
       "    .dataframe thead th {\n",
       "        text-align: right;\n",
       "    }\n",
       "</style>\n",
       "<table border=\"1\" class=\"dataframe\">\n",
       "  <thead>\n",
       "    <tr style=\"text-align: right;\">\n",
       "      <th></th>\n",
       "      <th>Suppression type</th>\n",
       "      <th>20%</th>\n",
       "      <th>50%</th>\n",
       "      <th>80%</th>\n",
       "      <th>%lit</th>\n",
       "    </tr>\n",
       "  </thead>\n",
       "  <tbody>\n",
       "    <tr>\n",
       "      <th>0</th>\n",
       "      <td>No Suppression</td>\n",
       "      <td>0.0000</td>\n",
       "      <td>0.0000</td>\n",
       "      <td>0.0000</td>\n",
       "      <td>0.0775</td>\n",
       "    </tr>\n",
       "    <tr>\n",
       "      <th>1</th>\n",
       "      <td>RIDL</td>\n",
       "      <td>0.0650</td>\n",
       "      <td>0.0425</td>\n",
       "      <td>0.0175</td>\n",
       "      <td>0.0425</td>\n",
       "    </tr>\n",
       "    <tr>\n",
       "      <th>2</th>\n",
       "      <td>SIT</td>\n",
       "      <td>0.0650</td>\n",
       "      <td>0.0425</td>\n",
       "      <td>0.0175</td>\n",
       "      <td>0.0400</td>\n",
       "    </tr>\n",
       "    <tr>\n",
       "      <th>3</th>\n",
       "      <td>IIT</td>\n",
       "      <td>0.0625</td>\n",
       "      <td>0.0325</td>\n",
       "      <td>0.0025</td>\n",
       "      <td>0.0125</td>\n",
       "    </tr>\n",
       "    <tr>\n",
       "      <th>4</th>\n",
       "      <td>EM</td>\n",
       "      <td>0.0725</td>\n",
       "      <td>0.0600</td>\n",
       "      <td>0.0475</td>\n",
       "      <td>0.0625</td>\n",
       "    </tr>\n",
       "    <tr>\n",
       "      <th>5</th>\n",
       "      <td>LV</td>\n",
       "      <td>0.0725</td>\n",
       "      <td>0.0625</td>\n",
       "      <td>0.0475</td>\n",
       "      <td>0.0650</td>\n",
       "    </tr>\n",
       "    <tr>\n",
       "      <th>6</th>\n",
       "      <td>AD</td>\n",
       "      <td>0.0625</td>\n",
       "      <td>0.0450</td>\n",
       "      <td>0.0300</td>\n",
       "      <td>0.0475</td>\n",
       "    </tr>\n",
       "  </tbody>\n",
       "</table>\n",
       "</div>"
      ],
      "text/plain": [
       "  Suppression type     20%     50%     80%    %lit\n",
       "0   No Suppression  0.0000  0.0000  0.0000  0.0775\n",
       "1             RIDL  0.0650  0.0425  0.0175  0.0425\n",
       "2              SIT  0.0650  0.0425  0.0175  0.0400\n",
       "3              IIT  0.0625  0.0325  0.0025  0.0125\n",
       "4               EM  0.0725  0.0600  0.0475  0.0625\n",
       "5               LV  0.0725  0.0625  0.0475  0.0650\n",
       "6               AD  0.0625  0.0450  0.0300  0.0475"
      ]
     },
     "execution_count": 116,
     "metadata": {},
     "output_type": "execute_result"
    }
   ],
   "source": [
    "fig_df = pd.read_csv(f'{filepath}/RRfig_df_01-02-24.csv')\n",
    "\n",
    "fig_df"
   ]
  },
  {
   "cell_type": "code",
   "execution_count": 117,
   "id": "591c85e3",
   "metadata": {},
   "outputs": [
    {
     "data": {
      "text/html": [
       "<div>\n",
       "<style scoped>\n",
       "    .dataframe tbody tr th:only-of-type {\n",
       "        vertical-align: middle;\n",
       "    }\n",
       "\n",
       "    .dataframe tbody tr th {\n",
       "        vertical-align: top;\n",
       "    }\n",
       "\n",
       "    .dataframe thead th {\n",
       "        text-align: right;\n",
       "    }\n",
       "</style>\n",
       "<table border=\"1\" class=\"dataframe\">\n",
       "  <thead>\n",
       "    <tr style=\"text-align: right;\">\n",
       "      <th></th>\n",
       "      <th>Suppression type</th>\n",
       "      <th>20%</th>\n",
       "      <th>50%</th>\n",
       "      <th>80%</th>\n",
       "      <th>%lit</th>\n",
       "    </tr>\n",
       "  </thead>\n",
       "  <tbody>\n",
       "    <tr>\n",
       "      <th>0</th>\n",
       "      <td>No Suppression</td>\n",
       "      <td>0.000000</td>\n",
       "      <td>0.000000</td>\n",
       "      <td>0.000000</td>\n",
       "      <td>1.000000</td>\n",
       "    </tr>\n",
       "    <tr>\n",
       "      <th>1</th>\n",
       "      <td>RIDL</td>\n",
       "      <td>0.838710</td>\n",
       "      <td>0.548387</td>\n",
       "      <td>0.225806</td>\n",
       "      <td>0.548387</td>\n",
       "    </tr>\n",
       "    <tr>\n",
       "      <th>2</th>\n",
       "      <td>SIT</td>\n",
       "      <td>0.838710</td>\n",
       "      <td>0.548387</td>\n",
       "      <td>0.225806</td>\n",
       "      <td>0.516129</td>\n",
       "    </tr>\n",
       "    <tr>\n",
       "      <th>3</th>\n",
       "      <td>IIT</td>\n",
       "      <td>0.806452</td>\n",
       "      <td>0.419355</td>\n",
       "      <td>0.032258</td>\n",
       "      <td>0.161290</td>\n",
       "    </tr>\n",
       "    <tr>\n",
       "      <th>4</th>\n",
       "      <td>EM</td>\n",
       "      <td>0.935484</td>\n",
       "      <td>0.774194</td>\n",
       "      <td>0.612903</td>\n",
       "      <td>0.806452</td>\n",
       "    </tr>\n",
       "    <tr>\n",
       "      <th>5</th>\n",
       "      <td>LV</td>\n",
       "      <td>0.935484</td>\n",
       "      <td>0.806452</td>\n",
       "      <td>0.612903</td>\n",
       "      <td>0.838710</td>\n",
       "    </tr>\n",
       "    <tr>\n",
       "      <th>6</th>\n",
       "      <td>AD</td>\n",
       "      <td>0.806452</td>\n",
       "      <td>0.580645</td>\n",
       "      <td>0.387097</td>\n",
       "      <td>0.612903</td>\n",
       "    </tr>\n",
       "  </tbody>\n",
       "</table>\n",
       "</div>"
      ],
      "text/plain": [
       "  Suppression type       20%       50%       80%      %lit\n",
       "0   No Suppression  0.000000  0.000000  0.000000  1.000000\n",
       "1             RIDL  0.838710  0.548387  0.225806  0.548387\n",
       "2              SIT  0.838710  0.548387  0.225806  0.516129\n",
       "3              IIT  0.806452  0.419355  0.032258  0.161290\n",
       "4               EM  0.935484  0.774194  0.612903  0.806452\n",
       "5               LV  0.935484  0.806452  0.612903  0.838710\n",
       "6               AD  0.806452  0.580645  0.387097  0.612903"
      ]
     },
     "execution_count": 117,
     "metadata": {},
     "output_type": "execute_result"
    }
   ],
   "source": [
    "a = list(fig_df.loc[fig_df['Suppression type'] == 'No Suppression', '%lit'])\n",
    "a = a[0]\n",
    "fig_df['20%'] = fig_df['20%']/a\n",
    "fig_df['50%'] = fig_df['50%']/a\n",
    "fig_df['80%'] = fig_df['80%']/a\n",
    "fig_df['%lit'] = fig_df['%lit']/a\n",
    "fig_df"
   ]
  },
  {
   "cell_type": "markdown",
   "id": "1dcfa43e",
   "metadata": {},
   "source": [
    "### 2.c. Plot results for panel A"
   ]
  },
  {
   "cell_type": "code",
   "execution_count": 118,
   "id": "ed434685",
   "metadata": {},
   "outputs": [],
   "source": [
    "s1 = fig_df.loc[1]\n",
    "s1 = s1.values.tolist()\n",
    "s2 = fig_df.loc[2]\n",
    "s2 = s2.values.tolist()\n",
    "s3 = fig_df.loc[3]\n",
    "s3 = s3.values.tolist()\n",
    "s4 = fig_df.loc[4]\n",
    "s4 = s4.values.tolist()\n",
    "s5 = fig_df.loc[5]\n",
    "s5 = s5.values.tolist()\n",
    "s6 = fig_df.loc[6]\n",
    "s6 = s6.values.tolist()"
   ]
  },
  {
   "cell_type": "code",
   "execution_count": 119,
   "id": "5e4374a5",
   "metadata": {},
   "outputs": [
    {
     "data": {
      "text/plain": [
       "<matplotlib.legend.Legend at 0x7f8648c07c10>"
      ]
     },
     "execution_count": 119,
     "metadata": {},
     "output_type": "execute_result"
    },
    {
     "data": {
      "image/png": "[encoded data removed]",
      "text/plain": [
       "<Figure size 864x576 with 1 Axes>"
      ]
     },
     "metadata": {
      "needs_background": "light"
     },
     "output_type": "display_data"
    }
   ],
   "source": [
    "fig, ax1 = plt.subplots(figsize=(12,8))\n",
    "\n",
    "#plt.margins(x=0,y=0)\n",
    "ax1.plot(10, s1[3], marker=\".\", color='orange', label=\"20% efficacy\")\n",
    "ax1.plot(9, s1[2], marker=\".\", color='green', label=\"50% efficacy\")\n",
    "ax1.plot(10, s1[1], marker=\".\", color='red', label=\"80% efficacy\")\n",
    "ax1.plot(11, s1[4], marker=\".\", color='blue', label=\"literature reported efficacy\")\n",
    "ax1.text(12, s1[4], '45%', fontsize=16)\n",
    "ax1.plot(20, s2[1], marker=\".\", color='red')\n",
    "ax1.plot(20, s2[2], marker=\".\", color='green')\n",
    "ax1.plot(20, s2[3], marker=\".\", color='orange')\n",
    "ax1.plot(20, s2[4], marker=\".\", color='blue')\n",
    "ax1.text(21, s2[4], '49%', fontsize=16)\n",
    "ax1.plot(30, s3[1], marker=\".\", color='red')\n",
    "ax1.plot(30, s3[2], marker=\".\", color='green')\n",
    "ax1.plot(30, s3[3], marker=\".\", color='orange')\n",
    "ax1.plot(30, s3[4], marker=\".\", color='blue')\n",
    "ax1.text(31, s3[4], '65%', fontsize=16)\n",
    "ax1.plot(40, s4[1], marker=\".\", color='red')\n",
    "ax1.plot(40, s4[2], marker=\".\", color='green')\n",
    "ax1.plot(40, s4[3], marker=\".\", color='orange')\n",
    "ax1.plot(40, s4[4], marker=\".\", color='blue')\n",
    "ax1.text(41, s4[4], '47.4%', fontsize=16)\n",
    "ax1.plot(50, s5[1], marker=\".\", color='red')\n",
    "ax1.plot(50, s5[2], marker=\".\", color='green')\n",
    "ax1.plot(50, s5[3], marker=\".\", color='orange')\n",
    "ax1.plot(50, s5[4], marker=\".\", color='blue')\n",
    "ax1.text(51, s5[4], '44%', fontsize=16)\n",
    "ax1.plot(60, s6[1], marker=\".\", color='red')\n",
    "ax1.plot(60, s6[2], marker=\".\", color='green')\n",
    "ax1.plot(60, s6[3], marker=\".\", color='orange')\n",
    "ax1.plot(60, s6[4], marker=\".\", color='blue')\n",
    "ax1.text(61, s6[4], '94%*', fontsize=16)\n",
    "plt.xticks([10,20,30,40,50,60],['RIDL','SIT','IIT','Env','Lar','Ad'])\n",
    "ax1.set_xlim(0,70)\n",
    "ax1.set_ylim(0,1)\n",
    "ax1.set_xlabel(\"Suppression Type\",fontsize=16, labelpad=8)\n",
    "ax1.set_ylabel(\"RR of Wolbachia release relative to no suppression\",fontsize=16, labelpad=8)\n",
    "ax1.legend(loc='lower right')\n",
    "#ax1.set_title(\"Minimum RR required to reach 95% fixation of Wolbachia within 3 months of last release\\n (normalised)\")\n",
    "\n",
    "#plt.savefig('Fig5A.jpeg', dpi=600, bbox_inches='tight',)"
   ]
  },
  {
   "cell_type": "code",
   "execution_count": null,
   "id": "d9b8a17c",
   "metadata": {},
   "outputs": [],
   "source": []
  },
  {
   "cell_type": "code",
   "execution_count": null,
   "id": "651bc166",
   "metadata": {},
   "outputs": [],
   "source": []
  }
 ],
 "metadata": {
  "kernelspec": {
   "display_name": "Python 3 (ipykernel)",
   "language": "python",
   "name": "python3"
  },
  "language_info": {
   "codemirror_mode": {
    "name": "ipython",
    "version": 3
   },
   "file_extension": ".py",
   "mimetype": "text/x-python",
   "name": "python",
   "nbconvert_exporter": "python",
   "pygments_lexer": "ipython3",
   "version": "3.8.12"
  }
 },
 "nbformat": 4,
 "nbformat_minor": 5
}
