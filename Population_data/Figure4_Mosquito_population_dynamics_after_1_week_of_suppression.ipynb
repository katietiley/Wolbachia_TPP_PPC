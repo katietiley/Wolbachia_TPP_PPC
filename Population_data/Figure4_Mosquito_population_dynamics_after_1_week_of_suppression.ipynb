{
 "cells": [
  {
   "cell_type": "markdown",
   "id": "d00d7096",
   "metadata": {},
   "source": [
    "# Figure 4. Mosquito population dynamics after 1 week of suppression\n",
    "Author: Katie Tiley (katherine.tiley@lshtm.ac.uk) <br>\n",
    "Date: 28 Sep 22 <br>\n",
    "<br>\n",
    "Note: in the code RIDL refers to 1gSLT, and IIT refers to Male Wolbachia release"
   ]
  },
  {
   "cell_type": "code",
   "execution_count": 1,
   "id": "a7755d38",
   "metadata": {},
   "outputs": [],
   "source": [
    "from scipy.integrate import odeint\n",
    "import numpy as np\n",
    "import matplotlib as mat\n",
    "import matplotlib.pyplot as plt\n",
    "from scipy import integrate as sp\n",
    "import seaborn as sns\n",
    "from tabulate import tabulate\n",
    "import pandas as pd\n",
    "import os"
   ]
  },
  {
   "cell_type": "markdown",
   "id": "c27aa226",
   "metadata": {},
   "source": [
    "### 1. Set up model\n",
    "Parameters:"
   ]
  },
  {
   "cell_type": "code",
   "execution_count": 2,
   "id": "9df26a45",
   "metadata": {},
   "outputs": [],
   "source": [
    "# MOSQUITO\n",
    "alphaO = 0.5  # rate that eggs hatch into larvae\n",
    "alphaL = 0.18  # rate that larvae pupate\n",
    "alphaP = 1  # rate that pupae eclose\n",
    "phi = 500*(1/14)    # number eggs laid per mosquito per day\n",
    "muO = 0.01    # daily death rate of eggs\n",
    "muL = 0.1*alphaL    # daily death rate of larvae\n",
    "muP = 0.1*alphaP     # pupae death rate\n",
    "muM = 1/14     # adult mosquito death rate\n",
    "muF = 1/14     # adult female mosquito death rate\n",
    "\n",
    "# density-dependence via Bellows 1981:\n",
    "AA = 1   # determines the density at which mortality remains proportionate\n",
    "BB = 0.5   # determines the 'abruptness' of density-dependence\n",
    "\n",
    "# WOLBACHIA\n",
    "fCI = 0.012   # prop of cytoplasmic incompatibility that fails 'sigma'\n",
    "MT = 0    # prop of wolbachia females that don't successfully maternally transfer 'omega'\n",
    "c = 0.5      # mating competitiveness of released wolbachia males\n",
    "cv = 0.128   #coverage of adulticide\n",
    "e = 1.2      # relative mortality of wolbachia adults compared to wild adults\n",
    "RR = 0.02915       # release ratio of wolbachia eggs to wild type eggs\n",
    "RRsupp = 1      # release ratio of wolbachia eggs to wild type eggs for suppression techniques"
   ]
  },
  {
   "cell_type": "markdown",
   "id": "dd0acebe",
   "metadata": {},
   "source": [
    "Initial conditions:\n",
    "(equilibrium values previously defined in Supp)"
   ]
  },
  {
   "cell_type": "code",
   "execution_count": 3,
   "id": "04463e5c",
   "metadata": {},
   "outputs": [],
   "source": [
    "O0 = 15947.608023052446\n",
    "OW0 = 0\n",
    "rOW0 = 0\n",
    "OS0 = 0\n",
    "L0 = 40271.71074193975\n",
    "LW0 = 0\n",
    "rLW0 = 0\n",
    "LS0 = 0\n",
    "P0 = 32.67541200187585\n",
    "PW0 = 0\n",
    "rPW0 = 0\n",
    "PS0 = 0\n",
    "M0 = 228.72754035145144\n",
    "MW0 = 0\n",
    "MS0 = 0\n",
    "F0 = 228.72754035145144\n",
    "FW0 = 0"
   ]
  },
  {
   "cell_type": "markdown",
   "id": "d168648c",
   "metadata": {},
   "source": [
    "Wolbachia release function:"
   ]
  },
  {
   "cell_type": "code",
   "execution_count": 4,
   "id": "3504390d",
   "metadata": {},
   "outputs": [],
   "source": [
    "start_wol = 200\n",
    "\n",
    "def pulseN(t, start_wol=start_wol, releasenumber=5, frequency=14):    \n",
    "    for i in range(0,releasenumber,1):\n",
    "        if round(t) == start_wol + (frequency*i):\n",
    "            return 0 #O0\n",
    "    else:\n",
    "        return 0"
   ]
  },
  {
   "cell_type": "markdown",
   "id": "c92227d7",
   "metadata": {},
   "source": [
    "Suppression functions:"
   ]
  },
  {
   "cell_type": "code",
   "execution_count": 5,
   "id": "e9717f23",
   "metadata": {},
   "outputs": [],
   "source": [
    "# IIT\n",
    "\n",
    "def IIT(t, releasenumber=1, frequency=7, end=start_wol):\n",
    "    for i in range(0,releasenumber,1):\n",
    "        if round(t) == (end-frequency) - (frequency*i):\n",
    "            return 0 #M0+F0\n",
    "    else:\n",
    "        return 0"
   ]
  },
  {
   "cell_type": "code",
   "execution_count": 6,
   "id": "77c90ffe",
   "metadata": {},
   "outputs": [],
   "source": [
    "# SIT / RIDL\n",
    "\n",
    "switch = 0 #0 for SIT; 1 for RIDL\n",
    "\n",
    "def SIT(t, releasenumber=1, frequency=7, end=start_wol):    \n",
    "    for i in range(0,releasenumber,1):\n",
    "        if round(t) == (end-frequency) - (frequency*i):\n",
    "            return 0 #M0+F0\n",
    "    else:\n",
    "        return 0"
   ]
  },
  {
   "cell_type": "code",
   "execution_count": 7,
   "id": "8fd67841",
   "metadata": {},
   "outputs": [],
   "source": [
    "# Environmental management\n",
    "\n",
    "start_em = 193\n",
    "stop_em = 200\n",
    "em_eff = 1 #0.526\n",
    "\n",
    "def em(t):\n",
    "    if round(t) < start_em:     #start\n",
    "        return 1\n",
    "    elif round(t) > stop_em:    #stop releases\n",
    "        return 1\n",
    "    else:\n",
    "        return em_eff"
   ]
  },
  {
   "cell_type": "code",
   "execution_count": 8,
   "id": "710f365c",
   "metadata": {},
   "outputs": [],
   "source": [
    "# Larvicides (e.g. guppies)\n",
    "\n",
    "start_lv=193\n",
    "stop_lv=200\n",
    "lv_eff= 1 #5.95\n",
    "\n",
    "def lv(t):\n",
    "    if round(t) < start_lv:     #start\n",
    "        return 1\n",
    "    elif round(t) > stop_lv:    #stop releases\n",
    "        return 1\n",
    "    else:\n",
    "        return lv_eff"
   ]
  },
  {
   "cell_type": "code",
   "execution_count": 9,
   "id": "b3a66571",
   "metadata": {},
   "outputs": [],
   "source": [
    "# Adulticide\n",
    "\n",
    "h = [] #needed to set adulticide pulses\n",
    "for i in range(0, -1, -1): # needs changing according to number of releases\n",
    "    h.append((start_wol-7) - (7*i))\n",
    "#h = start_wol\n",
    "\n",
    "def ad(t):    \n",
    "    ad_eff = 0 #4.9\n",
    "    if round(t) < h[0]:\n",
    "        return 0\n",
    "    elif round(t) > h[0]+0.01: # and round(t) < h[1]: # un-comment according to number of releases\n",
    "        return 0\n",
    "#    elif round(t) > h[1]+0.01 and round(t) < h[2]:\n",
    "#        return 0\n",
    "#    elif round(t) > h[2]+0.01 and round(t) < h[3]:\n",
    "#        return 0\n",
    "#    elif round(t) > h[3]+0.01 and round(t) < h[4]:\n",
    "#        return 0\n",
    "#    elif round(t) > h[4]+0.01 and round(t) < h[5]:\n",
    "#        return 0\n",
    "#    elif round(t) > h[5]+0.01 and round(t) < h[6]:\n",
    "#        return 0\n",
    "#    elif round(t) > h[6]+0.01 and round(t) < h[7]:\n",
    "#        return 0\n",
    "#    elif round(t) > h[7]+0.01 and round(t) < h[8]:\n",
    "#        return 0\n",
    "#    elif round(t) > h[8]+0.01 and round(t) < h[9]:\n",
    "#        return 0\n",
    "#    elif round(t) > h[9]+0.01:\n",
    "#        return 0\n",
    "    else:\n",
    "        return ad_eff"
   ]
  },
  {
   "cell_type": "markdown",
   "id": "52ab365c",
   "metadata": {},
   "source": [
    "Model:"
   ]
  },
  {
   "cell_type": "code",
   "execution_count": 10,
   "id": "368cde05",
   "metadata": {},
   "outputs": [],
   "source": [
    "def deriv(y, t, fCI, MT, c, e, phi, alphaO, muO, AA, BB, alphaL, alphaP, muP, muM, muF, RR, RRsupp, pulseN, IIT, SIT, em, lv, ad, cv, switch):\n",
    "    \n",
    "    O, OW, rOW, OS, L, LW, rLW, LS, P, PW, rPW, PS, M, MW, MS, F, FW = y\n",
    "    \n",
    "    #MOSQUITOES\n",
    "    \n",
    "    allfemales = 1+F+FW\n",
    "    allmales = 1+M+MW+(MS*c)\n",
    "    \n",
    "    F_nothing = F + FW*MT \n",
    "    M_nothing = M + MW*fCI \n",
    "    \n",
    "    F_wol = FW*(1-MT)\n",
    "    \n",
    "    #Eggs\n",
    "    dOdt = em(t) * phi * F_nothing * M_nothing/allmales - alphaO*O - lv(t)*muO*O # eggs laid * females no-wol * (males no_wol / all males) (aka prop no-wol males)\n",
    "    dOWdt = em(t) * phi * F_wol * (M+MW)/allmales - alphaO*OW - lv(t)*muO*OW \n",
    "    drOWdt = pulseN(t)*RR - alphaO*rOW - muO*rOW\n",
    "    dOSdt = phi * allfemales * (MS*c)/allmales - alphaO*OS - muO*OS\n",
    "    \n",
    "    #Larvae\n",
    "    dLdt =  alphaO*O - alphaL*L - lv(t)*muL*L\n",
    "    dLWdt = alphaO*OW - alphaL*LW - lv(t)*muL*LW\n",
    "    drLWdt = alphaO*rOW - alphaL*rLW - muL*rLW\n",
    "    dLSdt = switch*alphaO*OS - alphaL*LS - muL*LS\n",
    "    \n",
    "    #Pupae \n",
    "    dPdt =  alphaL*(L/(1+((AA*(L+LW+LS))**BB))) - alphaP*P - lv(t)*muP*P \n",
    "    dPWdt = alphaL*(LW/(1+((AA*(L+LW+LS))**BB))) - alphaP*PW - lv(t)*muP*PW\n",
    "    drPWdt = alphaL*(rLW/(1+((AA*(rLW))**BB))) - alphaP*rPW - muP*rPW \n",
    "    dPSdt = alphaL*(LS/(1+((AA*(L+LW+LS))**BB))) - alphaP*PS - muP*PS\n",
    "        \n",
    "    #Adult\n",
    "    dMdt =  .5*alphaP*P - muM*M - ad(t)*M*cv\n",
    "    dMWdt = IIT(t)*RRsupp + .5*alphaP*(PW+rPW) - muM*1.2*MW - ad(t)*MW*cv\n",
    "    dMSdt = SIT(t)*RRsupp + .5*alphaP*PS - muM*1.2*MS\n",
    "    \n",
    "    dFdt =  .5*alphaP*P - muF*F - ad(t)*F*cv\n",
    "    dFWdt = .5*alphaP*(PW+rPW) - muF*1.2*FW - ad(t)*FW*cv\n",
    "\n",
    "    return dOdt, dOWdt, drOWdt, dOSdt, dLdt, dLWdt, drLWdt, dLSdt, dPdt, dPWdt, drPWdt, dPSdt, dMdt, dMWdt, dMSdt, dFdt, dFWdt"
   ]
  },
  {
   "cell_type": "markdown",
   "id": "87b1b26a",
   "metadata": {},
   "source": [
    "Model prerequisites:"
   ]
  },
  {
   "cell_type": "code",
   "execution_count": 11,
   "id": "1026ecf4",
   "metadata": {},
   "outputs": [],
   "source": [
    "t = np.linspace(0, 1500, 1501) # grid of time points (in days)\n",
    "y0 = O0, OW0, rOW0, OS0, L0, LW0, rLW0, LS0, P0, PW0, rPW0, PS0, M0, MW0, MS0, F0, FW0 # initial condition vector"
   ]
  },
  {
   "cell_type": "markdown",
   "id": "7f5ebc3f",
   "metadata": {},
   "source": [
    "Run model:"
   ]
  },
  {
   "cell_type": "code",
   "execution_count": 12,
   "id": "96d4eca9",
   "metadata": {},
   "outputs": [],
   "source": [
    "ret = odeint(deriv, y0, t,args=(fCI, MT, c, e, phi, alphaO, muO, AA, BB, alphaL, alphaP, muP, muM, muF, RR, RRsupp, pulseN, IIT, SIT, em, lv, ad, cv, switch),hmax=1)\n",
    "\n",
    "O, OW, rOW, OS, L, LW, rLW, LS, P, PW, rPW, PS, M, MW, MS, F, FW = ret.T"
   ]
  },
  {
   "cell_type": "markdown",
   "id": "6b87b939",
   "metadata": {},
   "source": [
    "Visual check all suppression and Wolbachia functions are switched off:\n",
    "(should see horizontal lines)"
   ]
  },
  {
   "cell_type": "code",
   "execution_count": 13,
   "id": "a402d448",
   "metadata": {},
   "outputs": [
    {
     "data": {
      "image/png": "[encoded data removed]",
      "text/plain": [
       "<Figure size 720x720 with 4 Axes>"
      ]
     },
     "metadata": {
      "needs_background": "light"
     },
     "output_type": "display_data"
    }
   ],
   "source": [
    "fig, ((ax1, ax2), (ax3, ax4)) = plt.subplots(2, 2, figsize=[10,10])\n",
    "\n",
    "ax1.plot(t, F+FW+M+MW, 'blue', label='all adults')\n",
    "ax1.plot(t, F+FW, 'pink', label='all females')\n",
    "ax1.set_xlabel(\"Time (days)\", fontsize=12, labelpad=8)\n",
    "ax1.set_ylabel(\"Number of Adult Mosquitoes\", fontsize=12, labelpad=8)\n",
    "ax1.legend()\n",
    "\n",
    "ax2.plot(t, M+F, 'black', label='all wildtypes')\n",
    "ax2.plot(t, MW+FW, 'red', label='all wol')\n",
    "ax2.set_xlabel(\"Time (days)\", fontsize=12, labelpad=8)\n",
    "ax2.set_ylabel(\"Number of wildtype and wol mosquitoes\", fontsize=12, labelpad=8)\n",
    "ax2.legend()\n",
    "\n",
    "ax3.plot(t, L, 'black', linestyle='dashed', label='wildtype larvae')\n",
    "ax3.plot(t, P, 'black', label='wildtype pupae')\n",
    "ax3.plot(t, LW, 'grey', linestyle='dashed', label='wol larvae')\n",
    "ax3.plot(t, PW, 'grey', label='wol pupae')\n",
    "ax3.set_xlabel(\"Time (days)\", fontsize=12, labelpad=8)\n",
    "ax3.set_ylabel(\"Number of wildtype and wol \\naquatic stage mosquitoes\", fontsize=12, labelpad=8)\n",
    "ax3.legend()\n",
    "\n",
    "ax4.plot(t[140:400], (MW[140:400]+FW[140:400])/(MW[140:400]+FW[140:400]+M[140:400]+F[140:400]), 'black')\n",
    "plt.xticks([150,200,250,300,350,400])\n",
    "ax4.set_xlabel(\"Time (days)\", fontsize=12, labelpad=8)\n",
    "ax4.set_ylabel(\"Proportion of Mosquitoes with Wolbachia\", fontsize=12, labelpad=8)\n",
    "\n",
    "plt.subplots_adjust(wspace=.35)\n",
    "\n",
    "#plt.savefig('wolAedesDemo-KT', dpi=300, facecolor='w', edgecolor='w',\n",
    "#        orientation='portrait', format=None, transparent=False, bbox_inches=None, pad_inches=0.1, metadata=None)"
   ]
  },
  {
   "cell_type": "markdown",
   "id": "98bf2e6e",
   "metadata": {},
   "source": [
    "### 2. One week of suppression"
   ]
  },
  {
   "cell_type": "code",
   "execution_count": 14,
   "id": "49acc27a",
   "metadata": {},
   "outputs": [],
   "source": [
    "filepath = os.path.abspath(os.getcwd())"
   ]
  },
  {
   "cell_type": "markdown",
   "id": "7325c906",
   "metadata": {},
   "source": [
    "IIT:"
   ]
  },
  {
   "cell_type": "code",
   "execution_count": 15,
   "id": "a7b56864",
   "metadata": {},
   "outputs": [],
   "source": [
    "# switch on\n",
    "\n",
    "def IIT(t, releasenumber=1, frequency=7, end=start_wol):\n",
    "    for i in range(0,releasenumber,1):\n",
    "        if round(t) == (end-frequency) - (frequency*i):\n",
    "            return M0+F0\n",
    "    else:\n",
    "        return 0\n",
    "\n",
    "IIT_df = pd.read_csv(f'{filepath}/IIT_df_01-02-24.csv')\n",
    "RRsupp = list(IIT_df.loc[IIT_df['Target efficacy'] == 65, 'RRsupp value'])\n",
    "RRsupp = RRsupp[0]"
   ]
  },
  {
   "cell_type": "code",
   "execution_count": 16,
   "id": "8b775a86",
   "metadata": {},
   "outputs": [],
   "source": [
    "# run model\n",
    "ret = odeint(deriv, y0, t,args=(fCI, MT, c, e, phi, alphaO, muO, AA, BB, alphaL, alphaP, muP, muM, muF, RR, RRsupp, pulseN, IIT, SIT, em, lv, ad, cv, switch),hmax=1)\n",
    "\n",
    "O, OW, rOW, OS, L, LW, rLW, LS, P, PW, rPW, PS, M, MW, MS, F, FW = ret.T"
   ]
  },
  {
   "cell_type": "code",
   "execution_count": 17,
   "id": "d6e54a12",
   "metadata": {},
   "outputs": [],
   "source": [
    "# save results\n",
    "IIT_1w_wild = M+F\n",
    "IIT_1w_all = M+F+MW+FW+MS\n",
    "IIT_1w_fem = F+FW\n",
    "IIT_1w_mal = M+MW+MS"
   ]
  },
  {
   "cell_type": "code",
   "execution_count": 18,
   "id": "db7a3a4b",
   "metadata": {},
   "outputs": [],
   "source": [
    "# switch off again\n",
    "\n",
    "def IIT(t, releasenumber=1, frequency=7, end=start_wol):\n",
    "    for i in range(0,releasenumber,1):\n",
    "        if round(t) == (end-frequency) - (frequency*i):\n",
    "            return 0 #M0+F0\n",
    "    else:\n",
    "        return 0"
   ]
  },
  {
   "cell_type": "markdown",
   "id": "db3eb677",
   "metadata": {},
   "source": [
    "SIT:"
   ]
  },
  {
   "cell_type": "code",
   "execution_count": 19,
   "id": "23d1c6b0",
   "metadata": {},
   "outputs": [],
   "source": [
    "# switch on\n",
    "\n",
    "switch = 0 #0 for SIT; 1 for RIDL\n",
    "\n",
    "def SIT(t, releasenumber=1, frequency=7, end=start_wol):    \n",
    "    for i in range(0,releasenumber,1):\n",
    "        if round(t) == (end-frequency) - (frequency*i):\n",
    "            return M0+F0\n",
    "    else:\n",
    "        return 0\n",
    "\n",
    "SIT_df = pd.read_csv(f'{filepath}/SIT_df_01-02-24.csv')\n",
    "RRsupp = list(SIT_df.loc[SIT_df['Target efficacy'] == 49, 'RRsupp value'])\n",
    "RRsupp = RRsupp[0]"
   ]
  },
  {
   "cell_type": "code",
   "execution_count": 20,
   "id": "9041ec83",
   "metadata": {},
   "outputs": [],
   "source": [
    "# run model\n",
    "ret = odeint(deriv, y0, t,args=(fCI, MT, c, e, phi, alphaO, muO, AA, BB, alphaL, alphaP, muP, muM, muF, RR, RRsupp, pulseN, IIT, SIT, em, lv, ad, cv, switch),hmax=1)\n",
    "\n",
    "O, OW, rOW, OS, L, LW, rLW, LS, P, PW, rPW, PS, M, MW, MS, F, FW = ret.T"
   ]
  },
  {
   "cell_type": "code",
   "execution_count": 21,
   "id": "2d849ad9",
   "metadata": {},
   "outputs": [],
   "source": [
    "# save results\n",
    "SIT_1w_wild = M+F\n",
    "SIT_1w_all = M+F+MW+FW+MS\n",
    "SIT_1w_fem = F+FW\n",
    "SIT_1w_mal = M+MW+MS"
   ]
  },
  {
   "cell_type": "code",
   "execution_count": 22,
   "id": "14c95920",
   "metadata": {},
   "outputs": [],
   "source": [
    "# switch off again\n",
    "\n",
    "switch = 0 #0 for SIT; 1 for RIDL\n",
    "\n",
    "def SIT(t, releasenumber=1, frequency=7, end=start_wol):    \n",
    "    for i in range(0,releasenumber,1):\n",
    "        if round(t) == (end-frequency) - (frequency*i):\n",
    "            return 0 #M0+F0\n",
    "    else:\n",
    "        return 0"
   ]
  },
  {
   "cell_type": "markdown",
   "id": "0d62ef07",
   "metadata": {},
   "source": [
    "RIDL:"
   ]
  },
  {
   "cell_type": "code",
   "execution_count": 23,
   "id": "ea72567e",
   "metadata": {},
   "outputs": [],
   "source": [
    "# switch on\n",
    "\n",
    "switch = 1 #0 for SIT; 1 for RIDL\n",
    "\n",
    "def SIT(t, releasenumber=1, frequency=7, end=start_wol):    \n",
    "    for i in range(0,releasenumber,1):\n",
    "        if round(t) == (end-frequency) - (frequency*i):\n",
    "            return M0+F0\n",
    "    else:\n",
    "        return 0\n",
    "\n",
    "RIDL_df = pd.read_csv(f'{filepath}/RIDL_df.csv')\n",
    "RRsupp = list(RIDL_df.loc[RIDL_df['Target efficacy'] == 45, 'RRsupp value'])\n",
    "RRsupp = RRsupp[0]"
   ]
  },
  {
   "cell_type": "code",
   "execution_count": 24,
   "id": "9a5603fe",
   "metadata": {},
   "outputs": [],
   "source": [
    "# run model\n",
    "ret = odeint(deriv, y0, t,args=(fCI, MT, c, e, phi, alphaO, muO, AA, BB, alphaL, alphaP, muP, muM, muF, RR, RRsupp, pulseN, IIT, SIT, em, lv, ad, cv, switch),hmax=1)\n",
    "\n",
    "O, OW, rOW, OS, L, LW, rLW, LS, P, PW, rPW, PS, M, MW, MS, F, FW = ret.T"
   ]
  },
  {
   "cell_type": "code",
   "execution_count": 25,
   "id": "1969ce34",
   "metadata": {},
   "outputs": [],
   "source": [
    "# save results\n",
    "RIDL_1w_wild = M+F\n",
    "RIDL_1w_all = M+F+MW+FW+MS\n",
    "RIDL_1w_fem = F+FW\n",
    "RIDL_1w_mal = M+MW+MS"
   ]
  },
  {
   "cell_type": "code",
   "execution_count": 26,
   "id": "2ffa3f16",
   "metadata": {},
   "outputs": [],
   "source": [
    "# switch off again\n",
    "\n",
    "switch = 1 #0 for SIT; 1 for RIDL\n",
    "\n",
    "def SIT(t, releasenumber=1, frequency=7, end=start_wol):    \n",
    "    for i in range(0,releasenumber,1):\n",
    "        if round(t) == (end-frequency) - (frequency*i):\n",
    "            return 0 #M0+F0\n",
    "    else:\n",
    "        return 0"
   ]
  },
  {
   "cell_type": "markdown",
   "id": "0a67857a",
   "metadata": {},
   "source": [
    "Environmental management:"
   ]
  },
  {
   "cell_type": "code",
   "execution_count": 27,
   "id": "e256a388",
   "metadata": {},
   "outputs": [],
   "source": [
    "# switch on\n",
    "\n",
    "start_em=start_wol-7\n",
    "stop_em=start_wol\n",
    "\n",
    "EM_df = pd.read_csv(f'{filepath}/EM_df.csv')\n",
    "em_eff = list(EM_df.loc[EM_df['Target efficacy'] == 47.4, 'Efficacy parameter'])\n",
    "em_eff = em_eff[0]\n",
    "\n",
    "#em_eff=0.526\n",
    "\n",
    "def em(t):\n",
    "    if round(t) < start_em:     #start\n",
    "        return 1\n",
    "    elif round(t) > stop_em:    #stop releases\n",
    "        return 1\n",
    "    else:\n",
    "        return em_eff"
   ]
  },
  {
   "cell_type": "code",
   "execution_count": 28,
   "id": "0d8694b1",
   "metadata": {},
   "outputs": [],
   "source": [
    "# run model\n",
    "ret = odeint(deriv, y0, t,args=(fCI, MT, c, e, phi, alphaO, muO, AA, BB, alphaL, alphaP, muP, muM, muF, RR, RRsupp, pulseN, IIT, SIT, em, lv, ad, cv, switch),hmax=1)\n",
    "\n",
    "O, OW, rOW, OS, L, LW, rLW, LS, P, PW, rPW, PS, M, MW, MS, F, FW = ret.T"
   ]
  },
  {
   "cell_type": "code",
   "execution_count": 29,
   "id": "fcf5f6de",
   "metadata": {},
   "outputs": [],
   "source": [
    "# save results\n",
    "EM_1w_wild = M+F\n",
    "EM_1w_all = M+F+MW+FW+MS"
   ]
  },
  {
   "cell_type": "code",
   "execution_count": 30,
   "id": "cbf3090b",
   "metadata": {},
   "outputs": [],
   "source": [
    "# switch off again\n",
    "\n",
    "start_em=start_wol-7\n",
    "stop_em=start_wol\n",
    "em_eff=1 #0.526\n",
    "\n",
    "def em(t):\n",
    "    if round(t) < start_em:     #start\n",
    "        return 1\n",
    "    elif round(t) > stop_em:    #stop releases\n",
    "        return 1\n",
    "    else:\n",
    "        return em_eff"
   ]
  },
  {
   "cell_type": "markdown",
   "id": "3f13b1b4",
   "metadata": {},
   "source": [
    "Larvicides:"
   ]
  },
  {
   "cell_type": "code",
   "execution_count": 31,
   "id": "f9300d78",
   "metadata": {},
   "outputs": [],
   "source": [
    "# switch on\n",
    "\n",
    "start_lv=start_wol-7\n",
    "stop_lv=start_wol\n",
    "\n",
    "LV_df = pd.read_csv(f'{filepath}/LV_df.csv')\n",
    "lv_eff = list(LV_df.loc[LV_df['Target efficacy'] == 45, 'Efficacy parameter'])\n",
    "lv_eff = lv_eff[0]\n",
    "\n",
    "#lv_eff= 5.93\n",
    "\n",
    "def lv(t):\n",
    "    if round(t) < start_lv:     #start\n",
    "        return 1\n",
    "    elif round(t) > stop_lv:    #stop releases\n",
    "        return 1\n",
    "    else:\n",
    "        return lv_eff"
   ]
  },
  {
   "cell_type": "code",
   "execution_count": 32,
   "id": "72cfb6df",
   "metadata": {},
   "outputs": [],
   "source": [
    "# run model\n",
    "ret = odeint(deriv, y0, t,args=(fCI, MT, c, e, phi, alphaO, muO, AA, BB, alphaL, alphaP, muP, muM, muF, RR, RRsupp, pulseN, IIT, SIT, em, lv, ad, cv, switch),hmax=1)\n",
    "\n",
    "O, OW, rOW, OS, L, LW, rLW, LS, P, PW, rPW, PS, M, MW, MS, F, FW = ret.T"
   ]
  },
  {
   "cell_type": "code",
   "execution_count": 33,
   "id": "81c40603",
   "metadata": {},
   "outputs": [],
   "source": [
    "# save results\n",
    "LV_1w_wild = M+F\n",
    "LV_1w_all = M+F+MW+FW+MS"
   ]
  },
  {
   "cell_type": "code",
   "execution_count": 34,
   "id": "b733abdc",
   "metadata": {},
   "outputs": [],
   "source": [
    "# switch off again\n",
    "\n",
    "start_lv=start_wol-7\n",
    "stop_lv=start_wol\n",
    "lv_eff= 1 #5.95\n",
    "\n",
    "def lv(t):\n",
    "    if round(t) < start_lv:     #start\n",
    "        return 1\n",
    "    elif round(t) > stop_lv:    #stop releases\n",
    "        return 1\n",
    "    else:\n",
    "        return lv_eff"
   ]
  },
  {
   "cell_type": "markdown",
   "id": "f49cc394",
   "metadata": {},
   "source": [
    "Adulticides:"
   ]
  },
  {
   "cell_type": "code",
   "execution_count": 35,
   "id": "bc4019d2",
   "metadata": {},
   "outputs": [],
   "source": [
    "# switch on\n",
    "\n",
    "h = start_wol-7\n",
    "\n",
    "AD_df = pd.read_csv(f'{filepath}/AD_df.csv')\n",
    "\n",
    "def ad(t): \n",
    "    \n",
    "    ad_eff = list(AD_df.loc[AD_df['Target efficacy'] == 94, 'Efficacy parameter'])\n",
    "    ad_eff = ad_eff[0]\n",
    "    \n",
    "    if round(t) < h:\n",
    "        return 0\n",
    "    elif round(t) > h+0.01:\n",
    "        return 0\n",
    "    else:\n",
    "        return ad_eff\n",
    "    \n",
    "cv = list(AD_df.loc[AD_df['Target efficacy'] == 94, 'Coverage value'])\n",
    "cv = cv[0]"
   ]
  },
  {
   "cell_type": "code",
   "execution_count": 36,
   "id": "9de5d7db",
   "metadata": {},
   "outputs": [],
   "source": [
    "# run model\n",
    "ret = odeint(deriv, y0, t,args=(fCI, MT, c, e, phi, alphaO, muO, AA, BB, alphaL, alphaP, muP, muM, muF, RR, RRsupp, pulseN, IIT, SIT, em, lv, ad, cv, switch),hmax=1)\n",
    "\n",
    "O, OW, rOW, OS, L, LW, rLW, LS, P, PW, rPW, PS, M, MW, MS, F, FW = ret.T"
   ]
  },
  {
   "cell_type": "code",
   "execution_count": 37,
   "id": "1478c68e",
   "metadata": {},
   "outputs": [],
   "source": [
    "# save results\n",
    "AD_1w_wild = M+F\n",
    "AD_1w_all = M+F+MW+FW+MS"
   ]
  },
  {
   "cell_type": "code",
   "execution_count": 38,
   "id": "58c2a327",
   "metadata": {},
   "outputs": [],
   "source": [
    "# switch off\n",
    "\n",
    "h = [] #needed to set adulticide pulses\n",
    "for i in range(0, -1, -1): # needs changing according to number of releases\n",
    "    h.append((start_wol-7) - (7*i))\n",
    "#h = start_wol\n",
    "\n",
    "def ad(t):    \n",
    "    ad_eff = 0 #4.9\n",
    "    if round(t) < h[0]:\n",
    "        return 0\n",
    "    elif round(t) > h[0]+0.01: # and round(t) < h[1]: # un-comment according to number of releases\n",
    "        return 0\n",
    "#    elif round(t) > h[1]+0.01 and round(t) < h[2]:\n",
    "#        return 0\n",
    "#    elif round(t) > h[2]+0.01 and round(t) < h[3]:\n",
    "#        return 0\n",
    "#    elif round(t) > h[3]+0.01 and round(t) < h[4]:\n",
    "#        return 0\n",
    "#    elif round(t) > h[4]+0.01 and round(t) < h[5]:\n",
    "#        return 0\n",
    "#    elif round(t) > h[5]+0.01 and round(t) < h[6]:\n",
    "#        return 0\n",
    "#    elif round(t) > h[6]+0.01 and round(t) < h[7]:\n",
    "#        return 0\n",
    "#    elif round(t) > h[7]+0.01 and round(t) < h[8]:\n",
    "#        return 0\n",
    "#    elif round(t) > h[8]+0.01 and round(t) < h[9]:\n",
    "#        return 0\n",
    "#    elif round(t) > h[9]+0.01:\n",
    "#        return 0\n",
    "    else:\n",
    "        return ad_eff"
   ]
  },
  {
   "cell_type": "markdown",
   "id": "271caa8a",
   "metadata": {},
   "source": [
    "### 3. Plot results\n",
    "Total mosquito population:"
   ]
  },
  {
   "cell_type": "code",
   "execution_count": 39,
   "id": "777ceb6c",
   "metadata": {},
   "outputs": [
    {
     "data": {
      "text/plain": [
       "<matplotlib.legend.Legend at 0x7f946135edf0>"
      ]
     },
     "execution_count": 39,
     "metadata": {},
     "output_type": "execute_result"
    },
    {
     "data": {
      "image/png": "[encoded data removed]",
      "text/plain": [
       "<Figure size 720x504 with 1 Axes>"
      ]
     },
     "metadata": {
      "needs_background": "light"
     },
     "output_type": "display_data"
    }
   ],
   "source": [
    "fig, ax1 = plt.subplots(figsize=(10,7))\n",
    "\n",
    "#plt.axhline(y=457,color=\"black\",label=\"No suppression\")\n",
    "#plt.axvline(x=107,color=\"grey\",linestyle=\"solid\")\n",
    "\n",
    "ax1.plot(t, RIDL_1w_all, color='red', label=\"RIDL\")\n",
    "ax1.plot(t, SIT_1w_all, color='green', label=\"SIT\")\n",
    "ax1.plot(t, IIT_1w_all, color='purple', label=\"IIT\")\n",
    "ax1.plot(t, EM_1w_all, color='blue', label=\"Environmental\\nmanagement\")\n",
    "ax1.plot(t, LV_1w_all, color='orange', label=\"Larvicide\")\n",
    "ax1.plot(t, AD_1w_all, color='black', label=\"Adulticide\")\n",
    "\n",
    "ax1.set_xlim(60,400)\n",
    "ax1.set_ylim(0,900)\n",
    "ax1.set_xlabel(\"Time (days)\", fontsize=12, labelpad=8)\n",
    "ax1.set_ylabel(\"Total adult mosquito population\", fontsize=12, labelpad=8)\n",
    "ax1.legend(loc='lower right')\n",
    "#ax1.set_title(\"Mosquito population dynamics under 1 week of suppression\")"
   ]
  },
  {
   "cell_type": "markdown",
   "id": "7373dab8",
   "metadata": {},
   "source": [
    "Female mosquito population:"
   ]
  },
  {
   "cell_type": "code",
   "execution_count": 40,
   "id": "3ce3d48c",
   "metadata": {},
   "outputs": [
    {
     "data": {
      "image/png": "[encoded data removed]",
      "text/plain": [
       "<Figure size 720x576 with 1 Axes>"
      ]
     },
     "metadata": {
      "needs_background": "light"
     },
     "output_type": "display_data"
    }
   ],
   "source": [
    "fig, ax1 = plt.subplots(figsize=(10,8))\n",
    "\n",
    "#plt.axhline(y=457,color=\"black\",label=\"No suppression\")\n",
    "#plt.axvline(x=107,color=\"grey\",linestyle=\"solid\")\n",
    "\n",
    "ax1.plot(t, RIDL_1w_fem, color='red', label=\"1gSLT\")\n",
    "ax1.plot(t, SIT_1w_fem, color='green', label=\"SIT\")\n",
    "ax1.plot(t, IIT_1w_fem, color='purple', label=\"Male $\\it{Wolbachia}$\\nrelease\")\n",
    "ax1.plot(t, EM_1w_all/2, color='blue', label=\"Environmental\\nmanagement\")\n",
    "ax1.plot(t, LV_1w_all/2, color='orange', label=\"Larvicide\")\n",
    "ax1.plot(t, AD_1w_all/2, color='black', label=\"Adulticide\")\n",
    "\n",
    "ax1.set_xlim(185,350)\n",
    "ax1.set_ylim(0,250)\n",
    "plt.xticks([193,243,293,343],[0,50,100,150])\n",
    "ax1.set_xlabel(\"Time (days)\", fontsize=16, labelpad=8)\n",
    "ax1.set_ylabel(\"Total female adult mosquito population\", fontsize=16, labelpad=8)\n",
    "ax1.legend(loc='lower right')\n",
    "#ax1.set_title(\"Mosquito population dynamics under 1 week of suppression\")\n",
    "\n",
    "#plt.savefig('Figure4_01-02-24.jpeg', dpi=600, bbox_inches='tight',)"
   ]
  },
  {
   "cell_type": "markdown",
   "id": "d122594b",
   "metadata": {},
   "source": [
    "Male mosquito population:"
   ]
  },
  {
   "cell_type": "code",
   "execution_count": 41,
   "id": "7ecdbce5",
   "metadata": {},
   "outputs": [
    {
     "data": {
      "text/plain": [
       "<matplotlib.legend.Legend at 0x7f9451901760>"
      ]
     },
     "execution_count": 41,
     "metadata": {},
     "output_type": "execute_result"
    },
    {
     "data": {
      "image/png": "[encoded data removed]",
      "text/plain": [
       "<Figure size 720x504 with 1 Axes>"
      ]
     },
     "metadata": {
      "needs_background": "light"
     },
     "output_type": "display_data"
    }
   ],
   "source": [
    "fig, ax1 = plt.subplots(figsize=(10,7))\n",
    "\n",
    "#plt.axhline(y=457,color=\"black\",label=\"No suppression\")\n",
    "#plt.axvline(x=107,color=\"grey\",linestyle=\"solid\")\n",
    "\n",
    "ax1.plot(t, RIDL_1w_mal, color='red', label=\"RIDL\")\n",
    "ax1.plot(t, SIT_1w_mal, color='green', label=\"SIT\")\n",
    "ax1.plot(t, IIT_1w_mal, color='purple', label=\"IIT\")\n",
    "ax1.plot(t, EM_1w_all/2, color='blue', label=\"Environmental\\nmanagement\")\n",
    "ax1.plot(t, LV_1w_all/2, color='orange', label=\"Larvicide\")\n",
    "ax1.plot(t, AD_1w_all/2, color='black', label=\"Adulticide\")\n",
    "\n",
    "ax1.set_xlim(60,400)\n",
    "ax1.set_ylim(0,700)\n",
    "ax1.set_xlabel(\"Time (days)\", fontsize=12, labelpad=8)\n",
    "ax1.set_ylabel(\"Total male adult  mosquito population\", fontsize=12, labelpad=8)\n",
    "ax1.legend(loc='lower right')\n",
    "#ax1.set_title(\"Mosquito population dynamics under 1 week of suppression\")"
   ]
  },
  {
   "cell_type": "markdown",
   "id": "aa7cd488",
   "metadata": {},
   "source": [
    "### 4. Calculate result values"
   ]
  },
  {
   "cell_type": "markdown",
   "id": "fd468fc4",
   "metadata": {},
   "source": [
    "Percentage reduction in population for environmental management:"
   ]
  },
  {
   "cell_type": "code",
   "execution_count": 42,
   "id": "08cc26e0",
   "metadata": {},
   "outputs": [
    {
     "data": {
      "text/plain": [
       "8.176264111020693"
      ]
     },
     "execution_count": 42,
     "metadata": {},
     "output_type": "execute_result"
    }
   ],
   "source": [
    "(1-(min(EM_1w_all)/max(EM_1w_all)))*100"
   ]
  },
  {
   "cell_type": "markdown",
   "id": "968c9bcb",
   "metadata": {},
   "source": [
    "Percentage reduction in population for adulticide:"
   ]
  },
  {
   "cell_type": "code",
   "execution_count": 43,
   "id": "f753b206",
   "metadata": {},
   "outputs": [
    {
     "data": {
      "text/plain": [
       "43.507089708026534"
      ]
     },
     "execution_count": 43,
     "metadata": {},
     "output_type": "execute_result"
    }
   ],
   "source": [
    "(1-(min(AD_1w_all)/max(AD_1w_all)))*100"
   ]
  },
  {
   "cell_type": "code",
   "execution_count": null,
   "id": "a453d291",
   "metadata": {},
   "outputs": [],
   "source": []
  },
  {
   "cell_type": "code",
   "execution_count": null,
   "id": "37a24ac1",
   "metadata": {},
   "outputs": [],
   "source": []
  }
 ],
 "metadata": {
  "kernelspec": {
   "display_name": "Python 3 (ipykernel)",
   "language": "python",
   "name": "python3"
  },
  "language_info": {
   "codemirror_mode": {
    "name": "ipython",
    "version": 3
   },
   "file_extension": ".py",
   "mimetype": "text/x-python",
   "name": "python",
   "nbconvert_exporter": "python",
   "pygments_lexer": "ipython3",
   "version": "3.8.12"
  }
 },
 "nbformat": 4,
 "nbformat_minor": 5
}
