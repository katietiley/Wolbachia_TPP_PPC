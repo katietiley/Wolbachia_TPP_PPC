{
 "cells": [
  {
   "cell_type": "markdown",
   "id": "d00d7096",
   "metadata": {},
   "source": [
    "# Supplementary Figure 3. Adulticide sensitivity analysis\n",
    "\n",
    "Author: Katie Tiley (katherine.tiley@lshtm.ac.uk) <br>\n",
    "Date: 05 Dec 22 <br>\n",
    "<br>\n",
    "Note: in the code RIDL refers to 1gSLT, and IIT refers to Male Wolbachia release"
   ]
  },
  {
   "cell_type": "code",
   "execution_count": 1,
   "id": "a7755d38",
   "metadata": {},
   "outputs": [],
   "source": [
    "from scipy.integrate import odeint\n",
    "import numpy as np\n",
    "import matplotlib as mat\n",
    "import matplotlib.pyplot as plt\n",
    "from scipy import integrate as sp\n",
    "import seaborn as sns\n",
    "from tabulate import tabulate\n",
    "import pandas as pd\n",
    "import bisect\n",
    "import time"
   ]
  },
  {
   "cell_type": "markdown",
   "id": "c27aa226",
   "metadata": {},
   "source": [
    "### 1. Set up model\n",
    "Parameters:"
   ]
  },
  {
   "cell_type": "code",
   "execution_count": 2,
   "id": "9df26a45",
   "metadata": {},
   "outputs": [],
   "source": [
    "# MOSQUITO\n",
    "alphaO = 0.5  # rate that eggs hatch into larvae\n",
    "alphaL = 0.18  # rate that larvae pupate\n",
    "alphaP = 1  # rate that pupae eclose\n",
    "phi = 500*(1/14)    # number eggs laid per mosquito per day\n",
    "muO = 0.01    # daily death rate of eggs\n",
    "muL = 0.1*alphaL    # daily death rate of larvae\n",
    "muP = 0.1*alphaP     # pupae death rate\n",
    "muM = 1/14     # adult mosquito death rate\n",
    "muF = 1/14     # adult female mosquito death rate\n",
    "\n",
    "# density-dependence via Bellows 1981:\n",
    "AA = 1   # determines the density at which mortality remains proportionate\n",
    "BB = 0.5   # determines the 'abruptness' of density-dependence\n",
    "\n",
    "# WOLBACHIA\n",
    "fCI = 0.012   # prop of cytoplasmic incompatibility that fails 'sigma'\n",
    "MT = 0    # prop of wolbachia females that don't successfully maternally transfer 'omega'\n",
    "c = 0.5      # mating competitiveness of released wolbachia males\n",
    "cv = 1   # coverage of adulticide\n",
    "e = 1.2      # relative mortality of wolbachia adults compared to wild adults\n",
    "RR = 0.02915       # release ratio of wolbachia eggs to wild type eggs\n",
    "RRsupp = 1      # release ratio of wolbachia eggs to wild type eggs for suppression techniques"
   ]
  },
  {
   "cell_type": "markdown",
   "id": "dd0acebe",
   "metadata": {},
   "source": [
    "Initial conditions:\n",
    "(equilibrium values previously defined in Supp)"
   ]
  },
  {
   "cell_type": "code",
   "execution_count": 3,
   "id": "04463e5c",
   "metadata": {},
   "outputs": [],
   "source": [
    "O0 = 15947.608023052446\n",
    "OW0 = 0\n",
    "rOW0 = 0\n",
    "OS0 = 0\n",
    "L0 = 40271.71074193975\n",
    "LW0 = 0\n",
    "rLW0 = 0\n",
    "LS0 = 0\n",
    "P0 = 32.67541200187585\n",
    "PW0 = 0\n",
    "rPW0 = 0\n",
    "PS0 = 0\n",
    "M0 = 228.72754035145144\n",
    "MW0 = 0\n",
    "MS0 = 0\n",
    "F0 = 228.72754035145144\n",
    "FW0 = 0"
   ]
  },
  {
   "cell_type": "markdown",
   "id": "d168648c",
   "metadata": {},
   "source": [
    "Wolbachia release function:"
   ]
  },
  {
   "cell_type": "code",
   "execution_count": 4,
   "id": "3504390d",
   "metadata": {},
   "outputs": [],
   "source": [
    "start_wol = 200\n",
    "\n",
    "def pulseN(t, start_wol=start_wol, releasenumber=5, frequency=14):    \n",
    "    for i in range(0,releasenumber,1):\n",
    "        if round(t) == start_wol + (frequency*i):\n",
    "            return 0 #O0\n",
    "    else:\n",
    "        return 0"
   ]
  },
  {
   "cell_type": "markdown",
   "id": "c92227d7",
   "metadata": {},
   "source": [
    "Suppression functions:"
   ]
  },
  {
   "cell_type": "code",
   "execution_count": 5,
   "id": "e9717f23",
   "metadata": {},
   "outputs": [],
   "source": [
    "# IIT\n",
    "\n",
    "def IIT(t, releasenumber=1, frequency=7, end=start_wol):\n",
    "    for i in range(0,releasenumber,1):\n",
    "        if round(t) == (end-frequency) - (frequency*i):\n",
    "            return 0 #M0+F0\n",
    "    else:\n",
    "        return 0"
   ]
  },
  {
   "cell_type": "code",
   "execution_count": 6,
   "id": "77c90ffe",
   "metadata": {},
   "outputs": [],
   "source": [
    "# SIT / RIDL\n",
    "\n",
    "switch = 0 #0 for SIT; 1 for RIDL\n",
    "\n",
    "def SIT(t, releasenumber=1, frequency=7, end=start_wol):    \n",
    "    for i in range(0,releasenumber,1):\n",
    "        if round(t) == (end-frequency) - (frequency*i):\n",
    "            return 0 #M0+F0\n",
    "    else:\n",
    "        return 0"
   ]
  },
  {
   "cell_type": "code",
   "execution_count": 7,
   "id": "8fd67841",
   "metadata": {},
   "outputs": [],
   "source": [
    "# Environmental management\n",
    "\n",
    "start_em = 193\n",
    "stop_em = 200\n",
    "em_eff = 1 #0.526\n",
    "\n",
    "def em(t):\n",
    "    if round(t) < start_em:     #start\n",
    "        return 1\n",
    "    elif round(t) > stop_em:    #stop releases\n",
    "        return 1\n",
    "    else:\n",
    "        return em_eff"
   ]
  },
  {
   "cell_type": "code",
   "execution_count": 8,
   "id": "710f365c",
   "metadata": {},
   "outputs": [],
   "source": [
    "# Larvicides (e.g. guppies)\n",
    "\n",
    "start_lv = 193\n",
    "stop_lv = 200\n",
    "lv_eff = 1 #5.95\n",
    "\n",
    "def lv(t):\n",
    "    if round(t) < start_lv:     #start\n",
    "        return 1\n",
    "    elif round(t) > stop_lv:    #stop releases\n",
    "        return 1\n",
    "    else:\n",
    "        return lv_eff"
   ]
  },
  {
   "cell_type": "code",
   "execution_count": 9,
   "id": "b3a66571",
   "metadata": {},
   "outputs": [],
   "source": [
    "# Adulticide\n",
    "\n",
    "h = [] #needed to set adulticide pulses\n",
    "for i in range(0, -1, -1):\n",
    "    h.append((start_wol-7) - (7*i))\n",
    "#h = start_wol\n",
    "\n",
    "def ad(t):    \n",
    "    ad_eff = 0 #4.9\n",
    "    if round(t) < h[0]:\n",
    "        return 0\n",
    "    elif round(t) > h[0]+0.01: # and round(t) < h[1]: # un-comment according to number of releases\n",
    "        return 0\n",
    "#    elif round(t) > h[1]+0.01 and round(t) < h[2]:\n",
    "#        return 0\n",
    "#    elif round(t) > h[2]+0.01 and round(t) < h[3]:\n",
    "#        return 0\n",
    "#    elif round(t) > h[3]+0.01 and round(t) < h[4]:\n",
    "#        return 0\n",
    "#    elif round(t) > h[4]+0.01 and round(t) < h[5]:\n",
    "#        return 0\n",
    "#    elif round(t) > h[5]+0.01 and round(t) < h[6]:\n",
    "#        return 0\n",
    "#    elif round(t) > h[6]+0.01 and round(t) < h[7]:\n",
    "#        return 0\n",
    "#    elif round(t) > h[7]+0.01 and round(t) < h[8]:\n",
    "#        return 0\n",
    "#    elif round(t) > h[8]+0.01 and round(t) < h[9]:\n",
    "#        return 0\n",
    "#    elif round(t) > h[9]+0.01:\n",
    "#        return 0\n",
    "    else:\n",
    "        return ad_eff"
   ]
  },
  {
   "cell_type": "markdown",
   "id": "52ab365c",
   "metadata": {},
   "source": [
    "Model:"
   ]
  },
  {
   "cell_type": "code",
   "execution_count": 28,
   "id": "368cde05",
   "metadata": {},
   "outputs": [],
   "source": [
    "def deriv(y, t, fCI, MT, c, e, phi, alphaO, muO, AA, BB, alphaL, alphaP, muP, muM, muF, RR, RRsupp, pulseN, IIT, SIT, em, lv, ad, cv, switch):\n",
    "    \n",
    "    O, OW, rOW, OS, L, LW, rLW, LS, P, PW, rPW, PS, M, MW, MS, F, FW = y\n",
    "    \n",
    "    #MOSQUITOES\n",
    "    \n",
    "    allfemales = 1+F+FW\n",
    "    allmales = 1+M+MW+(MS*c)\n",
    "    \n",
    "    F_nothing = F + FW*MT \n",
    "    M_nothing = M + MW*fCI \n",
    "    \n",
    "    F_wol = FW*(1-MT)\n",
    "    \n",
    "    #Eggs\n",
    "    dOdt = em(t) * phi * F_nothing * M_nothing/allmales - alphaO*O - lv(t)*muO*O # eggs laid * females no-wol * (males no_wol / all males) (aka prop no-wol males)\n",
    "    dOWdt = em(t) * phi * F_wol * (M+MW)/allmales - alphaO*OW - lv(t)*muO*OW \n",
    "    drOWdt = pulseN(t)*RR - alphaO*rOW - muO*rOW\n",
    "    dOSdt = phi * allfemales * (MS*c)/allmales - alphaO*OS - muO*OS\n",
    "    \n",
    "    #Larvae\n",
    "    dLdt =  alphaO*O - alphaL*L - lv(t)*muL*L\n",
    "    dLWdt = alphaO*OW - alphaL*LW - lv(t)*muL*LW\n",
    "    drLWdt = alphaO*rOW - alphaL*rLW - muL*rLW\n",
    "    dLSdt = switch*alphaO*OS - alphaL*LS - muL*LS\n",
    "    \n",
    "    #Pupae \n",
    "    dPdt =  alphaL*(L/(1+((AA*(L+LW+LS))**BB))) - alphaP*P - lv(t)*muP*P \n",
    "    dPWdt = alphaL*(LW/(1+((AA*(L+LW+LS))**BB))) - alphaP*PW - lv(t)*muP*PW\n",
    "    drPWdt = alphaL*(rLW/(1+((AA*(rLW))**BB))) - alphaP*rPW - muP*rPW \n",
    "    dPSdt = alphaL*(LS/(1+((AA*(L+LW+LS))**BB))) - alphaP*PS - muP*PS\n",
    "        \n",
    "    #Adult\n",
    "    dMdt =  .5*alphaP*P - muM*M - ad(t)*M*cv\n",
    "    dMWdt = IIT(t)*RRsupp + .5*alphaP*(PW+rPW) - muM*1.2*MW - ad(t)*MW*cv\n",
    "    dMSdt = SIT(t)*RRsupp - muM*1.2*MS # + .5*alphaP*PS remove for 1gSLT\n",
    "    \n",
    "    dFdt =  .5*alphaP*P - muF*F - ad(t)*F*cv\n",
    "    dFWdt = .5*alphaP*(PW+rPW) - muF*1.2*FW - ad(t)*FW*cv\n",
    "\n",
    "    return dOdt, dOWdt, drOWdt, dOSdt, dLdt, dLWdt, drLWdt, dLSdt, dPdt, dPWdt, drPWdt, dPSdt, dMdt, dMWdt, dMSdt, dFdt, dFWdt"
   ]
  },
  {
   "cell_type": "markdown",
   "id": "87b1b26a",
   "metadata": {},
   "source": [
    "Model prerequisites:"
   ]
  },
  {
   "cell_type": "code",
   "execution_count": 29,
   "id": "1026ecf4",
   "metadata": {},
   "outputs": [],
   "source": [
    "t = np.linspace(0, 1500, 1501) # grid of time points (in days)\n",
    "y0 = O0, OW0, rOW0, OS0, L0, LW0, rLW0, LS0, P0, PW0, rPW0, PS0, M0, MW0, MS0, F0, FW0 # initial condition vector"
   ]
  },
  {
   "cell_type": "markdown",
   "id": "7f5ebc3f",
   "metadata": {},
   "source": [
    "Run model:"
   ]
  },
  {
   "cell_type": "code",
   "execution_count": 30,
   "id": "96d4eca9",
   "metadata": {},
   "outputs": [],
   "source": [
    "ret = odeint(deriv, y0, t,args=(fCI, MT, c, e, phi, alphaO, muO, AA, BB, alphaL, alphaP, muP, muM, muF, RR, RRsupp, pulseN, IIT, SIT, em, lv, ad, cv, switch),hmax=1)\n",
    "\n",
    "O, OW, rOW, OS, L, LW, rLW, LS, P, PW, rPW, PS, M, MW, MS, F, FW = ret.T"
   ]
  },
  {
   "cell_type": "markdown",
   "id": "6b87b939",
   "metadata": {},
   "source": [
    "Visual check all suppression and Wolbachia functions are switched off:\n",
    "(should see horizontal lines)"
   ]
  },
  {
   "cell_type": "code",
   "execution_count": 31,
   "id": "a402d448",
   "metadata": {},
   "outputs": [
    {
     "data": {
      "image/png": "[encoded data removed]",
      "text/plain": [
       "<Figure size 720x720 with 4 Axes>"
      ]
     },
     "metadata": {
      "needs_background": "light"
     },
     "output_type": "display_data"
    }
   ],
   "source": [
    "fig, ((ax1, ax2), (ax3, ax4)) = plt.subplots(2, 2, figsize=[10,10])\n",
    "\n",
    "ax1.plot(t, F+FW+M+MW, 'blue', label='all adults')\n",
    "ax1.plot(t, F+FW, 'pink', label='all females')\n",
    "ax1.set_xlabel(\"Time (days)\",fontsize=12, labelpad=8)\n",
    "ax1.set_ylabel(\"Number of Adult Mosquitoes\",fontsize=12, labelpad=8)\n",
    "ax1.legend()\n",
    "\n",
    "ax2.plot(t, M+F, 'black', label='all wildtypes')\n",
    "ax2.plot(t, MW+FW, 'red', label='all wol')\n",
    "ax2.set_xlabel(\"Time (days)\",fontsize=12, labelpad=8)\n",
    "ax2.set_ylabel(\"Number of wildtype and wol mosquitoes\",fontsize=12, labelpad=8)\n",
    "ax2.legend()\n",
    "\n",
    "ax3.plot(t, L, 'black', linestyle='dashed', label='wildtype larvae')\n",
    "ax3.plot(t, P, 'black', label='wildtype pupae')\n",
    "ax3.plot(t, LW, 'grey', linestyle='dashed', label='wol larvae')\n",
    "ax3.plot(t, PW, 'grey', label='wol pupae')\n",
    "ax3.set_xlabel(\"Time (days)\",fontsize=12, labelpad=8)\n",
    "ax3.set_ylabel(\"Number of wildtype and wol \\naquatic stage mosquitoes\",fontsize=12, labelpad=8)\n",
    "ax3.legend()\n",
    "\n",
    "ax4.plot(t[140:400], (MW[140:400]+FW[140:400])/(MW[140:400]+FW[140:400]+M[140:400]+F[140:400]), 'black')\n",
    "plt.xticks([150,200,250,300,350,400])\n",
    "ax4.set_xlabel(\"Time (days)\",fontsize=12, labelpad=8)\n",
    "ax4.set_ylabel(\"Proportion of Mosquitoes with Wolbachia\",fontsize=12, labelpad=8)\n",
    "\n",
    "\n",
    "plt.subplots_adjust(wspace=.35)"
   ]
  },
  {
   "cell_type": "markdown",
   "id": "98bf2e6e",
   "metadata": {},
   "source": [
    "### 2. Calculating efficacy parameters"
   ]
  },
  {
   "cell_type": "markdown",
   "id": "88e446bb",
   "metadata": {},
   "source": [
    "#### Adulticide:\n",
    "(run for 1 week)"
   ]
  },
  {
   "cell_type": "code",
   "execution_count": 14,
   "id": "799358f8",
   "metadata": {},
   "outputs": [
    {
     "name": "stdout",
     "output_type": "stream",
     "text": [
      "processing time: 4.4 minutes\n"
     ]
    }
   ],
   "source": [
    "# efficacy calculated as adult minimum population reached\n",
    "\n",
    "start_time = time.time()\n",
    "\n",
    "lower_bound = 93.950\n",
    "upper_bound = 94.049\n",
    "\n",
    "AD_decrease = []\n",
    "AD_eff = []\n",
    "eq = 457.4550807029029\n",
    "start = 0\n",
    "end = 50 #defines range of values to explore\n",
    "nums = int(((end-start)*1000)+1)\n",
    "\n",
    "for j in list(np.linspace(start,end,nums)):\n",
    "        \n",
    "    ad_eff = j\n",
    "    h = start_wol\n",
    "        \n",
    "    def ad(t):\n",
    "        if round(t) < h:\n",
    "            return 0\n",
    "        elif round(t) > h+0.01:\n",
    "            return 0\n",
    "        else:\n",
    "            return ad_eff\n",
    "    \n",
    "    # run model\n",
    "    ret = odeint(deriv, y0, t,args=(fCI, MT, c, e, phi, alphaO, muO, AA, BB, alphaL, alphaP, muP, muM, muF, RR, RRsupp, pulseN, IIT, SIT, em, lv, ad, cv, switch),hmax=1)\n",
    "    O, OW, rOW, OS, L, LW, rLW, LS, P, PW, rPW, PS, M, MW, MS, F, FW = ret.T\n",
    "    \n",
    "    # calculate efficacy\n",
    "    pop_min = min(M)+min(F)\n",
    "    prop_decrease = (1-(pop_min/eq))*100\n",
    "        \n",
    "    # store results\n",
    "    if lower_bound < prop_decrease < upper_bound:\n",
    "        AD_decrease.append(prop_decrease)\n",
    "        AD_eff.append(round(j,3))\n",
    "        break\n",
    "\n",
    "\n",
    "current_time = time.time()\n",
    "elapsed_time = current_time - start_time\n",
    "print('processing time:',round(elapsed_time/60,2),'minutes')"
   ]
  },
  {
   "cell_type": "code",
   "execution_count": 15,
   "id": "4e284486",
   "metadata": {},
   "outputs": [
    {
     "data": {
      "text/html": [
       "<div>\n",
       "<style scoped>\n",
       "    .dataframe tbody tr th:only-of-type {\n",
       "        vertical-align: middle;\n",
       "    }\n",
       "\n",
       "    .dataframe tbody tr th {\n",
       "        vertical-align: top;\n",
       "    }\n",
       "\n",
       "    .dataframe thead th {\n",
       "        text-align: right;\n",
       "    }\n",
       "</style>\n",
       "<table border=\"1\" class=\"dataframe\">\n",
       "  <thead>\n",
       "    <tr style=\"text-align: right;\">\n",
       "      <th></th>\n",
       "      <th>Weeks recovery</th>\n",
       "      <th>Target efficacy</th>\n",
       "      <th>Achieved efficacy</th>\n",
       "      <th>Efficacy parameter</th>\n",
       "      <th>Coverage value</th>\n",
       "    </tr>\n",
       "  </thead>\n",
       "  <tbody>\n",
       "    <tr>\n",
       "      <th>0</th>\n",
       "      <td>1</td>\n",
       "      <td>94</td>\n",
       "      <td>93.950529</td>\n",
       "      <td>4.441</td>\n",
       "      <td>NaN</td>\n",
       "    </tr>\n",
       "    <tr>\n",
       "      <th>1</th>\n",
       "      <td>2</td>\n",
       "      <td>94</td>\n",
       "      <td>93.950529</td>\n",
       "      <td>4.441</td>\n",
       "      <td>NaN</td>\n",
       "    </tr>\n",
       "    <tr>\n",
       "      <th>2</th>\n",
       "      <td>3</td>\n",
       "      <td>94</td>\n",
       "      <td>93.950529</td>\n",
       "      <td>4.441</td>\n",
       "      <td>NaN</td>\n",
       "    </tr>\n",
       "    <tr>\n",
       "      <th>3</th>\n",
       "      <td>4</td>\n",
       "      <td>94</td>\n",
       "      <td>93.950529</td>\n",
       "      <td>4.441</td>\n",
       "      <td>NaN</td>\n",
       "    </tr>\n",
       "    <tr>\n",
       "      <th>4</th>\n",
       "      <td>5</td>\n",
       "      <td>94</td>\n",
       "      <td>93.950529</td>\n",
       "      <td>4.441</td>\n",
       "      <td>NaN</td>\n",
       "    </tr>\n",
       "  </tbody>\n",
       "</table>\n",
       "</div>"
      ],
      "text/plain": [
       "   Weeks recovery  Target efficacy  Achieved efficacy  Efficacy parameter  \\\n",
       "0               1               94          93.950529               4.441   \n",
       "1               2               94          93.950529               4.441   \n",
       "2               3               94          93.950529               4.441   \n",
       "3               4               94          93.950529               4.441   \n",
       "4               5               94          93.950529               4.441   \n",
       "\n",
       "  Coverage value  \n",
       "0            NaN  \n",
       "1            NaN  \n",
       "2            NaN  \n",
       "3            NaN  \n",
       "4            NaN  "
      ]
     },
     "execution_count": 15,
     "metadata": {},
     "output_type": "execute_result"
    }
   ],
   "source": [
    "AD_df = pd.DataFrame({'Weeks recovery': range(1,6)})\n",
    "AD_df['Target efficacy'] = [94]\n",
    "AD_df['Achieved efficacy'] = AD_decrease\n",
    "AD_df['Efficacy parameter'] = AD_eff\n",
    "AD_df['Coverage value'] = 'NaN'\n",
    "\n",
    "AD_df"
   ]
  },
  {
   "cell_type": "code",
   "execution_count": 27,
   "id": "9c822712",
   "metadata": {},
   "outputs": [
    {
     "name": "stdout",
     "output_type": "stream",
     "text": [
      "found recovery in 1 weeks\n",
      "found recovery in 2 weeks\n",
      "found recovery in 3 weeks\n",
      "found recovery in 4 weeks\n",
      "found recovery in 5 weeks\n"
     ]
    }
   ],
   "source": [
    "lower_bound = [79.9]\n",
    "upper_bound = [80.1]\n",
    "weeks = [start_wol+7, start_wol+14, start_wol+21, start_wol+28, start_wol+35]\n",
    "wk1 = []\n",
    "wk2 = []\n",
    "wk3 = []\n",
    "wk4 = []\n",
    "wk5 = []\n",
    "\n",
    "h = start_wol  \n",
    "def ad(t):\n",
    "    if round(t) < h:\n",
    "        return 0\n",
    "    elif round(t) > h+0.01:\n",
    "        return 0\n",
    "    else:\n",
    "        return AD_eff[0]\n",
    "\n",
    "\n",
    "for i in range(0,5):\n",
    "    \n",
    "    for j in list(np.linspace(0, 30, 30001)):\n",
    "    \n",
    "        cv = j\n",
    "    \n",
    "        # run model\n",
    "        ret = odeint(deriv, y0, t,args=(fCI, MT, c, e, phi, alphaO, muO, AA, BB, alphaL, alphaP, muP, muM, muF, RR, RRsupp, pulseN, IIT, SIT, em, lv, ad, cv, switch),hmax=1)\n",
    "        O, OW, rOW, OS, L, LW, rLW, LS, P, PW, rPW, PS, M, MW, MS, F, FW = ret.T\n",
    "    \n",
    "        # calculate recovery\n",
    "        pop_effect = M[weeks[i]] + F[weeks[i]]\n",
    "        prop_recovery = (pop_effect/(M0+F0))*100\n",
    "        \n",
    "#        print(lower_bound, \"<\", prop_recovery, \"<\", upper_bound)\n",
    "        \n",
    "        # store results\n",
    "        if lower_bound < prop_recovery < upper_bound:\n",
    "            AD_df.loc[(AD_df['Weeks recovery'] == i+1), ['Coverage value']] = j\n",
    "            print(\"found recovery in\",i+1,\"weeks\")\n",
    "            \n",
    "            if i == 0:\n",
    "                wk1 = M+F\n",
    "            elif i == 1:\n",
    "                wk2 = M+F\n",
    "            elif i == 2:\n",
    "                wk3 = M+F\n",
    "            elif i == 3:\n",
    "                wk4 = M+F\n",
    "            elif i == 4:\n",
    "                wk5 = M+F\n",
    "            \n",
    "            break\n",
    "        elif prop_recovery < lower_bound:\n",
    "            print(\"can't find recovery\")\n",
    "            break"
   ]
  },
  {
   "cell_type": "code",
   "execution_count": 32,
   "id": "38f7dfd4",
   "metadata": {},
   "outputs": [
    {
     "data": {
      "text/html": [
       "<div>\n",
       "<style scoped>\n",
       "    .dataframe tbody tr th:only-of-type {\n",
       "        vertical-align: middle;\n",
       "    }\n",
       "\n",
       "    .dataframe tbody tr th {\n",
       "        vertical-align: top;\n",
       "    }\n",
       "\n",
       "    .dataframe thead th {\n",
       "        text-align: right;\n",
       "    }\n",
       "</style>\n",
       "<table border=\"1\" class=\"dataframe\">\n",
       "  <thead>\n",
       "    <tr style=\"text-align: right;\">\n",
       "      <th></th>\n",
       "      <th>Weeks recovery</th>\n",
       "      <th>Target efficacy</th>\n",
       "      <th>Achieved efficacy</th>\n",
       "      <th>Efficacy parameter</th>\n",
       "      <th>Coverage value</th>\n",
       "    </tr>\n",
       "  </thead>\n",
       "  <tbody>\n",
       "    <tr>\n",
       "      <th>0</th>\n",
       "      <td>1</td>\n",
       "      <td>94</td>\n",
       "      <td>93.950529</td>\n",
       "      <td>4.441</td>\n",
       "      <td>0.082</td>\n",
       "    </tr>\n",
       "    <tr>\n",
       "      <th>1</th>\n",
       "      <td>2</td>\n",
       "      <td>94</td>\n",
       "      <td>93.950529</td>\n",
       "      <td>4.441</td>\n",
       "      <td>0.111</td>\n",
       "    </tr>\n",
       "    <tr>\n",
       "      <th>2</th>\n",
       "      <td>3</td>\n",
       "      <td>94</td>\n",
       "      <td>93.950529</td>\n",
       "      <td>4.441</td>\n",
       "      <td>0.141</td>\n",
       "    </tr>\n",
       "    <tr>\n",
       "      <th>3</th>\n",
       "      <td>4</td>\n",
       "      <td>94</td>\n",
       "      <td>93.950529</td>\n",
       "      <td>4.441</td>\n",
       "      <td>0.178</td>\n",
       "    </tr>\n",
       "    <tr>\n",
       "      <th>4</th>\n",
       "      <td>5</td>\n",
       "      <td>94</td>\n",
       "      <td>93.950529</td>\n",
       "      <td>4.441</td>\n",
       "      <td>0.228</td>\n",
       "    </tr>\n",
       "  </tbody>\n",
       "</table>\n",
       "</div>"
      ],
      "text/plain": [
       "   Weeks recovery  Target efficacy  Achieved efficacy  Efficacy parameter  \\\n",
       "0               1               94          93.950529               4.441   \n",
       "1               2               94          93.950529               4.441   \n",
       "2               3               94          93.950529               4.441   \n",
       "3               4               94          93.950529               4.441   \n",
       "4               5               94          93.950529               4.441   \n",
       "\n",
       "  Coverage value  \n",
       "0          0.082  \n",
       "1          0.111  \n",
       "2          0.141  \n",
       "3          0.178  \n",
       "4          0.228  "
      ]
     },
     "execution_count": 32,
     "metadata": {},
     "output_type": "execute_result"
    }
   ],
   "source": [
    "cv1 = round(((AD_df.loc[(AD_df['Weeks recovery'] == 1), ['Coverage value']].values)*100)[0][0],3)\n",
    "cv2 = round(((AD_df.loc[(AD_df['Weeks recovery'] == 2), ['Coverage value']].values)*100)[0][0],3)\n",
    "cv3 = round(((AD_df.loc[(AD_df['Weeks recovery'] == 3), ['Coverage value']].values)*100)[0][0],3)\n",
    "cv4 = round(((AD_df.loc[(AD_df['Weeks recovery'] == 4), ['Coverage value']].values)*100)[0][0],3)\n",
    "cv5 = round(((AD_df.loc[(AD_df['Weeks recovery'] == 5), ['Coverage value']].values)*100)[0][0],3)\n",
    "\n",
    "AD_df"
   ]
  },
  {
   "cell_type": "markdown",
   "id": "1b044c9f",
   "metadata": {},
   "source": [
    "### 3. Plot"
   ]
  },
  {
   "cell_type": "code",
   "execution_count": 34,
   "id": "7204d9f4",
   "metadata": {},
   "outputs": [
    {
     "data": {
      "image/png": "[encoded data removed]",
      "text/plain": [
       "<Figure size 720x576 with 1 Axes>"
      ]
     },
     "metadata": {
      "needs_background": "light"
     },
     "output_type": "display_data"
    }
   ],
   "source": [
    "fig, ax2 = plt.subplots(1, 1, figsize=[10,8])\n",
    "\n",
    "ax2.plot(t, wk1, 'black', label='1 week, {}% coverage'.format(cv1), linestyle = (0,(1, 8)))\n",
    "ax2.plot(t, wk2, 'black', label='2 weeks, {}% coverage'.format(cv2), linestyle = \"dashed\")\n",
    "ax2.plot(t, wk3, 'black', label='3 weeks, {}% coverage'.format(cv3))\n",
    "ax2.plot(t, wk4, 'black', label='4 weeks, {}% coverage'.format(cv4), linestyle = \"dashdot\")\n",
    "ax2.plot(t, wk5, 'black', label='5 weeks, {}% coverage'.format(cv5), linestyle = \"dotted\")\n",
    "ax2.set_xlim(0,600)\n",
    "ax2.set_ylim(0,500)\n",
    "ax2.set_xlabel(\"Time (days)\",fontsize=16, labelpad=8)\n",
    "ax2.set_ylabel(\"Total adult mosquitoes\",fontsize=16, labelpad=8)\n",
    "ax2.legend(title = \"80% population recovery in:\", loc = 'lower right')\n",
    "\n",
    "#plt.savefig('SFigure3.jpeg', dpi=300, orientation='portrait', bbox_inches=None)"
   ]
  },
  {
   "cell_type": "code",
   "execution_count": null,
   "id": "b22b61af",
   "metadata": {},
   "outputs": [],
   "source": []
  },
  {
   "cell_type": "code",
   "execution_count": null,
   "id": "eec46c65",
   "metadata": {},
   "outputs": [],
   "source": []
  }
 ],
 "metadata": {
  "kernelspec": {
   "display_name": "Python 3 (ipykernel)",
   "language": "python",
   "name": "python3"
  },
  "language_info": {
   "codemirror_mode": {
    "name": "ipython",
    "version": 3
   },
   "file_extension": ".py",
   "mimetype": "text/x-python",
   "name": "python",
   "nbconvert_exporter": "python",
   "pygments_lexer": "ipython3",
   "version": "3.8.12"
  }
 },
 "nbformat": 4,
 "nbformat_minor": 5
}
