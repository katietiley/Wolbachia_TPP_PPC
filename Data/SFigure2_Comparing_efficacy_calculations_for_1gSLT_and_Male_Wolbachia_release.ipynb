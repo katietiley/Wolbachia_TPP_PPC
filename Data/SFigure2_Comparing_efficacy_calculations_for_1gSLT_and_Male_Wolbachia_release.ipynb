{
 "cells": [
  {
   "cell_type": "markdown",
   "id": "8e72e13f",
   "metadata": {},
   "source": [
    "# Supplementary Figure 2. Comparing efficacy calculations for 1gSLT and Male Wolbachia release\n",
    "\n",
    "Author: Katie Tiley (katherine.tiley@lshtm.ac.uk) <br>\n",
    "Date: 08 Nov 22 <br>\n",
    "<br>\n",
    "Note: in the code RIDL refers to 1gSLT, and IIT refers to Male Wolbachia release"
   ]
  },
  {
   "cell_type": "code",
   "execution_count": 1,
   "id": "46a859f9",
   "metadata": {},
   "outputs": [],
   "source": [
    "from scipy.integrate import odeint\n",
    "import numpy as np\n",
    "import matplotlib as mat\n",
    "import matplotlib.pyplot as plt\n",
    "from scipy import integrate as sp\n",
    "import seaborn as sns\n",
    "from tabulate import tabulate\n",
    "import pandas as pd\n",
    "import os"
   ]
  },
  {
   "cell_type": "markdown",
   "id": "bb63d526",
   "metadata": {},
   "source": [
    "### 1. Set up model\n",
    "Parameters:"
   ]
  },
  {
   "cell_type": "code",
   "execution_count": 2,
   "id": "9827d82c",
   "metadata": {},
   "outputs": [],
   "source": [
    "# MOSQUITO\n",
    "alphaO = 0.5  # rate that eggs hatch into larvae\n",
    "alphaL = 0.18  # rate that larvae pupate\n",
    "alphaP = 1  # rate that pupae eclose\n",
    "phi = 500*(1/14)    # number eggs laid per mosquito per day\n",
    "muO = 0.01    # daily death rate of eggs\n",
    "muL = 0.1*alphaL    # daily death rate of larvae\n",
    "muP = 0.1*alphaP     # pupae death rate\n",
    "muM = 1/14     # adult mosquito death rate\n",
    "muF = 1/14     # adult female mosquito death rate\n",
    "\n",
    "# density-dependence via Bellows 1981:\n",
    "AA = 1   # determines the density at which mortality remains proportionate\n",
    "BB = 0.5   # determines the 'abruptness' of density-dependence\n",
    "\n",
    "# WOLBACHIA\n",
    "fCI = 0.012   # prop of cytoplasmic incompatibility that fails 'sigma'\n",
    "MT = 0 #0.11    # prop of wolbachia females that don't successfully maternally transfer 'omega'\n",
    "c = 0.5      # mating competitiveness of released wolbachia males\n",
    "cv = 0.128   #coverage of adulticide\n",
    "e = 1.2      # relative mortality of wolbachia adults compared to wild adults\n",
    "RR = 0.02915       # release ratio of wolbachia eggs to wild type eggs\n",
    "RRsupp = 1      # release ratio of wolbachia eggs to wild type eggs for suppression techniques\n",
    "\n",
    "RRsupp = 10 # variable later but essential parameter for model check"
   ]
  },
  {
   "cell_type": "markdown",
   "id": "c43e4fd7",
   "metadata": {},
   "source": [
    "Initial conditions:\n",
    "(equilibrium values previously defined in Supp)"
   ]
  },
  {
   "cell_type": "code",
   "execution_count": 3,
   "id": "100c23e6",
   "metadata": {},
   "outputs": [],
   "source": [
    "O0 = 15947.608023052446\n",
    "OW0 = 0\n",
    "rOW0 = 0\n",
    "OS0 = 0\n",
    "L0 = 40271.71074193975\n",
    "LW0 = 0\n",
    "rLW0 = 0\n",
    "LS0 = 0\n",
    "P0 = 32.67541200187585\n",
    "PW0 = 0\n",
    "rPW0 = 0\n",
    "PS0 = 0\n",
    "M0 = 228.72754035145144\n",
    "MW0 = 0\n",
    "MS0 = 0\n",
    "F0 = 228.72754035145144\n",
    "FW0 = 0"
   ]
  },
  {
   "cell_type": "markdown",
   "id": "c644c6cf",
   "metadata": {},
   "source": [
    "Wolbachia release function:"
   ]
  },
  {
   "cell_type": "code",
   "execution_count": 4,
   "id": "eafbd8a0",
   "metadata": {},
   "outputs": [],
   "source": [
    "start_wol = 200\n",
    "\n",
    "def pulseN(t, start_wol=start_wol, releasenumber=5, frequency=14):    \n",
    "    for i in range(0,releasenumber,1):\n",
    "        if round(t) == start_wol + (frequency*i):\n",
    "            return 0 #O0\n",
    "    else:\n",
    "        return 0"
   ]
  },
  {
   "cell_type": "markdown",
   "id": "16958828",
   "metadata": {},
   "source": [
    "Suppression functions:"
   ]
  },
  {
   "cell_type": "code",
   "execution_count": 5,
   "id": "4ed56c82",
   "metadata": {},
   "outputs": [],
   "source": [
    "# IIT\n",
    "\n",
    "def IIT(t, releasenumber=5, frequency=7, end=start_wol):\n",
    "    for i in range(0,releasenumber,1):\n",
    "        if round(t) == (end-frequency) - (frequency*i):\n",
    "            return 0 #M0+F0\n",
    "    else:\n",
    "        return 0"
   ]
  },
  {
   "cell_type": "code",
   "execution_count": 6,
   "id": "9f6f7185",
   "metadata": {},
   "outputs": [],
   "source": [
    "# SIT / RIDL\n",
    "\n",
    "switch = 0 #0 for SIT; 1 for RIDL\n",
    "\n",
    "def SIT(t, releasenumber=1, frequency=7, end=start_wol):    \n",
    "    for i in range(0,releasenumber,1):\n",
    "        if round(t) == (end-frequency) - (frequency*i):\n",
    "            return 0 #M0+F0\n",
    "    else:\n",
    "        return 0"
   ]
  },
  {
   "cell_type": "code",
   "execution_count": 7,
   "id": "5e4f37e7",
   "metadata": {},
   "outputs": [],
   "source": [
    "# Environmental management\n",
    "\n",
    "start_em = 193\n",
    "stop_em = 200\n",
    "em_eff = 1 #0.526\n",
    "\n",
    "def em(t):\n",
    "    if round(t) < start_em:     #start\n",
    "        return 1\n",
    "    elif round(t) > stop_em:    #stop releases\n",
    "        return 1\n",
    "    else:\n",
    "        return em_eff"
   ]
  },
  {
   "cell_type": "code",
   "execution_count": 8,
   "id": "c276d86e",
   "metadata": {},
   "outputs": [],
   "source": [
    "# Larvicides (e.g. guppies)\n",
    "\n",
    "start_lv = 193\n",
    "stop_lv = 200\n",
    "lv_eff = 1 #5.95\n",
    "\n",
    "def lv(t):\n",
    "    if round(t) < start_lv:     #start\n",
    "        return 1\n",
    "    elif round(t) > stop_lv:    #stop releases\n",
    "        return 1\n",
    "    else:\n",
    "        return lv_eff"
   ]
  },
  {
   "cell_type": "code",
   "execution_count": 9,
   "id": "4cb9ca33",
   "metadata": {},
   "outputs": [],
   "source": [
    "# Adulticide\n",
    "\n",
    "h = [] #needed to set adulticide pulses\n",
    "for i in range(0, -1, -1):\n",
    "    h.append((start_wol-7) - (7*i))\n",
    "#h = start_wol\n",
    "\n",
    "def ad(t):    \n",
    "    ad_eff = 0 #4.9\n",
    "    if round(t) < h[0]:\n",
    "        return 0\n",
    "    elif round(t) > h[0]+0.01: # and round(t) < h[1]: # un-comment according to number of releases\n",
    "        return 0\n",
    "#    elif round(t) > h[1]+0.01 and round(t) < h[2]:\n",
    "#        return 0\n",
    "#    elif round(t) > h[2]+0.01 and round(t) < h[3]:\n",
    "#        return 0\n",
    "#    elif round(t) > h[3]+0.01 and round(t) < h[4]:\n",
    "#        return 0\n",
    "#    elif round(t) > h[4]+0.01 and round(t) < h[5]:\n",
    "#        return 0\n",
    "#    elif round(t) > h[5]+0.01 and round(t) < h[6]:\n",
    "#        return 0\n",
    "#    elif round(t) > h[6]+0.01 and round(t) < h[7]:\n",
    "#        return 0\n",
    "#    elif round(t) > h[7]+0.01 and round(t) < h[8]:\n",
    "#        return 0\n",
    "#    elif round(t) > h[8]+0.01 and round(t) < h[9]:\n",
    "#        return 0\n",
    "#    elif round(t) > h[9]+0.01:\n",
    "#        return 0\n",
    "    else:\n",
    "        return ad_eff"
   ]
  },
  {
   "cell_type": "markdown",
   "id": "6033f3cf",
   "metadata": {},
   "source": [
    "Model:"
   ]
  },
  {
   "cell_type": "code",
   "execution_count": 10,
   "id": "7182af95",
   "metadata": {},
   "outputs": [],
   "source": [
    "def deriv(y, t, fCI, MT, c, e, phi, alphaO, muO, AA, BB, alphaL, alphaP, muP, muM, muF, RR, RRsupp, pulseN, IIT, SIT, em, lv, ad, cv, switch):\n",
    "    \n",
    "    O, OW, rOW, OS, L, LW, rLW, LS, P, PW, rPW, PS, M, MW, MS, F, FW = y\n",
    "    \n",
    "    #MOSQUITOES\n",
    "    \n",
    "    allfemales = 1+F+FW\n",
    "    allmales = 1+M+MW+(MS*c)\n",
    "    \n",
    "    F_nothing = F + FW*MT \n",
    "    M_nothing = M + MW*fCI \n",
    "    \n",
    "    F_wol = FW*(1-MT)\n",
    "    \n",
    "    #Eggs\n",
    "    dOdt = em(t) * phi * F_nothing * M_nothing/allmales - alphaO*O - lv(t)*muO*O # eggs laid * females no-wol * (males no_wol / all males) (aka prop no-wol males)\n",
    "    dOWdt = em(t) * phi * F_wol * (M+MW)/allmales - alphaO*OW - lv(t)*muO*OW \n",
    "    drOWdt = pulseN(t)*RR - alphaO*rOW - muO*rOW\n",
    "    dOSdt = phi * allfemales * (MS*c)/allmales - alphaO*OS - muO*OS\n",
    "    \n",
    "    #Larvae\n",
    "    dLdt =  alphaO*O - alphaL*L - lv(t)*muL*L\n",
    "    dLWdt = alphaO*OW - alphaL*LW - lv(t)*muL*LW\n",
    "    drLWdt = alphaO*rOW - alphaL*rLW - muL*rLW\n",
    "    dLSdt = switch*alphaO*OS - alphaL*LS - muL*LS\n",
    "    \n",
    "    #Pupae \n",
    "    dPdt =  alphaL*(L/(1+((AA*(L+LW+LS))**BB))) - alphaP*P - lv(t)*muP*P \n",
    "    dPWdt = alphaL*(LW/(1+((AA*(L+LW+LS))**BB))) - alphaP*PW - lv(t)*muP*PW\n",
    "    drPWdt = alphaL*(rLW/(1+((AA*(rLW))**BB))) - alphaP*rPW - muP*rPW \n",
    "    dPSdt = alphaL*(LS/(1+((AA*(L+LW+LS))**BB))) - alphaP*PS - muP*PS\n",
    "        \n",
    "    #Adult\n",
    "    dMdt =  .5*alphaP*P - muM*M - ad(t)*M*cv\n",
    "    dMWdt = IIT(t)*RRsupp + .5*alphaP*(PW+rPW) - muM*1.2*MW - ad(t)*MW*cv\n",
    "    dMSdt = SIT(t)*RRsupp - muM*1.2*MS #+ .5*alphaP*PS remove for 1gSLT\n",
    "    \n",
    "    dFdt =  .5*alphaP*P - muF*F - ad(t)*F*cv\n",
    "    dFWdt = .5*alphaP*(PW+rPW) - muF*1.2*FW - ad(t)*FW*cv\n",
    "\n",
    "    return dOdt, dOWdt, drOWdt, dOSdt, dLdt, dLWdt, drLWdt, dLSdt, dPdt, dPWdt, drPWdt, dPSdt, dMdt, dMWdt, dMSdt, dFdt, dFWdt"
   ]
  },
  {
   "cell_type": "markdown",
   "id": "d009a82b",
   "metadata": {},
   "source": [
    "Model prerequisites:"
   ]
  },
  {
   "cell_type": "code",
   "execution_count": 11,
   "id": "891dc1f7",
   "metadata": {},
   "outputs": [],
   "source": [
    "t = np.linspace(0, 1500, 1501) # grid of time points (in days)\n",
    "y0 = O0, OW0, rOW0, OS0, L0, LW0, rLW0, LS0, P0, PW0, rPW0, PS0, M0, MW0, MS0, F0, FW0 # initial condition vector"
   ]
  },
  {
   "cell_type": "markdown",
   "id": "c696e6f4",
   "metadata": {},
   "source": [
    "Run model:"
   ]
  },
  {
   "cell_type": "code",
   "execution_count": 12,
   "id": "df288afe",
   "metadata": {},
   "outputs": [],
   "source": [
    "ret = odeint(deriv, y0, t,args=(fCI, MT, c, e, phi, alphaO, muO, AA, BB, alphaL, alphaP, muP, muM, muF, RR, RRsupp, pulseN, IIT, SIT, em, lv, ad, cv, switch),hmax=1)\n",
    "\n",
    "O, OW, rOW, OS, L, LW, rLW, LS, P, PW, rPW, PS, M, MW, MS, F, FW = ret.T"
   ]
  },
  {
   "cell_type": "markdown",
   "id": "289a1974",
   "metadata": {},
   "source": [
    "Visual check all suppression and Wolbachia functions are switched off:\n",
    "(should see horizontal lines)"
   ]
  },
  {
   "cell_type": "code",
   "execution_count": 13,
   "id": "6d5b99df",
   "metadata": {},
   "outputs": [
    {
     "data": {
      "image/png": "[encoded data removed]",
      "text/plain": [
       "<Figure size 720x720 with 4 Axes>"
      ]
     },
     "metadata": {
      "needs_background": "light"
     },
     "output_type": "display_data"
    }
   ],
   "source": [
    "fig, ((ax1, ax2), (ax3, ax4)) = plt.subplots(2, 2, figsize=[10,10])\n",
    "\n",
    "ax1.plot(t, F+FW+M+MW, 'blue', label='all adults')\n",
    "ax1.plot(t, F+FW, 'pink', label='all females')\n",
    "ax1.set_xlabel(\"Time (days)\",fontsize=12, labelpad=8)\n",
    "ax1.set_ylabel(\"Number of Adult Mosquitoes\",fontsize=12, labelpad=8)\n",
    "ax1.legend()\n",
    "\n",
    "ax2.plot(t, M+F, 'black', label='all wildtypes')\n",
    "ax2.plot(t, MW+FW, 'red', label='all wol')\n",
    "ax2.set_xlabel(\"Time (days)\",fontsize=12, labelpad=8)\n",
    "ax2.set_ylabel(\"Number of wildtype and wol mosquitoes\",fontsize=12, labelpad=8)\n",
    "ax2.legend()\n",
    "\n",
    "ax3.plot(t, L, 'black', linestyle='dashed', label='wildtype larvae')\n",
    "ax3.plot(t, P, 'black', label='wildtype pupae')\n",
    "ax3.plot(t, LW, 'grey', linestyle='dashed', label='wol larvae')\n",
    "ax3.plot(t, PW, 'grey', label='wol pupae')\n",
    "ax3.set_xlabel(\"Time (days)\",fontsize=12, labelpad=8)\n",
    "ax3.set_ylabel(\"Number of wildtype and wol \\naquatic stage mosquitoes\",fontsize=12, labelpad=8)\n",
    "ax3.legend()\n",
    "\n",
    "ax4.plot(t[140:400], (MW[140:400]+FW[140:400])/(MW[140:400]+FW[140:400]+M[140:400]+F[140:400]), 'black')\n",
    "plt.xticks([150,200,250,300,350,400])\n",
    "ax4.set_xlabel(\"Time (days)\",fontsize=12, labelpad=8)\n",
    "ax4.set_ylabel(\"Proportion of Mosquitoes with Wolbachia\",fontsize=12, labelpad=8)\n",
    "\n",
    "\n",
    "plt.subplots_adjust(wspace=.35)"
   ]
  },
  {
   "cell_type": "markdown",
   "id": "8654f9f7",
   "metadata": {},
   "source": [
    "### 2. RIDL efficacy\n",
    "Import RRsupp values"
   ]
  },
  {
   "cell_type": "code",
   "execution_count": 14,
   "id": "9368817d",
   "metadata": {},
   "outputs": [],
   "source": [
    "filepath = os.path.abspath(os.getcwd())\n",
    "RIDL_df = pd.read_csv(f'{filepath}/RIDL_df.csv')\n",
    "#print(RIDL_df)"
   ]
  },
  {
   "cell_type": "markdown",
   "id": "0f18b7e3",
   "metadata": {},
   "source": [
    "Switch on RIDL"
   ]
  },
  {
   "cell_type": "code",
   "execution_count": 15,
   "id": "ed096f6f",
   "metadata": {},
   "outputs": [],
   "source": [
    "# SIT / RIDL\n",
    "\n",
    "switch = 1 #0 for SIT; 1 for RIDL\n",
    "\n",
    "def SIT(t, releasenumber=5, frequency=7, end=start_wol):    \n",
    "    for i in range(0,releasenumber,1):\n",
    "        if round(t) == (end-frequency) - (frequency*i):\n",
    "            return M0+F0\n",
    "    else:\n",
    "        return 0"
   ]
  },
  {
   "cell_type": "markdown",
   "id": "f108ec53",
   "metadata": {},
   "source": [
    "a) 20%"
   ]
  },
  {
   "cell_type": "code",
   "execution_count": 16,
   "id": "467a3bda",
   "metadata": {},
   "outputs": [],
   "source": [
    "RRsupp = list(RIDL_df.loc[RIDL_df['Target efficacy'] == 20, 'RRsupp value'])\n",
    "RRsupp = RRsupp[0]"
   ]
  },
  {
   "cell_type": "code",
   "execution_count": 17,
   "id": "6f6fb335",
   "metadata": {},
   "outputs": [],
   "source": [
    "#save results\n",
    "ret = odeint(deriv, y0, t,args=(fCI, MT, c, e, phi, alphaO, muO, AA, BB, alphaL, alphaP, muP, muM, muF, RR, RRsupp, pulseN, IIT, SIT, em, lv, ad, cv, switch),hmax=1)\n",
    "\n",
    "O, OW, rOW, OS, L, LW, rLW, LS, P, PW, rPW, PS, M, MW, MS, F, FW = ret.T\n",
    "\n",
    "RIDL20 = M+F"
   ]
  },
  {
   "cell_type": "markdown",
   "id": "f2071283",
   "metadata": {},
   "source": [
    "b) 50%"
   ]
  },
  {
   "cell_type": "code",
   "execution_count": 18,
   "id": "26614f65",
   "metadata": {},
   "outputs": [],
   "source": [
    "RRsupp = list(RIDL_df.loc[RIDL_df['Target efficacy'] == 50, 'RRsupp value'])\n",
    "RRsupp = RRsupp[0]"
   ]
  },
  {
   "cell_type": "code",
   "execution_count": 19,
   "id": "322bef92",
   "metadata": {},
   "outputs": [],
   "source": [
    "#save results\n",
    "ret = odeint(deriv, y0, t,args=(fCI, MT, c, e, phi, alphaO, muO, AA, BB, alphaL, alphaP, muP, muM, muF, RR, RRsupp, pulseN, IIT, SIT, em, lv, ad, cv, switch),hmax=1)\n",
    "\n",
    "O, OW, rOW, OS, L, LW, rLW, LS, P, PW, rPW, PS, M, MW, MS, F, FW = ret.T\n",
    "\n",
    "RIDL50 = M+F "
   ]
  },
  {
   "cell_type": "markdown",
   "id": "08b52598",
   "metadata": {},
   "source": [
    "c) 80%"
   ]
  },
  {
   "cell_type": "code",
   "execution_count": 20,
   "id": "29cfb036",
   "metadata": {},
   "outputs": [],
   "source": [
    "RRsupp = list(RIDL_df.loc[RIDL_df['Target efficacy'] == 80, 'RRsupp value'])\n",
    "RRsupp = RRsupp[0]"
   ]
  },
  {
   "cell_type": "code",
   "execution_count": 21,
   "id": "73ae5e0b",
   "metadata": {},
   "outputs": [],
   "source": [
    "#save results\n",
    "ret = odeint(deriv, y0, t,args=(fCI, MT, c, e, phi, alphaO, muO, AA, BB, alphaL, alphaP, muP, muM, muF, RR, RRsupp, pulseN, IIT, SIT, em, lv, ad, cv, switch),hmax=1)\n",
    "\n",
    "O, OW, rOW, OS, L, LW, rLW, LS, P, PW, rPW, PS, M, MW, MS, F, FW = ret.T\n",
    "\n",
    "RIDL80 = M+F "
   ]
  },
  {
   "cell_type": "markdown",
   "id": "4a8fa7ec",
   "metadata": {},
   "source": [
    "d) literature, 45%"
   ]
  },
  {
   "cell_type": "code",
   "execution_count": 22,
   "id": "43375fb8",
   "metadata": {},
   "outputs": [],
   "source": [
    "RRsupp = list(RIDL_df.loc[RIDL_df['Target efficacy'] == 45, 'RRsupp value'])\n",
    "RRsupp = RRsupp[0]"
   ]
  },
  {
   "cell_type": "code",
   "execution_count": 23,
   "id": "f158142c",
   "metadata": {},
   "outputs": [],
   "source": [
    "#save results\n",
    "ret = odeint(deriv, y0, t,args=(fCI, MT, c, e, phi, alphaO, muO, AA, BB, alphaL, alphaP, muP, muM, muF, RR, RRsupp, pulseN, IIT, SIT, em, lv, ad, cv, switch),hmax=1)\n",
    "\n",
    "O, OW, rOW, OS, L, LW, rLW, LS, P, PW, rPW, PS, M, MW, MS, F, FW = ret.T\n",
    "\n",
    "RIDL45 = M+F "
   ]
  },
  {
   "cell_type": "code",
   "execution_count": 24,
   "id": "fedde45c",
   "metadata": {},
   "outputs": [
    {
     "data": {
      "text/plain": [
       "51.67"
      ]
     },
     "execution_count": 24,
     "metadata": {},
     "output_type": "execute_result"
    }
   ],
   "source": [
    "RIDL_delay = list(RIDL_df.loc[RIDL_df['Target efficacy'] == 45, 'Maximum delayed efficacy'])\n",
    "round(RIDL_delay[0],2)"
   ]
  },
  {
   "cell_type": "markdown",
   "id": "96fa2809",
   "metadata": {},
   "source": [
    "Switch off RIDL:"
   ]
  },
  {
   "cell_type": "code",
   "execution_count": 25,
   "id": "ddbe78fe",
   "metadata": {},
   "outputs": [],
   "source": [
    "# SIT / RIDL\n",
    "\n",
    "switch = 1 #0 for SIT; 1 for RIDL\n",
    "\n",
    "def SIT(t, releasenumber=1, frequency=7, end=start_wol):    \n",
    "    for i in range(0,releasenumber,1):\n",
    "        if round(t) == (end-frequency) - (frequency*i):\n",
    "            return 0 #M0+F0\n",
    "    else:\n",
    "        return 0"
   ]
  },
  {
   "cell_type": "markdown",
   "id": "c1872604",
   "metadata": {},
   "source": [
    "### 3. IIT efficacy\n",
    "Import RRsupp values:"
   ]
  },
  {
   "cell_type": "code",
   "execution_count": 26,
   "id": "9d788ab6",
   "metadata": {},
   "outputs": [],
   "source": [
    "filepath = os.path.abspath(os.getcwd())\n",
    "IIT_df = pd.read_csv(f'{filepath}/IIT_df.csv')\n",
    "#print(IIT_df)"
   ]
  },
  {
   "cell_type": "markdown",
   "id": "3ec1de39",
   "metadata": {},
   "source": [
    "Switch on IIT:"
   ]
  },
  {
   "cell_type": "code",
   "execution_count": 27,
   "id": "7f2592ab",
   "metadata": {},
   "outputs": [],
   "source": [
    "# IIT\n",
    "\n",
    "def IIT(t, releasenumber=5, frequency=7, end=start_wol):\n",
    "    for i in range(0,releasenumber,1):\n",
    "        if round(t) == (end-frequency) - (frequency*i):\n",
    "            return M0+F0\n",
    "    else:\n",
    "        return 0"
   ]
  },
  {
   "cell_type": "markdown",
   "id": "bec89a05",
   "metadata": {},
   "source": [
    "a) 20%"
   ]
  },
  {
   "cell_type": "code",
   "execution_count": 28,
   "id": "275432ac",
   "metadata": {},
   "outputs": [],
   "source": [
    "RRsupp = list(IIT_df.loc[IIT_df['Target efficacy'] == 20, 'RRsupp value'])\n",
    "RRsupp = RRsupp[0]"
   ]
  },
  {
   "cell_type": "code",
   "execution_count": 29,
   "id": "9cf59897",
   "metadata": {},
   "outputs": [],
   "source": [
    "#save results\n",
    "ret = odeint(deriv, y0, t,args=(fCI, MT, c, e, phi, alphaO, muO, AA, BB, alphaL, alphaP, muP, muM, muF, RR, RRsupp, pulseN, IIT, SIT, em, lv, ad, cv, switch),hmax=1)\n",
    "\n",
    "O, OW, rOW, OS, L, LW, rLW, LS, P, PW, rPW, PS, M, MW, MS, F, FW = ret.T\n",
    "\n",
    "IIT20 = M+F"
   ]
  },
  {
   "cell_type": "markdown",
   "id": "74235c36",
   "metadata": {},
   "source": [
    "b) 50%"
   ]
  },
  {
   "cell_type": "code",
   "execution_count": 30,
   "id": "4f5e185a",
   "metadata": {},
   "outputs": [],
   "source": [
    "RRsupp = list(IIT_df.loc[IIT_df['Target efficacy'] == 50, 'RRsupp value'])\n",
    "RRsupp = RRsupp[0]"
   ]
  },
  {
   "cell_type": "code",
   "execution_count": 31,
   "id": "a408d389",
   "metadata": {},
   "outputs": [],
   "source": [
    "#save results\n",
    "ret = odeint(deriv, y0, t,args=(fCI, MT, c, e, phi, alphaO, muO, AA, BB, alphaL, alphaP, muP, muM, muF, RR, RRsupp, pulseN, IIT, SIT, em, lv, ad, cv, switch),hmax=1)\n",
    "\n",
    "O, OW, rOW, OS, L, LW, rLW, LS, P, PW, rPW, PS, M, MW, MS, F, FW = ret.T\n",
    "\n",
    "IIT50 = M+F"
   ]
  },
  {
   "cell_type": "markdown",
   "id": "21572b66",
   "metadata": {},
   "source": [
    "c) 80%"
   ]
  },
  {
   "cell_type": "code",
   "execution_count": 32,
   "id": "cf7c54b0",
   "metadata": {},
   "outputs": [],
   "source": [
    "RRsupp = list(IIT_df.loc[IIT_df['Target efficacy'] == 80, 'RRsupp value'])\n",
    "RRsupp = RRsupp[0]"
   ]
  },
  {
   "cell_type": "code",
   "execution_count": 33,
   "id": "51b8f086",
   "metadata": {},
   "outputs": [],
   "source": [
    "#save results\n",
    "ret = odeint(deriv, y0, t,args=(fCI, MT, c, e, phi, alphaO, muO, AA, BB, alphaL, alphaP, muP, muM, muF, RR, RRsupp, pulseN, IIT, SIT, em, lv, ad, cv, switch),hmax=1)\n",
    "\n",
    "O, OW, rOW, OS, L, LW, rLW, LS, P, PW, rPW, PS, M, MW, MS, F, FW = ret.T\n",
    "\n",
    "IIT80 = M+F"
   ]
  },
  {
   "cell_type": "markdown",
   "id": "74cea403",
   "metadata": {},
   "source": [
    "d) 60%"
   ]
  },
  {
   "cell_type": "code",
   "execution_count": 34,
   "id": "e32a465f",
   "metadata": {},
   "outputs": [],
   "source": [
    "RRsupp = list(IIT_df.loc[IIT_df['Target efficacy'] == 60, 'RRsupp value'])\n",
    "RRsupp = RRsupp[0]"
   ]
  },
  {
   "cell_type": "code",
   "execution_count": 35,
   "id": "3a526606",
   "metadata": {},
   "outputs": [],
   "source": [
    "#save results\n",
    "ret = odeint(deriv, y0, t,args=(fCI, MT, c, e, phi, alphaO, muO, AA, BB, alphaL, alphaP, muP, muM, muF, RR, RRsupp, pulseN, IIT, SIT, em, lv, ad, cv, switch),hmax=1)\n",
    "\n",
    "O, OW, rOW, OS, L, LW, rLW, LS, P, PW, rPW, PS, M, MW, MS, F, FW = ret.T\n",
    "\n",
    "IIT60 = M+F"
   ]
  },
  {
   "cell_type": "code",
   "execution_count": 36,
   "id": "d5e55a02",
   "metadata": {},
   "outputs": [
    {
     "data": {
      "text/plain": [
       "63.28"
      ]
     },
     "execution_count": 36,
     "metadata": {},
     "output_type": "execute_result"
    }
   ],
   "source": [
    "IIT_delay = list(IIT_df.loc[IIT_df['Target efficacy'] == 60, 'Maximum delayed efficacy'])\n",
    "round(IIT_delay[0],2)"
   ]
  },
  {
   "cell_type": "markdown",
   "id": "a4cf91d3",
   "metadata": {},
   "source": [
    "Switch off IIT:"
   ]
  },
  {
   "cell_type": "code",
   "execution_count": 37,
   "id": "a3bddab4",
   "metadata": {},
   "outputs": [],
   "source": [
    "# IIT\n",
    "\n",
    "def IIT(t, releasenumber=5, frequency=7, end=start_wol):\n",
    "    for i in range(0,releasenumber,1):\n",
    "        if round(t) == (end-frequency) - (frequency*i):\n",
    "            return 0 #M0+F0\n",
    "    else:\n",
    "        return 0"
   ]
  },
  {
   "cell_type": "markdown",
   "id": "21e68fcf",
   "metadata": {},
   "source": [
    "### 3. Combine into final figure"
   ]
  },
  {
   "cell_type": "code",
   "execution_count": 39,
   "id": "1a44a787",
   "metadata": {},
   "outputs": [
    {
     "data": {
      "image/png": "[encoded data removed]",
      "text/plain": [
       "<Figure size 1296x432 with 2 Axes>"
      ]
     },
     "metadata": {
      "needs_background": "light"
     },
     "output_type": "display_data"
    }
   ],
   "source": [
    "fig, ((ax1, ax2)) = plt.subplots(1,2, figsize=(18, 6))\n",
    "\n",
    "\n",
    "ax1.axvline(x=200, color=\"lightgrey\", linestyle=\"solid\")\n",
    "ax1.axvline(x=165, color=\"lightgrey\", linestyle=\"solid\")\n",
    "\n",
    "ax1.plot(t, RIDL20, color='black')\n",
    "ax1.plot(t, RIDL50, color='black')\n",
    "ax1.plot(t, RIDL80, color='black')\n",
    "ax1.plot(t, RIDL45, color='black', linestyle='dashed')\n",
    "\n",
    "ax1.axhline(y=min(RIDL20)-1, xmin=0.2, xmax=0.28, color=\"yellow\", label=\"20% reduction\")\n",
    "ax1.axhline(y=min(RIDL50)-1, xmin=0.21, xmax=0.29, color=\"green\", label=\"50% reduction\")\n",
    "ax1.axhline(y=min(RIDL80)-1, xmin=0.25, xmax=0.33, color=\"red\", label=\"80% reduction\")\n",
    "ax1.axhline(y=min(RIDL45)-1, xmin=0.22, xmax=0.3, color=\"blue\", label=\"Literature 45% reduction\")\n",
    "ax1.axvline(x=200, ymax=0.64, ymin=0.54, color=\"blue\")\n",
    "ax1.text(min(RIDL45)+2, min(RIDL45)-22, '51.67%', fontsize=12)\n",
    "\n",
    "ax1.set_xlim(150,400)\n",
    "ax1.set_ylim(0,470)\n",
    "ax1.set_xticks(range(165,440,25), range(0,275,25))\n",
    "ax1.set_xlabel(\"Time (days)\", fontsize=12, labelpad=8)\n",
    "ax1.set_ylabel(\"Total adult mosquito population\", fontsize=12, labelpad=8)\n",
    "ax1.legend(loc='lower right')\n",
    "\n",
    "#-----------------\n",
    "\n",
    "ax2.axvline(x=200, color=\"lightgrey\", linestyle=\"solid\")\n",
    "ax2.axvline(x=165, color=\"lightgrey\", linestyle=\"solid\")\n",
    "\n",
    "ax2.plot(t, IIT20, color='black')\n",
    "ax2.plot(t, IIT50, color='black')\n",
    "ax2.plot(t, IIT80, color='black')\n",
    "ax2.plot(t, IIT60, color='black', linestyle='dashed')\n",
    "\n",
    "ax2.axhline(y=min(IIT20)-1, xmin=0.2, xmax=0.28, color=\"yellow\", label=\"20% reduction\")\n",
    "ax2.axhline(y=min(IIT50)-1, xmin=0.22, xmax=0.3, color=\"green\", label=\"50% reduction\")\n",
    "ax2.axhline(y=min(IIT80)-1, xmin=0.27, xmax=0.35, color=\"red\", label=\"80% reduction\")\n",
    "ax2.axhline(y=min(IIT60)-1, xmin=0.24, xmax=0.32, color=\"blue\", label=\"Literature 60% reduction\")\n",
    "ax2.axvline(x=200, ymax=0.56, ymin=0.45, color=\"blue\")\n",
    "ax2.text(min(IIT60)+60, min(IIT60)-22, '63.28%', fontsize=12)\n",
    "\n",
    "ax2.set_xlim(150,400)\n",
    "ax2.set_ylim(0,470)\n",
    "ax2.set_xticks(range(165,440,25), range(0,275,25))\n",
    "ax2.set_xlabel(\"Time (days)\", fontsize=12, labelpad=8)\n",
    "#ax2.set_ylabel(\"Total adult mosquito population\", fontsize=12, labelpad=8)\n",
    "ax2.legend(loc='lower right')\n",
    "\n",
    "\n",
    "#plt.savefig('SFigure2.jpeg', dpi=600, bbox_inches='tight',)"
   ]
  },
  {
   "cell_type": "code",
   "execution_count": null,
   "id": "3b9bd3fd",
   "metadata": {},
   "outputs": [],
   "source": []
  },
  {
   "cell_type": "code",
   "execution_count": null,
   "id": "4350009b",
   "metadata": {},
   "outputs": [],
   "source": []
  }
 ],
 "metadata": {
  "kernelspec": {
   "display_name": "Python 3 (ipykernel)",
   "language": "python",
   "name": "python3"
  },
  "language_info": {
   "codemirror_mode": {
    "name": "ipython",
    "version": 3
   },
   "file_extension": ".py",
   "mimetype": "text/x-python",
   "name": "python",
   "nbconvert_exporter": "python",
   "pygments_lexer": "ipython3",
   "version": "3.8.12"
  }
 },
 "nbformat": 4,
 "nbformat_minor": 5
}
