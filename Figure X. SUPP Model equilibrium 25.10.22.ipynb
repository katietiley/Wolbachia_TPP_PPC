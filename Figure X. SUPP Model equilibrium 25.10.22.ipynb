{
 "cells": [
  {
   "cell_type": "markdown",
   "id": "07e5aa90",
   "metadata": {},
   "source": [
    "# Figure 1. SUPP Model equilibrium"
   ]
  },
  {
   "cell_type": "code",
   "execution_count": 2,
   "id": "9437cff3",
   "metadata": {},
   "outputs": [],
   "source": [
    "from scipy.integrate import odeint #differential model\n",
    "import numpy as np #functionality\n",
    "import matplotlib.pyplot as plt #plotting\n",
    "import pandas as pd #database wrangling"
   ]
  },
  {
   "cell_type": "markdown",
   "id": "a419064d",
   "metadata": {},
   "source": [
    "### 1. Find model equilibrium values\n",
    "\n",
    "Parameters:"
   ]
  },
  {
   "cell_type": "code",
   "execution_count": 3,
   "id": "969ed36b",
   "metadata": {},
   "outputs": [],
   "source": [
    "# MOSQUITO\n",
    "alphaO=0.5  # rate that eggs hatch into larvae\n",
    "alphaL=0.18  # rate that larvae pupate\n",
    "alphaP=1  # rate that pupae eclose\n",
    "phi=500*(1/14)    # number eggs laid per mosquito per day\n",
    "muO=0.01    # daily death rate of eggs\n",
    "muL=0.1*alphaL    # daily death rate of larvae\n",
    "muP=0.1*alphaP     # pupae death rate\n",
    "muM=1/14     # adult mosquito death rate\n",
    "muF=1/14     # adult female mosquito death rate\n",
    "\n",
    "# density-dependence via Bellows 1981:\n",
    "AA=1   # determines the density at which mortality remains proportionate\n",
    "BB=0.5   # determines the 'abruptness' of density-dependence\n",
    "\n",
    "# WOLBACHIA\n",
    "fCI=0.012   # prop of cytoplasmic incompatibility that fails 'sigma'\n",
    "MT=0 #0.11    # prop of wolbachia females that don't successfully maternally transfer 'omega'\n",
    "c=0.5      # mating competitiveness of released wolbachia males\n",
    "e=1.2      # relative mortality of wolbachia adults compared to wild adults\n",
    "RR=0.0775 #0.2953      # release ratio of wolbachia eggs to wild type eggs"
   ]
  },
  {
   "cell_type": "markdown",
   "id": "4b468d2f",
   "metadata": {},
   "source": [
    "Initial conditions:"
   ]
  },
  {
   "cell_type": "code",
   "execution_count": 4,
   "id": "81daf399",
   "metadata": {},
   "outputs": [],
   "source": [
    "O0=10\n",
    "L0=10\n",
    "P0=10\n",
    "M0=10\n",
    "F0=10"
   ]
  },
  {
   "cell_type": "markdown",
   "id": "a97ea0c4",
   "metadata": {},
   "source": [
    "Equilibrum model:"
   ]
  },
  {
   "cell_type": "code",
   "execution_count": 5,
   "id": "3573b99c",
   "metadata": {},
   "outputs": [],
   "source": [
    "O=[]\n",
    "L=[]\n",
    "P=[]\n",
    "M=[]\n",
    "F=[]\n",
    "\n",
    "def deriv_pre(y, t, c, phi, alphaO, muO, AA, BB, alphaL, alphaP, muP, muM, muF):\n",
    "    \n",
    "    O, L, P, M, F= y\n",
    "    \n",
    "    #MOSQUITOES\n",
    "        \n",
    "    allmales = 1+M\n",
    "    \n",
    "    #Eggs\n",
    "    dOdt = phi * F * M/allmales - alphaO*O - muO*O        \n",
    "    # eggs laid * total females * total males/all males\n",
    "\n",
    "    #Larvae\n",
    "    dLdt =  alphaO*O - alphaL*L - muL*L \n",
    "    \n",
    "    #Pupae\n",
    "    dPdt =  alphaL*(L/(1+(AA*L)**BB)) - alphaP*P - muP*P \n",
    "    \n",
    "    #Adult\n",
    "    dMdt =  .5*alphaP*P - muM*M\n",
    "    \n",
    "    dFdt =  .5*alphaP*P - muF*F    \n",
    "    \n",
    "    return dOdt, dLdt, dPdt, dMdt, dFdt"
   ]
  },
  {
   "cell_type": "markdown",
   "id": "fe21d434",
   "metadata": {},
   "source": [
    "Run model:"
   ]
  },
  {
   "cell_type": "code",
   "execution_count": 6,
   "id": "36ce0f3c",
   "metadata": {},
   "outputs": [],
   "source": [
    "t = np.linspace(0, 500, 1501) # grid of time points (in days)\n",
    "y0 = O0, L0, P0, M0, F0 # initial condition vector\n",
    "\n",
    "# integrate the SIR equations over the time grid, t\n",
    "ret = odeint(deriv_pre, y0, t, args=(c, phi, alphaO, muO, AA, BB, alphaL, alphaP, muP, muM, muF),hmax=1)\n",
    "\n",
    "O, L, P, M, F = ret.T"
   ]
  },
  {
   "cell_type": "markdown",
   "id": "2ef1490c",
   "metadata": {},
   "source": [
    "### 2. Equilibrium values"
   ]
  },
  {
   "cell_type": "code",
   "execution_count": 7,
   "id": "795b8b88",
   "metadata": {},
   "outputs": [
    {
     "name": "stdout",
     "output_type": "stream",
     "text": [
      "eggs: 15947.608023052446\n",
      "larvae: 40271.71074193975\n",
      "pupae: 32.67541200187585\n",
      "males: 228.72754035145144\n",
      "females: 228.72754035145144\n",
      "total adults: 457.4550807029029\n"
     ]
    }
   ],
   "source": [
    "print('eggs:', O[1500])\n",
    "print('larvae:', L[1500])\n",
    "print('pupae:', P[1500])\n",
    "print('males:', M[1500])\n",
    "print('females:', F[1500])\n",
    "print('total adults:', M[1500] + F[1500])"
   ]
  }
 ],
 "metadata": {
  "kernelspec": {
   "display_name": "Python 3 (ipykernel)",
   "language": "python",
   "name": "python3"
  },
  "language_info": {
   "codemirror_mode": {
    "name": "ipython",
    "version": 3
   },
   "file_extension": ".py",
   "mimetype": "text/x-python",
   "name": "python",
   "nbconvert_exporter": "python",
   "pygments_lexer": "ipython3",
   "version": "3.8.12"
  }
 },
 "nbformat": 4,
 "nbformat_minor": 5
}
