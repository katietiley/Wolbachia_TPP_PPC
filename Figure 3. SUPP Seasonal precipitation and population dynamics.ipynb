{
 "cells": [
  {
   "cell_type": "markdown",
   "id": "615ec870",
   "metadata": {},
   "source": [
    "# Figure 3. SUPP Seasonal precipitation and population dynamics"
   ]
  },
  {
   "cell_type": "code",
   "execution_count": 9,
   "id": "1ec7e6d9",
   "metadata": {},
   "outputs": [],
   "source": [
    "from scipy.integrate import odeint\n",
    "import numpy as np\n",
    "import matplotlib.pyplot as plt\n",
    "import statsmodels.api as sm # to build a LOWESS model\n",
    "import json"
   ]
  },
  {
   "cell_type": "markdown",
   "id": "90ec8e06",
   "metadata": {},
   "source": [
    "### 1. Set up model\n",
    "Parameters:"
   ]
  },
  {
   "cell_type": "code",
   "execution_count": null,
   "id": "47fb210d",
   "metadata": {},
   "outputs": [],
   "source": [
    "# MOSQUITO\n",
    "alphaO=0.5  # rate that eggs hatch into larvae\n",
    "alphaL=0.18  # rate that larvae pupate\n",
    "alphaP=1  # rate that pupae eclose\n",
    "phi=500*(1/14)    # number eggs laid per mosquito per day\n",
    "muO=0.01    # daily death rate of eggs\n",
    "muL=0.1*alphaL    # daily death rate of larvae\n",
    "muP=0.1*alphaP     # pupae death rate\n",
    "muM=1/14     # adult mosquito death rate\n",
    "muF=1/14     # adult female mosquito death rate\n",
    "\n",
    "# density-dependence via Bellows 1981:\n",
    "AA=1   # determines the density at which mortality remains proportionate\n",
    "BB=0.5   # determines the 'abruptness' of density-dependence"
   ]
  },
  {
   "cell_type": "markdown",
   "id": "7af3ce99",
   "metadata": {},
   "source": [
    "Initial conditions:\n",
    "(equilibrium values previously defined in Supp)"
   ]
  },
  {
   "cell_type": "code",
   "execution_count": 11,
   "id": "b41efcd9",
   "metadata": {},
   "outputs": [],
   "source": [
    "O0=15947.608023052446\n",
    "L0=40271.71074193975\n",
    "P0=32.67541200187585\n",
    "M0=228.72754035145144\n",
    "F0=228.72754035145144"
   ]
  },
  {
   "cell_type": "markdown",
   "id": "333f43f8",
   "metadata": {},
   "source": [
    "Seasonality function:"
   ]
  },
  {
   "cell_type": "code",
   "execution_count": 12,
   "id": "b78f218b",
   "metadata": {},
   "outputs": [],
   "source": [
    "with open(\"Rio.json\", 'r') as f:\n",
    "    score = json.load(f)  \n",
    "    \n",
    "def K(t):\n",
    "    return score[round(t)]"
   ]
  },
  {
   "cell_type": "markdown",
   "id": "74baf376",
   "metadata": {},
   "source": [
    "Model:"
   ]
  },
  {
   "cell_type": "code",
   "execution_count": 13,
   "id": "41f70550",
   "metadata": {},
   "outputs": [],
   "source": [
    "def deriv_pre(y, t, phi, alphaO, muO, K, AA, BB, alphaL, alphaP, muP, muM, muF):\n",
    "    \n",
    "    O, L, P, M, F = y\n",
    "    \n",
    "    #MOSQUITOES\n",
    "        \n",
    "    allmales = 1+M\n",
    "    \n",
    "    #Eggs\n",
    "    dOdt = phi * F * M/allmales - alphaO*O - muO*O\n",
    "    # eggs laid * total females * total males/ all males\n",
    "\n",
    "    #Larvae\n",
    "    dLdt =  alphaO*O - alphaL*L - muL*L\n",
    "    \n",
    "    #Pupae\n",
    "    dPdt =  alphaL*(L/((1+(AA*K(t)*L))**BB)) - alphaP*P - muP*P\n",
    "    \n",
    "    #Adult\n",
    "    dMdt =  0.5*alphaP*P - muM*M\n",
    "    \n",
    "    dFdt =  0.5*alphaP*P - muF*F    \n",
    "    \n",
    "    return dOdt, dLdt, dPdt, dMdt, dFdt"
   ]
  },
  {
   "cell_type": "markdown",
   "id": "c93146f2",
   "metadata": {},
   "source": [
    "Model prerequisites:"
   ]
  },
  {
   "cell_type": "code",
   "execution_count": 14,
   "id": "833364f8",
   "metadata": {},
   "outputs": [],
   "source": [
    "t = np.linspace(0, 1500, 1501) # grid of time points (in days)\n",
    "y0 = O0, L0, P0, M0, F0 # initial condition vector"
   ]
  },
  {
   "cell_type": "markdown",
   "id": "2278f3c1",
   "metadata": {},
   "source": [
    "Run model:"
   ]
  },
  {
   "cell_type": "code",
   "execution_count": 15,
   "id": "fb3ff30e",
   "metadata": {},
   "outputs": [],
   "source": [
    "ret = odeint(deriv_pre, y0, t, args=(phi, alphaO, muO, K, AA, BB, alphaL, alphaP, muP, muM, muF),hmax=1)\n",
    "\n",
    "O, L, P, M, F = ret.T"
   ]
  },
  {
   "cell_type": "markdown",
   "id": "bd2154a0",
   "metadata": {},
   "source": [
    "### 2. Results\n",
    "Format data:"
   ]
  },
  {
   "cell_type": "code",
   "execution_count": null,
   "id": "f60b2662",
   "metadata": {},
   "outputs": [],
   "source": [
    "pop = M+F\n",
    "days = range(1501)\n",
    "Bobo = np.genfromtxt(fname=\"Rio_long.txt\") # import precipitation data\n",
    "Bobo2 = sm.nonparametric.lowess(Bobo[:,1], Bobo[:,0], frac=0.8/3) # smooth the curve\n",
    "prec = Bobo2[:,1]\n",
    "month = Bobo2[:,0]\n",
    "\n",
    "t1 = days # weekly time points\n",
    "t2 = month*30 # monthly time points\n",
    "data0 = pop # adult mosquito population\n",
    "data1 = prec # precipitation values"
   ]
  },
  {
   "cell_type": "markdown",
   "id": "a30dc7ea",
   "metadata": {},
   "source": [
    "Plot results:"
   ]
  },
  {
   "cell_type": "code",
   "execution_count": 16,
   "id": "7bf36f39",
   "metadata": {},
   "outputs": [
    {
     "data": {
      "image/png": "[encoded data removed]",
      "text/plain": [
       "<Figure size 432x288 with 2 Axes>"
      ]
     },
     "metadata": {
      "needs_background": "light"
     },
     "output_type": "display_data"
    }
   ],
   "source": [
    "fig, ax1 = plt.subplots()\n",
    "ax1.set_xlabel('Time (days)')\n",
    "ax1.set_ylabel('Total Adult Mosquito Population')\n",
    "ax1.plot(t1, data0, color='black')\n",
    "ax2 = ax1.twinx()  # instantiate a second axes that shares the same x-axis\n",
    "ax2.set_ylabel('Precipitation (mm)', color='blue')\n",
    "ax2.plot(t2, data1, color='blue')\n",
    "ax1.set_xlim(500,865)\n",
    "positions = (500, 600, 700, 800)\n",
    "labels = (\"0\", \"100\", \"200\", \"300\")\n",
    "plt.xticks(positions, labels)\n",
    "fig.tight_layout()\n",
    "\n",
    "#plt.savefig('seasonality_adult_pop_vs_precipitation_16.8.22.jpeg', bbox_inches='tight', dpi = 300)"
   ]
  },
  {
   "cell_type": "code",
   "execution_count": null,
   "id": "9807e58a",
   "metadata": {},
   "outputs": [],
   "source": []
  },
  {
   "cell_type": "code",
   "execution_count": null,
   "id": "61bb7f91",
   "metadata": {},
   "outputs": [],
   "source": []
  }
 ],
 "metadata": {
  "kernelspec": {
   "display_name": "Python 3 (ipykernel)",
   "language": "python",
   "name": "python3"
  },
  "language_info": {
   "codemirror_mode": {
    "name": "ipython",
    "version": 3
   },
   "file_extension": ".py",
   "mimetype": "text/x-python",
   "name": "python",
   "nbconvert_exporter": "python",
   "pygments_lexer": "ipython3",
   "version": "3.8.12"
  }
 },
 "nbformat": 4,
 "nbformat_minor": 5
}
