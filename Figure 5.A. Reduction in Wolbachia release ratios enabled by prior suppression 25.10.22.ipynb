{
 "cells": [
  {
   "cell_type": "markdown",
   "id": "5235df6d",
   "metadata": {},
   "source": [
    "# Figure 5.A. Reduction in Wolbachia release ratios enabled by prior suppression"
   ]
  },
  {
   "cell_type": "code",
   "execution_count": 167,
   "id": "0bd84416",
   "metadata": {},
   "outputs": [],
   "source": [
    "from scipy.integrate import odeint\n",
    "import numpy as np\n",
    "import matplotlib as mat\n",
    "import matplotlib.pyplot as plt\n",
    "from scipy import integrate as sp\n",
    "import seaborn as sns\n",
    "from tabulate import tabulate\n",
    "import pandas as pd\n",
    "import time\n",
    "import os"
   ]
  },
  {
   "cell_type": "markdown",
   "id": "f803f7bf",
   "metadata": {},
   "source": [
    "### 1. Set up model\n",
    "Parameters:"
   ]
  },
  {
   "cell_type": "code",
   "execution_count": 168,
   "id": "b1a6ee81",
   "metadata": {},
   "outputs": [],
   "source": [
    "# MOSQUITO\n",
    "alphaO=0.5  # rate that eggs hatch into larvae\n",
    "alphaL=0.18  # rate that larvae pupate\n",
    "alphaP=1  # rate that pupae eclose\n",
    "phi=500*(1/14)    # number eggs laid per mosquito per day\n",
    "muO=0.01    # daily death rate of eggs\n",
    "muL=0.1*alphaL    # daily death rate of larvae\n",
    "muP=0.1*alphaP     # pupae death rate\n",
    "muM=1/14     # adult mosquito death rate\n",
    "muF=1/14     # adult female mosquito death rate\n",
    "\n",
    "# density-dependence via Bellows 1981:\n",
    "AA=1   # determines the density at which mortality remains proportionate\n",
    "BB=0.5   # determines the 'abruptness' of density-dependence\n",
    "\n",
    "# WOLBACHIA\n",
    "fCI=0.012   # prop of cytoplasmic incompatibility that fails 'sigma'\n",
    "MT=0 #0.11    # prop of wolbachia females that don't successfully maternally transfer 'omega'\n",
    "c=0.5      # mating competitiveness of released wolbachia males\n",
    "cv = 0.128   #coverage of adulticide - 0.128 recovers 80% within 3 weeks from one pulse\n",
    "e=1.2      # relative mortality of wolbachia adults compared to wild adults\n",
    "RR=1 #0.02915       # release ratio of wolbachia eggs to wild type eggs\n",
    "RRsupp=1      # release ratio of wolbachia eggs to wild type eggs for suppression techniques"
   ]
  },
  {
   "cell_type": "markdown",
   "id": "d769e252",
   "metadata": {},
   "source": [
    "Initial conditions:\n",
    "(equilibrium values previously defined in Supp)"
   ]
  },
  {
   "cell_type": "code",
   "execution_count": 169,
   "id": "da61f073",
   "metadata": {},
   "outputs": [],
   "source": [
    "O0=15947.608023052446\n",
    "OW0=0\n",
    "rOW0=0\n",
    "OS0=0\n",
    "L0=40271.71074193975\n",
    "LW0=0\n",
    "rLW0=0\n",
    "LS0=0\n",
    "P0=32.67541200187585\n",
    "PW0=0\n",
    "rPW0=0\n",
    "PS0=0\n",
    "M0=228.72754035145144\n",
    "MW0=0\n",
    "MS0=0\n",
    "F0=228.72754035145144\n",
    "FW0=0"
   ]
  },
  {
   "cell_type": "markdown",
   "id": "d17984ed",
   "metadata": {},
   "source": [
    "Wolbachia release function:"
   ]
  },
  {
   "cell_type": "code",
   "execution_count": 170,
   "id": "a5768743",
   "metadata": {},
   "outputs": [],
   "source": [
    "start_wol = 200\n",
    "\n",
    "def pulseN(t, start_wol=start_wol, releasenumber=5, frequency=14):    \n",
    "    for i in range(0,releasenumber,1):\n",
    "        if round(t) == start_wol + (frequency*i):\n",
    "            return O0\n",
    "    else:\n",
    "        return 0"
   ]
  },
  {
   "cell_type": "markdown",
   "id": "42232efc",
   "metadata": {},
   "source": [
    "Suppression functions:"
   ]
  },
  {
   "cell_type": "code",
   "execution_count": 171,
   "id": "5237b30d",
   "metadata": {},
   "outputs": [],
   "source": [
    "# IIT\n",
    "\n",
    "def IIT(t, releasenumber=5, frequency=7, end=start_wol):\n",
    "    for i in range(0,releasenumber,1):\n",
    "        if round(t) == (end-frequency) - (frequency*i):\n",
    "            return 0 #M0+F0\n",
    "    else:\n",
    "        return 0\n",
    "        \n",
    "RRsupp = 10.5"
   ]
  },
  {
   "cell_type": "code",
   "execution_count": 172,
   "id": "877208b0",
   "metadata": {},
   "outputs": [],
   "source": [
    "# SIT / RIDL\n",
    "\n",
    "switch = 0 #0 for SIT; 1 for RIDL\n",
    "\n",
    "def SIT(t, releasenumber=5, frequency=7, end=start_wol):    \n",
    "    for i in range(0,releasenumber,1):\n",
    "        if round(t) == (end-frequency) - (frequency*i):\n",
    "            return 0 #M0+F0\n",
    "    else:\n",
    "        return 0\n",
    "\n",
    "    \n",
    "#RRsupp = 10.7 #1.865"
   ]
  },
  {
   "cell_type": "code",
   "execution_count": 173,
   "id": "15c422bc",
   "metadata": {},
   "outputs": [],
   "source": [
    "# Environmental management\n",
    "\n",
    "start_em=start_wol-(7*5)    #193,186,179,172,165, 158,151,144,137,130\n",
    "stop_em=200\n",
    "em_eff= 1 #0.526\n",
    "#default 1 / 0.2(80%) / 0.5(50%) / 0.8(20%) / 0.526(47.4%literature)\n",
    "\n",
    "def em(t):\n",
    "    if round(t) < start_em:     #start\n",
    "        return 1\n",
    "    elif round(t) > stop_em:    #stop releases\n",
    "        return 1\n",
    "    else:\n",
    "        return em_eff"
   ]
  },
  {
   "cell_type": "code",
   "execution_count": 174,
   "id": "a7fdb9fe",
   "metadata": {},
   "outputs": [],
   "source": [
    "# Larvicides (e.g. guppies)\n",
    "\n",
    "start_lv=start_wol-(7*5)  # 193,186,179,172,165, 158,151,144,137,130\n",
    "stop_lv=200\n",
    "lv_eff= 1 #5.95\n",
    "\n",
    "def lv(t):\n",
    "    if round(t) < start_lv:     #start\n",
    "        return 1\n",
    "    elif round(t) > stop_lv:    #stop releases\n",
    "        return 1\n",
    "    else:\n",
    "        return lv_eff\n",
    "\n",
    "# to reach a new equilibrium:\n",
    "# based on pupae being 99 at eq - 80% 19.8 / 50% 49.5 / 20% 79.2 / 44% 65.34 / 70% 29.7\n",
    "# default 1 / 19.2(80%) / 7.6(50%) / 2.97(20%) / 6.42(44% literature) / 5.8(70% old)\n",
    "# parameter that kills proportion of pupae (wild and wol)\n",
    "\n",
    "# based on pupae being 33 at eq - 44% = 4.03"
   ]
  },
  {
   "cell_type": "code",
   "execution_count": 175,
   "id": "26baa7b8",
   "metadata": {},
   "outputs": [],
   "source": [
    "# Adulticide\n",
    "\n",
    "h = [] #needed to set adulticide pulses\n",
    "for i in range(-4, 1, 1):\n",
    "    h.append((start_wol-7) + (7*i))\n",
    "\n",
    "def ad(t):    \n",
    "    ad_eff = 0 #4.9 #0.455\n",
    "    if round(t) < h[0]:\n",
    "        return 0\n",
    "    elif round(t) > h[0]+0.01 and round(t) < h[1]:\n",
    "        return 0\n",
    "    elif round(t) > h[1]+0.01 and round(t) < h[2]:\n",
    "        return 0\n",
    "    elif round(t) > h[2]+0.01 and round(t) < h[3]:\n",
    "        return 0\n",
    "    elif round(t) > h[3]+0.01 and round(t) < h[4]:\n",
    "        return 0\n",
    "    elif round(t) > h[4]+0.01: # and round(t) < h[5]:\n",
    "        return 0\n",
    "#    elif round(t) > h[5]+0.01 and round(t) < h[6]:\n",
    "#        return 0\n",
    "#    elif round(t) > h[6]+0.01 and round(t) < h[7]:\n",
    "#        return 0\n",
    "#    elif round(t) > h[7]+0.01 and round(t) < h[8]:\n",
    "#        return 0\n",
    "#    elif round(t) > h[8]+0.01 and round(t) < h[9]:\n",
    "#        return 0\n",
    "#    elif round(t) > h[9]+0.01:\n",
    "#        return 0\n",
    "    else:\n",
    "        return ad_eff\n",
    "\n",
    "# NEW efficacy (fixed brackets)\n",
    "# 4.9 = 90%\n",
    "    \n",
    "# efficacy\n",
    "# 3 = ~90% | 1.9 = ~80% | 1.38 = ~70% | 1.03 = ~60% | 0.77 = ~50%\n",
    "# 0.56 = ~40% | 0.39 = ~30% | 0.24 = ~20% | 0.11 = ~10%"
   ]
  },
  {
   "cell_type": "markdown",
   "id": "99fc21a7",
   "metadata": {},
   "source": [
    "Model:"
   ]
  },
  {
   "cell_type": "code",
   "execution_count": 176,
   "id": "dadd7f89",
   "metadata": {},
   "outputs": [],
   "source": [
    "def deriv(y, t, fCI, MT, c, e, phi, alphaO, muO, AA, BB, alphaL, alphaP, muP, muM, muF, RR, RRsupp, pulseN, IIT, SIT, em, lv, ad, cv, switch):\n",
    "    \n",
    "    O, OW, rOW, OS, L, LW, rLW, LS, P, PW, rPW, PS, M, MW, MS, F, FW = y\n",
    "    \n",
    "    #MOSQUITOES\n",
    "    \n",
    "    allfemales = 1+F+FW\n",
    "    allmales = 1+M+MW+(MS*c)\n",
    "    \n",
    "    F_nothing = F + FW*MT \n",
    "    M_nothing = M + MW*fCI \n",
    "    \n",
    "    F_wol = FW*(1-MT)\n",
    "    \n",
    "    #Eggs\n",
    "    dOdt = em(t) * phi * F_nothing * M_nothing/allmales - alphaO*O - lv(t)*muO*O # eggs laid * females no-wol * (males no_wol / all males) (aka prop no-wol males)\n",
    "    dOWdt = em(t) * phi * F_wol * (M+MW)/allmales - alphaO*OW - lv(t)*muO*OW \n",
    "    drOWdt = pulseN(t)*RR - alphaO*rOW - muO*rOW\n",
    "    dOSdt = phi * allfemales * (MS*c)/allmales - alphaO*OS - muO*OS\n",
    "    \n",
    "    #Larvae\n",
    "    dLdt =  alphaO*O - alphaL*L - lv(t)*muL*L\n",
    "    dLWdt = alphaO*OW - alphaL*LW - lv(t)*muL*LW\n",
    "    drLWdt = alphaO*rOW - alphaL*rLW - muL*rLW\n",
    "    dLSdt = switch*alphaO*OS - alphaL*LS - muL*LS\n",
    "    \n",
    "    #Pupae \n",
    "    dPdt =  alphaL*(L/(1+((AA*(L+LW+LS))**BB))) - alphaP*P - lv(t)*muP*P \n",
    "    dPWdt = alphaL*(LW/(1+((AA*(L+LW+LS))**BB))) - alphaP*PW - lv(t)*muP*PW\n",
    "    drPWdt = alphaL*(rLW/(1+((AA*(rLW))**BB))) - alphaP*rPW - muP*rPW \n",
    "    dPSdt = alphaL*(LS/(1+((AA*(L+LW+LS))**BB))) - alphaP*PS - muP*PS\n",
    "        \n",
    "    #Adult\n",
    "    dMdt =  .5*alphaP*P - muM*M - ad(t)*M*cv\n",
    "    dMWdt = IIT(t)*RRsupp + .5*alphaP*(PW+rPW) - muM*1.2*MW - ad(t)*MW*cv\n",
    "    dMSdt = SIT(t)*RRsupp + .5*alphaP*PS - muM*1.2*MS\n",
    "    \n",
    "    dFdt =  .5*alphaP*P - muF*F - ad(t)*F*cv\n",
    "    dFWdt = .5*alphaP*(PW+rPW) - muF*1.2*FW - ad(t)*FW*cv\n",
    "\n",
    "    return dOdt, dOWdt, drOWdt, dOSdt, dLdt, dLWdt, drLWdt, dLSdt, dPdt, dPWdt, drPWdt, dPSdt, dMdt, dMWdt, dMSdt, dFdt, dFWdt"
   ]
  },
  {
   "cell_type": "markdown",
   "id": "9a50a66b",
   "metadata": {},
   "source": [
    "Model prerequisites:"
   ]
  },
  {
   "cell_type": "code",
   "execution_count": 177,
   "id": "02cb4754",
   "metadata": {},
   "outputs": [],
   "source": [
    "t = np.linspace(0, 1500, 1501) # grid of time points (in days)\n",
    "y0 = O0, OW0, rOW0, OS0, L0, LW0, rLW0, LS0, P0, PW0, rPW0, PS0, M0, MW0, MS0, F0, FW0 # initial condition vector"
   ]
  },
  {
   "cell_type": "markdown",
   "id": "1c8f5052",
   "metadata": {},
   "source": [
    "Run model:"
   ]
  },
  {
   "cell_type": "code",
   "execution_count": 178,
   "id": "22270a29",
   "metadata": {},
   "outputs": [],
   "source": [
    "ret = odeint(deriv, y0, t,args=(fCI, MT, c, e, phi, alphaO, muO, AA, BB, alphaL, alphaP, muP, muM, muF, RR, RRsupp, pulseN, IIT, SIT, em, lv, ad, cv, switch),hmax=1)\n",
    "\n",
    "O, OW, rOW, OS, L, LW, rLW, LS, P, PW, rPW, PS, M, MW, MS, F, FW = ret.T"
   ]
  },
  {
   "cell_type": "markdown",
   "id": "d38a7e45",
   "metadata": {},
   "source": [
    "Visual check all suppression functions are off and Wolbachia functions is on: (should see Wolbachia come to fixation from day 200)"
   ]
  },
  {
   "cell_type": "code",
   "execution_count": 179,
   "id": "0112331f",
   "metadata": {},
   "outputs": [
    {
     "data": {
      "image/png": "[encoded data removed]",
      "text/plain": [
       "<Figure size 720x720 with 4 Axes>"
      ]
     },
     "metadata": {
      "needs_background": "light"
     },
     "output_type": "display_data"
    }
   ],
   "source": [
    "fig, ((ax1, ax2), (ax3, ax4)) = plt.subplots(2, 2, figsize=[10,10])\n",
    "\n",
    "ax1.plot(t, F+FW+M+MW, 'blue', label='all adults')\n",
    "ax1.plot(t, F+FW, 'pink', label='all females')\n",
    "ax1.set_xlabel(\"Time (days)\",fontsize=12, labelpad=8)\n",
    "ax1.set_ylabel(\"Number of Adult Mosquitoes\",fontsize=12, labelpad=8)\n",
    "ax1.legend()\n",
    "\n",
    "ax2.plot(t, M+F, 'black', label='all wildtypes')\n",
    "ax2.plot(t, MW+FW, 'red', label='all wol')\n",
    "ax2.set_xlabel(\"Time (days)\",fontsize=12, labelpad=8)\n",
    "ax2.set_ylabel(\"Number of wildtype and wol mosquitoes\",fontsize=12, labelpad=8)\n",
    "ax2.legend()\n",
    "\n",
    "ax3.plot(t, L, 'black', linestyle='dashed', label='wildtype larvae')\n",
    "ax3.plot(t, P, 'black', label='wildtype pupae')\n",
    "ax3.plot(t, LW, 'grey', linestyle='dashed', label='wol larvae')\n",
    "ax3.plot(t, PW, 'grey', label='wol pupae')\n",
    "ax3.set_xlabel(\"Time (days)\",fontsize=12, labelpad=8)\n",
    "ax3.set_ylabel(\"Number of wildtype and wol \\naquatic stage mosquitoes\",fontsize=12, labelpad=8)\n",
    "ax3.legend()\n",
    "\n",
    "ax4.plot(t[140:400], (MW[140:400]+FW[140:400])/(MW[140:400]+FW[140:400]+M[140:400]+F[140:400]), 'black')\n",
    "plt.xticks([150,200,250,300,350,400])\n",
    "ax4.set_xlabel(\"Time (days)\",fontsize=12, labelpad=8)\n",
    "ax4.set_ylabel(\"Proportion of Mosquitoes with Wolbachia\",fontsize=12, labelpad=8)\n",
    "\n",
    "\n",
    "plt.subplots_adjust(wspace=.35)\n",
    "\n",
    "#plt.savefig('wolAedesDemo-KT', dpi=300, facecolor='w', edgecolor='w',\n",
    "#        orientation='portrait', format=None, transparent=False, bbox_inches=None, pad_inches=0.1, metadata=None)"
   ]
  },
  {
   "cell_type": "code",
   "execution_count": 180,
   "id": "8a270d48",
   "metadata": {},
   "outputs": [],
   "source": [
    "filepath = os.path.abspath(os.getcwd())"
   ]
  },
  {
   "cell_type": "markdown",
   "id": "88e19020",
   "metadata": {},
   "source": [
    "### 2.a. Data collection: minimum Wolbachia RR with each suppression for fixation within 6 months\n",
    "### No suppression:"
   ]
  },
  {
   "cell_type": "code",
   "execution_count": 181,
   "id": "0e41f248",
   "metadata": {},
   "outputs": [
    {
     "name": "stdout",
     "output_type": "stream",
     "text": [
      "processing time: 6.02 seconds\n"
     ]
    }
   ],
   "source": [
    "start_time = time.time()\n",
    "\n",
    "RR_vec = [0.00047,0.00134,0.00258,0.00418,0.00612,0.00842,0.01108,0.01408,0.01745,0.02115,0.0252,0.0296,0.03437,0.03945,0.04495,0.0507,0.0569,0.0634,0.0703,0.0775,0.085,0.093,0.10125,0.1098,0.1188,0.1281,0.1378,0.1478,0.1582,0.169,0.18,0.1915,0.203,0.215,0.2277,0.2405,0.2538,0.2672,0.2811,0.2953]\n",
    "zoo=[] #capture results here\n",
    "start_wol=200\n",
    "\n",
    "for i in RR_vec:\n",
    "        \n",
    "    RR = i\n",
    "        \n",
    "    # run the model\n",
    "    t = np.linspace(0, 1500, 1501) # Grid of time points (in days)\n",
    "    y0 = O0, OW0, rOW0, OS0, L0, LW0, rLW0, LS0, P0, PW0, rPW0, PS0, M0, MW0, MS0, F0, FW0 # Init condition vector\n",
    "    ret= odeint(deriv, y0, t,args=(fCI, MT, c, e, phi, alphaO, muO, AA, BB, alphaL, alphaP, muP, muM, muF, RR, RRsupp, pulseN, IIT, SIT, em, lv, ad, cv, switch),hmax=1)\n",
    "    O, OW, rOW, OS, L, LW, rLW, LS, P, PW, rPW, PS, M, MW, MS, F, FW = ret.T\n",
    "\n",
    "    # get output\n",
    "    total = MW+FW+M+F\n",
    "    prop = (MW+FW)/(MW+FW+M+F)\n",
    "    \n",
    "    \n",
    "    fix = np.argwhere(prop > 0.95)\n",
    "    if sum(fix) > 0:\n",
    "        min_fix = min(fix)-start_wol\n",
    "        min_fix = min_fix.tolist()\n",
    "    else:\n",
    "        min_fix = [99999] #occurs if no fixation\n",
    "        \n",
    "    zoo.append(min_fix)\n",
    "\n",
    "current_time = time.time()\n",
    "elapsed_time = current_time - start_time\n",
    "print('processing time:',round(elapsed_time,2),'seconds')"
   ]
  },
  {
   "cell_type": "code",
   "execution_count": 182,
   "id": "640c696d",
   "metadata": {},
   "outputs": [],
   "source": [
    "zoo2 = [f for sublist in zoo for f in sublist] #flatten\n",
    "sixmonth = next(x for x, val in enumerate(zoo2) if val <= 182.5) #within 6 months\n",
    "RR_choosenosupp = RR_vec[sixmonth]\n",
    "\n",
    "## returns error if there is no fixation"
   ]
  },
  {
   "cell_type": "code",
   "execution_count": 183,
   "id": "976928cb",
   "metadata": {},
   "outputs": [
    {
     "data": {
      "text/html": [
       "<div>\n",
       "<style scoped>\n",
       "    .dataframe tbody tr th:only-of-type {\n",
       "        vertical-align: middle;\n",
       "    }\n",
       "\n",
       "    .dataframe tbody tr th {\n",
       "        vertical-align: top;\n",
       "    }\n",
       "\n",
       "    .dataframe thead th {\n",
       "        text-align: right;\n",
       "    }\n",
       "</style>\n",
       "<table border=\"1\" class=\"dataframe\">\n",
       "  <thead>\n",
       "    <tr style=\"text-align: right;\">\n",
       "      <th></th>\n",
       "      <th>Suppression type</th>\n",
       "      <th>%20</th>\n",
       "      <th>%50</th>\n",
       "      <th>%80</th>\n",
       "      <th>%lit</th>\n",
       "    </tr>\n",
       "  </thead>\n",
       "  <tbody>\n",
       "    <tr>\n",
       "      <th>0</th>\n",
       "      <td>No Suppression</td>\n",
       "      <td>0</td>\n",
       "      <td>0</td>\n",
       "      <td>0</td>\n",
       "      <td>0.18</td>\n",
       "    </tr>\n",
       "  </tbody>\n",
       "</table>\n",
       "</div>"
      ],
      "text/plain": [
       "  Suppression type  %20  %50  %80  %lit\n",
       "0   No Suppression    0    0    0  0.18"
      ]
     },
     "execution_count": 183,
     "metadata": {},
     "output_type": "execute_result"
    }
   ],
   "source": [
    "# set up results dataframe\n",
    "fig_df = pd.DataFrame({'Suppression type': 'No Suppression', '%20': 0, '%50': 0, '%80': 0, '%lit': RR_choosenosupp}, index=[0]) #0 indicates NA\n",
    "\n",
    "fig_df"
   ]
  },
  {
   "cell_type": "markdown",
   "id": "121f9491",
   "metadata": {},
   "source": [
    "### RIDL:"
   ]
  },
  {
   "cell_type": "code",
   "execution_count": 184,
   "id": "273309f0",
   "metadata": {},
   "outputs": [],
   "source": [
    "RIDL_df = pd.read_csv(f'{filepath}/RIDL_df.csv')"
   ]
  },
  {
   "cell_type": "code",
   "execution_count": 185,
   "id": "236cd3d6",
   "metadata": {},
   "outputs": [],
   "source": [
    "# switch on\n",
    "\n",
    "switch = 1 #0 for SIT; 1 for RIDL\n",
    "\n",
    "def SIT(t, releasenumber=5, frequency=7, end=start_wol):    \n",
    "    for i in range(0,releasenumber,1):\n",
    "        if round(t) == (end-frequency) - (frequency*i):\n",
    "            return M0+F0\n",
    "    else:\n",
    "        return 0\n",
    "\n",
    "#RRsupp = 0.104 #10.7 #1.865"
   ]
  },
  {
   "cell_type": "markdown",
   "id": "b4b4d427",
   "metadata": {},
   "source": [
    "20% efficacy:"
   ]
  },
  {
   "cell_type": "code",
   "execution_count": 186,
   "id": "b40820ac",
   "metadata": {},
   "outputs": [],
   "source": [
    "RRsupp = list(RIDL_df.loc[RIDL_df['Target efficacy'] == 20, 'RRsupp value'])\n",
    "RRsupp = RRsupp[0]"
   ]
  },
  {
   "cell_type": "code",
   "execution_count": 187,
   "id": "c9352a4f",
   "metadata": {},
   "outputs": [
    {
     "name": "stdout",
     "output_type": "stream",
     "text": [
      "processing time: 7.57 seconds\n"
     ]
    }
   ],
   "source": [
    "start_time = time.time()\n",
    "\n",
    "RR_vec = [0.00047,0.00134,0.00258,0.00418,0.00612,0.00842,0.01108,0.01408,0.01745,0.02115,0.0252,0.0296,0.03437,0.03945,0.04495,0.0507,0.0569,0.0634,0.0703,0.0775,0.085,0.093,0.10125,0.1098,0.1188,0.1281,0.1378,0.1478,0.1582,0.169,0.18,0.1915,0.203,0.215,0.2277,0.2405,0.2538,0.2672,0.2811,0.2953]\n",
    "zoo=[] #capture results here\n",
    "start_wol=200\n",
    "\n",
    "for i in RR_vec:\n",
    "        \n",
    "    RR = i\n",
    "        \n",
    "    # run the model\n",
    "    t = np.linspace(0, 1500, 1501) # Grid of time points (in days)\n",
    "    y0 = O0, OW0, rOW0, OS0, L0, LW0, rLW0, LS0, P0, PW0, rPW0, PS0, M0, MW0, MS0, F0, FW0 # Init condition vector\n",
    "    ret= odeint(deriv, y0, t,args=(fCI, MT, c, e, phi, alphaO, muO, AA, BB, alphaL, alphaP, muP, muM, muF, RR, RRsupp, pulseN, IIT, SIT, em, lv, ad, cv, switch),hmax=1)\n",
    "    O, OW, rOW, OS, L, LW, rLW, LS, P, PW, rPW, PS, M, MW, MS, F, FW = ret.T\n",
    "\n",
    "    # get output\n",
    "    total = MW+FW+M+F\n",
    "    prop = (MW+FW)/(MW+FW+M+F)\n",
    "    \n",
    "    \n",
    "    fix = np.argwhere(prop > 0.95)\n",
    "    if sum(fix) > 0:\n",
    "        min_fix = min(fix)-start_wol\n",
    "        min_fix = min_fix.tolist()\n",
    "    else:\n",
    "        min_fix = [99999] #occurs if no fixation\n",
    "        \n",
    "    zoo.append(min_fix)\n",
    "\n",
    "current_time = time.time()\n",
    "elapsed_time = current_time - start_time\n",
    "print('processing time:',round(elapsed_time,2),'seconds')"
   ]
  },
  {
   "cell_type": "code",
   "execution_count": 188,
   "id": "2f4e9258",
   "metadata": {},
   "outputs": [],
   "source": [
    "zoo2 = [f for sublist in zoo for f in sublist] #flatten\n",
    "sixmonth = next(x for x, val in enumerate(zoo2) if val <= 182.5) #within 6 months\n",
    "RIDL_choose20 = RR_vec[sixmonth]"
   ]
  },
  {
   "cell_type": "markdown",
   "id": "89163de6",
   "metadata": {},
   "source": [
    "50% efficacy:"
   ]
  },
  {
   "cell_type": "code",
   "execution_count": 189,
   "id": "884b1040",
   "metadata": {},
   "outputs": [],
   "source": [
    "RRsupp = list(RIDL_df.loc[RIDL_df['Target efficacy'] == 50, 'RRsupp value'])\n",
    "RRsupp = RRsupp[0] "
   ]
  },
  {
   "cell_type": "code",
   "execution_count": 190,
   "id": "233af80c",
   "metadata": {},
   "outputs": [
    {
     "name": "stdout",
     "output_type": "stream",
     "text": [
      "processing time: 7.05 seconds\n"
     ]
    }
   ],
   "source": [
    "start_time = time.time()\n",
    "\n",
    "RR_vec = [0.00047,0.00134,0.00258,0.00418,0.00612,0.00842,0.01108,0.01408,0.01745,0.02115,0.0252,0.0296,0.03437,0.03945,0.04495,0.0507,0.0569,0.0634,0.0703,0.0775,0.085,0.093,0.10125,0.1098,0.1188,0.1281,0.1378,0.1478,0.1582,0.169,0.18,0.1915,0.203,0.215,0.2277,0.2405,0.2538,0.2672,0.2811,0.2953]\n",
    "zoo=[] #capture results here\n",
    "start_wol=200\n",
    "\n",
    "for i in RR_vec:\n",
    "        \n",
    "    RR = i\n",
    "        \n",
    "    # run the model\n",
    "    t = np.linspace(0, 1500, 1501) # Grid of time points (in days)\n",
    "    y0 = O0, OW0, rOW0, OS0, L0, LW0, rLW0, LS0, P0, PW0, rPW0, PS0, M0, MW0, MS0, F0, FW0 # Init condition vector\n",
    "    ret= odeint(deriv, y0, t,args=(fCI, MT, c, e, phi, alphaO, muO, AA, BB, alphaL, alphaP, muP, muM, muF, RR, RRsupp, pulseN, IIT, SIT, em, lv, ad, cv, switch),hmax=1)\n",
    "    O, OW, rOW, OS, L, LW, rLW, LS, P, PW, rPW, PS, M, MW, MS, F, FW = ret.T\n",
    "\n",
    "    # get output\n",
    "    total = MW+FW+M+F\n",
    "    prop = (MW+FW)/(MW+FW+M+F)\n",
    "    \n",
    "    \n",
    "    fix = np.argwhere(prop > 0.95)\n",
    "    if sum(fix) > 0:\n",
    "        min_fix = min(fix)-start_wol\n",
    "        min_fix = min_fix.tolist()\n",
    "    else:\n",
    "        min_fix = [99999] #occurs if no fixation\n",
    "        \n",
    "    zoo.append(min_fix)\n",
    "\n",
    "current_time = time.time()\n",
    "elapsed_time = current_time - start_time\n",
    "print('processing time:',round(elapsed_time,2),'seconds')"
   ]
  },
  {
   "cell_type": "code",
   "execution_count": 191,
   "id": "a3705642",
   "metadata": {},
   "outputs": [],
   "source": [
    "zoo2 = [f for sublist in zoo for f in sublist] #flatten\n",
    "sixmonth = next(x for x, val in enumerate(zoo2) if val <= 182.5) #within 6 months\n",
    "RIDL_choose50 = RR_vec[sixmonth]"
   ]
  },
  {
   "cell_type": "markdown",
   "id": "1ff72d97",
   "metadata": {},
   "source": [
    "80% efficacy:"
   ]
  },
  {
   "cell_type": "code",
   "execution_count": 192,
   "id": "da640e8e",
   "metadata": {},
   "outputs": [],
   "source": [
    "RRsupp = list(RIDL_df.loc[RIDL_df['Target efficacy'] == 80, 'RRsupp value'])\n",
    "RRsupp = RRsupp[0]"
   ]
  },
  {
   "cell_type": "code",
   "execution_count": 193,
   "id": "eca8b410",
   "metadata": {},
   "outputs": [
    {
     "name": "stdout",
     "output_type": "stream",
     "text": [
      "processing time: 6.95 seconds\n"
     ]
    }
   ],
   "source": [
    "start_time = time.time()\n",
    "\n",
    "RR_vec = [0.00047,0.00134,0.00258,0.00418,0.00612,0.00842,0.01108,0.01408,0.01745,0.02115,0.0252,0.0296,0.03437,0.03945,0.04495,0.0507,0.0569,0.0634,0.0703,0.0775,0.085,0.093,0.10125,0.1098,0.1188,0.1281,0.1378,0.1478,0.1582,0.169,0.18,0.1915,0.203,0.215,0.2277,0.2405,0.2538,0.2672,0.2811,0.2953]\n",
    "zoo=[] #capture results here\n",
    "start_wol=200\n",
    "\n",
    "for i in RR_vec:\n",
    "        \n",
    "    RR = i\n",
    "        \n",
    "    # run the model\n",
    "    t = np.linspace(0, 1500, 1501) # Grid of time points (in days)\n",
    "    y0 = O0, OW0, rOW0, OS0, L0, LW0, rLW0, LS0, P0, PW0, rPW0, PS0, M0, MW0, MS0, F0, FW0 # Init condition vector\n",
    "    ret= odeint(deriv, y0, t,args=(fCI, MT, c, e, phi, alphaO, muO, AA, BB, alphaL, alphaP, muP, muM, muF, RR, RRsupp, pulseN, IIT, SIT, em, lv, ad, cv, switch),hmax=1)\n",
    "    O, OW, rOW, OS, L, LW, rLW, LS, P, PW, rPW, PS, M, MW, MS, F, FW = ret.T\n",
    "\n",
    "    # get output\n",
    "    total = MW+FW+M+F\n",
    "    prop = (MW+FW)/(MW+FW+M+F)\n",
    "    \n",
    "    \n",
    "    fix = np.argwhere(prop > 0.95)\n",
    "    if sum(fix) > 0:\n",
    "        min_fix = min(fix)-start_wol\n",
    "        min_fix = min_fix.tolist()\n",
    "    else:\n",
    "        min_fix = [99999] #occurs if no fixation\n",
    "        \n",
    "    zoo.append(min_fix)\n",
    "\n",
    "current_time = time.time()\n",
    "elapsed_time = current_time - start_time\n",
    "print('processing time:',round(elapsed_time,2),'seconds')"
   ]
  },
  {
   "cell_type": "code",
   "execution_count": 194,
   "id": "0c20b256",
   "metadata": {},
   "outputs": [],
   "source": [
    "zoo2 = [f for sublist in zoo for f in sublist] #flatten\n",
    "sixmonth = next(x for x, val in enumerate(zoo2) if val <= 182.5) #within 6 months\n",
    "RIDL_choose80 = RR_vec[sixmonth]"
   ]
  },
  {
   "cell_type": "markdown",
   "id": "c1607400",
   "metadata": {},
   "source": [
    "Literature efficacy:"
   ]
  },
  {
   "cell_type": "code",
   "execution_count": 195,
   "id": "ae46683f",
   "metadata": {},
   "outputs": [],
   "source": [
    "RRsupp = list(RIDL_df.loc[RIDL_df['Target efficacy'] == 45, 'RRsupp value'])\n",
    "RRsupp = RRsupp[0] "
   ]
  },
  {
   "cell_type": "code",
   "execution_count": 196,
   "id": "ab872853",
   "metadata": {},
   "outputs": [
    {
     "name": "stdout",
     "output_type": "stream",
     "text": [
      "processing time: 6.94 seconds\n"
     ]
    }
   ],
   "source": [
    "start_time = time.time()\n",
    "\n",
    "RR_vec = [0.00047,0.00134,0.00258,0.00418,0.00612,0.00842,0.01108,0.01408,0.01745,0.02115,0.0252,0.0296,0.03437,0.03945,0.04495,0.0507,0.0569,0.0634,0.0703,0.0775,0.085,0.093,0.10125,0.1098,0.1188,0.1281,0.1378,0.1478,0.1582,0.169,0.18,0.1915,0.203,0.215,0.2277,0.2405,0.2538,0.2672,0.2811,0.2953]\n",
    "zoo=[] #capture results here\n",
    "start_wol=200\n",
    "\n",
    "for i in RR_vec:\n",
    "        \n",
    "    RR = i\n",
    "        \n",
    "    # run the model\n",
    "    t = np.linspace(0, 1500, 1501) # Grid of time points (in days)\n",
    "    y0 = O0, OW0, rOW0, OS0, L0, LW0, rLW0, LS0, P0, PW0, rPW0, PS0, M0, MW0, MS0, F0, FW0 # Init condition vector\n",
    "    ret= odeint(deriv, y0, t,args=(fCI, MT, c, e, phi, alphaO, muO, AA, BB, alphaL, alphaP, muP, muM, muF, RR, RRsupp, pulseN, IIT, SIT, em, lv, ad, cv, switch),hmax=1)\n",
    "    O, OW, rOW, OS, L, LW, rLW, LS, P, PW, rPW, PS, M, MW, MS, F, FW = ret.T\n",
    "\n",
    "    # get output\n",
    "    total = MW+FW+M+F\n",
    "    prop = (MW+FW)/(MW+FW+M+F)\n",
    "    \n",
    "    \n",
    "    fix = np.argwhere(prop > 0.95)\n",
    "    if sum(fix) > 0:\n",
    "        min_fix = min(fix)-start_wol\n",
    "        min_fix = min_fix.tolist()\n",
    "    else:\n",
    "        min_fix = [99999] #occurs if no fixation\n",
    "        \n",
    "    zoo.append(min_fix)\n",
    "\n",
    "current_time = time.time()\n",
    "elapsed_time = current_time - start_time\n",
    "print('processing time:',round(elapsed_time,2),'seconds')"
   ]
  },
  {
   "cell_type": "code",
   "execution_count": 197,
   "id": "9c1b90ef",
   "metadata": {},
   "outputs": [],
   "source": [
    "zoo2 = [f for sublist in zoo for f in sublist] #flatten\n",
    "sixmonth = next(x for x, val in enumerate(zoo2) if val <= 182.5) #within 6 months\n",
    "RIDL_chooselit = RR_vec[sixmonth]"
   ]
  },
  {
   "cell_type": "markdown",
   "id": "e4507d4a",
   "metadata": {},
   "source": [
    "Store results:"
   ]
  },
  {
   "cell_type": "code",
   "execution_count": 198,
   "id": "1ec2345a",
   "metadata": {},
   "outputs": [
    {
     "data": {
      "text/html": [
       "<div>\n",
       "<style scoped>\n",
       "    .dataframe tbody tr th:only-of-type {\n",
       "        vertical-align: middle;\n",
       "    }\n",
       "\n",
       "    .dataframe tbody tr th {\n",
       "        vertical-align: top;\n",
       "    }\n",
       "\n",
       "    .dataframe thead th {\n",
       "        text-align: right;\n",
       "    }\n",
       "</style>\n",
       "<table border=\"1\" class=\"dataframe\">\n",
       "  <thead>\n",
       "    <tr style=\"text-align: right;\">\n",
       "      <th></th>\n",
       "      <th>Suppression type</th>\n",
       "      <th>%20</th>\n",
       "      <th>%50</th>\n",
       "      <th>%80</th>\n",
       "      <th>%lit</th>\n",
       "    </tr>\n",
       "  </thead>\n",
       "  <tbody>\n",
       "    <tr>\n",
       "      <th>0</th>\n",
       "      <td>No Suppression</td>\n",
       "      <td>0.0000</td>\n",
       "      <td>0.0000</td>\n",
       "      <td>0.00000</td>\n",
       "      <td>0.1800</td>\n",
       "    </tr>\n",
       "    <tr>\n",
       "      <th>1</th>\n",
       "      <td>RIDL</td>\n",
       "      <td>0.1188</td>\n",
       "      <td>0.0507</td>\n",
       "      <td>0.01108</td>\n",
       "      <td>0.0569</td>\n",
       "    </tr>\n",
       "  </tbody>\n",
       "</table>\n",
       "</div>"
      ],
      "text/plain": [
       "  Suppression type     %20     %50      %80    %lit\n",
       "0   No Suppression  0.0000  0.0000  0.00000  0.1800\n",
       "1             RIDL  0.1188  0.0507  0.01108  0.0569"
      ]
     },
     "execution_count": 198,
     "metadata": {},
     "output_type": "execute_result"
    }
   ],
   "source": [
    "RIDL_vec = {'Suppression type': 'RIDL', '%20': RIDL_choose20, '%50': RIDL_choose50, '%80': RIDL_choose80, '%lit': RIDL_chooselit}\n",
    "fig_df = fig_df.append(RIDL_vec, ignore_index=True)\n",
    "\n",
    "fig_df"
   ]
  },
  {
   "cell_type": "code",
   "execution_count": 199,
   "id": "f5ca4188",
   "metadata": {},
   "outputs": [],
   "source": [
    "# switch off\n",
    "\n",
    "switch = 1 #0 for SIT; 1 for RIDL\n",
    "\n",
    "def SIT(t, releasenumber=5, frequency=7, end=start_wol):    \n",
    "    for i in range(0,releasenumber,1):\n",
    "        if round(t) == (end-frequency) - (frequency*i):\n",
    "            return 0 #M0+F0\n",
    "    else:\n",
    "        return 0"
   ]
  },
  {
   "cell_type": "markdown",
   "id": "11837eb8",
   "metadata": {},
   "source": [
    "### SIT"
   ]
  },
  {
   "cell_type": "code",
   "execution_count": 200,
   "id": "80d40a94",
   "metadata": {},
   "outputs": [],
   "source": [
    "SIT_df = pd.read_csv(f'{filepath}/SIT_df.csv')"
   ]
  },
  {
   "cell_type": "code",
   "execution_count": 201,
   "id": "75456c6d",
   "metadata": {},
   "outputs": [],
   "source": [
    "# switch on\n",
    "\n",
    "switch = 0 #0 for SIT; 1 for RIDL\n",
    "\n",
    "def SIT(t, releasenumber=5, frequency=7, end=start_wol):    \n",
    "    for i in range(0,releasenumber,1):\n",
    "        if round(t) == (end-frequency) - (frequency*i):\n",
    "            return M0+F0\n",
    "    else:\n",
    "        return 0"
   ]
  },
  {
   "cell_type": "markdown",
   "id": "99129306",
   "metadata": {},
   "source": [
    "20% efficacy:"
   ]
  },
  {
   "cell_type": "code",
   "execution_count": 202,
   "id": "eaffa12b",
   "metadata": {},
   "outputs": [],
   "source": [
    "RRsupp = list(SIT_df.loc[SIT_df['Target efficacy'] == 20, 'RRsupp value'])\n",
    "RRsupp = RRsupp[0]"
   ]
  },
  {
   "cell_type": "code",
   "execution_count": 203,
   "id": "3535d7c0",
   "metadata": {},
   "outputs": [
    {
     "name": "stdout",
     "output_type": "stream",
     "text": [
      "processing time: 6.77 seconds\n"
     ]
    }
   ],
   "source": [
    "start_time = time.time()\n",
    "\n",
    "RR_vec = [0.00047,0.00134,0.00258,0.00418,0.00612,0.00842,0.01108,0.01408,0.01745,0.02115,0.0252,0.0296,0.03437,0.03945,0.04495,0.0507,0.0569,0.0634,0.0703,0.0775,0.085,0.093,0.10125,0.1098,0.1188,0.1281,0.1378,0.1478,0.1582,0.169,0.18,0.1915,0.203,0.215,0.2277,0.2405,0.2538,0.2672,0.2811,0.2953]\n",
    "zoo=[] #capture results here\n",
    "start_wol=200\n",
    "\n",
    "for i in RR_vec:\n",
    "        \n",
    "    RR = i\n",
    "        \n",
    "    # run the model\n",
    "    t = np.linspace(0, 1500, 1501) # Grid of time points (in days)\n",
    "    y0 = O0, OW0, rOW0, OS0, L0, LW0, rLW0, LS0, P0, PW0, rPW0, PS0, M0, MW0, MS0, F0, FW0 # Init condition vector\n",
    "    ret= odeint(deriv, y0, t,args=(fCI, MT, c, e, phi, alphaO, muO, AA, BB, alphaL, alphaP, muP, muM, muF, RR, RRsupp, pulseN, IIT, SIT, em, lv, ad, cv, switch),hmax=1)\n",
    "    O, OW, rOW, OS, L, LW, rLW, LS, P, PW, rPW, PS, M, MW, MS, F, FW = ret.T\n",
    "\n",
    "    # get output\n",
    "    total = MW+FW+M+F\n",
    "    prop = (MW+FW)/(MW+FW+M+F)\n",
    "    \n",
    "    \n",
    "    fix = np.argwhere(prop > 0.95)\n",
    "    if sum(fix) > 0:\n",
    "        min_fix = min(fix)-start_wol\n",
    "        min_fix = min_fix.tolist()\n",
    "    else:\n",
    "        min_fix = [99999] #occurs if no fixation\n",
    "        \n",
    "    zoo.append(min_fix)\n",
    "\n",
    "current_time = time.time()\n",
    "elapsed_time = current_time - start_time\n",
    "print('processing time:',round(elapsed_time,2),'seconds')"
   ]
  },
  {
   "cell_type": "code",
   "execution_count": 204,
   "id": "a24c3722",
   "metadata": {},
   "outputs": [],
   "source": [
    "zoo2 = [f for sublist in zoo for f in sublist] #flatten\n",
    "sixmonth = next(x for x, val in enumerate(zoo2) if val <= 182.5) #within 6 months\n",
    "SIT_choose20 = RR_vec[sixmonth]"
   ]
  },
  {
   "cell_type": "markdown",
   "id": "1c37a714",
   "metadata": {},
   "source": [
    "50% efficacy:"
   ]
  },
  {
   "cell_type": "code",
   "execution_count": 205,
   "id": "9fee6e4f",
   "metadata": {},
   "outputs": [],
   "source": [
    "RRsupp = list(SIT_df.loc[SIT_df['Target efficacy'] == 50, 'RRsupp value'])\n",
    "RRsupp = RRsupp[0]"
   ]
  },
  {
   "cell_type": "code",
   "execution_count": 206,
   "id": "936786fc",
   "metadata": {},
   "outputs": [
    {
     "name": "stdout",
     "output_type": "stream",
     "text": [
      "processing time: 6.89 seconds\n"
     ]
    }
   ],
   "source": [
    "start_time = time.time()\n",
    "\n",
    "RR_vec = [0.00047,0.00134,0.00258,0.00418,0.00612,0.00842,0.01108,0.01408,0.01745,0.02115,0.0252,0.0296,0.03437,0.03945,0.04495,0.0507,0.0569,0.0634,0.0703,0.0775,0.085,0.093,0.10125,0.1098,0.1188,0.1281,0.1378,0.1478,0.1582,0.169,0.18,0.1915,0.203,0.215,0.2277,0.2405,0.2538,0.2672,0.2811,0.2953]\n",
    "zoo=[] #capture results here\n",
    "start_wol=200\n",
    "\n",
    "for i in RR_vec:\n",
    "        \n",
    "    RR = i\n",
    "        \n",
    "    # run the model\n",
    "    t = np.linspace(0, 1500, 1501) # Grid of time points (in days)\n",
    "    y0 = O0, OW0, rOW0, OS0, L0, LW0, rLW0, LS0, P0, PW0, rPW0, PS0, M0, MW0, MS0, F0, FW0 # Init condition vector\n",
    "    ret= odeint(deriv, y0, t,args=(fCI, MT, c, e, phi, alphaO, muO, AA, BB, alphaL, alphaP, muP, muM, muF, RR, RRsupp, pulseN, IIT, SIT, em, lv, ad, cv, switch),hmax=1)\n",
    "    O, OW, rOW, OS, L, LW, rLW, LS, P, PW, rPW, PS, M, MW, MS, F, FW = ret.T\n",
    "\n",
    "    # get output\n",
    "    total = MW+FW+M+F\n",
    "    prop = (MW+FW)/(MW+FW+M+F)\n",
    "    \n",
    "    \n",
    "    fix = np.argwhere(prop > 0.95)\n",
    "    if sum(fix) > 0:\n",
    "        min_fix = min(fix)-start_wol\n",
    "        min_fix = min_fix.tolist()\n",
    "    else:\n",
    "        min_fix = [99999] #occurs if no fixation\n",
    "        \n",
    "    zoo.append(min_fix)\n",
    "\n",
    "current_time = time.time()\n",
    "elapsed_time = current_time - start_time\n",
    "print('processing time:',round(elapsed_time,2),'seconds')"
   ]
  },
  {
   "cell_type": "code",
   "execution_count": 207,
   "id": "eae4d715",
   "metadata": {},
   "outputs": [],
   "source": [
    "zoo2 = [f for sublist in zoo for f in sublist] #flatten\n",
    "sixmonth = next(x for x, val in enumerate(zoo2) if val <= 182.5) #within 6 months\n",
    "SIT_choose50 = RR_vec[sixmonth]"
   ]
  },
  {
   "cell_type": "markdown",
   "id": "508f7b67",
   "metadata": {},
   "source": [
    "80% efficacy:"
   ]
  },
  {
   "cell_type": "code",
   "execution_count": 208,
   "id": "add48ec7",
   "metadata": {},
   "outputs": [],
   "source": [
    "RRsupp = list(SIT_df.loc[SIT_df['Target efficacy'] == 80, 'RRsupp value'])\n",
    "RRsupp = RRsupp[0]"
   ]
  },
  {
   "cell_type": "code",
   "execution_count": 209,
   "id": "0cf8d42b",
   "metadata": {},
   "outputs": [
    {
     "name": "stdout",
     "output_type": "stream",
     "text": [
      "processing time: 6.89 seconds\n"
     ]
    }
   ],
   "source": [
    "start_time = time.time()\n",
    "\n",
    "RR_vec = [0.00047,0.00134,0.00258,0.00418,0.00612,0.00842,0.01108,0.01408,0.01745,0.02115,0.0252,0.0296,0.03437,0.03945,0.04495,0.0507,0.0569,0.0634,0.0703,0.0775,0.085,0.093,0.10125,0.1098,0.1188,0.1281,0.1378,0.1478,0.1582,0.169,0.18,0.1915,0.203,0.215,0.2277,0.2405,0.2538,0.2672,0.2811,0.2953]\n",
    "zoo=[] #capture results here\n",
    "start_wol=200\n",
    "\n",
    "for i in RR_vec:\n",
    "        \n",
    "    RR = i\n",
    "        \n",
    "    # run the model\n",
    "    t = np.linspace(0, 1500, 1501) # Grid of time points (in days)\n",
    "    y0 = O0, OW0, rOW0, OS0, L0, LW0, rLW0, LS0, P0, PW0, rPW0, PS0, M0, MW0, MS0, F0, FW0 # Init condition vector\n",
    "    ret= odeint(deriv, y0, t,args=(fCI, MT, c, e, phi, alphaO, muO, AA, BB, alphaL, alphaP, muP, muM, muF, RR, RRsupp, pulseN, IIT, SIT, em, lv, ad, cv, switch),hmax=1)\n",
    "    O, OW, rOW, OS, L, LW, rLW, LS, P, PW, rPW, PS, M, MW, MS, F, FW = ret.T\n",
    "\n",
    "    # get output\n",
    "    total = MW+FW+M+F\n",
    "    prop = (MW+FW)/(MW+FW+M+F)\n",
    "    \n",
    "    \n",
    "    fix = np.argwhere(prop > 0.95)\n",
    "    if sum(fix) > 0:\n",
    "        min_fix = min(fix)-start_wol\n",
    "        min_fix = min_fix.tolist()\n",
    "    else:\n",
    "        min_fix = [99999] #occurs if no fixation\n",
    "        \n",
    "    zoo.append(min_fix)\n",
    "\n",
    "current_time = time.time()\n",
    "elapsed_time = current_time - start_time\n",
    "print('processing time:',round(elapsed_time,2),'seconds')"
   ]
  },
  {
   "cell_type": "code",
   "execution_count": 210,
   "id": "dffca0c1",
   "metadata": {},
   "outputs": [],
   "source": [
    "zoo2 = [f for sublist in zoo for f in sublist] #flatten\n",
    "sixmonth = next(x for x, val in enumerate(zoo2) if val <= 182.5) #within 6 months\n",
    "SIT_choose80 = RR_vec[sixmonth]"
   ]
  },
  {
   "cell_type": "markdown",
   "id": "eec53c65",
   "metadata": {},
   "source": [
    "Store results:"
   ]
  },
  {
   "cell_type": "code",
   "execution_count": 211,
   "id": "62aebd12",
   "metadata": {},
   "outputs": [
    {
     "data": {
      "text/html": [
       "<div>\n",
       "<style scoped>\n",
       "    .dataframe tbody tr th:only-of-type {\n",
       "        vertical-align: middle;\n",
       "    }\n",
       "\n",
       "    .dataframe tbody tr th {\n",
       "        vertical-align: top;\n",
       "    }\n",
       "\n",
       "    .dataframe thead th {\n",
       "        text-align: right;\n",
       "    }\n",
       "</style>\n",
       "<table border=\"1\" class=\"dataframe\">\n",
       "  <thead>\n",
       "    <tr style=\"text-align: right;\">\n",
       "      <th></th>\n",
       "      <th>Suppression type</th>\n",
       "      <th>%20</th>\n",
       "      <th>%50</th>\n",
       "      <th>%80</th>\n",
       "      <th>%lit</th>\n",
       "    </tr>\n",
       "  </thead>\n",
       "  <tbody>\n",
       "    <tr>\n",
       "      <th>0</th>\n",
       "      <td>No Suppression</td>\n",
       "      <td>0.0000</td>\n",
       "      <td>0.0000</td>\n",
       "      <td>0.00000</td>\n",
       "      <td>0.1800</td>\n",
       "    </tr>\n",
       "    <tr>\n",
       "      <th>1</th>\n",
       "      <td>RIDL</td>\n",
       "      <td>0.1188</td>\n",
       "      <td>0.0507</td>\n",
       "      <td>0.01108</td>\n",
       "      <td>0.0569</td>\n",
       "    </tr>\n",
       "    <tr>\n",
       "      <th>2</th>\n",
       "      <td>SIT</td>\n",
       "      <td>0.1281</td>\n",
       "      <td>0.0569</td>\n",
       "      <td>0.01108</td>\n",
       "      <td>0.0000</td>\n",
       "    </tr>\n",
       "  </tbody>\n",
       "</table>\n",
       "</div>"
      ],
      "text/plain": [
       "  Suppression type     %20     %50      %80    %lit\n",
       "0   No Suppression  0.0000  0.0000  0.00000  0.1800\n",
       "1             RIDL  0.1188  0.0507  0.01108  0.0569\n",
       "2              SIT  0.1281  0.0569  0.01108  0.0000"
      ]
     },
     "execution_count": 211,
     "metadata": {},
     "output_type": "execute_result"
    }
   ],
   "source": [
    "SIT_vec = {'Suppression type': 'SIT', '%20': SIT_choose20, '%50': SIT_choose50, '%80': SIT_choose80, '%lit': 0} # 0 indicates NA\n",
    "fig_df = fig_df.append(SIT_vec, ignore_index=True)\n",
    "\n",
    "fig_df"
   ]
  },
  {
   "cell_type": "code",
   "execution_count": 212,
   "id": "3220b084",
   "metadata": {},
   "outputs": [],
   "source": [
    "# switch off\n",
    "\n",
    "switch = 0 #0 for SIT; 1 for RIDL\n",
    "\n",
    "def SIT(t, releasenumber=5, frequency=7, end=start_wol):    \n",
    "    for i in range(0,releasenumber,1):\n",
    "        if round(t) == (end-frequency) - (frequency*i):\n",
    "            return 0 #M0+F0\n",
    "    else:\n",
    "        return 0"
   ]
  },
  {
   "cell_type": "markdown",
   "id": "436af1b1",
   "metadata": {},
   "source": [
    "### IIT"
   ]
  },
  {
   "cell_type": "code",
   "execution_count": 213,
   "id": "6347db68",
   "metadata": {},
   "outputs": [],
   "source": [
    "IIT_df = pd.read_csv(f'{filepath}/IIT_df.csv')"
   ]
  },
  {
   "cell_type": "code",
   "execution_count": 214,
   "id": "8be9f942",
   "metadata": {},
   "outputs": [],
   "source": [
    "# switch on\n",
    "\n",
    "def IIT(t, releasenumber=5, frequency=7, end=start_wol):\n",
    "    for i in range(0,releasenumber,1):\n",
    "        if round(t) == (end-frequency) - (frequency*i):\n",
    "            return M0+F0\n",
    "    else:\n",
    "        return 0"
   ]
  },
  {
   "cell_type": "markdown",
   "id": "b826c031",
   "metadata": {},
   "source": [
    "20% efficacy:"
   ]
  },
  {
   "cell_type": "code",
   "execution_count": 215,
   "id": "873dff74",
   "metadata": {},
   "outputs": [],
   "source": [
    "RRsupp = list(IIT_df.loc[IIT_df['Target efficacy'] == 20, 'RRsupp value'])\n",
    "RRsupp = RRsupp[0]"
   ]
  },
  {
   "cell_type": "code",
   "execution_count": 216,
   "id": "a5f6c51b",
   "metadata": {},
   "outputs": [
    {
     "name": "stdout",
     "output_type": "stream",
     "text": [
      "processing time: 6.85 seconds\n"
     ]
    }
   ],
   "source": [
    "start_time = time.time()\n",
    "\n",
    "RR_vec = [0.00047,0.00134,0.00258,0.00418,0.00612,0.00842,0.01108,0.01408,0.01745,0.02115,0.0252,0.0296,0.03437,0.03945,0.04495,0.0507,0.0569,0.0634,0.0703,0.0775,0.085,0.093,0.10125,0.1098,0.1188,0.1281,0.1378,0.1478,0.1582,0.169,0.18,0.1915,0.203,0.215,0.2277,0.2405,0.2538,0.2672,0.2811,0.2953]\n",
    "zoo=[] #capture results here\n",
    "start_wol=200\n",
    "\n",
    "for i in RR_vec:\n",
    "        \n",
    "    RR = i\n",
    "        \n",
    "    # run the model\n",
    "    t = np.linspace(0, 1500, 1501) # Grid of time points (in days)\n",
    "    y0 = O0, OW0, rOW0, OS0, L0, LW0, rLW0, LS0, P0, PW0, rPW0, PS0, M0, MW0, MS0, F0, FW0 # Init condition vector\n",
    "    ret= odeint(deriv, y0, t,args=(fCI, MT, c, e, phi, alphaO, muO, AA, BB, alphaL, alphaP, muP, muM, muF, RR, RRsupp, pulseN, IIT, SIT, em, lv, ad, cv, switch),hmax=1)\n",
    "    O, OW, rOW, OS, L, LW, rLW, LS, P, PW, rPW, PS, M, MW, MS, F, FW = ret.T\n",
    "\n",
    "    # get output\n",
    "    total = MW+FW+M+F\n",
    "    prop = (MW+FW)/(MW+FW+M+F)\n",
    "    \n",
    "    \n",
    "    fix = np.argwhere(prop > 0.95)\n",
    "    if sum(fix) > 0:\n",
    "        min_fix = min(fix)-start_wol\n",
    "        min_fix = min_fix.tolist()\n",
    "    else:\n",
    "        min_fix = [99999] #occurs if no fixation\n",
    "        \n",
    "    zoo.append(min_fix)\n",
    "\n",
    "current_time = time.time()\n",
    "elapsed_time = current_time - start_time\n",
    "print('processing time:',round(elapsed_time,2),'seconds')"
   ]
  },
  {
   "cell_type": "code",
   "execution_count": 217,
   "id": "7a45b2ec",
   "metadata": {},
   "outputs": [],
   "source": [
    "zoo2 = [f for sublist in zoo for f in sublist] #flatten\n",
    "sixmonth = next(x for x, val in enumerate(zoo2) if val <= 182.5) #within 6 months\n",
    "IIT_choose20 = RR_vec[sixmonth]"
   ]
  },
  {
   "cell_type": "markdown",
   "id": "0e903a28",
   "metadata": {},
   "source": [
    "50% efficacy:"
   ]
  },
  {
   "cell_type": "code",
   "execution_count": 218,
   "id": "450ec84c",
   "metadata": {},
   "outputs": [],
   "source": [
    "RRsupp = list(IIT_df.loc[IIT_df['Target efficacy'] == 50, 'RRsupp value'])\n",
    "RRsupp = RRsupp[0]"
   ]
  },
  {
   "cell_type": "code",
   "execution_count": 219,
   "id": "7a98cfda",
   "metadata": {},
   "outputs": [
    {
     "name": "stdout",
     "output_type": "stream",
     "text": [
      "processing time: 7.96 seconds\n"
     ]
    }
   ],
   "source": [
    "start_time = time.time()\n",
    "\n",
    "RR_vec = [0.00047,0.00134,0.00258,0.00418,0.00612,0.00842,0.01108,0.01408,0.01745,0.02115,0.0252,0.0296,0.03437,0.03945,0.04495,0.0507,0.0569,0.0634,0.0703,0.0775,0.085,0.093,0.10125,0.1098,0.1188,0.1281,0.1378,0.1478,0.1582,0.169,0.18,0.1915,0.203,0.215,0.2277,0.2405,0.2538,0.2672,0.2811,0.2953]\n",
    "zoo=[] #capture results here\n",
    "start_wol=200\n",
    "\n",
    "for i in RR_vec:\n",
    "        \n",
    "    RR = i\n",
    "        \n",
    "    # run the model\n",
    "    t = np.linspace(0, 1500, 1501) # Grid of time points (in days)\n",
    "    y0 = O0, OW0, rOW0, OS0, L0, LW0, rLW0, LS0, P0, PW0, rPW0, PS0, M0, MW0, MS0, F0, FW0 # Init condition vector\n",
    "    ret= odeint(deriv, y0, t,args=(fCI, MT, c, e, phi, alphaO, muO, AA, BB, alphaL, alphaP, muP, muM, muF, RR, RRsupp, pulseN, IIT, SIT, em, lv, ad, cv, switch),hmax=1)\n",
    "    O, OW, rOW, OS, L, LW, rLW, LS, P, PW, rPW, PS, M, MW, MS, F, FW = ret.T\n",
    "\n",
    "    # get output\n",
    "    total = MW+FW+M+F\n",
    "    prop = (MW+FW)/(MW+FW+M+F)\n",
    "    \n",
    "    \n",
    "    fix = np.argwhere(prop > 0.95)\n",
    "    if sum(fix) > 0:\n",
    "        min_fix = min(fix)-start_wol\n",
    "        min_fix = min_fix.tolist()\n",
    "    else:\n",
    "        min_fix = [99999] #occurs if no fixation\n",
    "        \n",
    "    zoo.append(min_fix)\n",
    "\n",
    "current_time = time.time()\n",
    "elapsed_time = current_time - start_time\n",
    "print('processing time:',round(elapsed_time,2),'seconds')"
   ]
  },
  {
   "cell_type": "code",
   "execution_count": 220,
   "id": "2487f925",
   "metadata": {},
   "outputs": [],
   "source": [
    "zoo2 = [f for sublist in zoo for f in sublist] #flatten\n",
    "sixmonth = next(x for x, val in enumerate(zoo2) if val <= 182.5) #within 6 months\n",
    "IIT_choose50 = RR_vec[sixmonth]"
   ]
  },
  {
   "cell_type": "markdown",
   "id": "974e184c",
   "metadata": {},
   "source": [
    "80% efficacy:"
   ]
  },
  {
   "cell_type": "code",
   "execution_count": 221,
   "id": "16b9fd9a",
   "metadata": {},
   "outputs": [],
   "source": [
    "RRsupp = list(IIT_df.loc[IIT_df['Target efficacy'] == 80, 'RRsupp value'])\n",
    "RRsupp = RRsupp[0]"
   ]
  },
  {
   "cell_type": "code",
   "execution_count": 222,
   "id": "6f508a9e",
   "metadata": {},
   "outputs": [
    {
     "name": "stdout",
     "output_type": "stream",
     "text": [
      "processing time: 6.99 seconds\n"
     ]
    }
   ],
   "source": [
    "start_time = time.time()\n",
    "\n",
    "RR_vec = [0.00047,0.00134,0.00258,0.00418,0.00612,0.00842,0.01108,0.01408,0.01745,0.02115,0.0252,0.0296,0.03437,0.03945,0.04495,0.0507,0.0569,0.0634,0.0703,0.0775,0.085,0.093,0.10125,0.1098,0.1188,0.1281,0.1378,0.1478,0.1582,0.169,0.18,0.1915,0.203,0.215,0.2277,0.2405,0.2538,0.2672,0.2811,0.2953]\n",
    "zoo=[] #capture results here\n",
    "start_wol=200\n",
    "\n",
    "for i in RR_vec:\n",
    "        \n",
    "    RR = i\n",
    "        \n",
    "    # run the model\n",
    "    t = np.linspace(0, 1500, 1501) # Grid of time points (in days)\n",
    "    y0 = O0, OW0, rOW0, OS0, L0, LW0, rLW0, LS0, P0, PW0, rPW0, PS0, M0, MW0, MS0, F0, FW0 # Init condition vector\n",
    "    ret= odeint(deriv, y0, t,args=(fCI, MT, c, e, phi, alphaO, muO, AA, BB, alphaL, alphaP, muP, muM, muF, RR, RRsupp, pulseN, IIT, SIT, em, lv, ad, cv, switch),hmax=1)\n",
    "    O, OW, rOW, OS, L, LW, rLW, LS, P, PW, rPW, PS, M, MW, MS, F, FW = ret.T\n",
    "\n",
    "    # get output\n",
    "    total = MW+FW+M+F\n",
    "    prop = (MW+FW)/(MW+FW+M+F)\n",
    "    \n",
    "    \n",
    "    fix = np.argwhere(prop > 0.95)\n",
    "    if sum(fix) > 0:\n",
    "        min_fix = min(fix)-start_wol\n",
    "        min_fix = min_fix.tolist()\n",
    "    else:\n",
    "        min_fix = [99999] #occurs if no fixation\n",
    "        \n",
    "    zoo.append(min_fix)\n",
    "\n",
    "current_time = time.time()\n",
    "elapsed_time = current_time - start_time\n",
    "print('processing time:',round(elapsed_time,2),'seconds')"
   ]
  },
  {
   "cell_type": "code",
   "execution_count": 223,
   "id": "7f6f3be5",
   "metadata": {},
   "outputs": [],
   "source": [
    "zoo2 = [f for sublist in zoo for f in sublist] #flatten\n",
    "sixmonth = next(x for x, val in enumerate(zoo2) if val <= 182.5) #within 6 months\n",
    "IIT_choose80 = RR_vec[sixmonth]"
   ]
  },
  {
   "cell_type": "markdown",
   "id": "418a5265",
   "metadata": {},
   "source": [
    "Literature efficacy:"
   ]
  },
  {
   "cell_type": "code",
   "execution_count": 224,
   "id": "991b60f0",
   "metadata": {},
   "outputs": [],
   "source": [
    "RRsupp = list(IIT_df.loc[IIT_df['Target efficacy'] == 60, 'RRsupp value'])\n",
    "RRsupp = RRsupp[0]"
   ]
  },
  {
   "cell_type": "code",
   "execution_count": 225,
   "id": "98de3b0b",
   "metadata": {},
   "outputs": [
    {
     "name": "stdout",
     "output_type": "stream",
     "text": [
      "processing time: 6.89 seconds\n"
     ]
    }
   ],
   "source": [
    "start_time = time.time()\n",
    "\n",
    "RR_vec = [0.00047,0.00134,0.00258,0.00418,0.00612,0.00842,0.01108,0.01408,0.01745,0.02115,0.0252,0.0296,0.03437,0.03945,0.04495,0.0507,0.0569,0.0634,0.0703,0.0775,0.085,0.093,0.10125,0.1098,0.1188,0.1281,0.1378,0.1478,0.1582,0.169,0.18,0.1915,0.203,0.215,0.2277,0.2405,0.2538,0.2672,0.2811,0.2953]\n",
    "zoo=[] #capture results here\n",
    "start_wol=200\n",
    "\n",
    "for i in RR_vec:\n",
    "        \n",
    "    RR = i\n",
    "        \n",
    "    # run the model\n",
    "    t = np.linspace(0, 1500, 1501) # Grid of time points (in days)\n",
    "    y0 = O0, OW0, rOW0, OS0, L0, LW0, rLW0, LS0, P0, PW0, rPW0, PS0, M0, MW0, MS0, F0, FW0 # Init condition vector\n",
    "    ret= odeint(deriv, y0, t,args=(fCI, MT, c, e, phi, alphaO, muO, AA, BB, alphaL, alphaP, muP, muM, muF, RR, RRsupp, pulseN, IIT, SIT, em, lv, ad, cv, switch),hmax=1)\n",
    "    O, OW, rOW, OS, L, LW, rLW, LS, P, PW, rPW, PS, M, MW, MS, F, FW = ret.T\n",
    "\n",
    "    # get output\n",
    "    total = MW+FW+M+F\n",
    "    prop = (MW+FW)/(MW+FW+M+F)\n",
    "    \n",
    "    \n",
    "    fix = np.argwhere(prop > 0.95)\n",
    "    if sum(fix) > 0:\n",
    "        min_fix = min(fix)-start_wol\n",
    "        min_fix = min_fix.tolist()\n",
    "    else:\n",
    "        min_fix = [99999] #occurs if no fixation\n",
    "        \n",
    "    zoo.append(min_fix)\n",
    "\n",
    "current_time = time.time()\n",
    "elapsed_time = current_time - start_time\n",
    "print('processing time:',round(elapsed_time,2),'seconds')"
   ]
  },
  {
   "cell_type": "code",
   "execution_count": 226,
   "id": "4d53154c",
   "metadata": {},
   "outputs": [],
   "source": [
    "zoo2 = [f for sublist in zoo for f in sublist] #flatten\n",
    "sixmonth = next(x for x, val in enumerate(zoo2) if val <= 182.5) #within 6 months\n",
    "IIT_chooselit = RR_vec[sixmonth]"
   ]
  },
  {
   "cell_type": "markdown",
   "id": "08b34639",
   "metadata": {},
   "source": [
    "Store results:"
   ]
  },
  {
   "cell_type": "code",
   "execution_count": 227,
   "id": "69a67395",
   "metadata": {},
   "outputs": [
    {
     "data": {
      "text/html": [
       "<div>\n",
       "<style scoped>\n",
       "    .dataframe tbody tr th:only-of-type {\n",
       "        vertical-align: middle;\n",
       "    }\n",
       "\n",
       "    .dataframe tbody tr th {\n",
       "        vertical-align: top;\n",
       "    }\n",
       "\n",
       "    .dataframe thead th {\n",
       "        text-align: right;\n",
       "    }\n",
       "</style>\n",
       "<table border=\"1\" class=\"dataframe\">\n",
       "  <thead>\n",
       "    <tr style=\"text-align: right;\">\n",
       "      <th></th>\n",
       "      <th>Suppression type</th>\n",
       "      <th>%20</th>\n",
       "      <th>%50</th>\n",
       "      <th>%80</th>\n",
       "      <th>%lit</th>\n",
       "    </tr>\n",
       "  </thead>\n",
       "  <tbody>\n",
       "    <tr>\n",
       "      <th>0</th>\n",
       "      <td>No Suppression</td>\n",
       "      <td>0.0000</td>\n",
       "      <td>0.00000</td>\n",
       "      <td>0.00000</td>\n",
       "      <td>0.18000</td>\n",
       "    </tr>\n",
       "    <tr>\n",
       "      <th>1</th>\n",
       "      <td>RIDL</td>\n",
       "      <td>0.1188</td>\n",
       "      <td>0.05070</td>\n",
       "      <td>0.01108</td>\n",
       "      <td>0.05690</td>\n",
       "    </tr>\n",
       "    <tr>\n",
       "      <th>2</th>\n",
       "      <td>SIT</td>\n",
       "      <td>0.1281</td>\n",
       "      <td>0.05690</td>\n",
       "      <td>0.01108</td>\n",
       "      <td>0.00000</td>\n",
       "    </tr>\n",
       "    <tr>\n",
       "      <th>3</th>\n",
       "      <td>IIT</td>\n",
       "      <td>0.1188</td>\n",
       "      <td>0.03437</td>\n",
       "      <td>0.00047</td>\n",
       "      <td>0.00842</td>\n",
       "    </tr>\n",
       "  </tbody>\n",
       "</table>\n",
       "</div>"
      ],
      "text/plain": [
       "  Suppression type     %20      %50      %80     %lit\n",
       "0   No Suppression  0.0000  0.00000  0.00000  0.18000\n",
       "1             RIDL  0.1188  0.05070  0.01108  0.05690\n",
       "2              SIT  0.1281  0.05690  0.01108  0.00000\n",
       "3              IIT  0.1188  0.03437  0.00047  0.00842"
      ]
     },
     "execution_count": 227,
     "metadata": {},
     "output_type": "execute_result"
    }
   ],
   "source": [
    "IIT_vec = {'Suppression type': 'IIT', '%20': IIT_choose20, '%50': IIT_choose50, '%80': IIT_choose80, '%lit': IIT_chooselit}\n",
    "fig_df = fig_df.append(IIT_vec, ignore_index=True)\n",
    "\n",
    "fig_df"
   ]
  },
  {
   "cell_type": "code",
   "execution_count": 228,
   "id": "914f5432",
   "metadata": {},
   "outputs": [],
   "source": [
    "# switch off\n",
    "\n",
    "def IIT(t, releasenumber=5, frequency=7, end=start_wol):\n",
    "    for i in range(0,releasenumber,1):\n",
    "        if round(t) == (end-frequency) - (frequency*i):\n",
    "            return 0 #M0+F0\n",
    "    else:\n",
    "        return 0"
   ]
  },
  {
   "cell_type": "markdown",
   "id": "69ffc9f4",
   "metadata": {},
   "source": [
    "### Environmental Management"
   ]
  },
  {
   "cell_type": "code",
   "execution_count": 229,
   "id": "82b785d4",
   "metadata": {},
   "outputs": [],
   "source": [
    "EM_df = pd.read_csv(f'{filepath}/EM_df.csv')"
   ]
  },
  {
   "cell_type": "code",
   "execution_count": 230,
   "id": "293ecccb",
   "metadata": {},
   "outputs": [],
   "source": [
    "# switch on\n",
    "\n",
    "start_em=165    #193,186,179,172,165, 158,151,144,137,130\n",
    "stop_em=200\n",
    "em_eff= 1\n",
    "#default 1 / 0.2(80%) / 0.5(50%) / 0.8(20%) / 0.526(47.4%literature)\n",
    "\n",
    "def em(t):\n",
    "    if round(t) < start_em:     #start\n",
    "        return 1\n",
    "    elif round(t) > stop_em:    #stop releases\n",
    "        return 1\n",
    "    else:\n",
    "        return em_eff"
   ]
  },
  {
   "cell_type": "markdown",
   "id": "423028d4",
   "metadata": {},
   "source": [
    "20% efficacy:"
   ]
  },
  {
   "cell_type": "code",
   "execution_count": 231,
   "id": "edf0a95d",
   "metadata": {},
   "outputs": [],
   "source": [
    "em_eff = list(EM_df.loc[EM_df['Target efficacy'] == 20, 'Efficacy parameter'])\n",
    "em_eff = em_eff[0]"
   ]
  },
  {
   "cell_type": "code",
   "execution_count": 232,
   "id": "8425cb8f",
   "metadata": {},
   "outputs": [
    {
     "name": "stdout",
     "output_type": "stream",
     "text": [
      "processing time: 5.77 seconds\n"
     ]
    }
   ],
   "source": [
    "start_time = time.time()\n",
    "\n",
    "RR_vec = [0.00047,0.00134,0.00258,0.00418,0.00612,0.00842,0.01108,0.01408,0.01745,0.02115,0.0252,0.0296,0.03437,0.03945,0.04495,0.0507,0.0569,0.0634,0.0703,0.0775,0.085,0.093,0.10125,0.1098,0.1188,0.1281,0.1378,0.1478,0.1582,0.169,0.18,0.1915,0.203,0.215,0.2277,0.2405,0.2538,0.2672,0.2811,0.2953]\n",
    "zoo=[] #capture results here\n",
    "start_wol=200\n",
    "\n",
    "for i in RR_vec:\n",
    "        \n",
    "    RR = i\n",
    "        \n",
    "    # run the model\n",
    "    t = np.linspace(0, 1500, 1501) # Grid of time points (in days)\n",
    "    y0 = O0, OW0, rOW0, OS0, L0, LW0, rLW0, LS0, P0, PW0, rPW0, PS0, M0, MW0, MS0, F0, FW0 # Init condition vector\n",
    "    ret= odeint(deriv, y0, t,args=(fCI, MT, c, e, phi, alphaO, muO, AA, BB, alphaL, alphaP, muP, muM, muF, RR, RRsupp, pulseN, IIT, SIT, em, lv, ad, cv, switch),hmax=1)\n",
    "    O, OW, rOW, OS, L, LW, rLW, LS, P, PW, rPW, PS, M, MW, MS, F, FW = ret.T\n",
    "\n",
    "    # get output\n",
    "    total = MW+FW+M+F\n",
    "    prop = (MW+FW)/(MW+FW+M+F)\n",
    "    \n",
    "    \n",
    "    fix = np.argwhere(prop > 0.95)\n",
    "    if sum(fix) > 0:\n",
    "        min_fix = min(fix)-start_wol\n",
    "        min_fix = min_fix.tolist()\n",
    "    else:\n",
    "        min_fix = [99999] #occurs if no fixation\n",
    "        \n",
    "    zoo.append(min_fix)\n",
    "\n",
    "current_time = time.time()\n",
    "elapsed_time = current_time - start_time\n",
    "print('processing time:',round(elapsed_time,2),'seconds')"
   ]
  },
  {
   "cell_type": "code",
   "execution_count": 233,
   "id": "50901a3b",
   "metadata": {},
   "outputs": [],
   "source": [
    "zoo2 = [f for sublist in zoo for f in sublist] #flatten\n",
    "sixmonth = next(x for x, val in enumerate(zoo2) if val <= 182.5) #within 6 months\n",
    "EM_choose20 = RR_vec[sixmonth]"
   ]
  },
  {
   "cell_type": "markdown",
   "id": "21bcaaa2",
   "metadata": {},
   "source": [
    "50% efficacy:"
   ]
  },
  {
   "cell_type": "code",
   "execution_count": 234,
   "id": "a4938092",
   "metadata": {},
   "outputs": [],
   "source": [
    "em_eff = list(EM_df.loc[EM_df['Target efficacy'] == 50, 'Efficacy parameter'])\n",
    "em_eff = em_eff[0]"
   ]
  },
  {
   "cell_type": "code",
   "execution_count": 235,
   "id": "3e4db547",
   "metadata": {},
   "outputs": [
    {
     "name": "stdout",
     "output_type": "stream",
     "text": [
      "processing time: 5.72 seconds\n"
     ]
    }
   ],
   "source": [
    "start_time = time.time()\n",
    "\n",
    "RR_vec = [0.00047,0.00134,0.00258,0.00418,0.00612,0.00842,0.01108,0.01408,0.01745,0.02115,0.0252,0.0296,0.03437,0.03945,0.04495,0.0507,0.0569,0.0634,0.0703,0.0775,0.085,0.093,0.10125,0.1098,0.1188,0.1281,0.1378,0.1478,0.1582,0.169,0.18,0.1915,0.203,0.215,0.2277,0.2405,0.2538,0.2672,0.2811,0.2953]\n",
    "zoo=[] #capture results here\n",
    "start_wol=200\n",
    "\n",
    "for i in RR_vec:\n",
    "        \n",
    "    RR = i\n",
    "        \n",
    "    # run the model\n",
    "    t = np.linspace(0, 1500, 1501) # Grid of time points (in days)\n",
    "    y0 = O0, OW0, rOW0, OS0, L0, LW0, rLW0, LS0, P0, PW0, rPW0, PS0, M0, MW0, MS0, F0, FW0 # Init condition vector\n",
    "    ret= odeint(deriv, y0, t,args=(fCI, MT, c, e, phi, alphaO, muO, AA, BB, alphaL, alphaP, muP, muM, muF, RR, RRsupp, pulseN, IIT, SIT, em, lv, ad, cv, switch),hmax=1)\n",
    "    O, OW, rOW, OS, L, LW, rLW, LS, P, PW, rPW, PS, M, MW, MS, F, FW = ret.T\n",
    "\n",
    "    # get output\n",
    "    total = MW+FW+M+F\n",
    "    prop = (MW+FW)/(MW+FW+M+F)\n",
    "    \n",
    "    \n",
    "    fix = np.argwhere(prop > 0.95)\n",
    "    if sum(fix) > 0:\n",
    "        min_fix = min(fix)-start_wol\n",
    "        min_fix = min_fix.tolist()\n",
    "    else:\n",
    "        min_fix = [99999] #occurs if no fixation\n",
    "        \n",
    "    zoo.append(min_fix)\n",
    "\n",
    "current_time = time.time()\n",
    "elapsed_time = current_time - start_time\n",
    "print('processing time:',round(elapsed_time,2),'seconds')"
   ]
  },
  {
   "cell_type": "code",
   "execution_count": 236,
   "id": "e1350dd5",
   "metadata": {},
   "outputs": [],
   "source": [
    "zoo2 = [f for sublist in zoo for f in sublist] #flatten\n",
    "sixmonth = next(x for x, val in enumerate(zoo2) if val <= 182.5) #within 6 months\n",
    "EM_choose50 = RR_vec[sixmonth]"
   ]
  },
  {
   "cell_type": "markdown",
   "id": "5ddfb747",
   "metadata": {},
   "source": [
    "80% efficacy:"
   ]
  },
  {
   "cell_type": "code",
   "execution_count": 237,
   "id": "f6a3893c",
   "metadata": {},
   "outputs": [],
   "source": [
    "em_eff = list(EM_df.loc[EM_df['Target efficacy'] == 80, 'Efficacy parameter'])\n",
    "em_eff = em_eff[0]"
   ]
  },
  {
   "cell_type": "code",
   "execution_count": 238,
   "id": "0e3c5e07",
   "metadata": {},
   "outputs": [
    {
     "name": "stdout",
     "output_type": "stream",
     "text": [
      "processing time: 5.71 seconds\n"
     ]
    }
   ],
   "source": [
    "start_time = time.time()\n",
    "\n",
    "RR_vec = [0.00047,0.00134,0.00258,0.00418,0.00612,0.00842,0.01108,0.01408,0.01745,0.02115,0.0252,0.0296,0.03437,0.03945,0.04495,0.0507,0.0569,0.0634,0.0703,0.0775,0.085,0.093,0.10125,0.1098,0.1188,0.1281,0.1378,0.1478,0.1582,0.169,0.18,0.1915,0.203,0.215,0.2277,0.2405,0.2538,0.2672,0.2811,0.2953]\n",
    "zoo=[] #capture results here\n",
    "start_wol=200\n",
    "\n",
    "for i in RR_vec:\n",
    "        \n",
    "    RR = i\n",
    "        \n",
    "    # run the model\n",
    "    t = np.linspace(0, 1500, 1501) # Grid of time points (in days)\n",
    "    y0 = O0, OW0, rOW0, OS0, L0, LW0, rLW0, LS0, P0, PW0, rPW0, PS0, M0, MW0, MS0, F0, FW0 # Init condition vector\n",
    "    ret= odeint(deriv, y0, t,args=(fCI, MT, c, e, phi, alphaO, muO, AA, BB, alphaL, alphaP, muP, muM, muF, RR, RRsupp, pulseN, IIT, SIT, em, lv, ad, cv, switch),hmax=1)\n",
    "    O, OW, rOW, OS, L, LW, rLW, LS, P, PW, rPW, PS, M, MW, MS, F, FW = ret.T\n",
    "\n",
    "    # get output\n",
    "    total = MW+FW+M+F\n",
    "    prop = (MW+FW)/(MW+FW+M+F)\n",
    "    \n",
    "    \n",
    "    fix = np.argwhere(prop > 0.95)\n",
    "    if sum(fix) > 0:\n",
    "        min_fix = min(fix)-start_wol\n",
    "        min_fix = min_fix.tolist()\n",
    "    else:\n",
    "        min_fix = [99999] #occurs if no fixation\n",
    "        \n",
    "    zoo.append(min_fix)\n",
    "\n",
    "current_time = time.time()\n",
    "elapsed_time = current_time - start_time\n",
    "print('processing time:',round(elapsed_time,2),'seconds')"
   ]
  },
  {
   "cell_type": "code",
   "execution_count": 239,
   "id": "a7361779",
   "metadata": {},
   "outputs": [],
   "source": [
    "zoo2 = [f for sublist in zoo for f in sublist] #flatten\n",
    "sixmonth = next(x for x, val in enumerate(zoo2) if val <= 182.5) #within 6 months\n",
    "EM_choose80 = RR_vec[sixmonth]"
   ]
  },
  {
   "cell_type": "markdown",
   "id": "2281c773",
   "metadata": {},
   "source": [
    "Literature efficacy:"
   ]
  },
  {
   "cell_type": "code",
   "execution_count": 240,
   "id": "c9af41aa",
   "metadata": {},
   "outputs": [],
   "source": [
    "em_eff = list(EM_df.loc[EM_df['Target efficacy'] == 47.4, 'Efficacy parameter'])\n",
    "em_eff = em_eff[0]"
   ]
  },
  {
   "cell_type": "code",
   "execution_count": 241,
   "id": "c2876986",
   "metadata": {},
   "outputs": [
    {
     "name": "stdout",
     "output_type": "stream",
     "text": [
      "processing time: 5.68 seconds\n"
     ]
    }
   ],
   "source": [
    "start_time = time.time()\n",
    "\n",
    "RR_vec = [0.00047,0.00134,0.00258,0.00418,0.00612,0.00842,0.01108,0.01408,0.01745,0.02115,0.0252,0.0296,0.03437,0.03945,0.04495,0.0507,0.0569,0.0634,0.0703,0.0775,0.085,0.093,0.10125,0.1098,0.1188,0.1281,0.1378,0.1478,0.1582,0.169,0.18,0.1915,0.203,0.215,0.2277,0.2405,0.2538,0.2672,0.2811,0.2953]\n",
    "zoo=[] #capture results here\n",
    "start_wol=200\n",
    "\n",
    "for i in RR_vec:\n",
    "        \n",
    "    RR = i\n",
    "        \n",
    "    # run the model\n",
    "    t = np.linspace(0, 1500, 1501) # Grid of time points (in days)\n",
    "    y0 = O0, OW0, rOW0, OS0, L0, LW0, rLW0, LS0, P0, PW0, rPW0, PS0, M0, MW0, MS0, F0, FW0 # Init condition vector\n",
    "    ret= odeint(deriv, y0, t,args=(fCI, MT, c, e, phi, alphaO, muO, AA, BB, alphaL, alphaP, muP, muM, muF, RR, RRsupp, pulseN, IIT, SIT, em, lv, ad, cv, switch),hmax=1)\n",
    "    O, OW, rOW, OS, L, LW, rLW, LS, P, PW, rPW, PS, M, MW, MS, F, FW = ret.T\n",
    "\n",
    "    # get output\n",
    "    total = MW+FW+M+F\n",
    "    prop = (MW+FW)/(MW+FW+M+F)\n",
    "    \n",
    "    \n",
    "    fix = np.argwhere(prop > 0.95)\n",
    "    if sum(fix) > 0:\n",
    "        min_fix = min(fix)-start_wol\n",
    "        min_fix = min_fix.tolist()\n",
    "    else:\n",
    "        min_fix = [99999] #occurs if no fixation\n",
    "        \n",
    "    zoo.append(min_fix)\n",
    "\n",
    "current_time = time.time()\n",
    "elapsed_time = current_time - start_time\n",
    "print('processing time:',round(elapsed_time,2),'seconds')"
   ]
  },
  {
   "cell_type": "code",
   "execution_count": 242,
   "id": "8813c316",
   "metadata": {},
   "outputs": [],
   "source": [
    "zoo2 = [f for sublist in zoo for f in sublist] #flatten\n",
    "sixmonth = next(x for x, val in enumerate(zoo2) if val <= 182.5) #within 6 months\n",
    "EM_chooselit = RR_vec[sixmonth]"
   ]
  },
  {
   "cell_type": "markdown",
   "id": "f5e65e20",
   "metadata": {},
   "source": [
    "Store results:"
   ]
  },
  {
   "cell_type": "code",
   "execution_count": 243,
   "id": "dbe13eea",
   "metadata": {},
   "outputs": [
    {
     "data": {
      "text/html": [
       "<div>\n",
       "<style scoped>\n",
       "    .dataframe tbody tr th:only-of-type {\n",
       "        vertical-align: middle;\n",
       "    }\n",
       "\n",
       "    .dataframe tbody tr th {\n",
       "        vertical-align: top;\n",
       "    }\n",
       "\n",
       "    .dataframe thead th {\n",
       "        text-align: right;\n",
       "    }\n",
       "</style>\n",
       "<table border=\"1\" class=\"dataframe\">\n",
       "  <thead>\n",
       "    <tr style=\"text-align: right;\">\n",
       "      <th></th>\n",
       "      <th>Suppression type</th>\n",
       "      <th>%20</th>\n",
       "      <th>%50</th>\n",
       "      <th>%80</th>\n",
       "      <th>%lit</th>\n",
       "    </tr>\n",
       "  </thead>\n",
       "  <tbody>\n",
       "    <tr>\n",
       "      <th>0</th>\n",
       "      <td>No Suppression</td>\n",
       "      <td>0.0000</td>\n",
       "      <td>0.00000</td>\n",
       "      <td>0.00000</td>\n",
       "      <td>0.18000</td>\n",
       "    </tr>\n",
       "    <tr>\n",
       "      <th>1</th>\n",
       "      <td>RIDL</td>\n",
       "      <td>0.1188</td>\n",
       "      <td>0.05070</td>\n",
       "      <td>0.01108</td>\n",
       "      <td>0.05690</td>\n",
       "    </tr>\n",
       "    <tr>\n",
       "      <th>2</th>\n",
       "      <td>SIT</td>\n",
       "      <td>0.1281</td>\n",
       "      <td>0.05690</td>\n",
       "      <td>0.01108</td>\n",
       "      <td>0.00000</td>\n",
       "    </tr>\n",
       "    <tr>\n",
       "      <th>3</th>\n",
       "      <td>IIT</td>\n",
       "      <td>0.1188</td>\n",
       "      <td>0.03437</td>\n",
       "      <td>0.00047</td>\n",
       "      <td>0.00842</td>\n",
       "    </tr>\n",
       "    <tr>\n",
       "      <th>4</th>\n",
       "      <td>EM</td>\n",
       "      <td>0.1582</td>\n",
       "      <td>0.10980</td>\n",
       "      <td>0.07030</td>\n",
       "      <td>0.11880</td>\n",
       "    </tr>\n",
       "  </tbody>\n",
       "</table>\n",
       "</div>"
      ],
      "text/plain": [
       "  Suppression type     %20      %50      %80     %lit\n",
       "0   No Suppression  0.0000  0.00000  0.00000  0.18000\n",
       "1             RIDL  0.1188  0.05070  0.01108  0.05690\n",
       "2              SIT  0.1281  0.05690  0.01108  0.00000\n",
       "3              IIT  0.1188  0.03437  0.00047  0.00842\n",
       "4               EM  0.1582  0.10980  0.07030  0.11880"
      ]
     },
     "execution_count": 243,
     "metadata": {},
     "output_type": "execute_result"
    }
   ],
   "source": [
    "EM_vec = {'Suppression type': 'EM', '%20': EM_choose20, '%50': EM_choose50, '%80': EM_choose80, '%lit': EM_chooselit}\n",
    "fig_df = fig_df.append(EM_vec, ignore_index=True)\n",
    "\n",
    "fig_df"
   ]
  },
  {
   "cell_type": "code",
   "execution_count": 244,
   "id": "768abe4c",
   "metadata": {},
   "outputs": [],
   "source": [
    "# switch off\n",
    "\n",
    "start_em=165    #193,186,179,172,165, 158,151,144,137,130\n",
    "stop_em=200\n",
    "em_eff= 1\n",
    "#default 1 / 0.2(80%) / 0.5(50%) / 0.8(20%) / 0.526(47.4%literature)\n",
    "\n",
    "def em(t):\n",
    "    if round(t) < start_em:     #start\n",
    "        return 1\n",
    "    elif round(t) > stop_em:    #stop releases\n",
    "        return 1\n",
    "    else:\n",
    "        return em_eff"
   ]
  },
  {
   "cell_type": "markdown",
   "id": "ec4f8d8b",
   "metadata": {},
   "source": [
    "### Larvicide"
   ]
  },
  {
   "cell_type": "code",
   "execution_count": 245,
   "id": "f2b62b62",
   "metadata": {},
   "outputs": [],
   "source": [
    "LV_df = pd.read_csv(f'{filepath}/LV_df.csv')"
   ]
  },
  {
   "cell_type": "code",
   "execution_count": 246,
   "id": "fa4969a4",
   "metadata": {},
   "outputs": [],
   "source": [
    "# switch on\n",
    "\n",
    "start_lv=start_wol-(7*5)  # 193,186,179,172,165, 158,151,144,137,130\n",
    "stop_lv=200\n",
    "lv_eff= 1 #5.95\n",
    "\n",
    "def lv(t):\n",
    "    if round(t) < start_lv:     #start\n",
    "        return 1\n",
    "    elif round(t) > stop_lv:    #stop releases\n",
    "        return 1\n",
    "    else:\n",
    "        return lv_eff\n",
    "\n",
    "# to reach a new equilibrium:\n",
    "# based on pupae being 99 at eq - 80% 19.8 / 50% 49.5 / 20% 79.2 / 44% 65.34 / 70% 29.7\n",
    "# default 1 / 19.2(80%) / 7.6(50%) / 2.97(20%) / 6.42(44% literature) / 5.8(70% old)\n",
    "# parameter that kills proportion of pupae (wild and wol)\n",
    "\n",
    "# based on pupae being 33 at eq - 44% = 4.03"
   ]
  },
  {
   "cell_type": "markdown",
   "id": "e98b4f8c",
   "metadata": {},
   "source": [
    "20% efficacy:"
   ]
  },
  {
   "cell_type": "code",
   "execution_count": 247,
   "id": "8e334093",
   "metadata": {},
   "outputs": [],
   "source": [
    "lv_eff = list(LV_df.loc[LV_df['Target efficacy'] == 20, 'Efficacy parameter'])\n",
    "lv_eff = lv_eff[0]"
   ]
  },
  {
   "cell_type": "code",
   "execution_count": 248,
   "id": "6d2cc42d",
   "metadata": {},
   "outputs": [
    {
     "name": "stdout",
     "output_type": "stream",
     "text": [
      "processing time: 5.63 seconds\n"
     ]
    }
   ],
   "source": [
    "start_time = time.time()\n",
    "\n",
    "RR_vec = [0.00047,0.00134,0.00258,0.00418,0.00612,0.00842,0.01108,0.01408,0.01745,0.02115,0.0252,0.0296,0.03437,0.03945,0.04495,0.0507,0.0569,0.0634,0.0703,0.0775,0.085,0.093,0.10125,0.1098,0.1188,0.1281,0.1378,0.1478,0.1582,0.169,0.18,0.1915,0.203,0.215,0.2277,0.2405,0.2538,0.2672,0.2811,0.2953]\n",
    "zoo=[] #capture results here\n",
    "start_wol=200\n",
    "\n",
    "for i in RR_vec:\n",
    "        \n",
    "    RR = i\n",
    "        \n",
    "    # run the model\n",
    "    t = np.linspace(0, 1500, 1501) # Grid of time points (in days)\n",
    "    y0 = O0, OW0, rOW0, OS0, L0, LW0, rLW0, LS0, P0, PW0, rPW0, PS0, M0, MW0, MS0, F0, FW0 # Init condition vector\n",
    "    ret= odeint(deriv, y0, t,args=(fCI, MT, c, e, phi, alphaO, muO, AA, BB, alphaL, alphaP, muP, muM, muF, RR, RRsupp, pulseN, IIT, SIT, em, lv, ad, cv, switch),hmax=1)\n",
    "    O, OW, rOW, OS, L, LW, rLW, LS, P, PW, rPW, PS, M, MW, MS, F, FW = ret.T\n",
    "\n",
    "    # get output\n",
    "    total = MW+FW+M+F\n",
    "    prop = (MW+FW)/(MW+FW+M+F)\n",
    "    \n",
    "    \n",
    "    fix = np.argwhere(prop > 0.95)\n",
    "    if sum(fix) > 0:\n",
    "        min_fix = min(fix)-start_wol\n",
    "        min_fix = min_fix.tolist()\n",
    "    else:\n",
    "        min_fix = [99999] #occurs if no fixation\n",
    "        \n",
    "    zoo.append(min_fix)\n",
    "\n",
    "current_time = time.time()\n",
    "elapsed_time = current_time - start_time\n",
    "print('processing time:',round(elapsed_time,2),'seconds')"
   ]
  },
  {
   "cell_type": "code",
   "execution_count": 249,
   "id": "d41609ff",
   "metadata": {},
   "outputs": [],
   "source": [
    "zoo2 = [f for sublist in zoo for f in sublist] #flatten\n",
    "sixmonth = next(x for x, val in enumerate(zoo2) if val <= 182.5) #within 6 months\n",
    "LV_choose20 = RR_vec[sixmonth]"
   ]
  },
  {
   "cell_type": "markdown",
   "id": "04eee637",
   "metadata": {},
   "source": [
    "50% efficacy:"
   ]
  },
  {
   "cell_type": "code",
   "execution_count": 250,
   "id": "32374b8e",
   "metadata": {},
   "outputs": [],
   "source": [
    "lv_eff = list(LV_df.loc[LV_df['Target efficacy'] == 50, 'Efficacy parameter'])\n",
    "lv_eff = lv_eff[0]"
   ]
  },
  {
   "cell_type": "code",
   "execution_count": 251,
   "id": "08df594e",
   "metadata": {},
   "outputs": [
    {
     "name": "stdout",
     "output_type": "stream",
     "text": [
      "processing time: 5.67 seconds\n"
     ]
    }
   ],
   "source": [
    "start_time = time.time()\n",
    "\n",
    "RR_vec = [0.00047,0.00134,0.00258,0.00418,0.00612,0.00842,0.01108,0.01408,0.01745,0.02115,0.0252,0.0296,0.03437,0.03945,0.04495,0.0507,0.0569,0.0634,0.0703,0.0775,0.085,0.093,0.10125,0.1098,0.1188,0.1281,0.1378,0.1478,0.1582,0.169,0.18,0.1915,0.203,0.215,0.2277,0.2405,0.2538,0.2672,0.2811,0.2953]\n",
    "zoo=[] #capture results here\n",
    "start_wol=200\n",
    "\n",
    "for i in RR_vec:\n",
    "        \n",
    "    RR = i\n",
    "        \n",
    "    # run the model\n",
    "    t = np.linspace(0, 1500, 1501) # Grid of time points (in days)\n",
    "    y0 = O0, OW0, rOW0, OS0, L0, LW0, rLW0, LS0, P0, PW0, rPW0, PS0, M0, MW0, MS0, F0, FW0 # Init condition vector\n",
    "    ret= odeint(deriv, y0, t,args=(fCI, MT, c, e, phi, alphaO, muO, AA, BB, alphaL, alphaP, muP, muM, muF, RR, RRsupp, pulseN, IIT, SIT, em, lv, ad, cv, switch),hmax=1)\n",
    "    O, OW, rOW, OS, L, LW, rLW, LS, P, PW, rPW, PS, M, MW, MS, F, FW = ret.T\n",
    "\n",
    "    # get output\n",
    "    total = MW+FW+M+F\n",
    "    prop = (MW+FW)/(MW+FW+M+F)\n",
    "    \n",
    "    \n",
    "    fix = np.argwhere(prop > 0.95)\n",
    "    if sum(fix) > 0:\n",
    "        min_fix = min(fix)-start_wol\n",
    "        min_fix = min_fix.tolist()\n",
    "    else:\n",
    "        min_fix = [99999] #occurs if no fixation\n",
    "        \n",
    "    zoo.append(min_fix)\n",
    "\n",
    "current_time = time.time()\n",
    "elapsed_time = current_time - start_time\n",
    "print('processing time:',round(elapsed_time,2),'seconds')"
   ]
  },
  {
   "cell_type": "code",
   "execution_count": 252,
   "id": "24aaf329",
   "metadata": {},
   "outputs": [],
   "source": [
    "zoo2 = [f for sublist in zoo for f in sublist] #flatten\n",
    "sixmonth = next(x for x, val in enumerate(zoo2) if val <= 182.5) #within 6 months\n",
    "LV_choose50 = RR_vec[sixmonth]"
   ]
  },
  {
   "cell_type": "markdown",
   "id": "989e67b5",
   "metadata": {},
   "source": [
    "80% efficacy:"
   ]
  },
  {
   "cell_type": "code",
   "execution_count": 253,
   "id": "fcaca861",
   "metadata": {},
   "outputs": [],
   "source": [
    "lv_eff = list(LV_df.loc[LV_df['Target efficacy'] == 80, 'Efficacy parameter'])\n",
    "lv_eff = lv_eff[0]"
   ]
  },
  {
   "cell_type": "code",
   "execution_count": 254,
   "id": "ec3dc63d",
   "metadata": {},
   "outputs": [
    {
     "name": "stdout",
     "output_type": "stream",
     "text": [
      "processing time: 5.75 seconds\n"
     ]
    }
   ],
   "source": [
    "start_time = time.time()\n",
    "\n",
    "RR_vec = [0.00047,0.00134,0.00258,0.00418,0.00612,0.00842,0.01108,0.01408,0.01745,0.02115,0.0252,0.0296,0.03437,0.03945,0.04495,0.0507,0.0569,0.0634,0.0703,0.0775,0.085,0.093,0.10125,0.1098,0.1188,0.1281,0.1378,0.1478,0.1582,0.169,0.18,0.1915,0.203,0.215,0.2277,0.2405,0.2538,0.2672,0.2811,0.2953]\n",
    "zoo=[] #capture results here\n",
    "start_wol=200\n",
    "\n",
    "for i in RR_vec:\n",
    "        \n",
    "    RR = i\n",
    "        \n",
    "    # run the model\n",
    "    t = np.linspace(0, 1500, 1501) # Grid of time points (in days)\n",
    "    y0 = O0, OW0, rOW0, OS0, L0, LW0, rLW0, LS0, P0, PW0, rPW0, PS0, M0, MW0, MS0, F0, FW0 # Init condition vector\n",
    "    ret= odeint(deriv, y0, t,args=(fCI, MT, c, e, phi, alphaO, muO, AA, BB, alphaL, alphaP, muP, muM, muF, RR, RRsupp, pulseN, IIT, SIT, em, lv, ad, cv, switch),hmax=1)\n",
    "    O, OW, rOW, OS, L, LW, rLW, LS, P, PW, rPW, PS, M, MW, MS, F, FW = ret.T\n",
    "\n",
    "    # get output\n",
    "    total = MW+FW+M+F\n",
    "    prop = (MW+FW)/(MW+FW+M+F)\n",
    "    \n",
    "    \n",
    "    fix = np.argwhere(prop > 0.95)\n",
    "    if sum(fix) > 0:\n",
    "        min_fix = min(fix)-start_wol\n",
    "        min_fix = min_fix.tolist()\n",
    "    else:\n",
    "        min_fix = [99999] #occurs if no fixation\n",
    "        \n",
    "    zoo.append(min_fix)\n",
    "\n",
    "current_time = time.time()\n",
    "elapsed_time = current_time - start_time\n",
    "print('processing time:',round(elapsed_time,2),'seconds')"
   ]
  },
  {
   "cell_type": "code",
   "execution_count": 255,
   "id": "4db480a1",
   "metadata": {},
   "outputs": [],
   "source": [
    "zoo2 = [f for sublist in zoo for f in sublist] #flatten\n",
    "sixmonth = next(x for x, val in enumerate(zoo2) if val <= 182.5) #within 6 months\n",
    "LV_choose80 = RR_vec[sixmonth]"
   ]
  },
  {
   "cell_type": "markdown",
   "id": "b0140d3d",
   "metadata": {},
   "source": [
    "Literature efficacy:"
   ]
  },
  {
   "cell_type": "code",
   "execution_count": 256,
   "id": "578bb3d8",
   "metadata": {},
   "outputs": [],
   "source": [
    "lv_eff = list(LV_df.loc[LV_df['Target efficacy'] == 45, 'Efficacy parameter'])\n",
    "lv_eff = lv_eff[0]"
   ]
  },
  {
   "cell_type": "code",
   "execution_count": 257,
   "id": "3ef9bdea",
   "metadata": {},
   "outputs": [
    {
     "name": "stdout",
     "output_type": "stream",
     "text": [
      "processing time: 5.67 seconds\n"
     ]
    }
   ],
   "source": [
    "start_time = time.time()\n",
    "\n",
    "RR_vec = [0.00047,0.00134,0.00258,0.00418,0.00612,0.00842,0.01108,0.01408,0.01745,0.02115,0.0252,0.0296,0.03437,0.03945,0.04495,0.0507,0.0569,0.0634,0.0703,0.0775,0.085,0.093,0.10125,0.1098,0.1188,0.1281,0.1378,0.1478,0.1582,0.169,0.18,0.1915,0.203,0.215,0.2277,0.2405,0.2538,0.2672,0.2811,0.2953]\n",
    "zoo=[] #capture results here\n",
    "start_wol=200\n",
    "\n",
    "for i in RR_vec:\n",
    "        \n",
    "    RR = i\n",
    "        \n",
    "    # run the model\n",
    "    t = np.linspace(0, 1500, 1501) # Grid of time points (in days)\n",
    "    y0 = O0, OW0, rOW0, OS0, L0, LW0, rLW0, LS0, P0, PW0, rPW0, PS0, M0, MW0, MS0, F0, FW0 # Init condition vector\n",
    "    ret= odeint(deriv, y0, t,args=(fCI, MT, c, e, phi, alphaO, muO, AA, BB, alphaL, alphaP, muP, muM, muF, RR, RRsupp, pulseN, IIT, SIT, em, lv, ad, cv, switch),hmax=1)\n",
    "    O, OW, rOW, OS, L, LW, rLW, LS, P, PW, rPW, PS, M, MW, MS, F, FW = ret.T\n",
    "\n",
    "    # get output\n",
    "    total = MW+FW+M+F\n",
    "    prop = (MW+FW)/(MW+FW+M+F)\n",
    "    \n",
    "    \n",
    "    fix = np.argwhere(prop > 0.95)\n",
    "    if sum(fix) > 0:\n",
    "        min_fix = min(fix)-start_wol\n",
    "        min_fix = min_fix.tolist()\n",
    "    else:\n",
    "        min_fix = [99999] #occurs if no fixation\n",
    "        \n",
    "    zoo.append(min_fix)\n",
    "\n",
    "current_time = time.time()\n",
    "elapsed_time = current_time - start_time\n",
    "print('processing time:',round(elapsed_time,2),'seconds')"
   ]
  },
  {
   "cell_type": "code",
   "execution_count": 258,
   "id": "36b0fe27",
   "metadata": {},
   "outputs": [],
   "source": [
    "zoo2 = [f for sublist in zoo for f in sublist] #flatten\n",
    "sixmonth = next(x for x, val in enumerate(zoo2) if val <= 182.5) #within 6 months\n",
    "LV_chooselit = RR_vec[sixmonth]"
   ]
  },
  {
   "cell_type": "markdown",
   "id": "ddffdecd",
   "metadata": {},
   "source": [
    "Store results:"
   ]
  },
  {
   "cell_type": "code",
   "execution_count": 259,
   "id": "5f547d5f",
   "metadata": {},
   "outputs": [
    {
     "data": {
      "text/html": [
       "<div>\n",
       "<style scoped>\n",
       "    .dataframe tbody tr th:only-of-type {\n",
       "        vertical-align: middle;\n",
       "    }\n",
       "\n",
       "    .dataframe tbody tr th {\n",
       "        vertical-align: top;\n",
       "    }\n",
       "\n",
       "    .dataframe thead th {\n",
       "        text-align: right;\n",
       "    }\n",
       "</style>\n",
       "<table border=\"1\" class=\"dataframe\">\n",
       "  <thead>\n",
       "    <tr style=\"text-align: right;\">\n",
       "      <th></th>\n",
       "      <th>Suppression type</th>\n",
       "      <th>%20</th>\n",
       "      <th>%50</th>\n",
       "      <th>%80</th>\n",
       "      <th>%lit</th>\n",
       "    </tr>\n",
       "  </thead>\n",
       "  <tbody>\n",
       "    <tr>\n",
       "      <th>0</th>\n",
       "      <td>No Suppression</td>\n",
       "      <td>0.0000</td>\n",
       "      <td>0.00000</td>\n",
       "      <td>0.00000</td>\n",
       "      <td>0.18000</td>\n",
       "    </tr>\n",
       "    <tr>\n",
       "      <th>1</th>\n",
       "      <td>RIDL</td>\n",
       "      <td>0.1188</td>\n",
       "      <td>0.05070</td>\n",
       "      <td>0.01108</td>\n",
       "      <td>0.05690</td>\n",
       "    </tr>\n",
       "    <tr>\n",
       "      <th>2</th>\n",
       "      <td>SIT</td>\n",
       "      <td>0.1281</td>\n",
       "      <td>0.05690</td>\n",
       "      <td>0.01108</td>\n",
       "      <td>0.00000</td>\n",
       "    </tr>\n",
       "    <tr>\n",
       "      <th>3</th>\n",
       "      <td>IIT</td>\n",
       "      <td>0.1188</td>\n",
       "      <td>0.03437</td>\n",
       "      <td>0.00047</td>\n",
       "      <td>0.00842</td>\n",
       "    </tr>\n",
       "    <tr>\n",
       "      <th>4</th>\n",
       "      <td>EM</td>\n",
       "      <td>0.1582</td>\n",
       "      <td>0.10980</td>\n",
       "      <td>0.07030</td>\n",
       "      <td>0.11880</td>\n",
       "    </tr>\n",
       "    <tr>\n",
       "      <th>5</th>\n",
       "      <td>LV</td>\n",
       "      <td>0.1582</td>\n",
       "      <td>0.11880</td>\n",
       "      <td>0.07030</td>\n",
       "      <td>0.12810</td>\n",
       "    </tr>\n",
       "  </tbody>\n",
       "</table>\n",
       "</div>"
      ],
      "text/plain": [
       "  Suppression type     %20      %50      %80     %lit\n",
       "0   No Suppression  0.0000  0.00000  0.00000  0.18000\n",
       "1             RIDL  0.1188  0.05070  0.01108  0.05690\n",
       "2              SIT  0.1281  0.05690  0.01108  0.00000\n",
       "3              IIT  0.1188  0.03437  0.00047  0.00842\n",
       "4               EM  0.1582  0.10980  0.07030  0.11880\n",
       "5               LV  0.1582  0.11880  0.07030  0.12810"
      ]
     },
     "execution_count": 259,
     "metadata": {},
     "output_type": "execute_result"
    }
   ],
   "source": [
    "LV_vec = {'Suppression type': 'LV', '%20': LV_choose20, '%50': LV_choose50, '%80': LV_choose80, '%lit': LV_chooselit}\n",
    "fig_df = fig_df.append(LV_vec, ignore_index=True)\n",
    "\n",
    "fig_df"
   ]
  },
  {
   "cell_type": "code",
   "execution_count": 260,
   "id": "3bedf89f",
   "metadata": {},
   "outputs": [],
   "source": [
    "# switch off\n",
    "\n",
    "start_lv=start_wol-(7*5)\n",
    "stop_lv=200\n",
    "lv_eff= 1\n",
    "\n",
    "def lv(t):\n",
    "    if round(t) < start_lv:     #start\n",
    "        return 1\n",
    "    elif round(t) > stop_lv:    #stop releases\n",
    "        return 1\n",
    "    else:\n",
    "        return lv_eff"
   ]
  },
  {
   "cell_type": "markdown",
   "id": "07e14afe",
   "metadata": {},
   "source": [
    "### Adulticide"
   ]
  },
  {
   "cell_type": "code",
   "execution_count": 261,
   "id": "530e6413",
   "metadata": {},
   "outputs": [],
   "source": [
    "AD_df = pd.read_csv(f'{filepath}/AD_df.csv')"
   ]
  },
  {
   "cell_type": "code",
   "execution_count": 262,
   "id": "15f9092c",
   "metadata": {},
   "outputs": [],
   "source": [
    "# switch on\n",
    "\n",
    "h = [] #needed to set adulticide pulses\n",
    "for i in range(-4, 1, 1):\n",
    "    h.append((start_wol-7) + (7*i))\n",
    "\n",
    "def ad(t):    \n",
    "#    ad_eff = 0\n",
    "    if round(t) < h[0]:\n",
    "        return 0\n",
    "    elif round(t) > h[0]+0.01 and round(t) < h[1]:\n",
    "        return 0\n",
    "    elif round(t) > h[1]+0.01 and round(t) < h[2]:\n",
    "        return 0\n",
    "    elif round(t) > h[2]+0.01 and round(t) < h[3]:\n",
    "        return 0\n",
    "    elif round(t) > h[3]+0.01 and round(t) < h[4]:\n",
    "        return 0\n",
    "    elif round(t) > h[4]+0.01:\n",
    "        return 0\n",
    "    else:\n",
    "        return ad_eff"
   ]
  },
  {
   "cell_type": "markdown",
   "id": "90a5f171",
   "metadata": {},
   "source": [
    "20% efficacy:"
   ]
  },
  {
   "cell_type": "code",
   "execution_count": 263,
   "id": "cbc8aee9",
   "metadata": {},
   "outputs": [],
   "source": [
    "ad_eff = list(AD_df.loc[AD_df['Target efficacy'] == 20, 'Efficacy parameter'])\n",
    "ad_eff = ad_eff[0]"
   ]
  },
  {
   "cell_type": "code",
   "execution_count": 264,
   "id": "159e5e0f",
   "metadata": {},
   "outputs": [
    {
     "name": "stdout",
     "output_type": "stream",
     "text": [
      "processing time: 6.48 seconds\n"
     ]
    }
   ],
   "source": [
    "start_time = time.time()\n",
    "\n",
    "RR_vec = [0.00047,0.00134,0.00258,0.00418,0.00612,0.00842,0.01108,0.01408,0.01745,0.02115,0.0252,0.0296,0.03437,0.03945,0.04495,0.0507,0.0569,0.0634,0.0703,0.0775,0.085,0.093,0.10125,0.1098,0.1188,0.1281,0.1378,0.1478,0.1582,0.169,0.18,0.1915,0.203,0.215,0.2277,0.2405,0.2538,0.2672,0.2811,0.2953]\n",
    "zoo=[] #capture results here\n",
    "start_wol=200\n",
    "\n",
    "for i in RR_vec:\n",
    "        \n",
    "    RR = i\n",
    "        \n",
    "    # run the model\n",
    "    t = np.linspace(0, 1500, 1501) # Grid of time points (in days)\n",
    "    y0 = O0, OW0, rOW0, OS0, L0, LW0, rLW0, LS0, P0, PW0, rPW0, PS0, M0, MW0, MS0, F0, FW0 # Init condition vector\n",
    "    ret= odeint(deriv, y0, t,args=(fCI, MT, c, e, phi, alphaO, muO, AA, BB, alphaL, alphaP, muP, muM, muF, RR, RRsupp, pulseN, IIT, SIT, em, lv, ad, cv, switch),hmax=1)\n",
    "    O, OW, rOW, OS, L, LW, rLW, LS, P, PW, rPW, PS, M, MW, MS, F, FW = ret.T\n",
    "\n",
    "    # get output\n",
    "    total = MW+FW+M+F\n",
    "    prop = (MW+FW)/(MW+FW+M+F)\n",
    "    \n",
    "    \n",
    "    fix = np.argwhere(prop > 0.95)\n",
    "    if sum(fix) > 0:\n",
    "        min_fix = min(fix)-start_wol\n",
    "        min_fix = min_fix.tolist()\n",
    "    else:\n",
    "        min_fix = [99999] #occurs if no fixation\n",
    "        \n",
    "    zoo.append(min_fix)\n",
    "\n",
    "current_time = time.time()\n",
    "elapsed_time = current_time - start_time\n",
    "print('processing time:',round(elapsed_time,2),'seconds')"
   ]
  },
  {
   "cell_type": "code",
   "execution_count": 265,
   "id": "4851391e",
   "metadata": {},
   "outputs": [],
   "source": [
    "zoo2 = [f for sublist in zoo for f in sublist] #flatten\n",
    "sixmonth = next(x for x, val in enumerate(zoo2) if val <= 182.5) #within 6 months\n",
    "AD_choose20 = RR_vec[sixmonth]"
   ]
  },
  {
   "cell_type": "markdown",
   "id": "372bffcc",
   "metadata": {},
   "source": [
    "50% efficacy:"
   ]
  },
  {
   "cell_type": "code",
   "execution_count": 266,
   "id": "6dc2d01c",
   "metadata": {},
   "outputs": [],
   "source": [
    "ad_eff = list(AD_df.loc[AD_df['Target efficacy'] == 50, 'Efficacy parameter'])\n",
    "ad_eff = ad_eff[0]"
   ]
  },
  {
   "cell_type": "code",
   "execution_count": 267,
   "id": "bbf25c49",
   "metadata": {},
   "outputs": [
    {
     "name": "stdout",
     "output_type": "stream",
     "text": [
      "processing time: 6.55 seconds\n"
     ]
    }
   ],
   "source": [
    "start_time = time.time()\n",
    "\n",
    "RR_vec = [0.00047,0.00134,0.00258,0.00418,0.00612,0.00842,0.01108,0.01408,0.01745,0.02115,0.0252,0.0296,0.03437,0.03945,0.04495,0.0507,0.0569,0.0634,0.0703,0.0775,0.085,0.093,0.10125,0.1098,0.1188,0.1281,0.1378,0.1478,0.1582,0.169,0.18,0.1915,0.203,0.215,0.2277,0.2405,0.2538,0.2672,0.2811,0.2953]\n",
    "zoo=[] #capture results here\n",
    "start_wol=200\n",
    "\n",
    "for i in RR_vec:\n",
    "        \n",
    "    RR = i\n",
    "        \n",
    "    # run the model\n",
    "    t = np.linspace(0, 1500, 1501) # Grid of time points (in days)\n",
    "    y0 = O0, OW0, rOW0, OS0, L0, LW0, rLW0, LS0, P0, PW0, rPW0, PS0, M0, MW0, MS0, F0, FW0 # Init condition vector\n",
    "    ret= odeint(deriv, y0, t,args=(fCI, MT, c, e, phi, alphaO, muO, AA, BB, alphaL, alphaP, muP, muM, muF, RR, RRsupp, pulseN, IIT, SIT, em, lv, ad, cv, switch),hmax=1)\n",
    "    O, OW, rOW, OS, L, LW, rLW, LS, P, PW, rPW, PS, M, MW, MS, F, FW = ret.T\n",
    "\n",
    "    # get output\n",
    "    total = MW+FW+M+F\n",
    "    prop = (MW+FW)/(MW+FW+M+F)\n",
    "    \n",
    "    \n",
    "    fix = np.argwhere(prop > 0.95)\n",
    "    if sum(fix) > 0:\n",
    "        min_fix = min(fix)-start_wol\n",
    "        min_fix = min_fix.tolist()\n",
    "    else:\n",
    "        min_fix = [99999] #occurs if no fixation\n",
    "        \n",
    "    zoo.append(min_fix)\n",
    "\n",
    "current_time = time.time()\n",
    "elapsed_time = current_time - start_time\n",
    "print('processing time:',round(elapsed_time,2),'seconds')"
   ]
  },
  {
   "cell_type": "code",
   "execution_count": 268,
   "id": "07997c07",
   "metadata": {},
   "outputs": [],
   "source": [
    "zoo2 = [f for sublist in zoo for f in sublist] #flatten\n",
    "sixmonth = next(x for x, val in enumerate(zoo2) if val <= 182.5) #within 6 months\n",
    "AD_choose50 = RR_vec[sixmonth]"
   ]
  },
  {
   "cell_type": "markdown",
   "id": "6a86a2fa",
   "metadata": {},
   "source": [
    "80% efficacy:"
   ]
  },
  {
   "cell_type": "code",
   "execution_count": 269,
   "id": "bbc7328e",
   "metadata": {},
   "outputs": [],
   "source": [
    "ad_eff = list(AD_df.loc[AD_df['Target efficacy'] == 80, 'Efficacy parameter'])\n",
    "ad_eff = ad_eff[0]"
   ]
  },
  {
   "cell_type": "code",
   "execution_count": 270,
   "id": "d28ccae6",
   "metadata": {},
   "outputs": [
    {
     "name": "stdout",
     "output_type": "stream",
     "text": [
      "processing time: 6.75 seconds\n"
     ]
    }
   ],
   "source": [
    "start_time = time.time()\n",
    "\n",
    "RR_vec = [0.00047,0.00134,0.00258,0.00418,0.00612,0.00842,0.01108,0.01408,0.01745,0.02115,0.0252,0.0296,0.03437,0.03945,0.04495,0.0507,0.0569,0.0634,0.0703,0.0775,0.085,0.093,0.10125,0.1098,0.1188,0.1281,0.1378,0.1478,0.1582,0.169,0.18,0.1915,0.203,0.215,0.2277,0.2405,0.2538,0.2672,0.2811,0.2953]\n",
    "zoo=[] #capture results here\n",
    "start_wol=200\n",
    "\n",
    "for i in RR_vec:\n",
    "        \n",
    "    RR = i\n",
    "        \n",
    "    # run the model\n",
    "    t = np.linspace(0, 1500, 1501) # Grid of time points (in days)\n",
    "    y0 = O0, OW0, rOW0, OS0, L0, LW0, rLW0, LS0, P0, PW0, rPW0, PS0, M0, MW0, MS0, F0, FW0 # Init condition vector\n",
    "    ret= odeint(deriv, y0, t,args=(fCI, MT, c, e, phi, alphaO, muO, AA, BB, alphaL, alphaP, muP, muM, muF, RR, RRsupp, pulseN, IIT, SIT, em, lv, ad, cv, switch),hmax=1)\n",
    "    O, OW, rOW, OS, L, LW, rLW, LS, P, PW, rPW, PS, M, MW, MS, F, FW = ret.T\n",
    "\n",
    "    # get output\n",
    "    total = MW+FW+M+F\n",
    "    prop = (MW+FW)/(MW+FW+M+F)\n",
    "    \n",
    "    \n",
    "    fix = np.argwhere(prop > 0.95)\n",
    "    if sum(fix) > 0:\n",
    "        min_fix = min(fix)-start_wol\n",
    "        min_fix = min_fix.tolist()\n",
    "    else:\n",
    "        min_fix = [99999] #occurs if no fixation\n",
    "        \n",
    "    zoo.append(min_fix)\n",
    "\n",
    "current_time = time.time()\n",
    "elapsed_time = current_time - start_time\n",
    "print('processing time:',round(elapsed_time,2),'seconds')"
   ]
  },
  {
   "cell_type": "code",
   "execution_count": 271,
   "id": "b23eea01",
   "metadata": {},
   "outputs": [],
   "source": [
    "zoo2 = [f for sublist in zoo for f in sublist] #flatten\n",
    "sixmonth = next(x for x, val in enumerate(zoo2) if val <= 182.5) #within 6 months\n",
    "AD_choose80 = RR_vec[sixmonth]"
   ]
  },
  {
   "cell_type": "markdown",
   "id": "22a1bf22",
   "metadata": {},
   "source": [
    "Literature efficacy:"
   ]
  },
  {
   "cell_type": "code",
   "execution_count": 272,
   "id": "3888673c",
   "metadata": {},
   "outputs": [],
   "source": [
    "ad_eff = list(AD_df.loc[AD_df['Target efficacy'] == 94, 'Efficacy parameter'])\n",
    "ad_eff = ad_eff[0]\n",
    "cv = list(AD_df.loc[AD_df['Target efficacy'] == 94, 'Coverage value'])\n",
    "cv = cv[0]"
   ]
  },
  {
   "cell_type": "code",
   "execution_count": 273,
   "id": "c6ba67db",
   "metadata": {},
   "outputs": [
    {
     "name": "stdout",
     "output_type": "stream",
     "text": [
      "processing time: 6.8 seconds\n"
     ]
    }
   ],
   "source": [
    "start_time = time.time()\n",
    "\n",
    "RR_vec = [0.00047,0.00134,0.00258,0.00418,0.00612,0.00842,0.01108,0.01408,0.01745,0.02115,0.0252,0.0296,0.03437,0.03945,0.04495,0.0507,0.0569,0.0634,0.0703,0.0775,0.085,0.093,0.10125,0.1098,0.1188,0.1281,0.1378,0.1478,0.1582,0.169,0.18,0.1915,0.203,0.215,0.2277,0.2405,0.2538,0.2672,0.2811,0.2953]\n",
    "zoo=[] #capture results here\n",
    "start_wol=200\n",
    "\n",
    "for i in RR_vec:\n",
    "        \n",
    "    RR = i\n",
    "        \n",
    "    # run the model\n",
    "    t = np.linspace(0, 1500, 1501) # Grid of time points (in days)\n",
    "    y0 = O0, OW0, rOW0, OS0, L0, LW0, rLW0, LS0, P0, PW0, rPW0, PS0, M0, MW0, MS0, F0, FW0 # Init condition vector\n",
    "    ret= odeint(deriv, y0, t,args=(fCI, MT, c, e, phi, alphaO, muO, AA, BB, alphaL, alphaP, muP, muM, muF, RR, RRsupp, pulseN, IIT, SIT, em, lv, ad, cv, switch),hmax=1)\n",
    "    O, OW, rOW, OS, L, LW, rLW, LS, P, PW, rPW, PS, M, MW, MS, F, FW = ret.T\n",
    "\n",
    "    # get output\n",
    "    total = MW+FW+M+F\n",
    "    prop = (MW+FW)/(MW+FW+M+F)\n",
    "    \n",
    "    \n",
    "    fix = np.argwhere(prop > 0.95)\n",
    "    if sum(fix) > 0:\n",
    "        min_fix = min(fix)-start_wol\n",
    "        min_fix = min_fix.tolist()\n",
    "    else:\n",
    "        min_fix = [99999] #occurs if no fixation\n",
    "        \n",
    "    zoo.append(min_fix)\n",
    "\n",
    "current_time = time.time()\n",
    "elapsed_time = current_time - start_time\n",
    "print('processing time:',round(elapsed_time,2),'seconds')"
   ]
  },
  {
   "cell_type": "code",
   "execution_count": 274,
   "id": "a5a6e54c",
   "metadata": {},
   "outputs": [],
   "source": [
    "zoo2 = [f for sublist in zoo for f in sublist] #flatten\n",
    "sixmonth = next(x for x, val in enumerate(zoo2) if val <= 182.5) #within 6 months\n",
    "AD_chooselit = RR_vec[sixmonth]"
   ]
  },
  {
   "cell_type": "markdown",
   "id": "902a0795",
   "metadata": {},
   "source": [
    "Store results:"
   ]
  },
  {
   "cell_type": "code",
   "execution_count": 275,
   "id": "07d4a777",
   "metadata": {},
   "outputs": [
    {
     "data": {
      "text/html": [
       "<div>\n",
       "<style scoped>\n",
       "    .dataframe tbody tr th:only-of-type {\n",
       "        vertical-align: middle;\n",
       "    }\n",
       "\n",
       "    .dataframe tbody tr th {\n",
       "        vertical-align: top;\n",
       "    }\n",
       "\n",
       "    .dataframe thead th {\n",
       "        text-align: right;\n",
       "    }\n",
       "</style>\n",
       "<table border=\"1\" class=\"dataframe\">\n",
       "  <thead>\n",
       "    <tr style=\"text-align: right;\">\n",
       "      <th></th>\n",
       "      <th>Suppression type</th>\n",
       "      <th>%20</th>\n",
       "      <th>%50</th>\n",
       "      <th>%80</th>\n",
       "      <th>%lit</th>\n",
       "    </tr>\n",
       "  </thead>\n",
       "  <tbody>\n",
       "    <tr>\n",
       "      <th>0</th>\n",
       "      <td>No Suppression</td>\n",
       "      <td>0.0000</td>\n",
       "      <td>0.00000</td>\n",
       "      <td>0.00000</td>\n",
       "      <td>0.18000</td>\n",
       "    </tr>\n",
       "    <tr>\n",
       "      <th>1</th>\n",
       "      <td>RIDL</td>\n",
       "      <td>0.1188</td>\n",
       "      <td>0.05070</td>\n",
       "      <td>0.01108</td>\n",
       "      <td>0.05690</td>\n",
       "    </tr>\n",
       "    <tr>\n",
       "      <th>2</th>\n",
       "      <td>SIT</td>\n",
       "      <td>0.1281</td>\n",
       "      <td>0.05690</td>\n",
       "      <td>0.01108</td>\n",
       "      <td>0.00000</td>\n",
       "    </tr>\n",
       "    <tr>\n",
       "      <th>3</th>\n",
       "      <td>IIT</td>\n",
       "      <td>0.1188</td>\n",
       "      <td>0.03437</td>\n",
       "      <td>0.00047</td>\n",
       "      <td>0.00842</td>\n",
       "    </tr>\n",
       "    <tr>\n",
       "      <th>4</th>\n",
       "      <td>EM</td>\n",
       "      <td>0.1582</td>\n",
       "      <td>0.10980</td>\n",
       "      <td>0.07030</td>\n",
       "      <td>0.11880</td>\n",
       "    </tr>\n",
       "    <tr>\n",
       "      <th>5</th>\n",
       "      <td>LV</td>\n",
       "      <td>0.1582</td>\n",
       "      <td>0.11880</td>\n",
       "      <td>0.07030</td>\n",
       "      <td>0.12810</td>\n",
       "    </tr>\n",
       "    <tr>\n",
       "      <th>6</th>\n",
       "      <td>AD</td>\n",
       "      <td>0.1690</td>\n",
       "      <td>0.14780</td>\n",
       "      <td>0.11880</td>\n",
       "      <td>0.07030</td>\n",
       "    </tr>\n",
       "  </tbody>\n",
       "</table>\n",
       "</div>"
      ],
      "text/plain": [
       "  Suppression type     %20      %50      %80     %lit\n",
       "0   No Suppression  0.0000  0.00000  0.00000  0.18000\n",
       "1             RIDL  0.1188  0.05070  0.01108  0.05690\n",
       "2              SIT  0.1281  0.05690  0.01108  0.00000\n",
       "3              IIT  0.1188  0.03437  0.00047  0.00842\n",
       "4               EM  0.1582  0.10980  0.07030  0.11880\n",
       "5               LV  0.1582  0.11880  0.07030  0.12810\n",
       "6               AD  0.1690  0.14780  0.11880  0.07030"
      ]
     },
     "execution_count": 275,
     "metadata": {},
     "output_type": "execute_result"
    }
   ],
   "source": [
    "AD_vec = {'Suppression type': 'AD', '%20': AD_choose20, '%50': AD_choose50, '%80': AD_choose80, '%lit': AD_chooselit}\n",
    "fig_df = fig_df.append(AD_vec, ignore_index=True)\n",
    "\n",
    "fig_df"
   ]
  },
  {
   "cell_type": "code",
   "execution_count": 276,
   "id": "54a76845",
   "metadata": {},
   "outputs": [],
   "source": [
    "fig_df.to_csv('RRfig_df.csv')"
   ]
  },
  {
   "cell_type": "code",
   "execution_count": 277,
   "id": "986b5c26",
   "metadata": {},
   "outputs": [],
   "source": [
    "# switch off\n",
    "\n",
    "h = [] #needed to set adulticide pulses\n",
    "for i in range(-4, 1, 1):\n",
    "    h.append((start_wol-7) + (7*i))\n",
    "\n",
    "def ad(t):    \n",
    "    ad_eff = 0\n",
    "    if round(t) < h[0]:\n",
    "        return 0\n",
    "    elif round(t) > h[0]+0.01 and round(t) < h[1]:\n",
    "        return 0\n",
    "    elif round(t) > h[1]+0.01 and round(t) < h[2]:\n",
    "        return 0\n",
    "    elif round(t) > h[2]+0.01 and round(t) < h[3]:\n",
    "        return 0\n",
    "    elif round(t) > h[3]+0.01 and round(t) < h[4]:\n",
    "        return 0\n",
    "    elif round(t) > h[4]+0.01:\n",
    "        return 0\n",
    "    else:\n",
    "        return ad_eff"
   ]
  },
  {
   "cell_type": "markdown",
   "id": "8a17e623",
   "metadata": {},
   "source": [
    "### 2.b. Data formatting: minimum Wolbachia RR relative to no suppression for fixation within 6 months"
   ]
  },
  {
   "cell_type": "code",
   "execution_count": 278,
   "id": "591c85e3",
   "metadata": {},
   "outputs": [
    {
     "data": {
      "text/html": [
       "<div>\n",
       "<style scoped>\n",
       "    .dataframe tbody tr th:only-of-type {\n",
       "        vertical-align: middle;\n",
       "    }\n",
       "\n",
       "    .dataframe tbody tr th {\n",
       "        vertical-align: top;\n",
       "    }\n",
       "\n",
       "    .dataframe thead th {\n",
       "        text-align: right;\n",
       "    }\n",
       "</style>\n",
       "<table border=\"1\" class=\"dataframe\">\n",
       "  <thead>\n",
       "    <tr style=\"text-align: right;\">\n",
       "      <th></th>\n",
       "      <th>Suppression type</th>\n",
       "      <th>%20</th>\n",
       "      <th>%50</th>\n",
       "      <th>%80</th>\n",
       "      <th>%lit</th>\n",
       "    </tr>\n",
       "  </thead>\n",
       "  <tbody>\n",
       "    <tr>\n",
       "      <th>0</th>\n",
       "      <td>No Suppression</td>\n",
       "      <td>0.000000</td>\n",
       "      <td>0.000000</td>\n",
       "      <td>0.000000</td>\n",
       "      <td>1.000000</td>\n",
       "    </tr>\n",
       "    <tr>\n",
       "      <th>1</th>\n",
       "      <td>RIDL</td>\n",
       "      <td>0.660000</td>\n",
       "      <td>0.281667</td>\n",
       "      <td>0.061556</td>\n",
       "      <td>0.316111</td>\n",
       "    </tr>\n",
       "    <tr>\n",
       "      <th>2</th>\n",
       "      <td>SIT</td>\n",
       "      <td>0.711667</td>\n",
       "      <td>0.316111</td>\n",
       "      <td>0.061556</td>\n",
       "      <td>0.000000</td>\n",
       "    </tr>\n",
       "    <tr>\n",
       "      <th>3</th>\n",
       "      <td>IIT</td>\n",
       "      <td>0.660000</td>\n",
       "      <td>0.190944</td>\n",
       "      <td>0.002611</td>\n",
       "      <td>0.046778</td>\n",
       "    </tr>\n",
       "    <tr>\n",
       "      <th>4</th>\n",
       "      <td>EM</td>\n",
       "      <td>0.878889</td>\n",
       "      <td>0.610000</td>\n",
       "      <td>0.390556</td>\n",
       "      <td>0.660000</td>\n",
       "    </tr>\n",
       "    <tr>\n",
       "      <th>5</th>\n",
       "      <td>LV</td>\n",
       "      <td>0.878889</td>\n",
       "      <td>0.660000</td>\n",
       "      <td>0.390556</td>\n",
       "      <td>0.711667</td>\n",
       "    </tr>\n",
       "    <tr>\n",
       "      <th>6</th>\n",
       "      <td>AD</td>\n",
       "      <td>0.938889</td>\n",
       "      <td>0.821111</td>\n",
       "      <td>0.660000</td>\n",
       "      <td>0.390556</td>\n",
       "    </tr>\n",
       "  </tbody>\n",
       "</table>\n",
       "</div>"
      ],
      "text/plain": [
       "  Suppression type       %20       %50       %80      %lit\n",
       "0   No Suppression  0.000000  0.000000  0.000000  1.000000\n",
       "1             RIDL  0.660000  0.281667  0.061556  0.316111\n",
       "2              SIT  0.711667  0.316111  0.061556  0.000000\n",
       "3              IIT  0.660000  0.190944  0.002611  0.046778\n",
       "4               EM  0.878889  0.610000  0.390556  0.660000\n",
       "5               LV  0.878889  0.660000  0.390556  0.711667\n",
       "6               AD  0.938889  0.821111  0.660000  0.390556"
      ]
     },
     "execution_count": 278,
     "metadata": {},
     "output_type": "execute_result"
    }
   ],
   "source": [
    "a = list(fig_df.loc[fig_df['Suppression type'] == 'No Suppression', '%lit'])\n",
    "a = a[0]\n",
    "fig_df['%20'] = fig_df['%20']/a\n",
    "fig_df['%50'] = fig_df['%50']/a\n",
    "fig_df['%80'] = fig_df['%80']/a\n",
    "fig_df['%lit'] = fig_df['%lit']/a\n",
    "fig_df"
   ]
  },
  {
   "cell_type": "markdown",
   "id": "1dcfa43e",
   "metadata": {},
   "source": [
    "### 2.c. Plot results for panel A"
   ]
  },
  {
   "cell_type": "code",
   "execution_count": 279,
   "id": "ed434685",
   "metadata": {},
   "outputs": [],
   "source": [
    "s1 = fig_df.loc[1]\n",
    "s1 = s1.values.tolist()\n",
    "s2 = fig_df.loc[2]\n",
    "s2 = s2.values.tolist()\n",
    "s3 = fig_df.loc[3]\n",
    "s3 = s3.values.tolist()\n",
    "s4 = fig_df.loc[4]\n",
    "s4 = s4.values.tolist()\n",
    "s5 = fig_df.loc[5]\n",
    "s5 = s5.values.tolist()\n",
    "s6 = fig_df.loc[6]\n",
    "s6 = s6.values.tolist()"
   ]
  },
  {
   "cell_type": "code",
   "execution_count": 280,
   "id": "f9f98816",
   "metadata": {},
   "outputs": [
    {
     "data": {
      "text/plain": [
       "<matplotlib.legend.Legend at 0x7fe488394460>"
      ]
     },
     "execution_count": 280,
     "metadata": {},
     "output_type": "execute_result"
    },
    {
     "data": {
      "image/png": "[encoded data removed]",
      "text/plain": [
       "<Figure size 720x504 with 1 Axes>"
      ]
     },
     "metadata": {
      "needs_background": "light"
     },
     "output_type": "display_data"
    }
   ],
   "source": [
    "fig, ax1 = plt.subplots(figsize=(10,7))\n",
    "\n",
    "#plt.margins(x=0,y=0)\n",
    "ax1.plot(10,s1[3],marker=\".\",color='orange',label=\"20% efficacy\")\n",
    "ax1.plot(10,s1[2],marker=\".\",color='green',label=\"50% efficacy\")\n",
    "ax1.plot(10,s1[1],marker=\".\",color='red',label=\"80% efficacy\")\n",
    "ax1.plot(10,s1[4],marker=\".\",color='blue',label=\"literature reported efficacy\")\n",
    "ax1.text(11,s1[4],'45%',fontsize=12)\n",
    "ax1.plot(20,s2[1],marker=\".\",color='red')\n",
    "ax1.plot(20,s2[2],marker=\".\",color='green')\n",
    "ax1.plot(20,s2[3],marker=\".\",color='orange')\n",
    "ax1.plot(30,s3[1],marker=\".\",color='red')\n",
    "ax1.plot(30,s3[2],marker=\".\",color='green')\n",
    "ax1.plot(30,s3[3],marker=\".\",color='orange')\n",
    "ax1.plot(30,s3[4],marker=\".\",color='blue')\n",
    "ax1.text(31,s3[4],'60%',fontsize=12)\n",
    "ax1.plot(40,s4[1],marker=\".\",color='red')\n",
    "ax1.plot(40,s4[2],marker=\".\",color='green')\n",
    "ax1.plot(40,s4[3],marker=\".\",color='orange')\n",
    "ax1.plot(40,s4[4],marker=\".\",color='blue')\n",
    "ax1.text(41,s4[4],'47.4%',fontsize=12)\n",
    "ax1.plot(50,s5[1],marker=\".\",color='red')\n",
    "ax1.plot(50,s5[2],marker=\".\",color='green')\n",
    "ax1.plot(50,s5[3],marker=\".\",color='orange')\n",
    "ax1.plot(50,s5[4],marker=\".\",color='blue')\n",
    "ax1.text(51,s5[4],'44%',fontsize=12)\n",
    "ax1.plot(60,s6[1],marker=\".\",color='red')\n",
    "ax1.plot(60,s6[2],marker=\".\",color='green')\n",
    "ax1.plot(60,s6[3],marker=\".\",color='orange')\n",
    "ax1.plot(60,s6[4],marker=\".\",color='blue')\n",
    "ax1.text(61,s6[4],'94%*',fontsize=12)\n",
    "plt.xticks([10,20,30,40,50,60],['RIDL','SIT','IIT','Env','Lar','Ad'])#,rotation=20)\n",
    "ax1.set_xlim(0,70)\n",
    "ax1.set_ylim(0,1)\n",
    "ax1.set_xlabel(\"Suppression Type\",fontsize=12, labelpad=8)\n",
    "ax1.set_ylabel(\"RR of Wolbachia release relative to no suppression\",fontsize=12, labelpad=8)\n",
    "ax1.legend(loc='lower right')\n",
    "#ax1.set_title(\"Minimum RR required to reach 95% fixation of Wolbachia within 3 months of last release\\n (normalised)\")\n",
    "#plt.savefig('RR_suppression_efficacies_16.8.22.jpeg', dpi=600, bbox_inches='tight',)"
   ]
  },
  {
   "cell_type": "code",
   "execution_count": 281,
   "id": "e143c4af",
   "metadata": {},
   "outputs": [],
   "source": [
    "### longer lasting RIDL actually delaying wolbachia fixation?\n",
    "### otherwise why is IIT performing better than RIDL (even aside from literature efficacy difference)\n",
    "### when it behaves the same way as SIT in the model\n",
    "\n",
    "### if IIT and SIT working the same in the model why are their 20/50/80 values different?\n",
    "### To do woth male wols in IIT hanging around maybe?"
   ]
  },
  {
   "cell_type": "code",
   "execution_count": null,
   "id": "d9b8a17c",
   "metadata": {},
   "outputs": [],
   "source": []
  },
  {
   "cell_type": "code",
   "execution_count": null,
   "id": "651bc166",
   "metadata": {},
   "outputs": [],
   "source": []
  }
 ],
 "metadata": {
  "kernelspec": {
   "display_name": "Python 3 (ipykernel)",
   "language": "python",
   "name": "python3"
  },
  "language_info": {
   "codemirror_mode": {
    "name": "ipython",
    "version": 3
   },
   "file_extension": ".py",
   "mimetype": "text/x-python",
   "name": "python",
   "nbconvert_exporter": "python",
   "pygments_lexer": "ipython3",
   "version": "3.8.12"
  }
 },
 "nbformat": 4,
 "nbformat_minor": 5
}
